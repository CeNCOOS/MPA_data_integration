{
 "cells": [
  {
   "cell_type": "markdown",
   "id": "09f580c4-3e43-4713-a43d-562c522b0dbd",
   "metadata": {},
   "source": [
    "# Standardizing place names programmatically using the Getty Thesaurus of Geographic Names \n",
    "\n",
    "## Introduction\n",
    "FAIR data is good.\n",
    "Standardization helps you get there.\n",
    "One way to standardize biological observations is by using Darwin Core.\n",
    "Darwin Core Location Core suggests checking placenames against [GTGN](https://www.getty.edu/research/tools/vocabularies/tgn/).\n",
    "\n",
    "The TGN is a structured vocabulary containing place names. These names may be in English, in a vernacular language, or even historical. Information such as geographic coordinates, notes, sources for the data, and place types (e.g. state capital) is linked to each name. It is important to note that the TGN is a thesauras, not a Geographic Information System (GIS); any coordinates provided are for reference perposes only.  \n",
    "\n",
    "At first glance, it looks like the only way to do this is to search all place names manually.\n",
    "But in fact, GTGN provides a SPARQL endpoint that allows you to search programmatically as well.\n",
    "The documentation for using this endpoint is really long and complicated.\n",
    "I wanted to provide an accessible introduction to standardizing place names using GTGN for biological data sets.\n",
    "\n",
    "## SPARQL\n",
    "\n",
    "### What is it?\n",
    "Many resources - such as WoRMS - provide programmatic access to their data via a web Application Programming Interface (API). (Check that this is true)\n",
    "APIs are fantastic, but they only allow certain data requests, as defined by the API's syntax (correct word?).\n",
    "For example, I can get x but not y.\n",
    "Resource Description Framework (RDF) databases, or \"graph\" databases, get around this problem by defining complex relationships between data objects, and allowing the user to request data using these relationships. These relationships can even extend between databases, allowing the user to bring together disparate types of information related to their research question. \n",
    "\"An interlinked query like this means that we can ask Europeana questions about its objects that rely on information about geography (what cities are in the Netherlands?) that Europeana does not need to store and maintain itself. In the future, more cultural LOD will hopefully link to authority databases like the Getty’s Union List of Artist Names, allowing, for example, the British Museum to outsource biographical data to the more complete resources at the Getty.\" (For example the TGN refers to the Art and Architecture Thesaurus for its place types.\n",
    "\n",
    "The Getty Vocabulary Program maintains a set of RDF databases including the GTGN. SPARQL (a recursive acronym which stands for SPARQL Protocol and RDF Query Language) is the query language you use to request data from these databases. \n",
    "\n",
    "### How do I use it?\n",
    "\n",
    "`select * {\n",
    "    ?f a gvp:Facet; \n",
    "       skos:inScheme tgn: ; \n",
    "       gvp:prefLabelGVP/xl:literalForm ?l\n",
    "}`\n",
    "The subject (?f) is an instance of (a) a class (gvp:Facet), the subject is in TGN, the subject has a prefered label ?l. Returns two columns, f and l. f contains the term ID and l contains the preferred label.\n",
    "\n",
    "![Image of GVP Semantic Overview](http://vocab.getty.edu/doc/img/005-semantic-overview.png)\n",
    "\n",
    "There are many other operations you can add to a SPARQL query, such as aggregating results, sorting results, and removing duplicate results. However, I'm assuming that you, like me, would prefer to perform these operations in your programming language of choice (almost certainly not SPARQL). If you are curious about more complex operations, check out the resources at the end of this tutorial.\n",
    "\n",
    "### Query examples\n",
    "\n",
    "### Python implementation on example biological occurrence data"
   ]
  },
  {
   "cell_type": "code",
   "execution_count": null,
   "id": "27e51515-8b94-4fac-93eb-54429d9bea4a",
   "metadata": {},
   "outputs": [],
   "source": [
    "## Import packages\n",
    "\n",
    "import numpy as np\n",
    "import pandas as pd\n",
    "from SPARQLWrapper import SPARQLWrapper, JSON"
   ]
  },
  {
   "cell_type": "code",
   "execution_count": null,
   "id": "9ee42e14-528a-4819-ab6f-811f13bbb2d8",
   "metadata": {},
   "outputs": [],
   "source": [
    "## Create example data"
   ]
  },
  {
   "cell_type": "markdown",
   "id": "79d9620a-e77f-4dab-a146-8f12f21b2d8a",
   "metadata": {},
   "source": [
    "## References and resources\n",
    "https://programminghistorian.org/en/lessons/retired/graph-databases-and-SPARQL\n",
    "\n",
    "https://en.wikibooks.org/wiki/XQuery/SPARQL_Tutorial\n",
    "https://www.w3.org/TR/sparql11-overview/"
   ]
  },
  {
   "cell_type": "code",
   "execution_count": null,
   "id": "bde68cbe-31b4-4197-9dce-1350f256ec5c",
   "metadata": {},
   "outputs": [],
   "source": []
  }
 ],
 "metadata": {
  "kernelspec": {
   "display_name": "standardization_env",
   "language": "python",
   "name": "standardization_env"
  },
  "language_info": {
   "codemirror_mode": {
    "name": "ipython",
    "version": 3
   },
   "file_extension": ".py",
   "mimetype": "text/x-python",
   "name": "python",
   "nbconvert_exporter": "python",
   "pygments_lexer": "ipython3",
   "version": "3.8.10"
  }
 },
 "nbformat": 4,
 "nbformat_minor": 5
}
