{
 "cells": [
  {
   "cell_type": "markdown",
   "id": "09f580c4-3e43-4713-a43d-562c522b0dbd",
   "metadata": {},
   "source": [
    "# Standardizing place names programmatically using the Getty Thesaurus of Geographic Names \n",
    "\n",
    "## Introduction\n",
    "FAIR data is good.\n",
    "Standardization helps you get there.\n",
    "One way to standardize biological observations is by using Darwin Core.\n",
    "Darwin Core Location Core suggests checking placenames against GTGN.\n",
    "\n",
    "At first glance, it looks like the only way to do this is to search all place names manually.\n",
    "But in fact, GTGN provides a SPARQL endpoint that allows you to search programmatically as well.\n",
    "The documentation for using this endpoint is really long and complicated.\n",
    "I wanted to provide an accessible introduction to standardizing place names using GTGN for biological data sets.\n",
    "\n"
   ]
  },
  {
   "cell_type": "code",
   "execution_count": null,
   "id": "27e51515-8b94-4fac-93eb-54429d9bea4a",
   "metadata": {},
   "outputs": [],
   "source": [
    "## Import packages\n",
    "\n",
    "import numpy as np\n",
    "import pandas as pd\n",
    "from SPARQLWrapper import SPARQLWrapper, JSON"
   ]
  },
  {
   "cell_type": "code",
   "execution_count": null,
   "id": "9ee42e14-528a-4819-ab6f-811f13bbb2d8",
   "metadata": {},
   "outputs": [],
   "source": [
    "## Create example data"
   ]
  }
 ],
 "metadata": {
  "kernelspec": {
   "display_name": "standardization_env",
   "language": "python",
   "name": "standardization_env"
  },
  "language_info": {
   "codemirror_mode": {
    "name": "ipython",
    "version": 3
   },
   "file_extension": ".py",
   "mimetype": "text/x-python",
   "name": "python",
   "nbconvert_exporter": "python",
   "pygments_lexer": "ipython3",
   "version": "3.8.10"
  }
 },
 "nbformat": 4,
 "nbformat_minor": 5
}
