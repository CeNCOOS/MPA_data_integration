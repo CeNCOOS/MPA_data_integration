{
 "cells": [
  {
   "cell_type": "markdown",
   "metadata": {},
   "source": [
    "### Marine Lebrec <br> Last updated: April 15 2024\n",
    "\n",
    "#### The goal of this notebook is to generate a Darwin Core Archive for a \"Northern Calfironia Bull Kelp Forest Ecosystem Monitoring (1971-2019)\" database"
   ]
  },
  {
   "cell_type": "markdown",
   "metadata": {},
   "source": [
    "**Raw data access:** The latest publicly available version of this dataset is available on [DataONE](https://search.dataone.org/view/urn%3Auuid%3A41177927-92dc-421a-b8eb-d28f71537d96). Newer data files were sent to me by Bob Klamt and may be different from the DataONE archive. The latest files are those in the Research Workspace and used in this notebook.<br>\n",
    "\n",
    "**Dataset description:** In this long-term, bull kelp forest monitoring program, divers quantify key marine invertebrates, algal cover and substrate types along transects inside and outside fished sites centered in Sonoma and Mendocino Counties, in northern California. Surveys are conducted to monitor the health of the kelp forest community focusing on important foundation species such as bull kelp, Nereocystis luetkeana, ecosystem engineers including purple sea urchins, Strongylocentrotus purpuratus, and fished species such as red abalone, Haliotis rufescens and red sea urchins, Mesocentrotus franciscanus. \n",
    "\n",
    "**Data tables**: \n",
    "- N_Coast_KelpForestSurveys_ObservedSpecies_SIZES_v3_20240130.csv: A size table, containing transect information, species ID, and the size of the species that was observed\n",
    "- N_Coast_KelpForestSurveys_HABITAT_v2_20240222.csv: Algal habitat percent cover data \n",
    "- N_Coast_KelpForestSurveys_ObservedSpecies_COUNTS_v3_20240130.csv: : A count table, containing counts of different species observed along a transect<br>\n",
    "- N_Coast_KelpForestSurveys_SUBSTRATE_v6_20240408: % cover of substrate (reef vs boulder vs cobble vs sand)\n",
    "\n",
    "**Reference tables**:\n",
    "- N_Coast_KelpForestSurveys_LOCATIONS_v4_20240105.csv: A site table, containing site codes and corresponding coordinates, as well as their protection status (MPA vs non-MPA)\n",
    "- N_Coast_KelpForestSurveys_ObservedSpecies_CODES_v2_20240119: A species table, containing species IDs and their corresponding WoRMS Scientific Names. \n",
    "- N_Coast_KelpForestSurveys_SUBSTRATE_CODES_v1_240122.csv: A table containing substrate IDs and their corresponding substrate type, substrate description.\n",
    "- N_Coast_KelpForestSurveys_ALGAL_HABITAT_CODES_v1_240122.csv: A table containing algal habitat IDs and their corresponding habitat type, habitat description."
   ]
  },
  {
   "cell_type": "code",
   "execution_count": 441,
   "metadata": {},
   "outputs": [],
   "source": [
    "# Import libraries\n",
    "import os\n",
    "import pandas as pd\n",
    "import numpy as np\n",
    "import matplotlib.pyplot as plt\n",
    "import cartopy.crs as ccrs\n",
    "import cartopy.feature as cfeature\n",
    "import pyworms\n",
    "from datetime import date"
   ]
  },
  {
   "cell_type": "code",
   "execution_count": 442,
   "metadata": {},
   "outputs": [
    {
     "data": {
      "text/plain": [
       "['N_Coast_KelpForestSurveys_HABITAT_v3_20240408.csv',\n",
       " 'N_Coast_KelpForestSurveys_ALGAL_HABITAT_CODES_v1_240122.csv',\n",
       " 'N_Coast_KelpForestSurveys_ObservedSpecies_SIZES_v3_20240130.csv',\n",
       " 'N_Coast_KelpForestSurveys_SUBSTRATE_v6_20240408.csv',\n",
       " 'N_Coast_KelpForestSurveys_ObservedSpecies_COUNTS_v4_20240202.csv',\n",
       " 'N_Coast_KelpForestSurveys_LOCATIONS_v4_20240105.csv',\n",
       " 'N_Coast_KelpForestSurveys_SUBSTRATE_CODES_v1_240122.csv',\n",
       " 'N_Coast_KelpForestSurveys_ObservedSpecies_CODES_v2_20240119.csv',\n",
       " 'N_Coast_KelpForestSurveys_HABITAT_v3_20240408.csv',\n",
       " 'N_Coast_KelpForestSurveys_ALGAL_HABITAT_CODES_v1_240122.csv',\n",
       " 'N_Coast_KelpForestSurveys_ObservedSpecies_SIZES_v3_20240130.csv',\n",
       " 'N_Coast_KelpForestSurveys_SUBSTRATE_v6_20240408.csv',\n",
       " 'N_Coast_KelpForestSurveys_ObservedSpecies_COUNTS_v4_20240202.csv',\n",
       " 'N_Coast_KelpForestSurveys_LOCATIONS_v4_20240105.csv',\n",
       " 'N_Coast_KelpForestSurveys_SUBSTRATE_CODES_v1_240122.csv',\n",
       " 'N_Coast_KelpForestSurveys_ObservedSpecies_CODES_v2_20240119.csv']"
      ]
     },
     "execution_count": 442,
     "metadata": {},
     "output_type": "execute_result"
    }
   ],
   "source": [
    "# List tables to be used for DwC conversion\n",
    "os.listdir('clean_data/')"
   ]
  },
  {
   "cell_type": "markdown",
   "metadata": {},
   "source": [
    "## Load data"
   ]
  },
  {
   "cell_type": "code",
   "execution_count": 443,
   "metadata": {},
   "outputs": [],
   "source": [
    "## ----------------- DATA TABLES ----------------- \n",
    "\n",
    "sizes = pd.read_csv(os.getcwd() + '/clean_data/N_Coast_KelpForestSurveys_ObservedSpecies_SIZES_v3_20240130.csv')\n",
    "counts = pd.read_csv(os.getcwd() + '/clean_data/N_Coast_KelpForestSurveys_ObservedSpecies_COUNTS_v4_20240202.csv')\n",
    "sub_cover = pd.read_csv(os.getcwd() + '/clean_data/N_Coast_KelpForestSurveys_SUBSTRATE_v6_20240408.csv')\n",
    "alg_cover = pd.read_csv(os.getcwd() + '/clean_data/N_Coast_KelpForestSurveys_HABITAT_v3_20240408.csv')\n",
    "\n",
    "\n",
    "## ----------------- REFERENCE TABLES ----------------- \n",
    "\n",
    "sites = pd.read_csv(os.getcwd() + '/clean_data/N_Coast_KelpForestSurveys_LOCATIONS_v4_20240105.csv')\n",
    "species = pd.read_csv(os.getcwd() + '/clean_data/N_Coast_KelpForestSurveys_ObservedSpecies_CODES_v2_20240119.csv')\n",
    "sub_codes = pd.read_csv(os.getcwd() + '/clean_data/N_Coast_KelpForestSurveys_SUBSTRATE_CODES_v1_240122.csv')\n",
    "alg_codes = pd.read_csv(os.getcwd() + '/clean_data/N_Coast_KelpForestSurveys_ALGAL_HABITAT_CODES_v1_240122.csv')"
   ]
  },
  {
   "cell_type": "markdown",
   "metadata": {},
   "source": [
    "## Data cleaning / Pre-processing"
   ]
  },
  {
   "cell_type": "markdown",
   "metadata": {},
   "source": [
    "**Several tables have minor typos/formatting issues which are rectified below**"
   ]
  },
  {
   "cell_type": "code",
   "execution_count": 444,
   "metadata": {},
   "outputs": [
    {
     "name": "stdout",
     "output_type": "stream",
     "text": [
      "True\n",
      "True\n"
     ]
    }
   ],
   "source": [
    "# In the size table, there is one row with the dfw_short_code of \"Ccin\" which should be \"CCin\"\n",
    "sizes.loc[(sizes['DFW_short_code'] == 'Ccin'), 'DFW_short_code'] = 'CCin'\n",
    "\n",
    "# Now we can check that the site and size tables have the same dfw_short_codes: \n",
    "print(sorted(list(sites.DFW_short_code.unique())) == sorted(list(sizes.DFW_short_code.unique())))\n",
    "\n",
    "# In the counts table, there are a few rows with the dfw_short_code of \"Spout\" which should be \"SPout\"\n",
    "counts.loc[(counts['DFW_short_code'] == 'Spout'), 'DFW_short_code'] = 'SPout'\n",
    "\n",
    "# Now we can check that the site and size tables have the same dfw_short_codes: \n",
    "print(sorted(list(sites.DFW_short_code.unique())) == sorted(list(counts.DFW_short_code.unique())))"
   ]
  },
  {
   "cell_type": "code",
   "execution_count": 445,
   "metadata": {},
   "outputs": [
    {
     "data": {
      "text/html": [
       "<div>\n",
       "<style scoped>\n",
       "    .dataframe tbody tr th:only-of-type {\n",
       "        vertical-align: middle;\n",
       "    }\n",
       "\n",
       "    .dataframe tbody tr th {\n",
       "        vertical-align: top;\n",
       "    }\n",
       "\n",
       "    .dataframe thead th {\n",
       "        text-align: right;\n",
       "    }\n",
       "</style>\n",
       "<table border=\"1\" class=\"dataframe\">\n",
       "  <thead>\n",
       "    <tr style=\"text-align: right;\">\n",
       "      <th></th>\n",
       "      <th>Survey_Num</th>\n",
       "      <th>DFW_short_code</th>\n",
       "      <th>SurveyType</th>\n",
       "      <th>SurveyDate</th>\n",
       "      <th>Year</th>\n",
       "      <th>Month</th>\n",
       "      <th>Day</th>\n",
       "      <th>Timezone</th>\n",
       "      <th>ProtectionStatus</th>\n",
       "      <th>AverageDepth</th>\n",
       "      <th>MinimumDepth</th>\n",
       "      <th>MaximumDepth</th>\n",
       "      <th>Lat</th>\n",
       "      <th>Lon</th>\n",
       "      <th>COMMENTS</th>\n",
       "      <th>Subsample</th>\n",
       "      <th>SubstrateID</th>\n",
       "      <th>Substrate</th>\n",
       "      <th>PercentCover</th>\n",
       "      <th>Unnamed: 19</th>\n",
       "    </tr>\n",
       "  </thead>\n",
       "  <tbody>\n",
       "    <tr>\n",
       "      <th>8135</th>\n",
       "      <td>NaN</td>\n",
       "      <td>NaN</td>\n",
       "      <td>NaN</td>\n",
       "      <td>NaN</td>\n",
       "      <td>NaN</td>\n",
       "      <td>NaN</td>\n",
       "      <td>NaN</td>\n",
       "      <td>NaN</td>\n",
       "      <td>NaN</td>\n",
       "      <td>NaN</td>\n",
       "      <td>NaN</td>\n",
       "      <td>NaN</td>\n",
       "      <td>NaN</td>\n",
       "      <td>NaN</td>\n",
       "      <td>NaN</td>\n",
       "      <td>NaN</td>\n",
       "      <td>NaN</td>\n",
       "      <td>NaN</td>\n",
       "      <td>NaN</td>\n",
       "      <td>NaN</td>\n",
       "    </tr>\n",
       "    <tr>\n",
       "      <th>8136</th>\n",
       "      <td>NaN</td>\n",
       "      <td>NaN</td>\n",
       "      <td>NaN</td>\n",
       "      <td>NaN</td>\n",
       "      <td>NaN</td>\n",
       "      <td>NaN</td>\n",
       "      <td>NaN</td>\n",
       "      <td>NaN</td>\n",
       "      <td>NaN</td>\n",
       "      <td>NaN</td>\n",
       "      <td>NaN</td>\n",
       "      <td>NaN</td>\n",
       "      <td>NaN</td>\n",
       "      <td>NaN</td>\n",
       "      <td>NaN</td>\n",
       "      <td>NaN</td>\n",
       "      <td>NaN</td>\n",
       "      <td>NaN</td>\n",
       "      <td>NaN</td>\n",
       "      <td>NaN</td>\n",
       "    </tr>\n",
       "    <tr>\n",
       "      <th>8137</th>\n",
       "      <td>NaN</td>\n",
       "      <td>NaN</td>\n",
       "      <td>NaN</td>\n",
       "      <td>NaN</td>\n",
       "      <td>NaN</td>\n",
       "      <td>NaN</td>\n",
       "      <td>NaN</td>\n",
       "      <td>NaN</td>\n",
       "      <td>NaN</td>\n",
       "      <td>NaN</td>\n",
       "      <td>NaN</td>\n",
       "      <td>NaN</td>\n",
       "      <td>NaN</td>\n",
       "      <td>NaN</td>\n",
       "      <td>NaN</td>\n",
       "      <td>NaN</td>\n",
       "      <td>NaN</td>\n",
       "      <td>NaN</td>\n",
       "      <td>NaN</td>\n",
       "      <td>NaN</td>\n",
       "    </tr>\n",
       "    <tr>\n",
       "      <th>8138</th>\n",
       "      <td>NaN</td>\n",
       "      <td>NaN</td>\n",
       "      <td>NaN</td>\n",
       "      <td>NaN</td>\n",
       "      <td>NaN</td>\n",
       "      <td>NaN</td>\n",
       "      <td>NaN</td>\n",
       "      <td>NaN</td>\n",
       "      <td>NaN</td>\n",
       "      <td>NaN</td>\n",
       "      <td>NaN</td>\n",
       "      <td>NaN</td>\n",
       "      <td>NaN</td>\n",
       "      <td>NaN</td>\n",
       "      <td>NaN</td>\n",
       "      <td>NaN</td>\n",
       "      <td>NaN</td>\n",
       "      <td>NaN</td>\n",
       "      <td>NaN</td>\n",
       "      <td>NaN</td>\n",
       "    </tr>\n",
       "    <tr>\n",
       "      <th>8139</th>\n",
       "      <td>NaN</td>\n",
       "      <td>NaN</td>\n",
       "      <td>NaN</td>\n",
       "      <td>NaN</td>\n",
       "      <td>NaN</td>\n",
       "      <td>NaN</td>\n",
       "      <td>NaN</td>\n",
       "      <td>NaN</td>\n",
       "      <td>NaN</td>\n",
       "      <td>NaN</td>\n",
       "      <td>NaN</td>\n",
       "      <td>NaN</td>\n",
       "      <td>NaN</td>\n",
       "      <td>NaN</td>\n",
       "      <td>NaN</td>\n",
       "      <td>NaN</td>\n",
       "      <td>NaN</td>\n",
       "      <td>NaN</td>\n",
       "      <td>NaN</td>\n",
       "      <td>NaN</td>\n",
       "    </tr>\n",
       "    <tr>\n",
       "      <th>8140</th>\n",
       "      <td>NaN</td>\n",
       "      <td>NaN</td>\n",
       "      <td>NaN</td>\n",
       "      <td>NaN</td>\n",
       "      <td>NaN</td>\n",
       "      <td>NaN</td>\n",
       "      <td>NaN</td>\n",
       "      <td>NaN</td>\n",
       "      <td>NaN</td>\n",
       "      <td>NaN</td>\n",
       "      <td>NaN</td>\n",
       "      <td>NaN</td>\n",
       "      <td>NaN</td>\n",
       "      <td>NaN</td>\n",
       "      <td>NaN</td>\n",
       "      <td>NaN</td>\n",
       "      <td>NaN</td>\n",
       "      <td>NaN</td>\n",
       "      <td>NaN</td>\n",
       "      <td>NaN</td>\n",
       "    </tr>\n",
       "    <tr>\n",
       "      <th>8141</th>\n",
       "      <td>NaN</td>\n",
       "      <td>NaN</td>\n",
       "      <td>NaN</td>\n",
       "      <td>NaN</td>\n",
       "      <td>NaN</td>\n",
       "      <td>NaN</td>\n",
       "      <td>NaN</td>\n",
       "      <td>NaN</td>\n",
       "      <td>NaN</td>\n",
       "      <td>NaN</td>\n",
       "      <td>NaN</td>\n",
       "      <td>NaN</td>\n",
       "      <td>NaN</td>\n",
       "      <td>NaN</td>\n",
       "      <td>NaN</td>\n",
       "      <td>NaN</td>\n",
       "      <td>NaN</td>\n",
       "      <td>NaN</td>\n",
       "      <td>NaN</td>\n",
       "      <td>NaN</td>\n",
       "    </tr>\n",
       "    <tr>\n",
       "      <th>8142</th>\n",
       "      <td>NaN</td>\n",
       "      <td>NaN</td>\n",
       "      <td>NaN</td>\n",
       "      <td>NaN</td>\n",
       "      <td>NaN</td>\n",
       "      <td>NaN</td>\n",
       "      <td>NaN</td>\n",
       "      <td>NaN</td>\n",
       "      <td>NaN</td>\n",
       "      <td>NaN</td>\n",
       "      <td>NaN</td>\n",
       "      <td>NaN</td>\n",
       "      <td>NaN</td>\n",
       "      <td>NaN</td>\n",
       "      <td>NaN</td>\n",
       "      <td>NaN</td>\n",
       "      <td>NaN</td>\n",
       "      <td>NaN</td>\n",
       "      <td>NaN</td>\n",
       "      <td>NaN</td>\n",
       "    </tr>\n",
       "    <tr>\n",
       "      <th>8143</th>\n",
       "      <td>NaN</td>\n",
       "      <td>NaN</td>\n",
       "      <td>NaN</td>\n",
       "      <td>NaN</td>\n",
       "      <td>NaN</td>\n",
       "      <td>NaN</td>\n",
       "      <td>NaN</td>\n",
       "      <td>NaN</td>\n",
       "      <td>NaN</td>\n",
       "      <td>NaN</td>\n",
       "      <td>NaN</td>\n",
       "      <td>NaN</td>\n",
       "      <td>NaN</td>\n",
       "      <td>NaN</td>\n",
       "      <td>NaN</td>\n",
       "      <td>NaN</td>\n",
       "      <td>NaN</td>\n",
       "      <td>NaN</td>\n",
       "      <td>NaN</td>\n",
       "      <td>NaN</td>\n",
       "    </tr>\n",
       "    <tr>\n",
       "      <th>8144</th>\n",
       "      <td>NaN</td>\n",
       "      <td>NaN</td>\n",
       "      <td>NaN</td>\n",
       "      <td>NaN</td>\n",
       "      <td>NaN</td>\n",
       "      <td>NaN</td>\n",
       "      <td>NaN</td>\n",
       "      <td>NaN</td>\n",
       "      <td>NaN</td>\n",
       "      <td>NaN</td>\n",
       "      <td>NaN</td>\n",
       "      <td>NaN</td>\n",
       "      <td>NaN</td>\n",
       "      <td>NaN</td>\n",
       "      <td>NaN</td>\n",
       "      <td>NaN</td>\n",
       "      <td>NaN</td>\n",
       "      <td>NaN</td>\n",
       "      <td>NaN</td>\n",
       "      <td>NaN</td>\n",
       "    </tr>\n",
       "    <tr>\n",
       "      <th>8145</th>\n",
       "      <td>NaN</td>\n",
       "      <td>NaN</td>\n",
       "      <td>NaN</td>\n",
       "      <td>NaN</td>\n",
       "      <td>NaN</td>\n",
       "      <td>NaN</td>\n",
       "      <td>NaN</td>\n",
       "      <td>NaN</td>\n",
       "      <td>NaN</td>\n",
       "      <td>NaN</td>\n",
       "      <td>NaN</td>\n",
       "      <td>NaN</td>\n",
       "      <td>NaN</td>\n",
       "      <td>NaN</td>\n",
       "      <td>NaN</td>\n",
       "      <td>NaN</td>\n",
       "      <td>NaN</td>\n",
       "      <td>NaN</td>\n",
       "      <td>NaN</td>\n",
       "      <td>NaN</td>\n",
       "    </tr>\n",
       "    <tr>\n",
       "      <th>8146</th>\n",
       "      <td>NaN</td>\n",
       "      <td>NaN</td>\n",
       "      <td>NaN</td>\n",
       "      <td>NaN</td>\n",
       "      <td>NaN</td>\n",
       "      <td>NaN</td>\n",
       "      <td>NaN</td>\n",
       "      <td>NaN</td>\n",
       "      <td>NaN</td>\n",
       "      <td>NaN</td>\n",
       "      <td>NaN</td>\n",
       "      <td>NaN</td>\n",
       "      <td>NaN</td>\n",
       "      <td>NaN</td>\n",
       "      <td>NaN</td>\n",
       "      <td>NaN</td>\n",
       "      <td>NaN</td>\n",
       "      <td>NaN</td>\n",
       "      <td>NaN</td>\n",
       "      <td>NaN</td>\n",
       "    </tr>\n",
       "    <tr>\n",
       "      <th>8147</th>\n",
       "      <td>NaN</td>\n",
       "      <td>NaN</td>\n",
       "      <td>NaN</td>\n",
       "      <td>NaN</td>\n",
       "      <td>NaN</td>\n",
       "      <td>NaN</td>\n",
       "      <td>NaN</td>\n",
       "      <td>NaN</td>\n",
       "      <td>NaN</td>\n",
       "      <td>NaN</td>\n",
       "      <td>NaN</td>\n",
       "      <td>NaN</td>\n",
       "      <td>NaN</td>\n",
       "      <td>NaN</td>\n",
       "      <td>NaN</td>\n",
       "      <td>NaN</td>\n",
       "      <td>NaN</td>\n",
       "      <td>NaN</td>\n",
       "      <td>NaN</td>\n",
       "      <td>NaN</td>\n",
       "    </tr>\n",
       "    <tr>\n",
       "      <th>8148</th>\n",
       "      <td>NaN</td>\n",
       "      <td>NaN</td>\n",
       "      <td>NaN</td>\n",
       "      <td>NaN</td>\n",
       "      <td>NaN</td>\n",
       "      <td>NaN</td>\n",
       "      <td>NaN</td>\n",
       "      <td>NaN</td>\n",
       "      <td>NaN</td>\n",
       "      <td>NaN</td>\n",
       "      <td>NaN</td>\n",
       "      <td>NaN</td>\n",
       "      <td>NaN</td>\n",
       "      <td>NaN</td>\n",
       "      <td>NaN</td>\n",
       "      <td>NaN</td>\n",
       "      <td>NaN</td>\n",
       "      <td>NaN</td>\n",
       "      <td>NaN</td>\n",
       "      <td>NaN</td>\n",
       "    </tr>\n",
       "    <tr>\n",
       "      <th>8149</th>\n",
       "      <td>NaN</td>\n",
       "      <td>NaN</td>\n",
       "      <td>NaN</td>\n",
       "      <td>NaN</td>\n",
       "      <td>NaN</td>\n",
       "      <td>NaN</td>\n",
       "      <td>NaN</td>\n",
       "      <td>NaN</td>\n",
       "      <td>NaN</td>\n",
       "      <td>NaN</td>\n",
       "      <td>NaN</td>\n",
       "      <td>NaN</td>\n",
       "      <td>NaN</td>\n",
       "      <td>NaN</td>\n",
       "      <td>NaN</td>\n",
       "      <td>NaN</td>\n",
       "      <td>NaN</td>\n",
       "      <td>NaN</td>\n",
       "      <td>NaN</td>\n",
       "      <td>NaN</td>\n",
       "    </tr>\n",
       "  </tbody>\n",
       "</table>\n",
       "</div>"
      ],
      "text/plain": [
       "     Survey_Num DFW_short_code SurveyType SurveyDate  Year  Month  Day  \\\n",
       "8135        NaN            NaN        NaN        NaN   NaN    NaN  NaN   \n",
       "8136        NaN            NaN        NaN        NaN   NaN    NaN  NaN   \n",
       "8137        NaN            NaN        NaN        NaN   NaN    NaN  NaN   \n",
       "8138        NaN            NaN        NaN        NaN   NaN    NaN  NaN   \n",
       "8139        NaN            NaN        NaN        NaN   NaN    NaN  NaN   \n",
       "8140        NaN            NaN        NaN        NaN   NaN    NaN  NaN   \n",
       "8141        NaN            NaN        NaN        NaN   NaN    NaN  NaN   \n",
       "8142        NaN            NaN        NaN        NaN   NaN    NaN  NaN   \n",
       "8143        NaN            NaN        NaN        NaN   NaN    NaN  NaN   \n",
       "8144        NaN            NaN        NaN        NaN   NaN    NaN  NaN   \n",
       "8145        NaN            NaN        NaN        NaN   NaN    NaN  NaN   \n",
       "8146        NaN            NaN        NaN        NaN   NaN    NaN  NaN   \n",
       "8147        NaN            NaN        NaN        NaN   NaN    NaN  NaN   \n",
       "8148        NaN            NaN        NaN        NaN   NaN    NaN  NaN   \n",
       "8149        NaN            NaN        NaN        NaN   NaN    NaN  NaN   \n",
       "\n",
       "     Timezone ProtectionStatus  AverageDepth  MinimumDepth  MaximumDepth  Lat  \\\n",
       "8135      NaN              NaN           NaN           NaN           NaN  NaN   \n",
       "8136      NaN              NaN           NaN           NaN           NaN  NaN   \n",
       "8137      NaN              NaN           NaN           NaN           NaN  NaN   \n",
       "8138      NaN              NaN           NaN           NaN           NaN  NaN   \n",
       "8139      NaN              NaN           NaN           NaN           NaN  NaN   \n",
       "8140      NaN              NaN           NaN           NaN           NaN  NaN   \n",
       "8141      NaN              NaN           NaN           NaN           NaN  NaN   \n",
       "8142      NaN              NaN           NaN           NaN           NaN  NaN   \n",
       "8143      NaN              NaN           NaN           NaN           NaN  NaN   \n",
       "8144      NaN              NaN           NaN           NaN           NaN  NaN   \n",
       "8145      NaN              NaN           NaN           NaN           NaN  NaN   \n",
       "8146      NaN              NaN           NaN           NaN           NaN  NaN   \n",
       "8147      NaN              NaN           NaN           NaN           NaN  NaN   \n",
       "8148      NaN              NaN           NaN           NaN           NaN  NaN   \n",
       "8149      NaN              NaN           NaN           NaN           NaN  NaN   \n",
       "\n",
       "      Lon COMMENTS Subsample SubstrateID Substrate  PercentCover  Unnamed: 19  \n",
       "8135  NaN      NaN       NaN         NaN       NaN           NaN          NaN  \n",
       "8136  NaN      NaN       NaN         NaN       NaN           NaN          NaN  \n",
       "8137  NaN      NaN       NaN         NaN       NaN           NaN          NaN  \n",
       "8138  NaN      NaN       NaN         NaN       NaN           NaN          NaN  \n",
       "8139  NaN      NaN       NaN         NaN       NaN           NaN          NaN  \n",
       "8140  NaN      NaN       NaN         NaN       NaN           NaN          NaN  \n",
       "8141  NaN      NaN       NaN         NaN       NaN           NaN          NaN  \n",
       "8142  NaN      NaN       NaN         NaN       NaN           NaN          NaN  \n",
       "8143  NaN      NaN       NaN         NaN       NaN           NaN          NaN  \n",
       "8144  NaN      NaN       NaN         NaN       NaN           NaN          NaN  \n",
       "8145  NaN      NaN       NaN         NaN       NaN           NaN          NaN  \n",
       "8146  NaN      NaN       NaN         NaN       NaN           NaN          NaN  \n",
       "8147  NaN      NaN       NaN         NaN       NaN           NaN          NaN  \n",
       "8148  NaN      NaN       NaN         NaN       NaN           NaN          NaN  \n",
       "8149  NaN      NaN       NaN         NaN       NaN           NaN          NaN  "
      ]
     },
     "execution_count": 445,
     "metadata": {},
     "output_type": "execute_result"
    }
   ],
   "source": [
    "sub_cover.tail(15)"
   ]
  },
  {
   "cell_type": "code",
   "execution_count": 446,
   "metadata": {},
   "outputs": [],
   "source": [
    "# In the sub_cover df, there are 15 completely empty rows at the end which should be removed. \n",
    "sub_cover.drop(sub_cover.tail(15).index, inplace = True)"
   ]
  },
  {
   "cell_type": "code",
   "execution_count": 447,
   "metadata": {},
   "outputs": [
    {
     "name": "stdout",
     "output_type": "stream",
     "text": [
      "False\n",
      "False\n"
     ]
    }
   ],
   "source": [
    "# Note: the list of DFW_short_codes in the alg_cover and sub_cover tables don't exactly match that of the site table.\n",
    "# This is bc sub_cover and alg_cover has not been measured at the \"ALB\" site - this isn't an issue.\n",
    "\n",
    "print(sorted(list(sites.DFW_short_code.unique())) == sorted(list(sub_cover.DFW_short_code.unique())))\n",
    "print(sorted(list(sites.DFW_short_code.unique())) == sorted(list(sub_cover.DFW_short_code.unique())))"
   ]
  },
  {
   "cell_type": "markdown",
   "metadata": {},
   "source": [
    "**Make sure that lat/lon coordinates in each of the data tables match the reference locations table**"
   ]
  },
  {
   "cell_type": "code",
   "execution_count": 448,
   "metadata": {},
   "outputs": [
    {
     "name": "stdout",
     "output_type": "stream",
     "text": [
      "BR\n",
      "CCin\n",
      "CCout\n",
      "FM\n",
      "FR\n",
      "MC\n",
      "OC\n",
      "PA_Pier\n",
      "PC\n",
      "RG\n",
      "SER\n",
      "SPin\n",
      "SPnotake\n",
      "SPout\n",
      "ST\n",
      "STW\n",
      "TC\n",
      "TP\n",
      "VD\n"
     ]
    }
   ],
   "source": [
    "def compare_coords(table):\n",
    "    ''''''\n",
    "    dict_sites = dict(zip(sites['DFW_short_code'], sites['Lat'].astype(str) + ','+ sites['Lon'].astype(str)))\n",
    "    dict_sites = {k: v for k, v in sorted(dict_sites.items())}\n",
    "\n",
    "    dict_table = dict(zip(table['DFW_short_code'], table['Lat'].astype(str) + ','+ counts['Lon'].astype(str) ))\n",
    "    dict_counts = {k: v for k, v in sorted(dict_table.items())}\n",
    "    \n",
    "    for key in dict_sites.keys():\n",
    "        if dict_counts[key] != dict_sites[key]:\n",
    "            print(key)\n",
    "\n",
    "# This test was run for each of the data tables, comparing each dictionary with the dict_sites.\n",
    "# There were very slight differences in sites between the size and site tables due to rounding \n",
    "# of coordinates, which isn't an issue. The site table will be used as the reference table. \n",
    "\n",
    "compare_coords(sizes)"
   ]
  },
  {
   "cell_type": "markdown",
   "metadata": {},
   "source": [
    "**I then ran this additional test to check that for each data table, there is only one combination of coordinates for each dfw_short_code**<br>\n",
    "All tables should print out '1' for each DFW_short_code; if not, they should be cross-referenced with the site table and modified as needed."
   ]
  },
  {
   "cell_type": "code",
   "execution_count": 449,
   "metadata": {},
   "outputs": [
    {
     "name": "stdout",
     "output_type": "stream",
     "text": [
      "\u001b[1msizes unique coordinates:\u001b[0m\n",
      "ALB : 1\n",
      "BR : 1\n",
      "CCout : 1\n",
      "CCin : 1\n",
      "FM : 1\n",
      "FR : 1\n",
      "MC : 1\n",
      "OC : 1\n",
      "PA_Pier : 1\n",
      "PC : 1\n",
      "RG : 1\n",
      "SER : 1\n",
      "SPin : 1\n",
      "SPout : 1\n",
      "SPnotake : 1\n",
      "ST : 1\n",
      "STW : 1\n",
      "TC : 1\n",
      "TP : 1\n",
      "VD : 1\n",
      "\u001b[1mcounts unique coordinates:\u001b[0m\n",
      "ALB : 2\n",
      "BR : 1\n",
      "CCout : 1\n",
      "CCin : 1\n",
      "FM : 1\n",
      "FR : 1\n",
      "MC : 1\n",
      "OC : 1\n",
      "PA_Pier : 1\n",
      "PC : 1\n",
      "RG : 1\n",
      "SER : 1\n",
      "SPin : 1\n",
      "SPout : 1\n",
      "SPnotake : 1\n",
      "ST : 1\n",
      "STW : 1\n",
      "TC : 1\n",
      "TP : 1\n",
      "VD : 1\n",
      "\u001b[1msub_cover unique coordinates:\u001b[0m\n",
      "BR : 1\n",
      "CCout : 1\n",
      "CCin : 1\n",
      "FM : 1\n",
      "FR : 1\n",
      "MC : 1\n",
      "OC : 1\n",
      "PA_Pier : 1\n",
      "PC : 1\n",
      "RG : 1\n",
      "SER : 1\n",
      "SPin : 1\n",
      "SPout : 1\n",
      "SP-no take : 1\n",
      "ST : 1\n",
      "STW : 1\n",
      "TC : 1\n",
      "TP : 1\n",
      "VD : 1\n",
      "\u001b[1malg_cover unique coordinates:\u001b[0m\n",
      "BR : 1\n",
      "CCout : 1\n",
      "CCin : 1\n",
      "FM : 1\n",
      "FR : 1\n",
      "MC : 1\n",
      "OC : 1\n",
      "PA_Pier : 1\n",
      "PC : 1\n",
      "RG : 1\n",
      "SER : 1\n",
      "SPin : 1\n",
      "SPout : 1\n",
      "SPnotake : 1\n",
      "ST : 1\n",
      "STW : 1\n",
      "TC : 1\n",
      "TP : 1\n",
      "VD : 1\n"
     ]
    }
   ],
   "source": [
    "sizes['coordinates'] = sizes['Lat'].astype(str) + ',' + sizes['Lon'].astype(str)\n",
    "sites['coordinates'] = sites['Lat'].astype(str) + ',' + sites['Lon'].astype(str)\n",
    "counts['coordinates'] = counts['Lat'].astype(str) + ',' + counts['Lon'].astype(str)\n",
    "sub_cover['coordinates'] = sub_cover['Lat'].astype(str) + ',' + sub_cover['Lon'].astype(str)\n",
    "alg_cover['coordinates'] = alg_cover['Lat'].astype(str) + ',' + alg_cover['Lon'].astype(str)\n",
    "\n",
    "\n",
    "print('\\033[1m' + 'sizes unique coordinates:' + '\\033[0m')\n",
    "for i in sizes['DFW_short_code'].unique():\n",
    "    print(i,':',len(sizes[sizes['DFW_short_code'] == i].coordinates.unique()))\n",
    "    \n",
    "print('\\033[1m' + 'counts unique coordinates:' + '\\033[0m')\n",
    "for i in counts['DFW_short_code'].unique():\n",
    "    print(i,':',len(counts[counts['DFW_short_code'] == i].coordinates.unique()))\n",
    "    \n",
    "print('\\033[1m' + 'sub_cover unique coordinates:' + '\\033[0m')\n",
    "for i in sub_cover['DFW_short_code'].unique():\n",
    "    print(i,':',len(sub_cover[sub_cover['DFW_short_code'] == i].coordinates.unique()))\n",
    "\n",
    "print('\\033[1m' + 'alg_cover unique coordinates:'+ '\\033[0m')\n",
    "for i in alg_cover['DFW_short_code'].unique():\n",
    "    print(i,':',len(alg_cover[alg_cover['DFW_short_code'] == i].coordinates.unique()))\n",
    "    \n",
    "# If all values are equal to 1, we don't need the coordinates column anymore and can remove it\n",
    "sizes.drop(columns = 'coordinates', inplace = True)\n",
    "sites.drop(columns = 'coordinates', inplace = True)\n",
    "counts.drop(columns = 'coordinates', inplace = True)\n",
    "sub_cover.drop(columns = 'coordinates', inplace = True)\n",
    "alg_cover.drop(columns = 'coordinates', inplace = True)"
   ]
  },
  {
   "cell_type": "code",
   "execution_count": 450,
   "metadata": {},
   "outputs": [],
   "source": [
    "# There are 2 combinations of coordinates for the ALB site in the counts table; \n",
    "# For consistency with the sites table, the latitude needs to be slightly modified for certain rows \n",
    "counts.loc[(counts['Lat'] == 39.22802), 'Lat'] = 39.228024"
   ]
  },
  {
   "cell_type": "markdown",
   "metadata": {},
   "source": [
    "**Next, I visualized site locations to make sure they make sense. This step is important because previous versions of database had values very far inland.**"
   ]
  },
  {
   "cell_type": "code",
   "execution_count": 451,
   "metadata": {},
   "outputs": [
    {
     "data": {
      "text/plain": [
       "[<matplotlib.lines.Line2D at 0x7f51d2681b20>]"
      ]
     },
     "execution_count": 451,
     "metadata": {},
     "output_type": "execute_result"
    },
    {
     "data": {
      "image/png": "[encoded data removed]",
      "text/plain": [
       "<Figure size 576x720 with 1 Axes>"
      ]
     },
     "metadata": {
      "needs_background": "light"
     },
     "output_type": "display_data"
    }
   ],
   "source": [
    "plt.figure(figsize=[8,10])\n",
    "ax = plt.axes(projection=ccrs.PlateCarree())\n",
    "ax.coastlines()\n",
    "ax.add_feature(cfeature.LAND)\n",
    "ax.gridlines(draw_labels=True, dms=True, x_inline=False, y_inline=False)\n",
    "plt.plot(sites.Lon,sites.Lat,'o', color = 'red') # site table\n",
    "plt.plot(sizes.Lon,sizes.Lat,'o',color = 'blue') # size table\n",
    "plt.plot(counts.Lon,counts.Lat,'o',color = 'green') #counts table\n",
    "plt.plot(alg_cover.Lon,alg_cover.Lat,'o',color = 'black') #algae cover\n",
    "plt.plot(sub_cover.Lon,sub_cover.Lat,'o',color = 'pink') #substrate cover"
   ]
  },
  {
   "cell_type": "markdown",
   "metadata": {},
   "source": [
    "**Make sure that the habitatID and substrateID codes match those provided in the algae and substrate cover tables**\n",
    "\n",
    "```python\n",
    "\n",
    "# Manual check to make sure the habitatID and habitat type (descriptions) match the alg_cover and alg_codes tables\n",
    "dict(zip(alg_cover['HabitatID'], alg_cover['HABITAT']))\n",
    "dict(zip(alg_codes['HabitatID'], alg_codes['Habitat Type']))\n",
    "\n",
    "# Manual check to make sure the SubstrateID and Substrate Type (descriptions) match the sub_cover and sub_codes tables\n",
    "dict(zip(sub_cover['SubstrateID'], sub_cover['Substrate']))\n",
    "dict(zip(sub_codes['SubstrateID'], sub_codes['Substrate Type']))\n",
    "```"
   ]
  },
  {
   "cell_type": "markdown",
   "metadata": {},
   "source": [
    "**Next, make sure that the SpeciesIDs included in the size and counts table exist in the species reference table**"
   ]
  },
  {
   "cell_type": "code",
   "execution_count": 452,
   "metadata": {},
   "outputs": [
    {
     "name": "stdout",
     "output_type": "stream",
     "text": [
      "Species in counts table: QC test passed\n",
      "Species in sizes table: QC test passed\n"
     ]
    }
   ],
   "source": [
    "for sp in counts.SpeciesID.unique():\n",
    "    if len(species[species['SpeciesID'] == sp]) != 1:\n",
    "        print(sp + ' did not pass QC test')      \n",
    "print('Species in counts table: QC test passed')\n",
    "\n",
    "for sp in sizes.SpeciesID.unique():\n",
    "    if len(species[species['SpeciesID'] == sp]) != 1:\n",
    "        print(sp + ' did not pass QC test')\n",
    "print('Species in sizes table: QC test passed')"
   ]
  },
  {
   "cell_type": "markdown",
   "metadata": {},
   "source": [
    "**Next, check to see if any of the data tables have any NaNs in their relevant data columns.** <br>\n",
    "Note that there are a number of rows in the counts column where a species was identified but not counted - this is not a problem but good to know. "
   ]
  },
  {
   "cell_type": "code",
   "execution_count": 453,
   "metadata": {},
   "outputs": [
    {
     "name": "stdout",
     "output_type": "stream",
     "text": [
      "NaN values in size column of size table: 0\n",
      "NaN values in Count column of counts table: 638\n",
      "NaN values in PercentCover column of alg_cover table: 0\n",
      "NaN values in Percent of Total Area column of sub_cover table: 0\n"
     ]
    }
   ],
   "source": [
    "print('NaN values in size column of size table:' , len(sizes[sizes['Size'].isna()]))\n",
    "print('NaN values in Count column of counts table:', len(counts[counts['Count'].isna()]))\n",
    "print('NaN values in PercentCover column of alg_cover table:', len(alg_cover[alg_cover['PercentCover'].isna()]))\n",
    "print('NaN values in Percent of Total Area column of sub_cover table:', len(sub_cover[sub_cover['PercentCover'].isna()]))"
   ]
  },
  {
   "cell_type": "markdown",
   "metadata": {},
   "source": [
    "## Run species table through WoRMS"
   ]
  },
  {
   "cell_type": "markdown",
   "metadata": {},
   "source": [
    "The species table was generated by running it through WoRMS via [pyworms](https://pyworms.readthedocs.io/en/latest/). As a sanity check, I wanted to run it through WoRMS one more time to make sure all species were correctly matched."
   ]
  },
  {
   "cell_type": "markdown",
   "metadata": {},
   "source": [
    "This code was run once; since it takes a while to run, I had saved the output to a csv file, which can be opened (see next cell) as opposed to re-running this. \n",
    "\n",
    "```python\n",
    "\n",
    "for index, row in species.iterrows():\n",
    "    resp = pyworms.aphiaRecordsByMatchNames(row['ScientificName'], marine_only=True)\n",
    "    \n",
    "    # When no matches are found, print the non-matching name and move on\n",
    "    if len(resp[0]) == 0:\n",
    "        print('\\nNo match for name \"{}\"'.format(row['ScientificName']))\n",
    "        continue\n",
    "        \n",
    "    # When more than 1 match is found, print which one has multiple matches\n",
    "    elif len(resp[0]) > 1:\n",
    "        print('\\nMultiple matches for name \"{}\":'.format(row['ScientificName']))\n",
    "        continue\n",
    "    \n",
    "    # When only 1 match is found, put the appropriate information into the appropriate row and column\n",
    "    else:\n",
    "        print(f'match found for {row.ScientificName}')\n",
    "        worms = resp[0][0]\n",
    "        species.loc[index, 'new_scientificName'] = worms['scientificname']\n",
    "        species.loc[index, 'new_scientificNameID'] = worms['valid_AphiaID']\n",
    "        species.loc[index, 'new_kingdom'] = worms['kingdom']\n",
    "        species.loc[index, 'new_phylum'] = worms['phylum']\n",
    "        species.loc[index, 'new_class'] = worms['class']\n",
    "        species.loc[index, 'new_order'] = worms['order']\n",
    "        species.loc[index, 'new_family'] = worms['family']\n",
    "        species.loc[index, 'new_genus'] = worms['genus']\n",
    "        species.loc[index, 'new_rank'] = worms['rank']\n",
    "        species.loc[index, 'match_type'] = worms['match_type']\n",
    "```"
   ]
  },
  {
   "cell_type": "code",
   "execution_count": 454,
   "metadata": {},
   "outputs": [],
   "source": [
    "# CSV file of species list with new columns from PyWORMS output. \n",
    "species = pd.read_csv('species_worms_newcolumns_01222024.csv')"
   ]
  },
  {
   "cell_type": "code",
   "execution_count": 455,
   "metadata": {},
   "outputs": [
    {
     "data": {
      "text/html": [
       "<div>\n",
       "<style scoped>\n",
       "    .dataframe tbody tr th:only-of-type {\n",
       "        vertical-align: middle;\n",
       "    }\n",
       "\n",
       "    .dataframe tbody tr th {\n",
       "        vertical-align: top;\n",
       "    }\n",
       "\n",
       "    .dataframe thead th {\n",
       "        text-align: right;\n",
       "    }\n",
       "</style>\n",
       "<table border=\"1\" class=\"dataframe\">\n",
       "  <thead>\n",
       "    <tr style=\"text-align: right;\">\n",
       "      <th></th>\n",
       "      <th>SpeciesID</th>\n",
       "      <th>CommonName</th>\n",
       "      <th>ScientificName</th>\n",
       "      <th>species_definition</th>\n",
       "      <th>taxonomic_source</th>\n",
       "      <th>taxonomic_id</th>\n",
       "      <th>kingdom</th>\n",
       "      <th>phylum</th>\n",
       "      <th>class</th>\n",
       "      <th>order</th>\n",
       "      <th>...</th>\n",
       "      <th>new_scientificName</th>\n",
       "      <th>new_scientificNameID</th>\n",
       "      <th>new_kingdom</th>\n",
       "      <th>new_phylum</th>\n",
       "      <th>new_class</th>\n",
       "      <th>new_order</th>\n",
       "      <th>new_family</th>\n",
       "      <th>new_genus</th>\n",
       "      <th>new_rank</th>\n",
       "      <th>match_type</th>\n",
       "    </tr>\n",
       "  </thead>\n",
       "  <tbody>\n",
       "    <tr>\n",
       "      <th>0</th>\n",
       "      <td>A0</td>\n",
       "      <td>Abalone species</td>\n",
       "      <td>Haliotis spp.</td>\n",
       "      <td>abalone, not identified to species level</td>\n",
       "      <td>WoRMS</td>\n",
       "      <td>138050</td>\n",
       "      <td>Animalia</td>\n",
       "      <td>Mollusca</td>\n",
       "      <td>Gastropoda</td>\n",
       "      <td>Lepetellida</td>\n",
       "      <td>...</td>\n",
       "      <td>Haliotis</td>\n",
       "      <td>138050.0</td>\n",
       "      <td>Animalia</td>\n",
       "      <td>Mollusca</td>\n",
       "      <td>Gastropoda</td>\n",
       "      <td>Lepetellida</td>\n",
       "      <td>Haliotidae</td>\n",
       "      <td>Haliotis</td>\n",
       "      <td>Genus</td>\n",
       "      <td>exact</td>\n",
       "    </tr>\n",
       "    <tr>\n",
       "      <th>1</th>\n",
       "      <td>A1</td>\n",
       "      <td>Red Abalone</td>\n",
       "      <td>Haliotis rufescens</td>\n",
       "      <td>Haliotis rufescens</td>\n",
       "      <td>WoRMS</td>\n",
       "      <td>445357</td>\n",
       "      <td>Animalia</td>\n",
       "      <td>Mollusca</td>\n",
       "      <td>Gastropoda</td>\n",
       "      <td>Lepetellida</td>\n",
       "      <td>...</td>\n",
       "      <td>Haliotis rufescens</td>\n",
       "      <td>445357.0</td>\n",
       "      <td>Animalia</td>\n",
       "      <td>Mollusca</td>\n",
       "      <td>Gastropoda</td>\n",
       "      <td>Lepetellida</td>\n",
       "      <td>Haliotidae</td>\n",
       "      <td>Haliotis</td>\n",
       "      <td>Species</td>\n",
       "      <td>exact</td>\n",
       "    </tr>\n",
       "  </tbody>\n",
       "</table>\n",
       "<p>2 rows × 23 columns</p>\n",
       "</div>"
      ],
      "text/plain": [
       "  SpeciesID       CommonName      ScientificName  \\\n",
       "0        A0  Abalone species       Haliotis spp.   \n",
       "1        A1      Red Abalone  Haliotis rufescens   \n",
       "\n",
       "                         species_definition taxonomic_source  taxonomic_id  \\\n",
       "0  abalone, not identified to species level            WoRMS        138050   \n",
       "1                        Haliotis rufescens            WoRMS        445357   \n",
       "\n",
       "    kingdom    phylum       class        order  ...  new_scientificName  \\\n",
       "0  Animalia  Mollusca  Gastropoda  Lepetellida  ...            Haliotis   \n",
       "1  Animalia  Mollusca  Gastropoda  Lepetellida  ...  Haliotis rufescens   \n",
       "\n",
       "  new_scientificNameID new_kingdom new_phylum   new_class    new_order  \\\n",
       "0             138050.0    Animalia   Mollusca  Gastropoda  Lepetellida   \n",
       "1             445357.0    Animalia   Mollusca  Gastropoda  Lepetellida   \n",
       "\n",
       "   new_family new_genus new_rank match_type  \n",
       "0  Haliotidae  Haliotis    Genus      exact  \n",
       "1  Haliotidae  Haliotis  Species      exact  \n",
       "\n",
       "[2 rows x 23 columns]"
      ]
     },
     "execution_count": 455,
     "metadata": {},
     "output_type": "execute_result"
    }
   ],
   "source": [
    "species.head(2)"
   ]
  },
  {
   "cell_type": "markdown",
   "metadata": {},
   "source": [
    "**Compare the original ScientificName column with the WoRMS query output**"
   ]
  },
  {
   "cell_type": "code",
   "execution_count": 456,
   "metadata": {},
   "outputs": [
    {
     "name": "stdout",
     "output_type": "stream",
     "text": [
      "Haliotis spp. different from Haliotis\n",
      "Cancer spp. different from Cancer\n",
      "Petrolisthes spp. different from Petrolisthes\n",
      "Pugettia spp. different from Pugettia\n",
      "Pagurus spp. different from Pagurus\n",
      "Pugettia spp. different from Pugettia\n",
      "Pisaster spp. different from Pisaster\n",
      "Solaster spp. different from Solaster\n",
      "Sebastes spp. different from Sebastes\n",
      "Mopalia spp. different from Mopalia\n",
      "Tegula spp. different from Tegula\n",
      "Gastroclonium spp. different from Gastroclonium\n",
      "Urticina spp. different from Urticina\n",
      "Cliona spp. different from Cliona\n",
      "Pisaster spp. different from Pisaster\n",
      "Solaster spp. different from Solaster\n",
      "Spatangoida spp. different from Spatangoida\n",
      "Nereis spp. different from Nereis\n"
     ]
    }
   ],
   "source": [
    "# Good news is that the only difference in scienficNames is the addition of \"spp.\" at the end of entries that are at the genus level.\n",
    "for index, row in species.iterrows():\n",
    "    if row['ScientificName'] != row['new_scientificName']:\n",
    "        print(row['ScientificName'] + ' different from ' + row['new_scientificName'])"
   ]
  },
  {
   "cell_type": "code",
   "execution_count": 457,
   "metadata": {},
   "outputs": [
    {
     "name": "stdout",
     "output_type": "stream",
     "text": [
      "599485  different from  1723348.0\n"
     ]
    }
   ],
   "source": [
    "# Important to note that there is one row where the taxonomic_ID does not match the WoRMS query output.\n",
    "# This is because that particular species is unaccepted: https://www.marinespecies.org/aphia.php?p=taxdetails&id=599485 \n",
    "# Since we are using the new_scientificID in our occurrence table, this is OK. \n",
    "for index, row in species.iterrows():\n",
    "    if row['taxonomic_id'] != row['new_scientificNameID']:\n",
    "        print(row['taxonomic_id'] , ' different from ' , row['new_scientificNameID'])"
   ]
  },
  {
   "cell_type": "code",
   "execution_count": 458,
   "metadata": {},
   "outputs": [
    {
     "data": {
      "text/plain": [
       "0"
      ]
     },
     "execution_count": 458,
     "metadata": {},
     "output_type": "execute_result"
    }
   ],
   "source": [
    "# Print any rows that don't have an 'exact' match with WoRMS query. Good news, they're all exact matches :)\n",
    "len(species[species['match_type']!='exact'])"
   ]
  },
  {
   "cell_type": "markdown",
   "metadata": {},
   "source": [
    "## DwC Conversion"
   ]
  },
  {
   "cell_type": "markdown",
   "metadata": {},
   "source": [
    "For this conversion, we will need three seperate tables:\n",
    "1. An **event** table, where each event is a dive survey. This should include ALL surveys, from size, count, and habitat % cover observations. This event file will contain hierarchical events for surveys (transects) and sub-samples taken for substrate & algal percent cover estimates. \n",
    "2. An **occurrence** table with each occurrence being a unique observation for a unique survey, including absense/presence and organism counts.\n",
    "3. A **Measurement or Fact Extension** table containing the organism sizes, substrate percent cover, and algal percent cover information.\n",
    "\n",
    "Some rationale for using an Event Core (as opposed to an Occurrence Core) is summarized on [this page](https://manual.obis.org/formatting.html#when-to-use-event-core)"
   ]
  },
  {
   "cell_type": "markdown",
   "metadata": {},
   "source": [
    "## Event Core"
   ]
  },
  {
   "cell_type": "markdown",
   "metadata": {},
   "source": [
    "Each event is defined as a dive survey. The four data tables (sizes, counts, algal cover, substrate cover) don't have entirely overlapping dive surveys (Survey_Num column), meaning not all transects measured all four data parameters. To make sure that my event core table includes all dive surveys from all tables, I generated event files for each data file, then concatenated all 4 event files, and removed duplicate eventIDs. I ran a few QC tests (see below) along the way to make sure all transects and sub-samples were accounted for. <br>\n",
    "\n",
    "**Handling subsample hierarchy** <br>\n",
    "Tables with % cover (substrate and algae) have subsamples for certain transects as defined in the Subsample column from both of these tables. To handle this, I used the following terms:\n",
    "- eventID includes information to distinguish between a sub-sampled event or a full transect, and follows this general logic: If a subsample exists, the eventID follows the format survey:[Survey_Num]_subsample:L or R (left or right). If the event is not a sub-sample, eventID follows the format survey:[Survey_Num]\n",
    "- eventType distinguishes between a survey or a sub-sample - note that this is not using a controlled vocabulary but instead just free text. \n",
    "- If an event is a sub-sample, parentEventID is used identify the full transect corresponding to the sub-sample. \n",
    "\n",
    "There is some helpful guidance and examples on handling hierarchical events in an [imaging dataset](https://docs.google.com/spreadsheets/d/1m5Udf0uHcdO27hA00CvIMj4Lq7M9Ljx4HyOugbjHqng/edit#gid=0). <br>\n"
   ]
  },
  {
   "cell_type": "markdown",
   "metadata": {},
   "source": [
    "**Event Core: sizes**"
   ]
  },
  {
   "cell_type": "code",
   "execution_count": 459,
   "metadata": {},
   "outputs": [
    {
     "name": "stdout",
     "output_type": "stream",
     "text": [
      "passed\n"
     ]
    }
   ],
   "source": [
    "# Make an event table for organism sizes\n",
    "event_sizes = pd.DataFrame()\n",
    "\n",
    "# eventID\n",
    "event_sizes['eventID'] = 'survey:' + sizes['Survey_Num'].astype(str)\n",
    "# eventType \n",
    "event_sizes['eventType'] = 'survey'\n",
    "# parentEventID - There are no sub-samples in the sizes table, so there is no parent corresponding the survey_nums provided in the eventID. \n",
    "event_sizes['parentEventID'] = ''\n",
    "# eventDate \n",
    "event_sizes['eventDate'] = sizes['SurveyDate']\n",
    "# DFW_short_code - this column will be used to map with the site reference table. \n",
    "event_sizes['DFW_short_code'] = sizes['DFW_short_code']\n",
    "# minimumDepthInMeters\n",
    "event_sizes['minimumDepthInMeters'] = sizes['MinimumDepth']\n",
    "# maximumDepthInMeters\n",
    "event_sizes['maximumDepthInMeters'] = sizes['MaximumDepth']\n",
    "\n",
    "# Merge additional information from the sites table\n",
    "event_sizes = pd.merge(event_sizes, sites[['DFW_short_code', 'Lat', 'Lon', 'SiteName', 'ProtectionStatus']], on='DFW_short_code', how='left')\n",
    "# Drop duplicate eventIDs \n",
    "event_sizes = event_sizes.drop_duplicates(subset='eventID')\n",
    "\n",
    "#QC check:\n",
    "if len(event_sizes) != len(sizes.Survey_Num.unique()):\n",
    "    print('failed')\n",
    "else:\n",
    "    print('passed')"
   ]
  },
  {
   "cell_type": "code",
   "execution_count": 460,
   "metadata": {},
   "outputs": [
    {
     "data": {
      "text/html": [
       "<div>\n",
       "<style scoped>\n",
       "    .dataframe tbody tr th:only-of-type {\n",
       "        vertical-align: middle;\n",
       "    }\n",
       "\n",
       "    .dataframe tbody tr th {\n",
       "        vertical-align: top;\n",
       "    }\n",
       "\n",
       "    .dataframe thead th {\n",
       "        text-align: right;\n",
       "    }\n",
       "</style>\n",
       "<table border=\"1\" class=\"dataframe\">\n",
       "  <thead>\n",
       "    <tr style=\"text-align: right;\">\n",
       "      <th></th>\n",
       "      <th>eventID</th>\n",
       "      <th>eventType</th>\n",
       "      <th>parentEventID</th>\n",
       "      <th>eventDate</th>\n",
       "      <th>DFW_short_code</th>\n",
       "      <th>minimumDepthInMeters</th>\n",
       "      <th>maximumDepthInMeters</th>\n",
       "      <th>Lat</th>\n",
       "      <th>Lon</th>\n",
       "      <th>SiteName</th>\n",
       "      <th>ProtectionStatus</th>\n",
       "    </tr>\n",
       "  </thead>\n",
       "  <tbody>\n",
       "    <tr>\n",
       "      <th>0</th>\n",
       "      <td>survey:ALB18-A1-1</td>\n",
       "      <td>survey</td>\n",
       "      <td></td>\n",
       "      <td>8/30/2018</td>\n",
       "      <td>ALB</td>\n",
       "      <td>12.0</td>\n",
       "      <td>16.0</td>\n",
       "      <td>39.228024</td>\n",
       "      <td>-123.773516</td>\n",
       "      <td>Albion Bay</td>\n",
       "      <td>non-MPA</td>\n",
       "    </tr>\n",
       "    <tr>\n",
       "      <th>3</th>\n",
       "      <td>survey:ALB18-A1-2</td>\n",
       "      <td>survey</td>\n",
       "      <td></td>\n",
       "      <td>8/30/2018</td>\n",
       "      <td>ALB</td>\n",
       "      <td>8.0</td>\n",
       "      <td>8.0</td>\n",
       "      <td>39.228024</td>\n",
       "      <td>-123.773516</td>\n",
       "      <td>Albion Bay</td>\n",
       "      <td>non-MPA</td>\n",
       "    </tr>\n",
       "  </tbody>\n",
       "</table>\n",
       "</div>"
      ],
      "text/plain": [
       "             eventID eventType parentEventID  eventDate DFW_short_code  \\\n",
       "0  survey:ALB18-A1-1    survey                8/30/2018            ALB   \n",
       "3  survey:ALB18-A1-2    survey                8/30/2018            ALB   \n",
       "\n",
       "   minimumDepthInMeters  maximumDepthInMeters        Lat         Lon  \\\n",
       "0                  12.0                  16.0  39.228024 -123.773516   \n",
       "3                   8.0                   8.0  39.228024 -123.773516   \n",
       "\n",
       "     SiteName ProtectionStatus  \n",
       "0  Albion Bay          non-MPA  \n",
       "3  Albion Bay          non-MPA  "
      ]
     },
     "execution_count": 460,
     "metadata": {},
     "output_type": "execute_result"
    }
   ],
   "source": [
    "event_sizes.head(2)"
   ]
  },
  {
   "cell_type": "markdown",
   "metadata": {},
   "source": [
    "**Event Core: counts**"
   ]
  },
  {
   "cell_type": "code",
   "execution_count": 461,
   "metadata": {},
   "outputs": [
    {
     "name": "stdout",
     "output_type": "stream",
     "text": [
      "passed\n"
     ]
    }
   ],
   "source": [
    "# Make an event table for organism counts\n",
    "event_counts = pd.DataFrame()\n",
    "\n",
    "# eventID\n",
    "event_counts['eventID'] = 'survey:' + counts['SurveyNum'].astype(str)\n",
    "#eventType\n",
    "event_counts['eventType'] = 'survey'\n",
    "# parentEventID - There are no sub-samples in the counts table, so there is no parent corresponding the survey_nums provided in the eventID. \n",
    "event_counts['parentEventID'] = '' \n",
    "# eventDate\n",
    "event_counts['eventDate'] = counts['SurveyDate']\n",
    "# DFW_short_code - this column will be used to map with the site reference table. \n",
    "event_counts['DFW_short_code'] = counts['DFW_short_code']\n",
    "# minimumDepthInMeters\n",
    "event_counts['minimumDepthInMeters'] = counts['MinimumDepth']\n",
    "# maximumDepthInMeters\n",
    "event_counts['maximumDepthInMeters'] = counts['MaximumDepth']\n",
    "\n",
    "# Merge additional information from the sites table\n",
    "event_counts = pd.merge(event_counts, sites[['DFW_short_code', 'Lat', 'Lon', 'SiteName', 'ProtectionStatus']], on='DFW_short_code', how='left')\n",
    "# Drop duplicate eventIDs \n",
    "event_counts = event_counts.drop_duplicates(subset='eventID')\n",
    "\n",
    "#QC check:\n",
    "if len(event_counts) != len(counts.SurveyNum.unique()):\n",
    "    print('failed')\n",
    "else:\n",
    "    print('passed')"
   ]
  },
  {
   "cell_type": "code",
   "execution_count": 462,
   "metadata": {},
   "outputs": [
    {
     "data": {
      "text/html": [
       "<div>\n",
       "<style scoped>\n",
       "    .dataframe tbody tr th:only-of-type {\n",
       "        vertical-align: middle;\n",
       "    }\n",
       "\n",
       "    .dataframe tbody tr th {\n",
       "        vertical-align: top;\n",
       "    }\n",
       "\n",
       "    .dataframe thead th {\n",
       "        text-align: right;\n",
       "    }\n",
       "</style>\n",
       "<table border=\"1\" class=\"dataframe\">\n",
       "  <thead>\n",
       "    <tr style=\"text-align: right;\">\n",
       "      <th></th>\n",
       "      <th>eventID</th>\n",
       "      <th>eventType</th>\n",
       "      <th>parentEventID</th>\n",
       "      <th>eventDate</th>\n",
       "      <th>DFW_short_code</th>\n",
       "      <th>minimumDepthInMeters</th>\n",
       "      <th>maximumDepthInMeters</th>\n",
       "      <th>Lat</th>\n",
       "      <th>Lon</th>\n",
       "      <th>SiteName</th>\n",
       "      <th>ProtectionStatus</th>\n",
       "    </tr>\n",
       "  </thead>\n",
       "  <tbody>\n",
       "    <tr>\n",
       "      <th>0</th>\n",
       "      <td>survey:ALB18-A1-3</td>\n",
       "      <td>survey</td>\n",
       "      <td></td>\n",
       "      <td>8/20/2018</td>\n",
       "      <td>ALB</td>\n",
       "      <td>11.0</td>\n",
       "      <td>14.0</td>\n",
       "      <td>39.228024</td>\n",
       "      <td>-123.773516</td>\n",
       "      <td>Albion Bay</td>\n",
       "      <td>non-MPA</td>\n",
       "    </tr>\n",
       "    <tr>\n",
       "      <th>15</th>\n",
       "      <td>survey:ALB18-A1-4</td>\n",
       "      <td>survey</td>\n",
       "      <td></td>\n",
       "      <td>8/30/2018</td>\n",
       "      <td>ALB</td>\n",
       "      <td>4.0</td>\n",
       "      <td>7.0</td>\n",
       "      <td>39.228024</td>\n",
       "      <td>-123.773516</td>\n",
       "      <td>Albion Bay</td>\n",
       "      <td>non-MPA</td>\n",
       "    </tr>\n",
       "  </tbody>\n",
       "</table>\n",
       "</div>"
      ],
      "text/plain": [
       "              eventID eventType parentEventID  eventDate DFW_short_code  \\\n",
       "0   survey:ALB18-A1-3    survey                8/20/2018            ALB   \n",
       "15  survey:ALB18-A1-4    survey                8/30/2018            ALB   \n",
       "\n",
       "    minimumDepthInMeters  maximumDepthInMeters        Lat         Lon  \\\n",
       "0                   11.0                  14.0  39.228024 -123.773516   \n",
       "15                   4.0                   7.0  39.228024 -123.773516   \n",
       "\n",
       "      SiteName ProtectionStatus  \n",
       "0   Albion Bay          non-MPA  \n",
       "15  Albion Bay          non-MPA  "
      ]
     },
     "execution_count": 462,
     "metadata": {},
     "output_type": "execute_result"
    }
   ],
   "source": [
    "event_counts.head(2)"
   ]
  },
  {
   "cell_type": "markdown",
   "metadata": {},
   "source": [
    "**Event Core: algal cover**"
   ]
  },
  {
   "cell_type": "code",
   "execution_count": 463,
   "metadata": {},
   "outputs": [],
   "source": [
    "# Define some empty lists \n",
    "event_ids = []\n",
    "types = []\n",
    "parent_event_ids = []\n",
    "dates = []\n",
    "short_codes = []\n",
    "min_depths = []\n",
    "max_depths = []\n",
    "\n",
    "for index, row in alg_cover.iterrows():\n",
    "    # Loop through each row in the algae % cover and if there is a subsample, include that as part of the event_ID string. \n",
    "    if row['Subsample'] in ['L', 'R']: \n",
    "        event_id = 'survey:' + str(alg_cover.loc[index, 'Survey_Num']) + '_subsample:' + row['Subsample']\n",
    "        # Specify the eventType\n",
    "        type_name = 'sub-sample'\n",
    "        parent_event_id = 'survey:' + str(alg_cover.loc[index, 'Survey_Num'])\n",
    "        event_date = '' # if we have a subsample, the date will be with the parent\n",
    "        short_code = '' # if we have a subsample, the DFW_short_code will be with the parent\n",
    "        min_depth = '' # if we have a subsample, the minimum depth will be with the parent\n",
    "        max_depth = '' # if we have a subsample, the maximum depth will be with the parent\n",
    "    \n",
    "    # If the row is not a subsample:  \n",
    "    else: \n",
    "        event_id = 'survey:' + str(alg_cover.loc[index, 'Survey_Num'])\n",
    "        type_name = 'survey'\n",
    "        parent_event_id = ''\n",
    "        event_date = alg_cover.loc[index, 'SurveyDate']\n",
    "        short_code = alg_cover.loc[index, 'DFW_short_code']\n",
    "        min_depth = alg_cover.loc[index, 'MinimumDepth']\n",
    "        max_depth = alg_cover.loc[index, 'MaximumDepth']\n",
    "    \n",
    "    # Add in the correct values into the empty lists\n",
    "    event_ids.append(event_id)\n",
    "    types.append(type_name)\n",
    "    parent_event_ids.append(parent_event_id)\n",
    "    dates.append(event_date)\n",
    "    short_codes.append(short_code)\n",
    "    min_depths.append(min_depth)\n",
    "    max_depths.append(max_depth)"
   ]
  },
  {
   "cell_type": "code",
   "execution_count": 464,
   "metadata": {},
   "outputs": [],
   "source": [
    "# Now make a dataframe with populated fields \n",
    "event_alg = pd.DataFrame()\n",
    "# eventID\n",
    "event_alg['eventID'] = event_ids\n",
    "# eventType\n",
    "event_alg['eventType'] = types\n",
    "# parentEventID\n",
    "event_alg['parentEventID'] = parent_event_ids\n",
    "# eventDate\n",
    "event_alg['eventDate'] = dates\n",
    "# DFW_short_code - this column will be used to map with the site reference table. \n",
    "event_alg['DFW_short_code'] = short_codes\n",
    "# minimumDepthInMeters\n",
    "event_alg['minimumDepthInMeters'] = min_depths\n",
    "# maximumDepthInMeters\n",
    "event_alg['maximumDepthInMeters'] = max_depths\n",
    "\n",
    "# Merge with sites table to get event-level information\n",
    "event_alg = pd.merge(event_alg, sites[['DFW_short_code', 'Lat', 'Lon', 'SiteName', 'ProtectionStatus']], on='DFW_short_code', how='left')\n",
    "# remove duplicate rows\n",
    "event_alg = event_alg.drop_duplicates(subset='eventID')\n",
    "\n",
    "# Currently for the sub-samples, the lat, lon, sitename and protectionstatus are NaNs. These should be empty rows ''\n",
    "event_alg.fillna('', inplace=True)"
   ]
  },
  {
   "cell_type": "code",
   "execution_count": 465,
   "metadata": {},
   "outputs": [
    {
     "data": {
      "text/html": [
       "<div>\n",
       "<style scoped>\n",
       "    .dataframe tbody tr th:only-of-type {\n",
       "        vertical-align: middle;\n",
       "    }\n",
       "\n",
       "    .dataframe tbody tr th {\n",
       "        vertical-align: top;\n",
       "    }\n",
       "\n",
       "    .dataframe thead th {\n",
       "        text-align: right;\n",
       "    }\n",
       "</style>\n",
       "<table border=\"1\" class=\"dataframe\">\n",
       "  <thead>\n",
       "    <tr style=\"text-align: right;\">\n",
       "      <th></th>\n",
       "      <th>eventID</th>\n",
       "      <th>eventType</th>\n",
       "      <th>parentEventID</th>\n",
       "      <th>eventDate</th>\n",
       "      <th>DFW_short_code</th>\n",
       "      <th>minimumDepthInMeters</th>\n",
       "      <th>maximumDepthInMeters</th>\n",
       "      <th>Lat</th>\n",
       "      <th>Lon</th>\n",
       "      <th>SiteName</th>\n",
       "      <th>ProtectionStatus</th>\n",
       "    </tr>\n",
       "  </thead>\n",
       "  <tbody>\n",
       "    <tr>\n",
       "      <th>0</th>\n",
       "      <td>survey:BR99-01</td>\n",
       "      <td>survey</td>\n",
       "      <td></td>\n",
       "      <td>7/29/1999</td>\n",
       "      <td>BR</td>\n",
       "      <td>39.0</td>\n",
       "      <td>39.0</td>\n",
       "      <td>38.315361</td>\n",
       "      <td>-123.071539</td>\n",
       "      <td>Bodega Marine Life Refuge (BML)</td>\n",
       "      <td>no take MPA</td>\n",
       "    </tr>\n",
       "    <tr>\n",
       "      <th>5</th>\n",
       "      <td>survey:BR99-02</td>\n",
       "      <td>survey</td>\n",
       "      <td></td>\n",
       "      <td>7/29/1999</td>\n",
       "      <td>BR</td>\n",
       "      <td>52.0</td>\n",
       "      <td>52.0</td>\n",
       "      <td>38.315361</td>\n",
       "      <td>-123.071539</td>\n",
       "      <td>Bodega Marine Life Refuge (BML)</td>\n",
       "      <td>no take MPA</td>\n",
       "    </tr>\n",
       "  </tbody>\n",
       "</table>\n",
       "</div>"
      ],
      "text/plain": [
       "          eventID eventType parentEventID  eventDate DFW_short_code  \\\n",
       "0  survey:BR99-01    survey                7/29/1999             BR   \n",
       "5  survey:BR99-02    survey                7/29/1999             BR   \n",
       "\n",
       "  minimumDepthInMeters maximumDepthInMeters        Lat         Lon  \\\n",
       "0                 39.0                 39.0  38.315361 -123.071539   \n",
       "5                 52.0                 52.0  38.315361 -123.071539   \n",
       "\n",
       "                          SiteName ProtectionStatus  \n",
       "0  Bodega Marine Life Refuge (BML)      no take MPA  \n",
       "5  Bodega Marine Life Refuge (BML)      no take MPA  "
      ]
     },
     "execution_count": 465,
     "metadata": {},
     "output_type": "execute_result"
    }
   ],
   "source": [
    "event_alg.head(2)"
   ]
  },
  {
   "cell_type": "code",
   "execution_count": 466,
   "metadata": {},
   "outputs": [],
   "source": [
    "# Now I need to make sure that parentIDs are also included for sub-samples. \n",
    "# Make a new DF with event-level information for sub-sampled parent IDs, and then concatenate it to the one above. \n",
    "\n",
    "survey_nums = []\n",
    "dfw_codes = []\n",
    "dates = []\n",
    "min_depths = []\n",
    "max_depths = []\n",
    "\n",
    "for index, row in event_alg.iterrows():\n",
    "    if row['eventType'] in ['sub-sample']:\n",
    "        survey_num = event_alg.loc[index, 'parentEventID'].split(':')[-1] # get the parent ID (Survey_Num)\n",
    "        survey_nums.append(survey_num)\n",
    "        \n",
    "        matching_row = alg_cover[alg_cover['Survey_Num'] == survey_num].head(1)\n",
    "\n",
    "        dfw_code = matching_row['DFW_short_code'].values[0]\n",
    "        dfw_codes.append(dfw_code)\n",
    "        \n",
    "        event_date = matching_row['SurveyDate'].values[0]\n",
    "        dates.append(event_date)\n",
    "        \n",
    "        min_depth = matching_row['MinimumDepth'].values[0]\n",
    "        min_depths.append(min_depth)\n",
    "        \n",
    "        max_depth = matching_row['MaximumDepth'].values[0]\n",
    "        max_depths.append(max_depth)\n",
    "\n",
    "\n",
    "# Now make a dataframe with this information, and lastly, concetenate it with the existing event_alg dataframe.\n",
    "event_alg_subs = pd.DataFrame()\n",
    "event_alg_subs['eventID'] = survey_nums\n",
    "event_alg_subs['eventID'] = 'survey:' + event_alg_subs['eventID']\n",
    "event_alg_subs['eventType'] = 'survey'\n",
    "event_alg_subs['parentEventID'] = ''\n",
    "event_alg_subs['eventDate'] = dates\n",
    "event_alg_subs['DFW_short_code'] = dfw_codes\n",
    "event_alg_subs['minimumDepthInMeters'] = min_depths\n",
    "event_alg_subs['maximumDepthInMeters'] = max_depths\n",
    "\n",
    "event_alg_subs = pd.merge(event_alg_subs, sites[['DFW_short_code', 'Lat', 'Lon', 'SiteName', 'ProtectionStatus']], on='DFW_short_code', how='left')\n",
    "\n",
    "# There are duplicates because there are when a transect is subsampled, there are 2 subsamples (L and R).\n",
    "event_alg_subs = event_alg_subs.drop_duplicates(subset='eventID')"
   ]
  },
  {
   "cell_type": "code",
   "execution_count": 467,
   "metadata": {},
   "outputs": [],
   "source": [
    "# Now concatenate both algal cover event tables\n",
    "event_alg_final = pd.concat([event_alg, event_alg_subs])\n",
    "event_alg_final.reset_index(drop=True, inplace=True)"
   ]
  },
  {
   "cell_type": "code",
   "execution_count": 468,
   "metadata": {},
   "outputs": [
    {
     "name": "stdout",
     "output_type": "stream",
     "text": [
      "Duplicate eventID values in event_alg_final:\n",
      "2263     survey:CC11-D7\n",
      "2412     survey:PC03-D9\n",
      "2532    survey:TC06-AA8\n",
      "2536    survey:TC06-B04\n",
      "2559     survey:TP06-B2\n",
      "2610     survey:VD03-C3\n",
      "Name: eventID, dtype: object\n"
     ]
    }
   ],
   "source": [
    "# There are a few duplicates at surveys where both subsamples and non-subsample surveys were done.\n",
    "# Since eventIDs should be unique, we can remove these duplicates. \n",
    "duplicate_eventID = event_alg_final[event_alg_final.duplicated(subset=['eventID'])]\n",
    "\n",
    "print(\"Duplicate eventID values in event_alg_final:\")\n",
    "print(duplicate_eventID['eventID'])"
   ]
  },
  {
   "cell_type": "code",
   "execution_count": 469,
   "metadata": {},
   "outputs": [],
   "source": [
    "# Remove duplicates\n",
    "event_alg_final = event_alg_final.drop_duplicates(subset='eventID')"
   ]
  },
  {
   "cell_type": "code",
   "execution_count": 470,
   "metadata": {},
   "outputs": [
    {
     "name": "stdout",
     "output_type": "stream",
     "text": [
      "passed\n"
     ]
    }
   ],
   "source": [
    "#QC check to make sure that the number of unique Survey_Nums in alg_cover and in event_alg_final surveys are the same:\n",
    "if len(event_alg_final[event_alg_final['eventType'] == 'survey']) != len(alg_cover.Survey_Num.unique()):\n",
    "    print('failed')\n",
    "else:\n",
    "    print('passed')"
   ]
  },
  {
   "cell_type": "code",
   "execution_count": 471,
   "metadata": {},
   "outputs": [
    {
     "data": {
      "text/html": [
       "<div>\n",
       "<style scoped>\n",
       "    .dataframe tbody tr th:only-of-type {\n",
       "        vertical-align: middle;\n",
       "    }\n",
       "\n",
       "    .dataframe tbody tr th {\n",
       "        vertical-align: top;\n",
       "    }\n",
       "\n",
       "    .dataframe thead th {\n",
       "        text-align: right;\n",
       "    }\n",
       "</style>\n",
       "<table border=\"1\" class=\"dataframe\">\n",
       "  <thead>\n",
       "    <tr style=\"text-align: right;\">\n",
       "      <th></th>\n",
       "      <th>eventID</th>\n",
       "      <th>eventType</th>\n",
       "      <th>parentEventID</th>\n",
       "      <th>eventDate</th>\n",
       "      <th>DFW_short_code</th>\n",
       "      <th>minimumDepthInMeters</th>\n",
       "      <th>maximumDepthInMeters</th>\n",
       "      <th>Lat</th>\n",
       "      <th>Lon</th>\n",
       "      <th>SiteName</th>\n",
       "      <th>ProtectionStatus</th>\n",
       "    </tr>\n",
       "  </thead>\n",
       "  <tbody>\n",
       "    <tr>\n",
       "      <th>0</th>\n",
       "      <td>survey:BR99-01</td>\n",
       "      <td>survey</td>\n",
       "      <td></td>\n",
       "      <td>7/29/1999</td>\n",
       "      <td>BR</td>\n",
       "      <td>39.0</td>\n",
       "      <td>39.0</td>\n",
       "      <td>38.315361</td>\n",
       "      <td>-123.071539</td>\n",
       "      <td>Bodega Marine Life Refuge (BML)</td>\n",
       "      <td>no take MPA</td>\n",
       "    </tr>\n",
       "    <tr>\n",
       "      <th>1</th>\n",
       "      <td>survey:BR99-02</td>\n",
       "      <td>survey</td>\n",
       "      <td></td>\n",
       "      <td>7/29/1999</td>\n",
       "      <td>BR</td>\n",
       "      <td>52.0</td>\n",
       "      <td>52.0</td>\n",
       "      <td>38.315361</td>\n",
       "      <td>-123.071539</td>\n",
       "      <td>Bodega Marine Life Refuge (BML)</td>\n",
       "      <td>no take MPA</td>\n",
       "    </tr>\n",
       "  </tbody>\n",
       "</table>\n",
       "</div>"
      ],
      "text/plain": [
       "          eventID eventType parentEventID  eventDate DFW_short_code  \\\n",
       "0  survey:BR99-01    survey                7/29/1999             BR   \n",
       "1  survey:BR99-02    survey                7/29/1999             BR   \n",
       "\n",
       "  minimumDepthInMeters maximumDepthInMeters        Lat         Lon  \\\n",
       "0                 39.0                 39.0  38.315361 -123.071539   \n",
       "1                 52.0                 52.0  38.315361 -123.071539   \n",
       "\n",
       "                          SiteName ProtectionStatus  \n",
       "0  Bodega Marine Life Refuge (BML)      no take MPA  \n",
       "1  Bodega Marine Life Refuge (BML)      no take MPA  "
      ]
     },
     "execution_count": 471,
     "metadata": {},
     "output_type": "execute_result"
    }
   ],
   "source": [
    "event_alg_final.head(2)"
   ]
  },
  {
   "cell_type": "markdown",
   "metadata": {},
   "source": [
    "**Event Core: substrate cover** <br>\n",
    "This table includes sub-surveys for certain rows, identified as \"L\" or \"R\" transects if they are subsamples, similar to the algae % cover."
   ]
  },
  {
   "cell_type": "code",
   "execution_count": 472,
   "metadata": {},
   "outputs": [],
   "source": [
    "# Define some empty lists \n",
    "event_ids = []\n",
    "types = []\n",
    "parent_event_ids = []\n",
    "dates = []\n",
    "short_codes = []\n",
    "min_depths = []\n",
    "max_depths = []\n",
    "\n",
    "for index, row in sub_cover.iterrows():\n",
    "    # If the row is a subsample:\n",
    "    if row['Subsample'] in ['L', 'R']: \n",
    "        event_id = 'survey:' + str(sub_cover.loc[index, 'Survey_Num']) + '_subsample:' + row['Subsample']\n",
    "        type_name = 'sub-sample'\n",
    "        parent_event_id = 'survey:' + str(sub_cover.loc[index, 'Survey_Num'])\n",
    "        event_date = '' # if we have a subsample, the date will be with the parent\n",
    "        short_code = '' # if we have a subsample, the DFW_short_code will be with the parent\n",
    "        min_depth = '' # if we have a subsample, the minimum depth will be with the parent (the transect-level measurements are not taken at the sub-sample level)\n",
    "        max_depth = '' # if we have a subsample, the maximum depth will be with the parent\n",
    "    # If the row is not a subsample:  \n",
    "    else: \n",
    "        event_id = 'survey:' + str(sub_cover.loc[index, 'Survey_Num'])\n",
    "        type_name = 'survey'\n",
    "        parent_event_id = ''\n",
    "        event_date = sub_cover.loc[index, 'SurveyDate']\n",
    "        short_code = sub_cover.loc[index, 'DFW_short_code']\n",
    "        min_depth = sub_cover.loc[index, 'MinimumDepth']\n",
    "        max_depth = sub_cover.loc[index, 'MaximumDepth']\n",
    "        \n",
    "    # Now add in the correct values into the empty lists\n",
    "    event_ids.append(event_id)\n",
    "    types.append(type_name)\n",
    "    parent_event_ids.append(parent_event_id)\n",
    "    dates.append(event_date)\n",
    "    short_codes.append(short_code)\n",
    "    min_depths.append(min_depth)\n",
    "    max_depths.append(max_depth)"
   ]
  },
  {
   "cell_type": "code",
   "execution_count": 473,
   "metadata": {},
   "outputs": [],
   "source": [
    "# Now make a dataframe with populated fields \n",
    "event_sub = pd.DataFrame()\n",
    "event_sub['eventID'] = event_ids\n",
    "event_sub['eventType'] = types\n",
    "event_sub['parentEventID'] = parent_event_ids\n",
    "event_sub['eventDate'] = dates\n",
    "event_sub['DFW_short_code'] = short_codes\n",
    "event_sub['minimumDepthInMeters'] = min_depths\n",
    "event_sub['maximumDepthInMeters'] = max_depths\n",
    "\n",
    "# Merge with sites table to get event-level information\n",
    "event_sub = pd.merge(event_sub, sites[['DFW_short_code', 'Lat', 'Lon', 'SiteName', 'ProtectionStatus']], on='DFW_short_code', how='left')\n",
    "\n",
    "# remove duplicate rows\n",
    "event_sub = event_sub.drop_duplicates(subset='eventID')\n",
    "\n",
    "# Currently for the sub-samples, the lat, lon, siteName and protectionStatus are NaNs. These should be empty rows ''\n",
    "event_sub.fillna('', inplace=True)"
   ]
  },
  {
   "cell_type": "code",
   "execution_count": 474,
   "metadata": {},
   "outputs": [],
   "source": [
    "# Now I need to make sure that parentIDs are also included for sub-samples. \n",
    "# Make a new DF with event-level information for sub-sample parent IDs, and then append it to the one above. \n",
    "\n",
    "survey_nums = []\n",
    "dfw_codes = []\n",
    "dates = []\n",
    "min_depths = []\n",
    "max_depths = []\n",
    "\n",
    "for index, row in event_sub.iterrows():\n",
    "    if row['eventType'] in ['sub-sample']:\n",
    "        survey_num = event_sub.loc[index, 'parentEventID'].split(':')[-1] # get the parent ID (Survey_Num)\n",
    "        survey_nums.append(survey_num)\n",
    "        \n",
    "        matching_row = sub_cover[sub_cover['Survey_Num'] == survey_num].head(1)\n",
    "\n",
    "        dfw_code = matching_row['DFW_short_code'].values[0]\n",
    "        dfw_codes.append(dfw_code)\n",
    "        \n",
    "        event_date = matching_row['SurveyDate'].values[0]\n",
    "        dates.append(event_date)\n",
    "        \n",
    "        min_depth = matching_row['MinimumDepth'].values[0]\n",
    "        min_depths.append(min_depth)\n",
    "        \n",
    "        max_depth = matching_row['MaximumDepth'].values[0]\n",
    "        max_depths.append(max_depth)\n",
    "\n",
    "# Now make a dataframe with this information, and lastly, concetenate it with the existing event_alg dataframe.\n",
    "event_sub_subs = pd.DataFrame()\n",
    "event_sub_subs['eventID'] = survey_nums\n",
    "event_sub_subs['eventID'] = 'survey:' + event_sub_subs['eventID']\n",
    "event_sub_subs['eventType'] = 'survey'\n",
    "event_sub_subs['parentEventID'] = ''\n",
    "event_sub_subs['eventDate'] = dates\n",
    "event_sub_subs['DFW_short_code'] = dfw_codes\n",
    "event_sub_subs['minimumDepthInMeters'] = min_depths\n",
    "event_sub_subs['maximumDepthInMeters'] = max_depths\n",
    "\n",
    "event_sub_subs = pd.merge(event_sub_subs, sites[['DFW_short_code', 'Lat', 'Lon', 'SiteName', 'ProtectionStatus']], on='DFW_short_code', how='left')\n",
    "\n",
    "# There are duplicates because there are when a transect is subsampled, there are 2 subsamples (L and R).\n",
    "event_sub_subs = event_sub_subs.drop_duplicates(subset='eventID')"
   ]
  },
  {
   "cell_type": "code",
   "execution_count": 475,
   "metadata": {},
   "outputs": [],
   "source": [
    "# Now concatenate both algal cover event tables\n",
    "event_sub_final = pd.concat([event_sub, event_sub_subs])\n",
    "event_sub_final.reset_index(drop=True, inplace=True)"
   ]
  },
  {
   "cell_type": "code",
   "execution_count": 476,
   "metadata": {},
   "outputs": [
    {
     "name": "stdout",
     "output_type": "stream",
     "text": [
      "Duplicate eventID values in event_alg_final:\n",
      "Series([], Name: eventID, dtype: object)\n"
     ]
    }
   ],
   "source": [
    "# There are no duplicate eventIDs in final substrate event table \n",
    "duplicate_eventID = event_sub_final[event_sub_final.duplicated(subset=['eventID'])]\n",
    "\n",
    "print(\"Duplicate eventID values in event_alg_final:\")\n",
    "print(duplicate_eventID['eventID'])"
   ]
  },
  {
   "cell_type": "code",
   "execution_count": 477,
   "metadata": {},
   "outputs": [
    {
     "name": "stdout",
     "output_type": "stream",
     "text": [
      "passed\n"
     ]
    }
   ],
   "source": [
    "#QC check to make sure that the number of unique Survey_Nums in alg_cover and in event_alg_final surveys are the same:\n",
    "if len(event_sub_final[event_sub_final['eventType'] == 'survey']) != len(sub_cover.Survey_Num.unique()):\n",
    "    print('failed')\n",
    "else:\n",
    "    print('passed')"
   ]
  },
  {
   "cell_type": "code",
   "execution_count": 478,
   "metadata": {},
   "outputs": [
    {
     "data": {
      "text/html": [
       "<div>\n",
       "<style scoped>\n",
       "    .dataframe tbody tr th:only-of-type {\n",
       "        vertical-align: middle;\n",
       "    }\n",
       "\n",
       "    .dataframe tbody tr th {\n",
       "        vertical-align: top;\n",
       "    }\n",
       "\n",
       "    .dataframe thead th {\n",
       "        text-align: right;\n",
       "    }\n",
       "</style>\n",
       "<table border=\"1\" class=\"dataframe\">\n",
       "  <thead>\n",
       "    <tr style=\"text-align: right;\">\n",
       "      <th></th>\n",
       "      <th>eventID</th>\n",
       "      <th>eventType</th>\n",
       "      <th>parentEventID</th>\n",
       "      <th>eventDate</th>\n",
       "      <th>DFW_short_code</th>\n",
       "      <th>minimumDepthInMeters</th>\n",
       "      <th>maximumDepthInMeters</th>\n",
       "      <th>Lat</th>\n",
       "      <th>Lon</th>\n",
       "      <th>SiteName</th>\n",
       "      <th>ProtectionStatus</th>\n",
       "    </tr>\n",
       "  </thead>\n",
       "  <tbody>\n",
       "    <tr>\n",
       "      <th>0</th>\n",
       "      <td>survey:BR99-01</td>\n",
       "      <td>survey</td>\n",
       "      <td></td>\n",
       "      <td>7/29/1999</td>\n",
       "      <td>BR</td>\n",
       "      <td>39.0</td>\n",
       "      <td>39.0</td>\n",
       "      <td>38.315361</td>\n",
       "      <td>-123.071539</td>\n",
       "      <td>Bodega Marine Life Refuge (BML)</td>\n",
       "      <td>no take MPA</td>\n",
       "    </tr>\n",
       "    <tr>\n",
       "      <th>1</th>\n",
       "      <td>survey:BR99-02</td>\n",
       "      <td>survey</td>\n",
       "      <td></td>\n",
       "      <td>7/29/1999</td>\n",
       "      <td>BR</td>\n",
       "      <td>52.0</td>\n",
       "      <td>52.0</td>\n",
       "      <td>38.315361</td>\n",
       "      <td>-123.071539</td>\n",
       "      <td>Bodega Marine Life Refuge (BML)</td>\n",
       "      <td>no take MPA</td>\n",
       "    </tr>\n",
       "  </tbody>\n",
       "</table>\n",
       "</div>"
      ],
      "text/plain": [
       "          eventID eventType parentEventID  eventDate DFW_short_code  \\\n",
       "0  survey:BR99-01    survey                7/29/1999             BR   \n",
       "1  survey:BR99-02    survey                7/29/1999             BR   \n",
       "\n",
       "  minimumDepthInMeters maximumDepthInMeters        Lat         Lon  \\\n",
       "0                 39.0                 39.0  38.315361 -123.071539   \n",
       "1                 52.0                 52.0  38.315361 -123.071539   \n",
       "\n",
       "                          SiteName ProtectionStatus  \n",
       "0  Bodega Marine Life Refuge (BML)      no take MPA  \n",
       "1  Bodega Marine Life Refuge (BML)      no take MPA  "
      ]
     },
     "execution_count": 478,
     "metadata": {},
     "output_type": "execute_result"
    }
   ],
   "source": [
    "event_sub_final.head(2)"
   ]
  },
  {
   "cell_type": "markdown",
   "metadata": {},
   "source": [
    "**Concatenate event cores from each data table into a single table**"
   ]
  },
  {
   "cell_type": "code",
   "execution_count": 479,
   "metadata": {},
   "outputs": [],
   "source": [
    "events_concat = pd.concat([event_sizes, event_counts, event_alg_final, event_sub_final], ignore_index=True)\n",
    "\n",
    "event = events_concat.drop_duplicates(subset='eventID')"
   ]
  },
  {
   "cell_type": "code",
   "execution_count": 480,
   "metadata": {},
   "outputs": [
    {
     "data": {
      "text/plain": [
       "(4097, 11)"
      ]
     },
     "execution_count": 480,
     "metadata": {},
     "output_type": "execute_result"
    }
   ],
   "source": [
    "np.shape(event)"
   ]
  },
  {
   "cell_type": "code",
   "execution_count": 481,
   "metadata": {},
   "outputs": [
    {
     "name": "stderr",
     "output_type": "stream",
     "text": [
      "/tmp/ipykernel_11/706232930.py:2: SettingWithCopyWarning: \n",
      "A value is trying to be set on a copy of a slice from a DataFrame\n",
      "\n",
      "See the caveats in the documentation: https://pandas.pydata.org/pandas-docs/stable/user_guide/indexing.html#returning-a-view-versus-a-copy\n",
      "  event.loc[(event['ProtectionStatus'] == 'non-MPA'), 'ProtectionStatus'] = 'This site is not in a Marine Protected Area'\n",
      "/tmp/ipykernel_11/706232930.py:3: SettingWithCopyWarning: \n",
      "A value is trying to be set on a copy of a slice from a DataFrame\n",
      "\n",
      "See the caveats in the documentation: https://pandas.pydata.org/pandas-docs/stable/user_guide/indexing.html#returning-a-view-versus-a-copy\n",
      "  event.loc[(event['ProtectionStatus'] == 'no take MPA'), 'ProtectionStatus'] = 'This site is in a no-take Marine Protected Area'\n",
      "/tmp/ipykernel_11/706232930.py:4: SettingWithCopyWarning: \n",
      "A value is trying to be set on a copy of a slice from a DataFrame\n",
      "\n",
      "See the caveats in the documentation: https://pandas.pydata.org/pandas-docs/stable/user_guide/indexing.html#returning-a-view-versus-a-copy\n",
      "  event.loc[(event['ProtectionStatus'] == 'no commercial red sea urchin fishing'), 'ProtectionStatus'] = 'This site is located in an area that prohibits commercial red sea urchin fishing'\n",
      "/tmp/ipykernel_11/706232930.py:5: SettingWithCopyWarning: \n",
      "A value is trying to be set on a copy of a slice from a DataFrame\n",
      "\n",
      "See the caveats in the documentation: https://pandas.pydata.org/pandas-docs/stable/user_guide/indexing.html#returning-a-view-versus-a-copy\n",
      "  event.loc[(event['ProtectionStatus'] == 'no recreational abalone fishing after 2014'), 'ProtectionStatus'] = 'This site is located in an area that prohibited abalone fishing after 2014'\n"
     ]
    }
   ],
   "source": [
    "# locationRemarks\n",
    "event.loc[(event['ProtectionStatus'] == 'non-MPA'), 'ProtectionStatus'] = 'This site is not in a Marine Protected Area'\n",
    "event.loc[(event['ProtectionStatus'] == 'no take MPA'), 'ProtectionStatus'] = 'This site is in a no-take Marine Protected Area'\n",
    "event.loc[(event['ProtectionStatus'] == 'no commercial red sea urchin fishing'), 'ProtectionStatus'] = 'This site is located in an area that prohibits commercial red sea urchin fishing'\n",
    "event.loc[(event['ProtectionStatus'] == 'no recreational abalone fishing after 2014'), 'ProtectionStatus'] = 'This site is located in an area that prohibited abalone fishing after 2014'"
   ]
  },
  {
   "cell_type": "code",
   "execution_count": 482,
   "metadata": {},
   "outputs": [
    {
     "name": "stderr",
     "output_type": "stream",
     "text": [
      "/tmp/ipykernel_11/3827239244.py:2: SettingWithCopyWarning: \n",
      "A value is trying to be set on a copy of a slice from a DataFrame\n",
      "\n",
      "See the caveats in the documentation: https://pandas.pydata.org/pandas-docs/stable/user_guide/indexing.html#returning-a-view-versus-a-copy\n",
      "  event.rename(columns = {'ProtectionStatus':'locationRemarks'}, inplace=True)\n"
     ]
    },
    {
     "data": {
      "text/html": [
       "<div>\n",
       "<style scoped>\n",
       "    .dataframe tbody tr th:only-of-type {\n",
       "        vertical-align: middle;\n",
       "    }\n",
       "\n",
       "    .dataframe tbody tr th {\n",
       "        vertical-align: top;\n",
       "    }\n",
       "\n",
       "    .dataframe thead th {\n",
       "        text-align: right;\n",
       "    }\n",
       "</style>\n",
       "<table border=\"1\" class=\"dataframe\">\n",
       "  <thead>\n",
       "    <tr style=\"text-align: right;\">\n",
       "      <th></th>\n",
       "      <th>eventID</th>\n",
       "      <th>eventType</th>\n",
       "      <th>parentEventID</th>\n",
       "      <th>eventDate</th>\n",
       "      <th>DFW_short_code</th>\n",
       "      <th>minimumDepthInMeters</th>\n",
       "      <th>maximumDepthInMeters</th>\n",
       "      <th>Lat</th>\n",
       "      <th>Lon</th>\n",
       "      <th>SiteName</th>\n",
       "      <th>locationRemarks</th>\n",
       "    </tr>\n",
       "  </thead>\n",
       "  <tbody>\n",
       "    <tr>\n",
       "      <th>0</th>\n",
       "      <td>survey:ALB18-A1-1</td>\n",
       "      <td>survey</td>\n",
       "      <td></td>\n",
       "      <td>8/30/2018</td>\n",
       "      <td>ALB</td>\n",
       "      <td>12.0</td>\n",
       "      <td>16.0</td>\n",
       "      <td>39.228024</td>\n",
       "      <td>-123.773516</td>\n",
       "      <td>Albion Bay</td>\n",
       "      <td>This site is not in a Marine Protected Area</td>\n",
       "    </tr>\n",
       "    <tr>\n",
       "      <th>1</th>\n",
       "      <td>survey:ALB18-A1-2</td>\n",
       "      <td>survey</td>\n",
       "      <td></td>\n",
       "      <td>8/30/2018</td>\n",
       "      <td>ALB</td>\n",
       "      <td>8.0</td>\n",
       "      <td>8.0</td>\n",
       "      <td>39.228024</td>\n",
       "      <td>-123.773516</td>\n",
       "      <td>Albion Bay</td>\n",
       "      <td>This site is not in a Marine Protected Area</td>\n",
       "    </tr>\n",
       "  </tbody>\n",
       "</table>\n",
       "</div>"
      ],
      "text/plain": [
       "             eventID eventType parentEventID  eventDate DFW_short_code  \\\n",
       "0  survey:ALB18-A1-1    survey                8/30/2018            ALB   \n",
       "1  survey:ALB18-A1-2    survey                8/30/2018            ALB   \n",
       "\n",
       "  minimumDepthInMeters maximumDepthInMeters        Lat         Lon  \\\n",
       "0                 12.0                 16.0  39.228024 -123.773516   \n",
       "1                  8.0                  8.0  39.228024 -123.773516   \n",
       "\n",
       "     SiteName                              locationRemarks  \n",
       "0  Albion Bay  This site is not in a Marine Protected Area  \n",
       "1  Albion Bay  This site is not in a Marine Protected Area  "
      ]
     },
     "execution_count": 482,
     "metadata": {},
     "output_type": "execute_result"
    }
   ],
   "source": [
    "# locationRemarks\n",
    "event.rename(columns = {'ProtectionStatus':'locationRemarks'}, inplace=True)\n",
    "event.head(2)"
   ]
  },
  {
   "cell_type": "code",
   "execution_count": 483,
   "metadata": {},
   "outputs": [
    {
     "name": "stdout",
     "output_type": "stream",
     "text": [
      "number of unique transects in concatenated event table =  3174\n",
      "number of unique transects from all data tables = 3174\n"
     ]
    }
   ],
   "source": [
    "# QC test here to make sure that the number of unique eventIDs match the number of unique survey_num values across all tables\n",
    "\n",
    "print('number of unique transects in concatenated event table = ', len(events_concat[events_concat['eventType'] == 'survey']['eventID'].unique()))\n",
    "\n",
    "all_surveys = np.concatenate([\n",
    "    np.array(counts.SurveyNum.unique()), \n",
    "    np.array(sizes.Survey_Num.unique()),\n",
    "    np.array(alg_cover.Survey_Num.unique()),\n",
    "    np.array(sub_cover.Survey_Num.unique())\n",
    "])\n",
    "\n",
    "print('number of unique transects from all data tables =', len(np.unique(all_surveys)))"
   ]
  },
  {
   "cell_type": "code",
   "execution_count": 484,
   "metadata": {},
   "outputs": [
    {
     "name": "stderr",
     "output_type": "stream",
     "text": [
      "/tmp/ipykernel_11/2798431912.py:4: SettingWithCopyWarning: \n",
      "A value is trying to be set on a copy of a slice from a DataFrame.\n",
      "Try using .loc[row_indexer,col_indexer] = value instead\n",
      "\n",
      "See the caveats in the documentation: https://pandas.pydata.org/pandas-docs/stable/user_guide/indexing.html#returning-a-view-versus-a-copy\n",
      "  event['stateProvince'] = 'California'\n",
      "/tmp/ipykernel_11/2798431912.py:6: SettingWithCopyWarning: \n",
      "A value is trying to be set on a copy of a slice from a DataFrame.\n",
      "Try using .loc[row_indexer,col_indexer] = value instead\n",
      "\n",
      "See the caveats in the documentation: https://pandas.pydata.org/pandas-docs/stable/user_guide/indexing.html#returning-a-view-versus-a-copy\n",
      "  event['countryCode'] = 'US'\n",
      "/tmp/ipykernel_11/2798431912.py:8: SettingWithCopyWarning: \n",
      "A value is trying to be set on a copy of a slice from a DataFrame.\n",
      "Try using .loc[row_indexer,col_indexer] = value instead\n",
      "\n",
      "See the caveats in the documentation: https://pandas.pydata.org/pandas-docs/stable/user_guide/indexing.html#returning-a-view-versus-a-copy\n",
      "  event['geodeticDatum'] = 'WGS84'\n"
     ]
    }
   ],
   "source": [
    "## Add a few other important Darwin Core Terms. The pandas warning messages can be ignored\n",
    "\n",
    "# stateProvince\n",
    "event['stateProvince'] = 'California'\n",
    "# countryCode\n",
    "event['countryCode'] = 'US'\n",
    "# geodeticDatum \n",
    "event['geodeticDatum'] = 'WGS84' "
   ]
  },
  {
   "cell_type": "code",
   "execution_count": 485,
   "metadata": {},
   "outputs": [],
   "source": [
    "# reset index \n",
    "event.reset_index(drop=True, inplace=True)"
   ]
  },
  {
   "cell_type": "code",
   "execution_count": 486,
   "metadata": {},
   "outputs": [
    {
     "data": {
      "text/html": [
       "<div>\n",
       "<style scoped>\n",
       "    .dataframe tbody tr th:only-of-type {\n",
       "        vertical-align: middle;\n",
       "    }\n",
       "\n",
       "    .dataframe tbody tr th {\n",
       "        vertical-align: top;\n",
       "    }\n",
       "\n",
       "    .dataframe thead th {\n",
       "        text-align: right;\n",
       "    }\n",
       "</style>\n",
       "<table border=\"1\" class=\"dataframe\">\n",
       "  <thead>\n",
       "    <tr style=\"text-align: right;\">\n",
       "      <th></th>\n",
       "      <th>eventID</th>\n",
       "      <th>eventType</th>\n",
       "      <th>parentEventID</th>\n",
       "      <th>eventDate</th>\n",
       "      <th>DFW_short_code</th>\n",
       "      <th>minimumDepthInMeters</th>\n",
       "      <th>maximumDepthInMeters</th>\n",
       "      <th>Lat</th>\n",
       "      <th>Lon</th>\n",
       "      <th>SiteName</th>\n",
       "      <th>locationRemarks</th>\n",
       "      <th>stateProvince</th>\n",
       "      <th>countryCode</th>\n",
       "      <th>geodeticDatum</th>\n",
       "    </tr>\n",
       "  </thead>\n",
       "  <tbody>\n",
       "    <tr>\n",
       "      <th>0</th>\n",
       "      <td>survey:ALB18-A1-1</td>\n",
       "      <td>survey</td>\n",
       "      <td></td>\n",
       "      <td>8/30/2018</td>\n",
       "      <td>ALB</td>\n",
       "      <td>12.0</td>\n",
       "      <td>16.0</td>\n",
       "      <td>39.228024</td>\n",
       "      <td>-123.773516</td>\n",
       "      <td>Albion Bay</td>\n",
       "      <td>This site is not in a Marine Protected Area</td>\n",
       "      <td>California</td>\n",
       "      <td>US</td>\n",
       "      <td>WGS84</td>\n",
       "    </tr>\n",
       "    <tr>\n",
       "      <th>1</th>\n",
       "      <td>survey:ALB18-A1-2</td>\n",
       "      <td>survey</td>\n",
       "      <td></td>\n",
       "      <td>8/30/2018</td>\n",
       "      <td>ALB</td>\n",
       "      <td>8.0</td>\n",
       "      <td>8.0</td>\n",
       "      <td>39.228024</td>\n",
       "      <td>-123.773516</td>\n",
       "      <td>Albion Bay</td>\n",
       "      <td>This site is not in a Marine Protected Area</td>\n",
       "      <td>California</td>\n",
       "      <td>US</td>\n",
       "      <td>WGS84</td>\n",
       "    </tr>\n",
       "  </tbody>\n",
       "</table>\n",
       "</div>"
      ],
      "text/plain": [
       "             eventID eventType parentEventID  eventDate DFW_short_code  \\\n",
       "0  survey:ALB18-A1-1    survey                8/30/2018            ALB   \n",
       "1  survey:ALB18-A1-2    survey                8/30/2018            ALB   \n",
       "\n",
       "  minimumDepthInMeters maximumDepthInMeters        Lat         Lon  \\\n",
       "0                 12.0                 16.0  39.228024 -123.773516   \n",
       "1                  8.0                  8.0  39.228024 -123.773516   \n",
       "\n",
       "     SiteName                              locationRemarks stateProvince  \\\n",
       "0  Albion Bay  This site is not in a Marine Protected Area    California   \n",
       "1  Albion Bay  This site is not in a Marine Protected Area    California   \n",
       "\n",
       "  countryCode geodeticDatum  \n",
       "0          US         WGS84  \n",
       "1          US         WGS84  "
      ]
     },
     "execution_count": 486,
     "metadata": {},
     "output_type": "execute_result"
    }
   ],
   "source": [
    "event.head(2)"
   ]
  },
  {
   "cell_type": "markdown",
   "metadata": {},
   "source": [
    "**Convert time to ISO standard**"
   ]
  },
  {
   "cell_type": "code",
   "execution_count": 487,
   "metadata": {},
   "outputs": [],
   "source": [
    "for index, row in event.iterrows():\n",
    "    if row['eventDate'] != '':\n",
    "        event_date = pd.to_datetime(row['eventDate'], format=\"%m/%d/%Y\")\n",
    "        event_date = event_date.date()\n",
    "        event.at[index, 'eventDate'] = event_date"
   ]
  },
  {
   "cell_type": "code",
   "execution_count": 488,
   "metadata": {},
   "outputs": [
    {
     "data": {
      "text/plain": [
       "0    2018-08-30\n",
       "1    2018-08-30\n",
       "2    2018-08-20\n",
       "3    2018-08-30\n",
       "4    2018-08-30\n",
       "Name: eventDate, dtype: object"
      ]
     },
     "execution_count": 488,
     "metadata": {},
     "output_type": "execute_result"
    }
   ],
   "source": [
    "event['eventDate'].head()"
   ]
  },
  {
   "cell_type": "markdown",
   "metadata": {},
   "source": [
    "**Rename several columns to match Darwin Core terms**"
   ]
  },
  {
   "cell_type": "code",
   "execution_count": 489,
   "metadata": {
    "scrolled": true
   },
   "outputs": [
    {
     "name": "stderr",
     "output_type": "stream",
     "text": [
      "/tmp/ipykernel_11/3531654147.py:1: SettingWithCopyWarning: \n",
      "A value is trying to be set on a copy of a slice from a DataFrame\n",
      "\n",
      "See the caveats in the documentation: https://pandas.pydata.org/pandas-docs/stable/user_guide/indexing.html#returning-a-view-versus-a-copy\n",
      "  event.rename(columns={\n",
      "/tmp/ipykernel_11/3531654147.py:7: SettingWithCopyWarning: \n",
      "A value is trying to be set on a copy of a slice from a DataFrame\n",
      "\n",
      "See the caveats in the documentation: https://pandas.pydata.org/pandas-docs/stable/user_guide/indexing.html#returning-a-view-versus-a-copy\n",
      "  event.drop(columns = ['DFW_short_code'], inplace=True)\n"
     ]
    }
   ],
   "source": [
    "event.rename(columns={\n",
    "            'Lat':'decimalLatitude',\n",
    "            'Lon':'decimalLongitude',\n",
    "            'SiteName':'locality'\n",
    "                     }, inplace=True)\n",
    "\n",
    "event.drop(columns = ['DFW_short_code'], inplace=True)"
   ]
  },
  {
   "cell_type": "code",
   "execution_count": 490,
   "metadata": {},
   "outputs": [
    {
     "name": "stderr",
     "output_type": "stream",
     "text": [
      "/tmp/ipykernel_11/1631817208.py:3: SettingWithCopyWarning: \n",
      "A value is trying to be set on a copy of a slice from a DataFrame.\n",
      "Try using .loc[row_indexer,col_indexer] = value instead\n",
      "\n",
      "See the caveats in the documentation: https://pandas.pydata.org/pandas-docs/stable/user_guide/indexing.html#returning-a-view-versus-a-copy\n",
      "  event['samplingProtocol'] = ''\n"
     ]
    }
   ],
   "source": [
    "# Include the samplingProtocol term for left/right sub-samples or for full surveys:\n",
    "\n",
    "event['samplingProtocol'] = ''\n",
    "\n",
    "event.loc[(event['eventType'] == 'survey'), 'samplingProtocol'] = 'Scuba diving surveys are conducted along transects measuring 30 x 2m. Data collected on the transects include depth of transect, number, size and species of abalone and urchins, number of associated species and predators, substrate percent cover, and algal type percent cover.'\n",
    "\n",
    "event.loc[event['eventID'].str.contains('subsample:R'), 'samplingProtocol'] = 'Scuba diving surveys are conducted along transects measuring 30 x 2m. This event contains just the right side of the transect (30 x 1m). Data collected on these sub-sampled transects include substrate percent cover and algal type percent cover.'\n",
    "\n",
    "event.loc[event['eventID'].str.contains('subsample:L'), 'samplingProtocol'] = 'Scuba diving surveys are conducted along transects measuring 30 x 2m. This event contains just the left side of the transect (30 x 1m). Data collected on these sub-sampled transects include substrate percent cover and algal type percent cover.'"
   ]
  },
  {
   "cell_type": "code",
   "execution_count": 491,
   "metadata": {},
   "outputs": [
    {
     "data": {
      "text/plain": [
       "((4097, 14), 4097)"
      ]
     },
     "execution_count": 491,
     "metadata": {},
     "output_type": "execute_result"
    }
   ],
   "source": [
    "# make sure eventIDs are all unique\n",
    "np.shape(event), len(event['eventID'].unique())"
   ]
  },
  {
   "cell_type": "code",
   "execution_count": 492,
   "metadata": {},
   "outputs": [
    {
     "name": "stderr",
     "output_type": "stream",
     "text": [
      "/tmp/ipykernel_11/3709229603.py:2: SettingWithCopyWarning: \n",
      "A value is trying to be set on a copy of a slice from a DataFrame\n",
      "\n",
      "See the caveats in the documentation: https://pandas.pydata.org/pandas-docs/stable/user_guide/indexing.html#returning-a-view-versus-a-copy\n",
      "  event.sort_values(by=['eventDate', 'eventID'], inplace=True)\n"
     ]
    }
   ],
   "source": [
    "# Sort the event table by date, and then by eventID to make it more tidy\n",
    "event.sort_values(by=['eventDate', 'eventID'], inplace=True)"
   ]
  },
  {
   "cell_type": "code",
   "execution_count": 493,
   "metadata": {},
   "outputs": [],
   "source": [
    "# Reset Index\n",
    "event.reset_index(inplace=True, drop=True)"
   ]
  },
  {
   "cell_type": "code",
   "execution_count": 494,
   "metadata": {},
   "outputs": [
    {
     "data": {
      "text/html": [
       "<div>\n",
       "<style scoped>\n",
       "    .dataframe tbody tr th:only-of-type {\n",
       "        vertical-align: middle;\n",
       "    }\n",
       "\n",
       "    .dataframe tbody tr th {\n",
       "        vertical-align: top;\n",
       "    }\n",
       "\n",
       "    .dataframe thead th {\n",
       "        text-align: right;\n",
       "    }\n",
       "</style>\n",
       "<table border=\"1\" class=\"dataframe\">\n",
       "  <thead>\n",
       "    <tr style=\"text-align: right;\">\n",
       "      <th></th>\n",
       "      <th>eventID</th>\n",
       "      <th>eventType</th>\n",
       "      <th>parentEventID</th>\n",
       "      <th>eventDate</th>\n",
       "      <th>minimumDepthInMeters</th>\n",
       "      <th>maximumDepthInMeters</th>\n",
       "      <th>decimalLatitude</th>\n",
       "      <th>decimalLongitude</th>\n",
       "      <th>locality</th>\n",
       "      <th>locationRemarks</th>\n",
       "      <th>stateProvince</th>\n",
       "      <th>countryCode</th>\n",
       "      <th>geodeticDatum</th>\n",
       "      <th>samplingProtocol</th>\n",
       "    </tr>\n",
       "  </thead>\n",
       "  <tbody>\n",
       "    <tr>\n",
       "      <th>0</th>\n",
       "      <td>survey:PA71C-06</td>\n",
       "      <td>survey</td>\n",
       "      <td></td>\n",
       "      <td>1971-09-01</td>\n",
       "      <td>15.2</td>\n",
       "      <td>16.8</td>\n",
       "      <td>38.914356</td>\n",
       "      <td>-123.719536</td>\n",
       "      <td>Point Arena</td>\n",
       "      <td>This site is not in a Marine Protected Area</td>\n",
       "      <td>California</td>\n",
       "      <td>US</td>\n",
       "      <td>WGS84</td>\n",
       "      <td>Scuba diving surveys are conducted along trans...</td>\n",
       "    </tr>\n",
       "    <tr>\n",
       "      <th>1</th>\n",
       "      <td>survey:PA71C-07</td>\n",
       "      <td>survey</td>\n",
       "      <td></td>\n",
       "      <td>1971-09-01</td>\n",
       "      <td>4.6</td>\n",
       "      <td>7.6</td>\n",
       "      <td>38.914356</td>\n",
       "      <td>-123.719536</td>\n",
       "      <td>Point Arena</td>\n",
       "      <td>This site is not in a Marine Protected Area</td>\n",
       "      <td>California</td>\n",
       "      <td>US</td>\n",
       "      <td>WGS84</td>\n",
       "      <td>Scuba diving surveys are conducted along trans...</td>\n",
       "    </tr>\n",
       "  </tbody>\n",
       "</table>\n",
       "</div>"
      ],
      "text/plain": [
       "           eventID eventType parentEventID   eventDate minimumDepthInMeters  \\\n",
       "0  survey:PA71C-06    survey                1971-09-01                 15.2   \n",
       "1  survey:PA71C-07    survey                1971-09-01                  4.6   \n",
       "\n",
       "  maximumDepthInMeters decimalLatitude decimalLongitude     locality  \\\n",
       "0                 16.8       38.914356      -123.719536  Point Arena   \n",
       "1                  7.6       38.914356      -123.719536  Point Arena   \n",
       "\n",
       "                               locationRemarks stateProvince countryCode  \\\n",
       "0  This site is not in a Marine Protected Area    California          US   \n",
       "1  This site is not in a Marine Protected Area    California          US   \n",
       "\n",
       "  geodeticDatum                                   samplingProtocol  \n",
       "0         WGS84  Scuba diving surveys are conducted along trans...  \n",
       "1         WGS84  Scuba diving surveys are conducted along trans...  "
      ]
     },
     "execution_count": 494,
     "metadata": {},
     "output_type": "execute_result"
    }
   ],
   "source": [
    "event.head(2)"
   ]
  },
  {
   "cell_type": "markdown",
   "metadata": {},
   "source": [
    "## Occurrence table"
   ]
  },
  {
   "cell_type": "markdown",
   "metadata": {},
   "source": [
    "The occurrence table contains information from the counts table, including: \n",
    "- organism counts for each survey corresponding to WoRMS IDs\n",
    "- vitality information (dead vs alive)"
   ]
  },
  {
   "cell_type": "code",
   "execution_count": 495,
   "metadata": {},
   "outputs": [
    {
     "name": "stdout",
     "output_type": "stream",
     "text": [
      "There are 0 transects where size was measured, but species was not counted.\n",
      "True\n"
     ]
    }
   ],
   "source": [
    "# QC test: Get # of events that are in the sizes table but not in the counts table\n",
    "sizes_not_in_counts = [value for value in sizes['Survey_Num'].unique() if value not in counts['SurveyNum'].unique()]\n",
    "print('There are', len(sizes_not_in_counts), 'transects where size was measured, but species was not counted.')\n",
    "\n",
    "# Another test (redundant) to make sure all of the survey_nums in the sizes table are in the counts table. \n",
    "sizes_in_counts = [value for value in counts['SurveyNum'].unique() if value in sizes['Survey_Num'].unique()]\n",
    "print(sizes['Survey_Num'].isin(counts['SurveyNum']).all())"
   ]
  },
  {
   "cell_type": "code",
   "execution_count": 496,
   "metadata": {},
   "outputs": [],
   "source": [
    "# Make new dataframe\n",
    "occ = pd.DataFrame()\n",
    "\n",
    "# Pull eventIDs from counts table\n",
    "occ['eventID'] = 'survey:' + counts['SurveyNum']\n",
    "\n",
    "# Pull speciesID from counts table\n",
    "occ['SpeciesID'] = counts['SpeciesID']\n",
    "\n",
    "# Pull individualCount from counts table\n",
    "occ['individualCount'] = counts['Count']#.astype('Int64')\n",
    "\n",
    "# Pull occurrenceStatus from counts table\n",
    "occ['occurrenceStatus'] = counts['Presence']"
   ]
  },
  {
   "cell_type": "code",
   "execution_count": 497,
   "metadata": {},
   "outputs": [
    {
     "data": {
      "text/html": [
       "<div>\n",
       "<style scoped>\n",
       "    .dataframe tbody tr th:only-of-type {\n",
       "        vertical-align: middle;\n",
       "    }\n",
       "\n",
       "    .dataframe tbody tr th {\n",
       "        vertical-align: top;\n",
       "    }\n",
       "\n",
       "    .dataframe thead th {\n",
       "        text-align: right;\n",
       "    }\n",
       "</style>\n",
       "<table border=\"1\" class=\"dataframe\">\n",
       "  <thead>\n",
       "    <tr style=\"text-align: right;\">\n",
       "      <th></th>\n",
       "      <th>eventID</th>\n",
       "      <th>SpeciesID</th>\n",
       "      <th>individualCount</th>\n",
       "      <th>occurrenceStatus</th>\n",
       "    </tr>\n",
       "  </thead>\n",
       "  <tbody>\n",
       "    <tr>\n",
       "      <th>0</th>\n",
       "      <td>survey:ALB18-A1-3</td>\n",
       "      <td>A1</td>\n",
       "      <td>4.0</td>\n",
       "      <td>present</td>\n",
       "    </tr>\n",
       "    <tr>\n",
       "      <th>1</th>\n",
       "      <td>survey:ALB18-A1-3</td>\n",
       "      <td>DA12</td>\n",
       "      <td>0.0</td>\n",
       "      <td>absent</td>\n",
       "    </tr>\n",
       "  </tbody>\n",
       "</table>\n",
       "</div>"
      ],
      "text/plain": [
       "             eventID SpeciesID  individualCount occurrenceStatus\n",
       "0  survey:ALB18-A1-3        A1              4.0          present\n",
       "1  survey:ALB18-A1-3      DA12              0.0           absent"
      ]
     },
     "execution_count": 497,
     "metadata": {},
     "output_type": "execute_result"
    }
   ],
   "source": [
    "occ.head(2)"
   ]
  },
  {
   "cell_type": "code",
   "execution_count": 498,
   "metadata": {},
   "outputs": [],
   "source": [
    "# For the EMOF table, I'll need a common identifier to map the species observed in a transect with the sizes information.\n",
    "occ['events_species_ID'] = 'event_' + occ['eventID'].astype(str) +'_sp_' + occ['SpeciesID'].astype(str)"
   ]
  },
  {
   "cell_type": "code",
   "execution_count": 499,
   "metadata": {},
   "outputs": [],
   "source": [
    "# merge occ with species table to get QC'ed WoRMS information\n",
    "occ = pd.merge(occ, species[['SpeciesID', \n",
    "                       'new_scientificName',\n",
    "                       'CommonName',\n",
    "                       'new_kingdom',\n",
    "                       'new_phylum',\n",
    "                       'new_class',\n",
    "                       'new_order',\n",
    "                       'new_family',\n",
    "                       'new_genus',\n",
    "                       'new_rank',\n",
    "                       'new_scientificNameID']], on='SpeciesID', how='left')"
   ]
  },
  {
   "cell_type": "code",
   "execution_count": 500,
   "metadata": {},
   "outputs": [],
   "source": [
    "# reformat scientificNameID\n",
    "occ['scientificNameID'] = 'urn:lsid:marinespecies.org:taxname:' + occ['new_scientificNameID'].astype(int).astype(str)"
   ]
  },
  {
   "cell_type": "code",
   "execution_count": 501,
   "metadata": {},
   "outputs": [],
   "source": [
    "# rename columns to align with DwC terms\n",
    "occ.rename(columns={\n",
    "            'new_scientificName':'scientificName',\n",
    "            'new_kingdom':'kingdom',\n",
    "            'new_phylum':'phylum',\n",
    "            'new_class':'class',\n",
    "            'new_order':'order',\n",
    "            'new_family':'family',\n",
    "            'new_genus':'genus',\n",
    "            'new_rank':'taxonRank',\n",
    "            'CommonName':'vernacularName'\n",
    "                     }, inplace=True)"
   ]
  },
  {
   "cell_type": "code",
   "execution_count": 502,
   "metadata": {},
   "outputs": [],
   "source": [
    "# Drop unnecessary columns\n",
    "occ.drop(columns = ['SpeciesID', 'new_scientificNameID'], inplace=True)"
   ]
  },
  {
   "cell_type": "code",
   "execution_count": 503,
   "metadata": {},
   "outputs": [
    {
     "name": "stdout",
     "output_type": "stream",
     "text": [
      "All unique eventIDs from the occurrence table are present in the events table.\n"
     ]
    }
   ],
   "source": [
    "# Another test here to make sure that all of the eventIDs in the occurrence table are present in the event table. \n",
    "\n",
    "# Extract unique event IDs from the first table\n",
    "unique_eventIDs_occ = set(occ['eventID'].unique())\n",
    "\n",
    "# Extract unique event IDs from the second table\n",
    "unique_eventIDs_event = set(event['eventID'].unique())\n",
    "\n",
    "# Check if all event IDs from the first table are present in the second table\n",
    "if unique_eventIDs_occ.issubset(unique_eventIDs_event):\n",
    "    print(\"All unique eventIDs from the occurrence table are present in the events table.\")\n",
    "else:\n",
    "    print(\"QC test failed\")"
   ]
  },
  {
   "cell_type": "code",
   "execution_count": 504,
   "metadata": {},
   "outputs": [],
   "source": [
    "# Add a few other terms\n",
    "occ['datasetName'] = 'Bull Kelp Forest Ecosystem Monitoring Database, Northern California'\n",
    "occ['basisOfRecord'] = 'HumanObservation'"
   ]
  },
  {
   "cell_type": "markdown",
   "metadata": {},
   "source": [
    "**Add vitality column to specify dead organisms** <br>\n",
    "There are a number of speciesIDs associated with dead organisms, which we can specify using the 'vitality' DwC term. Note that the speciesIDs with dead organisms associated with them are recent (past 2010) so it doesn't make sense to make the assumption that all other observations were of living organisms. All that to say, I'll only specify 'dead' but not 'alive'. <br><br>\n",
    "I am going to define dead species as those with the word \"Dead\" or \"Empty\" in their Common Name"
   ]
  },
  {
   "cell_type": "code",
   "execution_count": 505,
   "metadata": {
    "scrolled": false
   },
   "outputs": [
    {
     "data": {
      "text/plain": [
       "array(['Dead Red Abalone', 'Dead Red Abalone (with meat)',\n",
       "       'Dead Kelp Crab', 'Dead Gumboot Chiton', 'Dead Pisaster species',\n",
       "       'Dead Solaster species', 'Dead Leather Star', 'Dead Bat Star',\n",
       "       'Dead Rainbow Star', 'Dead Sunflower Star', 'Dead Red Urchin',\n",
       "       'Dead Purple Urchin', 'Dead Sea Cucumber',\n",
       "       'Empty Red Abalone Shell', 'Empty Flat Abalone Shell',\n",
       "       'Empty Pinto Abalone Shell', 'Empty Purple Urchin Test'],\n",
       "      dtype=object)"
      ]
     },
     "execution_count": 505,
     "metadata": {},
     "output_type": "execute_result"
    }
   ],
   "source": [
    "dead_sp = species[species['CommonName'].str.contains('Dead|Empty')].CommonName.unique()\n",
    "dead_sp"
   ]
  },
  {
   "cell_type": "code",
   "execution_count": 506,
   "metadata": {},
   "outputs": [],
   "source": [
    "occ['vitality'] = ''\n",
    "occ.loc[occ['vernacularName'].isin(dead_sp), 'vitality'] = 'dead'"
   ]
  },
  {
   "cell_type": "code",
   "execution_count": 507,
   "metadata": {},
   "outputs": [
    {
     "name": "stdout",
     "output_type": "stream",
     "text": [
      "Number of dead occurrences: 1709\n",
      "Number of total occurrences: 26031\n"
     ]
    }
   ],
   "source": [
    "print('Number of dead occurrences:',len(occ[occ['vitality'] == 'dead']))\n",
    "print('Number of total occurrences:',len(occ))"
   ]
  },
  {
   "cell_type": "markdown",
   "metadata": {},
   "source": [
    "**Aligning vernacular names** <br>\n",
    "Some of the common names need to be cleaned - the pyworms response doesn't provide the vernacularName, but since there aren't too many that need to be cleaned up, it's managable to manually handle. The main ones to change are the dead/dying ones, and some that have descriptive test, e.g. \"with meat\" or \"general\"."
   ]
  },
  {
   "cell_type": "code",
   "execution_count": 508,
   "metadata": {},
   "outputs": [],
   "source": [
    "occ.loc[occ['vernacularName'] == 'Decorator crab (general)', 'vernacularName'] = 'Decorator crab'\n",
    "occ.loc[occ['vernacularName'] == 'Dead Red Abalone', 'vernacularName'] = 'Red Abalone'\n",
    "occ.loc[occ['vernacularName'] == 'Dying Red Abalone', 'vernacularName'] = 'Red Abalone'\n",
    "occ.loc[occ['vernacularName'] == 'Dead Red Abalone (with meat)', 'vernacularName'] = 'Red Abalone'\n",
    "occ.loc[occ['vernacularName'] == 'Dead Kelp Crab', 'vernacularName'] = 'Kelp Crab'\n",
    "occ.loc[occ['vernacularName'] == 'Dead Gumboot Chiton', 'vernacularName'] = 'Gumboot Chiton'\n",
    "occ.loc[occ['vernacularName'] == 'Dead Pisaster species', 'vernacularName'] = 'Pisaster species'\n",
    "occ.loc[occ['vernacularName'] == 'Dead Solaster species', 'vernacularName'] = 'Solaster species'\n",
    "occ.loc[occ['vernacularName'] == 'Dead Leather Star', 'vernacularName'] = 'Leather Star'\n",
    "occ.loc[occ['vernacularName'] == 'Dead Bat Star', 'vernacularName'] = 'Bat Star'\n",
    "occ.loc[occ['vernacularName'] == 'Dead Rainbow Star', 'vernacularName'] = 'Rainbow Star'\n",
    "occ.loc[occ['vernacularName'] == 'Dead Sunflower Star', 'vernacularName'] = 'Sunflower Star'\n",
    "occ.loc[occ['vernacularName'] == 'Dead Red Urchin', 'vernacularName'] = 'Red Urchin'\n",
    "occ.loc[occ['vernacularName'] == 'Dead Purple Urchin', 'vernacularName'] = 'Purple Urchin'\n",
    "occ.loc[occ['vernacularName'] == 'Dead Sea Cucumber', 'vernacularName'] = 'Sea Cucumber'\n",
    "occ.loc[occ['vernacularName'] == 'Empty Red Abalone Shell', 'vernacularName'] = 'Red Abalone'\n",
    "occ.loc[occ['vernacularName'] == 'Empty Flat Abalone Shell', 'vernacularName'] = 'Flat Abalone'\n",
    "occ.loc[occ['vernacularName'] == 'Empty Pinto Abalone Shell', 'vernacularName'] = 'Pinto Abalone'\n",
    "occ.loc[occ['vernacularName'] == 'Empty Purple Urchin Test', 'vernacularName'] = 'Purple Urchin'\n",
    "occ.loc[occ['vernacularName'] == 'Keyhole Limpet (Rough)', 'vernacularName'] = 'Rough Keyhole Limpet'\n",
    "occ.loc[occ['vernacularName'] == 'Pink Tunicate (Solitary)', 'vernacularName'] = 'Pink Tunicate'\n",
    "occ.loc[occ['vernacularName'] == 'Clear Tunicate (Solitary)', 'vernacularName'] = 'Clear Tunicate'\n",
    "occ.loc[occ['vernacularName'] == 'Seastars', 'vernacularName'] = 'Seastar'\n",
    "occ.loc[occ['vernacularName'] == 'Wasting Star', 'vernacularName'] = 'Seastar'\n",
    "occ.loc[occ['vernacularName'] == 'Wasting Bat Star', 'vernacularName'] = 'Bat Star'\n",
    "# got vernacular name from worms: https://www.marinespecies.org/aphia.php?p=taxdetails&id=529633#vernaculars\n",
    "occ.loc[occ['vernacularName'] == 'Pseudocnus (Cucumeria) spp.', 'vernacularName'] = 'Aggregating Sea Cucumber'"
   ]
  },
  {
   "cell_type": "code",
   "execution_count": 509,
   "metadata": {},
   "outputs": [
    {
     "name": "stdout",
     "output_type": "stream",
     "text": [
      "(26031, 18)\n"
     ]
    }
   ],
   "source": [
    "# Create occurrence IDs \n",
    "\n",
    "occ['occurrenceID'] = occ.groupby('eventID').cumcount()+1\n",
    "occ['occurrenceID'] = occ['eventID'] + '_occ' + occ['occurrenceID'].astype(str)\n",
    "\n",
    "print(occ.shape)"
   ]
  },
  {
   "cell_type": "code",
   "execution_count": 510,
   "metadata": {},
   "outputs": [
    {
     "data": {
      "text/html": [
       "<div>\n",
       "<style scoped>\n",
       "    .dataframe tbody tr th:only-of-type {\n",
       "        vertical-align: middle;\n",
       "    }\n",
       "\n",
       "    .dataframe tbody tr th {\n",
       "        vertical-align: top;\n",
       "    }\n",
       "\n",
       "    .dataframe thead th {\n",
       "        text-align: right;\n",
       "    }\n",
       "</style>\n",
       "<table border=\"1\" class=\"dataframe\">\n",
       "  <thead>\n",
       "    <tr style=\"text-align: right;\">\n",
       "      <th></th>\n",
       "      <th>eventID</th>\n",
       "      <th>individualCount</th>\n",
       "      <th>occurrenceStatus</th>\n",
       "      <th>events_species_ID</th>\n",
       "      <th>scientificName</th>\n",
       "      <th>vernacularName</th>\n",
       "      <th>kingdom</th>\n",
       "      <th>phylum</th>\n",
       "      <th>class</th>\n",
       "      <th>order</th>\n",
       "      <th>family</th>\n",
       "      <th>genus</th>\n",
       "      <th>taxonRank</th>\n",
       "      <th>scientificNameID</th>\n",
       "      <th>datasetName</th>\n",
       "      <th>basisOfRecord</th>\n",
       "      <th>vitality</th>\n",
       "      <th>occurrenceID</th>\n",
       "    </tr>\n",
       "  </thead>\n",
       "  <tbody>\n",
       "    <tr>\n",
       "      <th>0</th>\n",
       "      <td>survey:ALB18-A1-3</td>\n",
       "      <td>4.0</td>\n",
       "      <td>present</td>\n",
       "      <td>event_survey:ALB18-A1-3_sp_A1</td>\n",
       "      <td>Haliotis rufescens</td>\n",
       "      <td>Red Abalone</td>\n",
       "      <td>Animalia</td>\n",
       "      <td>Mollusca</td>\n",
       "      <td>Gastropoda</td>\n",
       "      <td>Lepetellida</td>\n",
       "      <td>Haliotidae</td>\n",
       "      <td>Haliotis</td>\n",
       "      <td>Species</td>\n",
       "      <td>urn:lsid:marinespecies.org:taxname:445357</td>\n",
       "      <td>Bull Kelp Forest Ecosystem Monitoring Database...</td>\n",
       "      <td>HumanObservation</td>\n",
       "      <td></td>\n",
       "      <td>survey:ALB18-A1-3_occ1</td>\n",
       "    </tr>\n",
       "    <tr>\n",
       "      <th>1</th>\n",
       "      <td>survey:ALB18-A1-3</td>\n",
       "      <td>0.0</td>\n",
       "      <td>absent</td>\n",
       "      <td>event_survey:ALB18-A1-3_sp_DA12</td>\n",
       "      <td>Haliotis rufescens</td>\n",
       "      <td>Red Abalone</td>\n",
       "      <td>Animalia</td>\n",
       "      <td>Mollusca</td>\n",
       "      <td>Gastropoda</td>\n",
       "      <td>Lepetellida</td>\n",
       "      <td>Haliotidae</td>\n",
       "      <td>Haliotis</td>\n",
       "      <td>Species</td>\n",
       "      <td>urn:lsid:marinespecies.org:taxname:445357</td>\n",
       "      <td>Bull Kelp Forest Ecosystem Monitoring Database...</td>\n",
       "      <td>HumanObservation</td>\n",
       "      <td>dead</td>\n",
       "      <td>survey:ALB18-A1-3_occ2</td>\n",
       "    </tr>\n",
       "  </tbody>\n",
       "</table>\n",
       "</div>"
      ],
      "text/plain": [
       "             eventID  individualCount occurrenceStatus  \\\n",
       "0  survey:ALB18-A1-3              4.0          present   \n",
       "1  survey:ALB18-A1-3              0.0           absent   \n",
       "\n",
       "                 events_species_ID      scientificName vernacularName  \\\n",
       "0    event_survey:ALB18-A1-3_sp_A1  Haliotis rufescens    Red Abalone   \n",
       "1  event_survey:ALB18-A1-3_sp_DA12  Haliotis rufescens    Red Abalone   \n",
       "\n",
       "    kingdom    phylum       class        order      family     genus  \\\n",
       "0  Animalia  Mollusca  Gastropoda  Lepetellida  Haliotidae  Haliotis   \n",
       "1  Animalia  Mollusca  Gastropoda  Lepetellida  Haliotidae  Haliotis   \n",
       "\n",
       "  taxonRank                           scientificNameID  \\\n",
       "0   Species  urn:lsid:marinespecies.org:taxname:445357   \n",
       "1   Species  urn:lsid:marinespecies.org:taxname:445357   \n",
       "\n",
       "                                         datasetName     basisOfRecord  \\\n",
       "0  Bull Kelp Forest Ecosystem Monitoring Database...  HumanObservation   \n",
       "1  Bull Kelp Forest Ecosystem Monitoring Database...  HumanObservation   \n",
       "\n",
       "  vitality            occurrenceID  \n",
       "0           survey:ALB18-A1-3_occ1  \n",
       "1     dead  survey:ALB18-A1-3_occ2  "
      ]
     },
     "execution_count": 510,
     "metadata": {},
     "output_type": "execute_result"
    }
   ],
   "source": [
    "occ.head(2)"
   ]
  },
  {
   "cell_type": "code",
   "execution_count": 511,
   "metadata": {},
   "outputs": [
    {
     "data": {
      "text/plain": [
       "(26031, 26031)"
      ]
     },
     "execution_count": 511,
     "metadata": {},
     "output_type": "execute_result"
    }
   ],
   "source": [
    "# Make sure all occurrence IDs are unique\n",
    "len(occ['occurrenceID'].unique()), len(occ)"
   ]
  },
  {
   "cell_type": "code",
   "execution_count": 512,
   "metadata": {},
   "outputs": [],
   "source": [
    "# Change pd.nan values to empty strings for the individualCounts (when counts were not taken)\n",
    "occ.loc[pd.isna(occ['individualCount']), 'individualCount'] = ''"
   ]
  },
  {
   "cell_type": "code",
   "execution_count": 513,
   "metadata": {},
   "outputs": [],
   "source": [
    "# Convert counts to integers (not floats)\n",
    "for index, row in occ.iterrows():\n",
    "    if row['individualCount'] != '':\n",
    "        try:\n",
    "            int_value = int(row['individualCount'])\n",
    "            occ.at[index, 'individualCount'] = int_value\n",
    "        except ValueError:\n",
    "            print(f\"Error with index {index}\")"
   ]
  },
  {
   "cell_type": "code",
   "execution_count": 514,
   "metadata": {},
   "outputs": [
    {
     "data": {
      "text/plain": [
       "eventID                 0\n",
       "individualCount         0\n",
       "occurrenceStatus        0\n",
       "events_species_ID       0\n",
       "scientificName          0\n",
       "vernacularName          0\n",
       "kingdom                 0\n",
       "phylum                  0\n",
       "class                   0\n",
       "order                 971\n",
       "family                965\n",
       "genus                1040\n",
       "taxonRank               0\n",
       "scientificNameID        0\n",
       "datasetName             0\n",
       "basisOfRecord           0\n",
       "vitality                0\n",
       "occurrenceID            0\n",
       "dtype: int64"
      ]
     },
     "execution_count": 514,
     "metadata": {},
     "output_type": "execute_result"
    }
   ],
   "source": [
    "# print rows with nans - note that there as 628 rows where a species was identified but not counted.\n",
    "# also some higher order rankings aren't available, this is normal.\n",
    "# do this for all columns of all tables\n",
    "occ.isna().sum()"
   ]
  },
  {
   "cell_type": "code",
   "execution_count": 515,
   "metadata": {},
   "outputs": [],
   "source": [
    "# reorder column names to be more intuitive\n",
    "occ_order = ['eventID', 'occurrenceID', 'scientificName', 'vernacularName', 'occurrenceStatus', 'individualCount',\n",
    "            'kingdom', 'phylum', 'class', 'order', 'family', 'genus', 'taxonRank', 'scientificNameID',\n",
    "             'datasetName', 'basisOfRecord', 'vitality', 'events_species_ID'] \n",
    "\n",
    "occ = occ[occ_order]"
   ]
  },
  {
   "cell_type": "code",
   "execution_count": 516,
   "metadata": {},
   "outputs": [
    {
     "data": {
      "text/html": [
       "<div>\n",
       "<style scoped>\n",
       "    .dataframe tbody tr th:only-of-type {\n",
       "        vertical-align: middle;\n",
       "    }\n",
       "\n",
       "    .dataframe tbody tr th {\n",
       "        vertical-align: top;\n",
       "    }\n",
       "\n",
       "    .dataframe thead th {\n",
       "        text-align: right;\n",
       "    }\n",
       "</style>\n",
       "<table border=\"1\" class=\"dataframe\">\n",
       "  <thead>\n",
       "    <tr style=\"text-align: right;\">\n",
       "      <th></th>\n",
       "      <th>eventID</th>\n",
       "      <th>occurrenceID</th>\n",
       "      <th>scientificName</th>\n",
       "      <th>vernacularName</th>\n",
       "      <th>occurrenceStatus</th>\n",
       "      <th>individualCount</th>\n",
       "      <th>kingdom</th>\n",
       "      <th>phylum</th>\n",
       "      <th>class</th>\n",
       "      <th>order</th>\n",
       "      <th>family</th>\n",
       "      <th>genus</th>\n",
       "      <th>taxonRank</th>\n",
       "      <th>scientificNameID</th>\n",
       "      <th>datasetName</th>\n",
       "      <th>basisOfRecord</th>\n",
       "      <th>vitality</th>\n",
       "      <th>events_species_ID</th>\n",
       "    </tr>\n",
       "  </thead>\n",
       "  <tbody>\n",
       "    <tr>\n",
       "      <th>0</th>\n",
       "      <td>survey:ALB18-A1-3</td>\n",
       "      <td>survey:ALB18-A1-3_occ1</td>\n",
       "      <td>Haliotis rufescens</td>\n",
       "      <td>Red Abalone</td>\n",
       "      <td>present</td>\n",
       "      <td>4</td>\n",
       "      <td>Animalia</td>\n",
       "      <td>Mollusca</td>\n",
       "      <td>Gastropoda</td>\n",
       "      <td>Lepetellida</td>\n",
       "      <td>Haliotidae</td>\n",
       "      <td>Haliotis</td>\n",
       "      <td>Species</td>\n",
       "      <td>urn:lsid:marinespecies.org:taxname:445357</td>\n",
       "      <td>Bull Kelp Forest Ecosystem Monitoring Database...</td>\n",
       "      <td>HumanObservation</td>\n",
       "      <td></td>\n",
       "      <td>event_survey:ALB18-A1-3_sp_A1</td>\n",
       "    </tr>\n",
       "    <tr>\n",
       "      <th>1</th>\n",
       "      <td>survey:ALB18-A1-3</td>\n",
       "      <td>survey:ALB18-A1-3_occ2</td>\n",
       "      <td>Haliotis rufescens</td>\n",
       "      <td>Red Abalone</td>\n",
       "      <td>absent</td>\n",
       "      <td>0</td>\n",
       "      <td>Animalia</td>\n",
       "      <td>Mollusca</td>\n",
       "      <td>Gastropoda</td>\n",
       "      <td>Lepetellida</td>\n",
       "      <td>Haliotidae</td>\n",
       "      <td>Haliotis</td>\n",
       "      <td>Species</td>\n",
       "      <td>urn:lsid:marinespecies.org:taxname:445357</td>\n",
       "      <td>Bull Kelp Forest Ecosystem Monitoring Database...</td>\n",
       "      <td>HumanObservation</td>\n",
       "      <td>dead</td>\n",
       "      <td>event_survey:ALB18-A1-3_sp_DA12</td>\n",
       "    </tr>\n",
       "  </tbody>\n",
       "</table>\n",
       "</div>"
      ],
      "text/plain": [
       "             eventID            occurrenceID      scientificName  \\\n",
       "0  survey:ALB18-A1-3  survey:ALB18-A1-3_occ1  Haliotis rufescens   \n",
       "1  survey:ALB18-A1-3  survey:ALB18-A1-3_occ2  Haliotis rufescens   \n",
       "\n",
       "  vernacularName occurrenceStatus individualCount   kingdom    phylum  \\\n",
       "0    Red Abalone          present               4  Animalia  Mollusca   \n",
       "1    Red Abalone           absent               0  Animalia  Mollusca   \n",
       "\n",
       "        class        order      family     genus taxonRank  \\\n",
       "0  Gastropoda  Lepetellida  Haliotidae  Haliotis   Species   \n",
       "1  Gastropoda  Lepetellida  Haliotidae  Haliotis   Species   \n",
       "\n",
       "                            scientificNameID  \\\n",
       "0  urn:lsid:marinespecies.org:taxname:445357   \n",
       "1  urn:lsid:marinespecies.org:taxname:445357   \n",
       "\n",
       "                                         datasetName     basisOfRecord  \\\n",
       "0  Bull Kelp Forest Ecosystem Monitoring Database...  HumanObservation   \n",
       "1  Bull Kelp Forest Ecosystem Monitoring Database...  HumanObservation   \n",
       "\n",
       "  vitality                events_species_ID  \n",
       "0             event_survey:ALB18-A1-3_sp_A1  \n",
       "1     dead  event_survey:ALB18-A1-3_sp_DA12  "
      ]
     },
     "execution_count": 516,
     "metadata": {},
     "output_type": "execute_result"
    }
   ],
   "source": [
    "occ.head(2)"
   ]
  },
  {
   "cell_type": "markdown",
   "metadata": {},
   "source": [
    "## EMOF Table"
   ]
  },
  {
   "cell_type": "markdown",
   "metadata": {},
   "source": [
    "This table will consist of additional event level measurements:\n",
    "- **organism sizes**: this information is pulled from the sizes table, and mapping with occurrence_id is done by merging with the occurrence table by the events_species_ID column. This is important because the counts table has unique SpeciesIDs for each SurveyNum, but in the sizes table, there are multiple instances of SpeciesID for each SurveyNum. The events_species_ID allows the size information to be mapped properly. Note that there will be multiple rows for the same occurrenceID, since a single occurrence can have multiple organisms counted and measured. \n",
    "- **% cover substrate**: Some of these transects include subsamples (L and R), which add up to (approximately) 100%. \n",
    "- **% cover algae**: Some of these transects include subsamples (L and R). Note that these can exceed 100% because algae cover can overlap."
   ]
  },
  {
   "cell_type": "markdown",
   "metadata": {},
   "source": [
    "**EMOF - organism sizes**"
   ]
  },
  {
   "cell_type": "code",
   "execution_count": 517,
   "metadata": {},
   "outputs": [],
   "source": [
    "# Generate an events_species_ID column combining transect number + species ID\n",
    "sizes['events_species_ID'] = 'event_survey:' + sizes['Survey_Num'].astype(str) +'_sp_' + sizes['SpeciesID'].astype(str)"
   ]
  },
  {
   "cell_type": "code",
   "execution_count": 518,
   "metadata": {},
   "outputs": [],
   "source": [
    "# Generate emof table and add key size and units columns \n",
    "emof_sizes = pd.DataFrame()\n",
    "emof_sizes['events_species_ID'] = sizes['events_species_ID']\n",
    "# measurementValue\n",
    "emof_sizes['measurementValue'] = sizes['Size']\n",
    "# measurementUnit\n",
    "emof_sizes['measurementUnit'] = 'mm'\n",
    "# measurementType\n",
    "emof_sizes['measurementType'] = 'length'\n",
    "# measurementTypeID\n",
    "emof_sizes['measurementTypeID'] = 'http://vocab.nerc.ac.uk/collection/P24/current/LENGTH/'\n",
    "# measurementUnitID\n",
    "emof_sizes['measurementUnitID'] = 'http://vocab.nerc.ac.uk/collection/P06/current/UXMM/'\n",
    "# measurementMethod\n",
    "emof_sizes['measurementMethod'] = 'Sizes of observed organisms were measured from scuba divers along 30 x 2m transects. For abalone, the longest diameter was used to measure size for and for urchins, test width with spines excluded was used to measure size.' "
   ]
  },
  {
   "cell_type": "code",
   "execution_count": 519,
   "metadata": {
    "scrolled": true
   },
   "outputs": [],
   "source": [
    "# Now merge emof with the occ based on event_speciesID to get occurrenceID and eventID corresponding to each size measurement.\n",
    "emof_sizes = pd.merge(emof_sizes, occ[['events_species_ID', 'eventID', 'occurrenceID']], on='events_species_ID', how='left')"
   ]
  },
  {
   "cell_type": "code",
   "execution_count": 520,
   "metadata": {},
   "outputs": [],
   "source": [
    "# We now no longer need the events_species_ID in the occurrence and emof tables.\n",
    "emof_sizes.drop(columns = ['events_species_ID'], inplace=True)\n",
    "occ.drop(columns = ['events_species_ID'], inplace=True)"
   ]
  },
  {
   "cell_type": "code",
   "execution_count": 521,
   "metadata": {},
   "outputs": [],
   "source": [
    "# Sizes are all rounded to the nearest mm, so can be treated as integers\n",
    "emof_sizes['measurementValue'] = emof_sizes['measurementValue'].astype(int)"
   ]
  },
  {
   "cell_type": "code",
   "execution_count": 522,
   "metadata": {},
   "outputs": [
    {
     "data": {
      "text/html": [
       "<div>\n",
       "<style scoped>\n",
       "    .dataframe tbody tr th:only-of-type {\n",
       "        vertical-align: middle;\n",
       "    }\n",
       "\n",
       "    .dataframe tbody tr th {\n",
       "        vertical-align: top;\n",
       "    }\n",
       "\n",
       "    .dataframe thead th {\n",
       "        text-align: right;\n",
       "    }\n",
       "</style>\n",
       "<table border=\"1\" class=\"dataframe\">\n",
       "  <thead>\n",
       "    <tr style=\"text-align: right;\">\n",
       "      <th></th>\n",
       "      <th>measurementValue</th>\n",
       "      <th>measurementUnit</th>\n",
       "      <th>measurementType</th>\n",
       "      <th>measurementTypeID</th>\n",
       "      <th>measurementUnitID</th>\n",
       "      <th>measurementMethod</th>\n",
       "      <th>eventID</th>\n",
       "      <th>occurrenceID</th>\n",
       "    </tr>\n",
       "  </thead>\n",
       "  <tbody>\n",
       "    <tr>\n",
       "      <th>0</th>\n",
       "      <td>145</td>\n",
       "      <td>mm</td>\n",
       "      <td>length</td>\n",
       "      <td>http://vocab.nerc.ac.uk/collection/P24/current...</td>\n",
       "      <td>http://vocab.nerc.ac.uk/collection/P06/current...</td>\n",
       "      <td>Sizes of observed organisms were measured from...</td>\n",
       "      <td>survey:ALB18-A1-1</td>\n",
       "      <td>survey:ALB18-A1-1_occ1</td>\n",
       "    </tr>\n",
       "    <tr>\n",
       "      <th>1</th>\n",
       "      <td>205</td>\n",
       "      <td>mm</td>\n",
       "      <td>length</td>\n",
       "      <td>http://vocab.nerc.ac.uk/collection/P24/current...</td>\n",
       "      <td>http://vocab.nerc.ac.uk/collection/P06/current...</td>\n",
       "      <td>Sizes of observed organisms were measured from...</td>\n",
       "      <td>survey:ALB18-A1-1</td>\n",
       "      <td>survey:ALB18-A1-1_occ1</td>\n",
       "    </tr>\n",
       "  </tbody>\n",
       "</table>\n",
       "</div>"
      ],
      "text/plain": [
       "   measurementValue measurementUnit measurementType  \\\n",
       "0               145              mm          length   \n",
       "1               205              mm          length   \n",
       "\n",
       "                                   measurementTypeID  \\\n",
       "0  http://vocab.nerc.ac.uk/collection/P24/current...   \n",
       "1  http://vocab.nerc.ac.uk/collection/P24/current...   \n",
       "\n",
       "                                   measurementUnitID  \\\n",
       "0  http://vocab.nerc.ac.uk/collection/P06/current...   \n",
       "1  http://vocab.nerc.ac.uk/collection/P06/current...   \n",
       "\n",
       "                                   measurementMethod            eventID  \\\n",
       "0  Sizes of observed organisms were measured from...  survey:ALB18-A1-1   \n",
       "1  Sizes of observed organisms were measured from...  survey:ALB18-A1-1   \n",
       "\n",
       "             occurrenceID  \n",
       "0  survey:ALB18-A1-1_occ1  \n",
       "1  survey:ALB18-A1-1_occ1  "
      ]
     },
     "execution_count": 522,
     "metadata": {},
     "output_type": "execute_result"
    }
   ],
   "source": [
    "emof_sizes.head(2)"
   ]
  },
  {
   "cell_type": "markdown",
   "metadata": {},
   "source": [
    "**EMOF - % habitat substrate** <br>\n",
    "For percent substrate, I'll need to get the survey_num, which matches the eventID in the event core.<br>\n",
    "This information is at the event level (transect level), so it will not be linked to the occurrenceID, but instead to the eventID. <br><br>\n",
    "Note that each survey_num should add up to approximately 100%. On Feb 26, found that a considerable number of transects are above 100% (many at 200%). <br>\n",
    "After talking to Bob, this is because of subsamples (left vs right transects). Subsamples can be \"L\", \"R\", or \"LR\". "
   ]
  },
  {
   "cell_type": "code",
   "execution_count": 523,
   "metadata": {},
   "outputs": [],
   "source": [
    "# Make function that calculates the total percent cover for all surveys (or sub-samples) and prints out the max and min.\n",
    "\n",
    "def cover_totals(df, subsample):\n",
    "    '''\n",
    "    Inputs: dataframe to be screened, and the subsample string used, either 'L', 'R' or 'LR'\n",
    "    Outputs: print statements with min and max total percent covers from all surveys within that survey or subsampling scheme. \n",
    "    '''\n",
    "    df_sub = df[df['Subsample'] == subsample]\n",
    "    df_surveys = df_sub.Survey_Num.unique()\n",
    "    \n",
    "    not_100 = []\n",
    "    covers = []\n",
    "\n",
    "    for survey in df_surveys:\n",
    "        cover_total = np.sum(list(df_sub[df_sub['Survey_Num'] == survey]['PercentCover']))\n",
    "        if cover_total != 100:\n",
    "            not_100.append(survey)\n",
    "            covers.append(cover_total)\n",
    "            \n",
    "    print(f'min % cover for {subsample} transects:', np.min(covers))\n",
    "    print(f'max % cover for {subsample} transects:', np.max(covers)) \n",
    "    \n",
    "#    return list(zip(not_100, covers))\n"
   ]
  },
  {
   "cell_type": "code",
   "execution_count": 524,
   "metadata": {},
   "outputs": [
    {
     "name": "stdout",
     "output_type": "stream",
     "text": [
      "min % cover for L transects: 95.0\n",
      "max % cover for L transects: 105.0\n",
      "min % cover for R transects: 95.0\n",
      "max % cover for R transects: 103.0\n",
      "min % cover for LR transects: 95.0\n",
      "max % cover for LR transects: 201.25\n"
     ]
    }
   ],
   "source": [
    "# All are within appropriate range. \n",
    "cover_totals(sub_cover, 'L')\n",
    "cover_totals(sub_cover, 'R')\n",
    "cover_totals(sub_cover, 'LR')"
   ]
  },
  {
   "cell_type": "code",
   "execution_count": 525,
   "metadata": {},
   "outputs": [],
   "source": [
    "# Make sure that all of the events in the emof substrate table exist in the event core table. \n",
    "# use same logic as was used to make event table for getting proper eventIDs for surveys & subsamples\n",
    "eventids=[]\n",
    "for index, row in sub_cover.iterrows():\n",
    "    # If the row is a subsample:\n",
    "    if row['Subsample'] in ['L', 'R']: \n",
    "        event_id = 'survey:' + str(sub_cover.loc[index, 'Survey_Num']) + '_subsample:' + row['Subsample']\n",
    "        eventids.append(event_id)\n",
    "    else:\n",
    "        event_id = 'survey:' + str(sub_cover.loc[index, 'Survey_Num'])\n",
    "        eventids.append(event_id)\n",
    "\n",
    "sub_cover['eventID'] = eventids\n",
    "\n",
    "# Make EMOF substrate dataframe\n",
    "emof_sub = pd.DataFrame()\n",
    "emof_sub['eventID'] = sub_cover['eventID']"
   ]
  },
  {
   "cell_type": "code",
   "execution_count": 526,
   "metadata": {},
   "outputs": [
    {
     "data": {
      "text/plain": [
       "array([ True])"
      ]
     },
     "execution_count": 526,
     "metadata": {},
     "output_type": "execute_result"
    }
   ],
   "source": [
    "# QC check to make sure all of the eventIDs in the emof_sub are in the event table\n",
    "emof_sub['eventID'].isin(event['eventID']).unique()"
   ]
  },
  {
   "cell_type": "code",
   "execution_count": 527,
   "metadata": {},
   "outputs": [],
   "source": [
    "# First change the substrate type \"cobble (movable)\" to \"cobble\".\n",
    "sub_cover.loc[sub_cover['Substrate'] == 'COBBLE (Movable)', 'Substrate'] = 'COBBLE'\n",
    "\n",
    "emof_sub['measurementType'] = 'percent cover of ' +sub_cover['Substrate'].str.lower()+ ' within transect'"
   ]
  },
  {
   "cell_type": "code",
   "execution_count": 528,
   "metadata": {},
   "outputs": [
    {
     "data": {
      "text/html": [
       "<div>\n",
       "<style scoped>\n",
       "    .dataframe tbody tr th:only-of-type {\n",
       "        vertical-align: middle;\n",
       "    }\n",
       "\n",
       "    .dataframe tbody tr th {\n",
       "        vertical-align: top;\n",
       "    }\n",
       "\n",
       "    .dataframe thead th {\n",
       "        text-align: right;\n",
       "    }\n",
       "</style>\n",
       "<table border=\"1\" class=\"dataframe\">\n",
       "  <thead>\n",
       "    <tr style=\"text-align: right;\">\n",
       "      <th></th>\n",
       "      <th>eventID</th>\n",
       "      <th>measurementType</th>\n",
       "      <th>measurementMethod</th>\n",
       "      <th>measurementValue</th>\n",
       "      <th>measurementUnit</th>\n",
       "      <th>measurementUnitID</th>\n",
       "      <th>measurementTypeID</th>\n",
       "      <th>occurrenceID</th>\n",
       "    </tr>\n",
       "  </thead>\n",
       "  <tbody>\n",
       "    <tr>\n",
       "      <th>0</th>\n",
       "      <td>survey:BR99-01</td>\n",
       "      <td>percent cover of reef within transect</td>\n",
       "      <td>A reef substrate type is defined as contiguous...</td>\n",
       "      <td>97.5</td>\n",
       "      <td>percent</td>\n",
       "      <td>http://vocab.nerc.ac.uk/collection/P06/current...</td>\n",
       "      <td></td>\n",
       "      <td></td>\n",
       "    </tr>\n",
       "    <tr>\n",
       "      <th>1</th>\n",
       "      <td>survey:BR99-01</td>\n",
       "      <td>percent cover of boulder within transect</td>\n",
       "      <td>A boulder is defined as too large for a diver ...</td>\n",
       "      <td>2.5</td>\n",
       "      <td>percent</td>\n",
       "      <td>http://vocab.nerc.ac.uk/collection/P06/current...</td>\n",
       "      <td></td>\n",
       "      <td></td>\n",
       "    </tr>\n",
       "    <tr>\n",
       "      <th>2</th>\n",
       "      <td>survey:BR99-01</td>\n",
       "      <td>percent cover of cobble within transect</td>\n",
       "      <td>A cobble is defined as a small rock (larger th...</td>\n",
       "      <td>0.0</td>\n",
       "      <td>percent</td>\n",
       "      <td>http://vocab.nerc.ac.uk/collection/P06/current...</td>\n",
       "      <td></td>\n",
       "      <td></td>\n",
       "    </tr>\n",
       "  </tbody>\n",
       "</table>\n",
       "</div>"
      ],
      "text/plain": [
       "          eventID                           measurementType  \\\n",
       "0  survey:BR99-01     percent cover of reef within transect   \n",
       "1  survey:BR99-01  percent cover of boulder within transect   \n",
       "2  survey:BR99-01   percent cover of cobble within transect   \n",
       "\n",
       "                                   measurementMethod  measurementValue  \\\n",
       "0  A reef substrate type is defined as contiguous...              97.5   \n",
       "1  A boulder is defined as too large for a diver ...               2.5   \n",
       "2  A cobble is defined as a small rock (larger th...               0.0   \n",
       "\n",
       "  measurementUnit                                  measurementUnitID  \\\n",
       "0         percent  http://vocab.nerc.ac.uk/collection/P06/current...   \n",
       "1         percent  http://vocab.nerc.ac.uk/collection/P06/current...   \n",
       "2         percent  http://vocab.nerc.ac.uk/collection/P06/current...   \n",
       "\n",
       "  measurementTypeID occurrenceID  \n",
       "0                                 \n",
       "1                                 \n",
       "2                                 "
      ]
     },
     "execution_count": 528,
     "metadata": {},
     "output_type": "execute_result"
    }
   ],
   "source": [
    "sub_cover['substrate_def'] = ''\n",
    "sub_cover.loc[sub_cover['Substrate'] == 'REEF', 'substrate_def'] = 'A reef substrate type is defined as contiguous rock habitat the size of a car or larger.'\n",
    "sub_cover.loc[sub_cover['Substrate'] == 'BOULDER', 'substrate_def'] = 'A boulder is defined as too large for a diver to move, and up to the size of a car.'\n",
    "sub_cover.loc[sub_cover['Substrate'] == 'COBBLE', 'substrate_def'] = 'A cobble is defined as a small rock (larger than a thumb) that a diver can move and turn over.'\n",
    "sub_cover.loc[sub_cover['Substrate'] == 'SAND', 'substrate_def'] = 'A sand substrate type is defined as being rocky sand that is soft enough for a diver to insert a hand.'\n",
    "\n",
    "# measurementMethod\n",
    "emof_sub['measurementMethod'] = sub_cover['substrate_def']\n",
    "\n",
    "# measurementValue\n",
    "emof_sub['measurementValue'] = sub_cover['PercentCover']\n",
    "\n",
    "# measurementUnit\n",
    "emof_sub['measurementUnit'] = 'percent'\n",
    "\n",
    "# measurementUnitID\n",
    "emof_sub['measurementUnitID'] = 'http://vocab.nerc.ac.uk/collection/P06/current/UPCT/'\n",
    "\n",
    "# measurementTypeID \n",
    "emof_sub['measurementTypeID'] = ''\n",
    "\n",
    "# occurrenceID\n",
    "emof_sub['occurrenceID'] = ''\n",
    "\n",
    "emof_sub.head(3)"
   ]
  },
  {
   "cell_type": "markdown",
   "metadata": {},
   "source": [
    "**Algae % Cover**\n",
    "- There are subsamples (L, R) in this dataset also. Note that total percent cover for a survey can add up to much more than 100% due to overlapping algae.\n",
    "- Need to add measurementRemarks that they can add up to above 100% bc of overlapping algae. "
   ]
  },
  {
   "cell_type": "code",
   "execution_count": 529,
   "metadata": {},
   "outputs": [
    {
     "name": "stdout",
     "output_type": "stream",
     "text": [
      "min % cover for L transects: 0.0\n",
      "max % cover for L transects: 387.5\n",
      "min % cover for R transects: 6.25\n",
      "max % cover for R transects: 468.75\n",
      "min % cover for LR transects: 0.0\n",
      "max % cover for LR transects: 416.7\n"
     ]
    }
   ],
   "source": [
    "cover_totals(alg_cover, 'L')\n",
    "cover_totals(alg_cover, 'R')\n",
    "cover_totals(alg_cover, 'LR')"
   ]
  },
  {
   "cell_type": "code",
   "execution_count": 530,
   "metadata": {},
   "outputs": [],
   "source": [
    "# Make sure that all of the events in the emof algae table exist in the event core table. \n",
    "# use same logic as was used to make event table for getting proper eventIDs for surveys & subsamples\n",
    "eventids=[]\n",
    "for index, row in alg_cover.iterrows():\n",
    "    # If the row is a subsample:\n",
    "    if row['Subsample'] in ['L', 'R']: \n",
    "        event_id = 'survey:' + str(alg_cover.loc[index, 'Survey_Num']) + '_subsample:' + row['Subsample']\n",
    "        eventids.append(event_id)\n",
    "    else:\n",
    "        event_id = 'survey:' + str(alg_cover.loc[index, 'Survey_Num'])\n",
    "        eventids.append(event_id)\n",
    "\n",
    "alg_cover['eventID'] = eventids\n",
    "\n",
    "# Make EMOF substrate dataframe\n",
    "emof_alg = pd.DataFrame()\n",
    "emof_alg['eventID'] = alg_cover['eventID']"
   ]
  },
  {
   "cell_type": "code",
   "execution_count": 531,
   "metadata": {},
   "outputs": [
    {
     "data": {
      "text/plain": [
       "array([ True])"
      ]
     },
     "execution_count": 531,
     "metadata": {},
     "output_type": "execute_result"
    }
   ],
   "source": [
    "# QC check to make sure all of the eventIDs in the emof_sub are in the event table\n",
    "emof_alg['eventID'].isin(event['eventID']).unique()"
   ]
  },
  {
   "cell_type": "code",
   "execution_count": 532,
   "metadata": {},
   "outputs": [
    {
     "data": {
      "text/html": [
       "<div>\n",
       "<style scoped>\n",
       "    .dataframe tbody tr th:only-of-type {\n",
       "        vertical-align: middle;\n",
       "    }\n",
       "\n",
       "    .dataframe tbody tr th {\n",
       "        vertical-align: top;\n",
       "    }\n",
       "\n",
       "    .dataframe thead th {\n",
       "        text-align: right;\n",
       "    }\n",
       "</style>\n",
       "<table border=\"1\" class=\"dataframe\">\n",
       "  <thead>\n",
       "    <tr style=\"text-align: right;\">\n",
       "      <th></th>\n",
       "      <th>eventID</th>\n",
       "      <th>measurementType</th>\n",
       "      <th>measurementMethod</th>\n",
       "      <th>measurementValue</th>\n",
       "      <th>measurementUnit</th>\n",
       "      <th>measurementUnitID</th>\n",
       "      <th>measurementTypeID</th>\n",
       "      <th>occurrenceID</th>\n",
       "    </tr>\n",
       "  </thead>\n",
       "  <tbody>\n",
       "    <tr>\n",
       "      <th>0</th>\n",
       "      <td>survey:BR99-01</td>\n",
       "      <td>percent cover of encrusting algae within transect</td>\n",
       "      <td>An encrusting algal habitat is defined as pain...</td>\n",
       "      <td>70.0</td>\n",
       "      <td>percent</td>\n",
       "      <td>http://vocab.nerc.ac.uk/collection/P06/current...</td>\n",
       "      <td></td>\n",
       "      <td></td>\n",
       "    </tr>\n",
       "    <tr>\n",
       "      <th>1</th>\n",
       "      <td>survey:BR99-01</td>\n",
       "      <td>percent cover of turf algae within transect</td>\n",
       "      <td>A turf algal habitat is defined as three-dimen...</td>\n",
       "      <td>17.5</td>\n",
       "      <td>percent</td>\n",
       "      <td>http://vocab.nerc.ac.uk/collection/P06/current...</td>\n",
       "      <td></td>\n",
       "      <td></td>\n",
       "    </tr>\n",
       "    <tr>\n",
       "      <th>2</th>\n",
       "      <td>survey:BR99-01</td>\n",
       "      <td>percent cover of foliose algae within transect</td>\n",
       "      <td>A foliose algal habitat is defined as fleshy a...</td>\n",
       "      <td>20.0</td>\n",
       "      <td>percent</td>\n",
       "      <td>http://vocab.nerc.ac.uk/collection/P06/current...</td>\n",
       "      <td></td>\n",
       "      <td></td>\n",
       "    </tr>\n",
       "  </tbody>\n",
       "</table>\n",
       "</div>"
      ],
      "text/plain": [
       "          eventID                                    measurementType  \\\n",
       "0  survey:BR99-01  percent cover of encrusting algae within transect   \n",
       "1  survey:BR99-01        percent cover of turf algae within transect   \n",
       "2  survey:BR99-01     percent cover of foliose algae within transect   \n",
       "\n",
       "                                   measurementMethod  measurementValue  \\\n",
       "0  An encrusting algal habitat is defined as pain...              70.0   \n",
       "1  A turf algal habitat is defined as three-dimen...              17.5   \n",
       "2  A foliose algal habitat is defined as fleshy a...              20.0   \n",
       "\n",
       "  measurementUnit                                  measurementUnitID  \\\n",
       "0         percent  http://vocab.nerc.ac.uk/collection/P06/current...   \n",
       "1         percent  http://vocab.nerc.ac.uk/collection/P06/current...   \n",
       "2         percent  http://vocab.nerc.ac.uk/collection/P06/current...   \n",
       "\n",
       "  measurementTypeID occurrenceID  \n",
       "0                                 \n",
       "1                                 \n",
       "2                                 "
      ]
     },
     "execution_count": 532,
     "metadata": {},
     "output_type": "execute_result"
    }
   ],
   "source": [
    "# measurementType \n",
    "emof_alg['measurementType'] = 'percent cover of ' +alg_cover['HABITAT'].str.lower()+ ' algae within transect'\n",
    "\n",
    "alg_cover['habitat_def'] = ''\n",
    "alg_cover.loc[alg_cover['HABITAT'] == 'BARE ROCK', 'habitat_def'] = 'A bare rock algal habitat is defined as bare rock with no algae, no invertebrates.'\n",
    "alg_cover.loc[alg_cover['HABITAT'] == 'ENCRUSTING', 'habitat_def'] = 'An encrusting algal habitat is defined as paint-like two-dimensional coating on the rock.'\n",
    "alg_cover.loc[alg_cover['HABITAT'] == 'TURF', 'habitat_def'] = 'A turf algal habitat is defined as three-dimensional algal mat about height of a cut lawn.'\n",
    "alg_cover.loc[alg_cover['HABITAT'] == 'FOLIOSE', 'habitat_def'] = 'A foliose algal habitat is defined as fleshy algae less than 1 foot in height.'\n",
    "alg_cover.loc[alg_cover['HABITAT'] == 'SUBCANOPY', 'habitat_def'] = 'A subcanopy algal habitat is defined as fleshy algae less that 4 feet in height.'\n",
    "alg_cover.loc[alg_cover['HABITAT'] == 'CANOPY', 'habitat_def'] = 'A canopy algal habitat is defined as fleshy algae that reaches the water surface.'\n",
    "\n",
    "# measurementMethod\n",
    "emof_alg['measurementMethod'] = alg_cover['habitat_def']\n",
    "\n",
    "# measurementValue\n",
    "emof_alg['measurementValue'] = alg_cover['PercentCover']\n",
    "\n",
    "# measurementUnit\n",
    "emof_alg['measurementUnit'] = 'percent'\n",
    "\n",
    "# measurementUnitID\n",
    "emof_alg['measurementUnitID'] = 'http://vocab.nerc.ac.uk/collection/P06/current/UPCT/'\n",
    "\n",
    "# measurementTypeID \n",
    "emof_alg['measurementTypeID'] = ''\n",
    "\n",
    "# occurenceID\n",
    "emof_alg['occurrenceID'] = ''\n",
    "\n",
    "emof_alg.head(3)"
   ]
  },
  {
   "cell_type": "markdown",
   "metadata": {},
   "source": [
    "**Next, combine all EMOF dataframes into a single table.**"
   ]
  },
  {
   "cell_type": "code",
   "execution_count": 533,
   "metadata": {},
   "outputs": [],
   "source": [
    "emof = pd.concat([emof_sizes, emof_alg, emof_sub])"
   ]
  },
  {
   "cell_type": "code",
   "execution_count": 534,
   "metadata": {},
   "outputs": [],
   "source": [
    "emof.reset_index(inplace=True, drop=True)"
   ]
  },
  {
   "cell_type": "code",
   "execution_count": 535,
   "metadata": {},
   "outputs": [],
   "source": [
    "# Change order of columns to be more intuitive\n",
    "order = ['eventID', 'occurrenceID', 'measurementValue', 'measurementUnit', 'measurementType', 'measurementTypeID', 'measurementUnitID', 'measurementMethod']\n",
    "emof = emof[order]"
   ]
  },
  {
   "cell_type": "code",
   "execution_count": 541,
   "metadata": {},
   "outputs": [
    {
     "data": {
      "text/html": [
       "<div>\n",
       "<style scoped>\n",
       "    .dataframe tbody tr th:only-of-type {\n",
       "        vertical-align: middle;\n",
       "    }\n",
       "\n",
       "    .dataframe tbody tr th {\n",
       "        vertical-align: top;\n",
       "    }\n",
       "\n",
       "    .dataframe thead th {\n",
       "        text-align: right;\n",
       "    }\n",
       "</style>\n",
       "<table border=\"1\" class=\"dataframe\">\n",
       "  <thead>\n",
       "    <tr style=\"text-align: right;\">\n",
       "      <th></th>\n",
       "      <th>eventID</th>\n",
       "      <th>occurrenceID</th>\n",
       "      <th>measurementValue</th>\n",
       "      <th>measurementUnit</th>\n",
       "      <th>measurementType</th>\n",
       "      <th>measurementTypeID</th>\n",
       "      <th>measurementUnitID</th>\n",
       "      <th>measurementMethod</th>\n",
       "    </tr>\n",
       "  </thead>\n",
       "  <tbody>\n",
       "    <tr>\n",
       "      <th>0</th>\n",
       "      <td>survey:ALB18-A1-1</td>\n",
       "      <td>survey:ALB18-A1-1_occ1</td>\n",
       "      <td>145.0</td>\n",
       "      <td>mm</td>\n",
       "      <td>length</td>\n",
       "      <td>http://vocab.nerc.ac.uk/collection/P24/current...</td>\n",
       "      <td>http://vocab.nerc.ac.uk/collection/P06/current...</td>\n",
       "      <td>Sizes of observed organisms were measured from...</td>\n",
       "    </tr>\n",
       "    <tr>\n",
       "      <th>1</th>\n",
       "      <td>survey:ALB18-A1-1</td>\n",
       "      <td>survey:ALB18-A1-1_occ1</td>\n",
       "      <td>205.0</td>\n",
       "      <td>mm</td>\n",
       "      <td>length</td>\n",
       "      <td>http://vocab.nerc.ac.uk/collection/P24/current...</td>\n",
       "      <td>http://vocab.nerc.ac.uk/collection/P06/current...</td>\n",
       "      <td>Sizes of observed organisms were measured from...</td>\n",
       "    </tr>\n",
       "  </tbody>\n",
       "</table>\n",
       "</div>"
      ],
      "text/plain": [
       "             eventID            occurrenceID  measurementValue  \\\n",
       "0  survey:ALB18-A1-1  survey:ALB18-A1-1_occ1             145.0   \n",
       "1  survey:ALB18-A1-1  survey:ALB18-A1-1_occ1             205.0   \n",
       "\n",
       "  measurementUnit measurementType  \\\n",
       "0              mm          length   \n",
       "1              mm          length   \n",
       "\n",
       "                                   measurementTypeID  \\\n",
       "0  http://vocab.nerc.ac.uk/collection/P24/current...   \n",
       "1  http://vocab.nerc.ac.uk/collection/P24/current...   \n",
       "\n",
       "                                   measurementUnitID  \\\n",
       "0  http://vocab.nerc.ac.uk/collection/P06/current...   \n",
       "1  http://vocab.nerc.ac.uk/collection/P06/current...   \n",
       "\n",
       "                                   measurementMethod  \n",
       "0  Sizes of observed organisms were measured from...  \n",
       "1  Sizes of observed organisms were measured from...  "
      ]
     },
     "execution_count": 541,
     "metadata": {},
     "output_type": "execute_result"
    }
   ],
   "source": [
    "emof.head(2)"
   ]
  },
  {
   "cell_type": "markdown",
   "metadata": {},
   "source": [
    "## Save tables to csv files"
   ]
  },
  {
   "cell_type": "code",
   "execution_count": 433,
   "metadata": {},
   "outputs": [],
   "source": [
    "today = date.today().strftime('%Y%m%d')\n",
    "output_dir = 'DwC_files/'"
   ]
  },
  {
   "cell_type": "code",
   "execution_count": 538,
   "metadata": {},
   "outputs": [],
   "source": [
    "# Save events table\n",
    "event.to_csv(output_dir + 'event_' + today + '.csv', index=False)"
   ]
  },
  {
   "cell_type": "code",
   "execution_count": 540,
   "metadata": {},
   "outputs": [],
   "source": [
    "# Save occurrence table\n",
    "occ.to_csv(output_dir + 'occurrence_' + today + '.csv', index=False)"
   ]
  },
  {
   "cell_type": "code",
   "execution_count": 542,
   "metadata": {},
   "outputs": [],
   "source": [
    "# Save EMOF table\n",
    "emof.to_csv(output_dir + 'emof_' + today + '.csv', index=False)"
   ]
  }
 ],
 "metadata": {
  "kernelspec": {
   "display_name": "Python 3 (ipykernel)",
   "language": "python",
   "name": "python3"
  },
  "language_info": {
   "codemirror_mode": {
    "name": "ipython",
    "version": 3
   },
   "file_extension": ".py",
   "mimetype": "text/x-python",
   "name": "python",
   "nbconvert_exporter": "python",
   "pygments_lexer": "ipython3",
   "version": "3.9.13"
  }
 },
 "nbformat": 4,
 "nbformat_minor": 4
}