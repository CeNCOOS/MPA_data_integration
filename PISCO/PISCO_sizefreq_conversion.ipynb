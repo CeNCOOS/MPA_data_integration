{
 "cells": [
  {
   "cell_type": "markdown",
   "metadata": {},
   "source": [
    "# PISCO - size frequency data\n",
    "\n",
    "Size frequency measurements of body size of targeted invertebrate species are recorded by divers both along benthic transects and at random locations within a study site. \n",
    "\n",
    "Measured sizes correspond with:\n",
    "- test diameter for urchins\n",
    "- length of longest arm for seastars\n",
    "- shell length for shelled mollusks\n",
    "- carapace length for lobsters\n",
    "- total turgid length for sea cucumbers\n",
    "\n",
    "In the case of urchins sampled by UCSB and VRG in Southern California, large numbers of individuals may be collected in bags and brought aboard the research vessel to facilitate measurement.\n",
    "\n",
    "**It sounds like some of the animals with recorded sizes here may also have recorded sizes in the swath table. Is that correct? If so, what is the best way to handle it?**\n",
    "    \n",
    "**Resources:** <br>\n",
    "https://opc.dataone.org/view/MLPA_kelpforest.metadata.1"
   ]
  },
  {
   "cell_type": "code",
   "execution_count": 1,
   "metadata": {},
   "outputs": [],
   "source": [
    "## Imports\n",
    "\n",
    "import pandas as pd\n",
    "import numpy as np\n",
    "\n",
    "from datetime import datetime # for handling dates"
   ]
  },
  {
   "cell_type": "code",
   "execution_count": 2,
   "metadata": {},
   "outputs": [],
   "source": [
    "## Ensure my general functions for the MPA data integration project can be imported, and import them\n",
    "\n",
    "import sys\n",
    "sys.path.insert(0, \"C:\\\\Users\\\\dianalg\\\\PycharmProjects\\\\PythonScripts\\\\MPA data integration\")\n",
    "\n",
    "import WoRMS # functions for querying WoRMS REST API"
   ]
  },
  {
   "cell_type": "markdown",
   "metadata": {},
   "source": [
    "## Load data"
   ]
  },
  {
   "cell_type": "code",
   "execution_count": 6,
   "metadata": {},
   "outputs": [
    {
     "name": "stdout",
     "output_type": "stream",
     "text": [
      "(80977, 18)\n"
     ]
    },
    {
     "data": {
      "text/html": [
       "<div>\n",
       "<style scoped>\n",
       "    .dataframe tbody tr th:only-of-type {\n",
       "        vertical-align: middle;\n",
       "    }\n",
       "\n",
       "    .dataframe tbody tr th {\n",
       "        vertical-align: top;\n",
       "    }\n",
       "\n",
       "    .dataframe thead th {\n",
       "        text-align: right;\n",
       "    }\n",
       "</style>\n",
       "<table border=\"1\" class=\"dataframe\">\n",
       "  <thead>\n",
       "    <tr style=\"text-align: right;\">\n",
       "      <th></th>\n",
       "      <th>campus</th>\n",
       "      <th>method</th>\n",
       "      <th>survey_year</th>\n",
       "      <th>year</th>\n",
       "      <th>month</th>\n",
       "      <th>day</th>\n",
       "      <th>site</th>\n",
       "      <th>location</th>\n",
       "      <th>zone</th>\n",
       "      <th>transect</th>\n",
       "      <th>classcode</th>\n",
       "      <th>count</th>\n",
       "      <th>size</th>\n",
       "      <th>disease</th>\n",
       "      <th>depth</th>\n",
       "      <th>observer</th>\n",
       "      <th>notes</th>\n",
       "      <th>site_name_old</th>\n",
       "    </tr>\n",
       "  </thead>\n",
       "  <tbody>\n",
       "    <tr>\n",
       "      <th>0</th>\n",
       "      <td>UCSC</td>\n",
       "      <td>SBTL_SWATH_PISCO</td>\n",
       "      <td>2014</td>\n",
       "      <td>2014</td>\n",
       "      <td>8</td>\n",
       "      <td>8</td>\n",
       "      <td>HOPKINS_UC</td>\n",
       "      <td>TRANSECT</td>\n",
       "      <td>INNER</td>\n",
       "      <td>1</td>\n",
       "      <td>APOCAL</td>\n",
       "      <td>1</td>\n",
       "      <td>7.0</td>\n",
       "      <td>NaN</td>\n",
       "      <td>4.6</td>\n",
       "      <td>COLIN GAYLORD</td>\n",
       "      <td>NaN</td>\n",
       "      <td>NaN</td>\n",
       "    </tr>\n",
       "    <tr>\n",
       "      <th>1</th>\n",
       "      <td>UCSC</td>\n",
       "      <td>SBTL_SWATH_PISCO</td>\n",
       "      <td>2018</td>\n",
       "      <td>2018</td>\n",
       "      <td>8</td>\n",
       "      <td>15</td>\n",
       "      <td>SAUNDERS_REFERENCE_1</td>\n",
       "      <td>TRANSECT</td>\n",
       "      <td>OUTER</td>\n",
       "      <td>2</td>\n",
       "      <td>ASTSPP</td>\n",
       "      <td>1</td>\n",
       "      <td>10.0</td>\n",
       "      <td>NaN</td>\n",
       "      <td>20.2</td>\n",
       "      <td>MICHAEL LANGHANS</td>\n",
       "      <td>NaN</td>\n",
       "      <td>NaN</td>\n",
       "    </tr>\n",
       "    <tr>\n",
       "      <th>2</th>\n",
       "      <td>UCSC</td>\n",
       "      <td>SBTL_SWATH_PISCO</td>\n",
       "      <td>2014</td>\n",
       "      <td>2014</td>\n",
       "      <td>7</td>\n",
       "      <td>3</td>\n",
       "      <td>MACABEE_DC</td>\n",
       "      <td>TRANSECT</td>\n",
       "      <td>OUTER</td>\n",
       "      <td>2</td>\n",
       "      <td>DERIMB</td>\n",
       "      <td>2</td>\n",
       "      <td>12.0</td>\n",
       "      <td>HEALTHY</td>\n",
       "      <td>12.3</td>\n",
       "      <td>TRISTIN MCHUGH</td>\n",
       "      <td>SIZE 10-14 CM</td>\n",
       "      <td>NaN</td>\n",
       "    </tr>\n",
       "    <tr>\n",
       "      <th>3</th>\n",
       "      <td>UCSC</td>\n",
       "      <td>SBTL_SWATH_PISCO</td>\n",
       "      <td>2014</td>\n",
       "      <td>2014</td>\n",
       "      <td>7</td>\n",
       "      <td>16</td>\n",
       "      <td>HOPKINS_DC</td>\n",
       "      <td>TRANSECT</td>\n",
       "      <td>MID</td>\n",
       "      <td>1</td>\n",
       "      <td>DERIMB</td>\n",
       "      <td>1</td>\n",
       "      <td>12.0</td>\n",
       "      <td>HEALTHY</td>\n",
       "      <td>8.8</td>\n",
       "      <td>TRISTIN MCHUGH</td>\n",
       "      <td>SIZE 10-14 CM</td>\n",
       "      <td>NaN</td>\n",
       "    </tr>\n",
       "    <tr>\n",
       "      <th>4</th>\n",
       "      <td>UCSC</td>\n",
       "      <td>SBTL_SWATH_PISCO</td>\n",
       "      <td>2014</td>\n",
       "      <td>2014</td>\n",
       "      <td>7</td>\n",
       "      <td>16</td>\n",
       "      <td>HOPKINS_DC</td>\n",
       "      <td>TRANSECT</td>\n",
       "      <td>MID</td>\n",
       "      <td>1</td>\n",
       "      <td>DERIMB</td>\n",
       "      <td>1</td>\n",
       "      <td>17.0</td>\n",
       "      <td>HEALTHY</td>\n",
       "      <td>8.8</td>\n",
       "      <td>TRISTIN MCHUGH</td>\n",
       "      <td>SIZE &lt;=15 CM</td>\n",
       "      <td>NaN</td>\n",
       "    </tr>\n",
       "  </tbody>\n",
       "</table>\n",
       "</div>"
      ],
      "text/plain": [
       "  campus            method  survey_year  year  month  day  \\\n",
       "0   UCSC  SBTL_SWATH_PISCO         2014  2014      8    8   \n",
       "1   UCSC  SBTL_SWATH_PISCO         2018  2018      8   15   \n",
       "2   UCSC  SBTL_SWATH_PISCO         2014  2014      7    3   \n",
       "3   UCSC  SBTL_SWATH_PISCO         2014  2014      7   16   \n",
       "4   UCSC  SBTL_SWATH_PISCO         2014  2014      7   16   \n",
       "\n",
       "                   site  location   zone transect classcode  count  size  \\\n",
       "0            HOPKINS_UC  TRANSECT  INNER        1    APOCAL      1   7.0   \n",
       "1  SAUNDERS_REFERENCE_1  TRANSECT  OUTER        2    ASTSPP      1  10.0   \n",
       "2            MACABEE_DC  TRANSECT  OUTER        2    DERIMB      2  12.0   \n",
       "3            HOPKINS_DC  TRANSECT    MID        1    DERIMB      1  12.0   \n",
       "4            HOPKINS_DC  TRANSECT    MID        1    DERIMB      1  17.0   \n",
       "\n",
       "   disease  depth          observer          notes site_name_old  \n",
       "0      NaN    4.6     COLIN GAYLORD            NaN           NaN  \n",
       "1      NaN   20.2  MICHAEL LANGHANS            NaN           NaN  \n",
       "2  HEALTHY   12.3    TRISTIN MCHUGH  SIZE 10-14 CM           NaN  \n",
       "3  HEALTHY    8.8    TRISTIN MCHUGH  SIZE 10-14 CM           NaN  \n",
       "4  HEALTHY    8.8    TRISTIN MCHUGH   SIZE <=15 CM           NaN  "
      ]
     },
     "execution_count": 6,
     "metadata": {},
     "output_type": "execute_result"
    }
   ],
   "source": [
    "## Load data\n",
    "\n",
    "filename = 'MLPA_kelpforest_sizefreq.1.csv'\n",
    "data = pd.read_csv(filename, encoding='ANSI', dtype={'transect':str, 'site_name_old':str})\n",
    "\n",
    "print(data.shape)\n",
    "data.head()"
   ]
  },
  {
   "cell_type": "markdown",
   "metadata": {},
   "source": [
    "### Column definitions\n",
    "\n",
    "**campus** = UCSC, USCB, HSU or VRG. The academic partner campus that conducted the survey. <br>\n",
    "**method** = SBTL_SWATH_PISCO, SBTL_SWATH_HSU or SBTL_SWATH_VRG. The code describing the sampling technique and monitoring program that conducted each survey. **How is this different than the previous column? Does it actually indicate further methodological differences?**\" <br>\n",
    "**survey_year** = 2003 - 2018. The designated year associated with the annual survey. In most cases, survey_year and year are the same. In rare cases, surveys are completed early in the year following the designated survey year. In these cases, survey_year will differ from year. <br>\n",
    "**year** = 2003 - 2018. Year that the survey was conducted. <br>\n",
    "**month** = 1 - 12. Month that the survey was conducted. <br>\n",
    "**day** = 1 - 31. Day that the survey was conducted. <br>\n",
    "**site** = One of 350 site codes. The unique site where the survey was performed (as defined in the site table). This site refers to a specific GPS location and is often associated with a geographic placename. Often, multiple site replicates will be associated with a single placename, and will be delineated with additional geographical or directional information (e.g. North/South/East/West/Central - N/S/E/W/CEN, Upcoast/Downcoast - UC/DC) <br>\n",
    "**location** = RANDOM, TRANSECT OR SIZE_TRANSECT. The location where the size observation was recorded. **Note that sizes recorded as part of PISCO and HSU swath surveys are duplicated in this dataset. These duplicated records should have method = SBTL_SWATH_PISCO or SBTL_SWATH_HSU.**\n",
    "- RANDOM: sizes were measured across the general site and were not specifically located on the swath/upc transect\n",
    "- TRANSECT: sizes were measured on the swath/upc transects\n",
    "- SIZE_TRANSECT: applies to HSU only where specific size frequency transects are conducted separately from swath/upc transects\n",
    "\n",
    "**zone** = INNER, OUTER, OUTMID, INMID, MID or DEEP. A division of the site into 2 to 4 categories representing onshore-offshore stratification associated with targeted bottom depths for transects.\n",
    "- INNER: Depth zone targeting roughly 5m of water depth, or the inner edge of the reef\n",
    "- INMID: Depth zone targeting roughly 10m of water depth \n",
    "- MID: Depth zone targeting roughly 10-15m of water depth, used by VRG and in early years of PISCO\n",
    "- OUTMID: Depth zone targeting roughly 15m of water depth \n",
    "- OUTER: Depth zone targeting roughly 20m of water depth \n",
    "- DEEP: Depth zone targeting roughly 25m of water depth, where present, used only by VRG\n",
    "\n",
    "**transect** = It seems like this should only be 1 - 8, but there are **a number of other designations as well.** The unique transect replicate within each site and zone. <br>\n",
    "**classcode** = One of 37 taxon codes. The unique taxonomic classification code that is being counted, as defined in the taxonomic table. This refers to a code that defines the Genus and Species that is identified, a code that represents a limited number of species that can't be narrowed down to one species, or in some cases family-level or higher order groupings. Generally, for invertebrates and algae, the classcode is comprised of the first letter of the genus, and the first three letters of the species, with some exceptions <br>\n",
    "**count** = The number of individuals of a given classcode and a given size (if applicable) per transect <br>\n",
    "**size** = Size (in centimeters) of observation. For specific species groups, measured sizes correspond with test diameter for urchins, length of longest arm for seastars, shell length for shelled mollusks, carapace length for lobsters, total turgid length for sea cucumbers. <br>\n",
    "**disease** = For some years echinoderm disease was recorded on transects for select species. When systematic observation for disease was conducted, disease is indicated here. Where blank, disease was not evaluated.\n",
    "- HEALTHY: Individual was inspected and no was disease observed\n",
    "- YES: Some form of disease was observed\n",
    "- MILD: Mild disease was observed\n",
    "- SEVERE: Severe disease was observed\n",
    "- WASTING: Wasting disease was observed\n",
    "- BLACK SPOT: Black spot disease was observed\n",
    "\n",
    "**depth** = Between 1.8 and 26.5 meters. Depth of the transect estimated by the diver. **Does this mean a dive computer was used?** <br>\n",
    "**observer** = The diver who conducted the survey transect <br>\n",
    "**notes** = Free text notes taken at the time of the sample, or added at the time of data entry. <br>\n",
    "**site_name_old** = In cases when specific sites have been surveyed by multiple campuses using different site names, this variable indicates the alternative (historical) site name.\n",
    "\n",
    "**NOTE THAT 25419 RECORDS HAVE METHOD = 'SBTL_SIZEFREQ_PISCO' AND LOCATION = 'TRANSECT'. VRG AND HSU DO NOT SEEM TO HAVE THIS PROBLEM. HOW DO I INTERPRET THESE RECORDS?**\n",
    "```python\n",
    "data[(data['method'] == 'SBTL_SIZEFREQ_PISCO') & (data['location'] == 'TRANSECT')]\n",
    "```\n",
    "\n",
    "**HOW SHOULD I INTERPRET THE TRANSECT FIELD FOR RECORDS WHERE LOCTION = RANDOM?**\n",
    "\n",
    "### Strategy\n",
    "\n",
    "Here, it seems like I should eliminate all the data from transects (i.e., the duplicated records that are already in the swath data). Once that is done, it seems like an event \n",
    "\n",
    "The **event** file should contain: eventID (from site, survey date, zone, transect), eventDate (from year, month, date), datasetID, locality (site), countryCode, decimalLat, decimalLon, coordinateUncertaintyInMeters, minimumDepthInMeters, maximumDepthInMeters, samplingProtocol, and samplingEffort. Should I include the campus information somewhere? Observer?\n",
    "\n",
    "The **occurrence** file should contain: eventID, occurrenceID, scientificName, scientificNameID, taxonID, nameAccordingTo, occurrenceStatus, basisOfRecord, identificationQualifier (for taxa with two possible species matches), occurrenceRemarks (any other necessary information, maybe disease), organismQuantity (count), organismQuantityType. **May try to include Cover data from UPC here, too, just with organismQuantityType as \"percent cover.\"**\n",
    "\n",
    "The **MoF** file should contain: eventID, occurrenceID, measurementType, measurementValue, measurementUnit and measurementMethod. Substrate and Relief (pct_cov values) can be recorded at the event level. Size can be recorded at the occurrence level."
   ]
  },
  {
   "cell_type": "code",
   "execution_count": 25,
   "metadata": {},
   "outputs": [
    {
     "data": {
      "text/plain": [
       "(80977, 18)"
      ]
     },
     "execution_count": 25,
     "metadata": {},
     "output_type": "execute_result"
    }
   ],
   "source": [
    "data.shape"
   ]
  },
  {
   "cell_type": "code",
   "execution_count": 56,
   "metadata": {},
   "outputs": [
    {
     "name": "stdout",
     "output_type": "stream",
     "text": [
      "(20150, 18)\n"
     ]
    },
    {
     "data": {
      "text/plain": [
       "array(['SBTL_SIZEFREQ_PISCO', 'SBTL_SIZEFREQ_HSU', 'SBTL_SIZEFREQ_VRG'],\n",
       "      dtype=object)"
      ]
     },
     "execution_count": 56,
     "metadata": {},
     "output_type": "execute_result"
    }
   ],
   "source": [
    "out = data[data['location'].isin(['RANDOM', 'SIZE_TRANSECT'])]\n",
    "print(out.shape)\n",
    "out['method'].unique()"
   ]
  },
  {
   "cell_type": "code",
   "execution_count": 61,
   "metadata": {},
   "outputs": [
    {
     "data": {
      "text/plain": [
       "array(['3', '4'], dtype=object)"
      ]
     },
     "execution_count": 61,
     "metadata": {},
     "output_type": "execute_result"
    }
   ],
   "source": [
    "out.loc[out['location'] == 'SIZE_TRANSECT', 'transect'].unique()"
   ]
  },
  {
   "cell_type": "markdown",
   "metadata": {},
   "source": [
    "NEXT: Trying to figure out how to define event/occurrence in this case. Should I include the transect value even though it doesn't make sense for location = RANDOM? Maybe I should be including method under sampleProtocol for all the PISCO data?"
   ]
  },
  {
   "cell_type": "code",
   "execution_count": null,
   "metadata": {},
   "outputs": [],
   "source": []
  }
 ],
 "metadata": {
  "kernelspec": {
   "display_name": "venv",
   "language": "python",
   "name": "venv"
  },
  "language_info": {
   "codemirror_mode": {
    "name": "ipython",
    "version": 3
   },
   "file_extension": ".py",
   "mimetype": "text/x-python",
   "name": "python",
   "nbconvert_exporter": "python",
   "pygments_lexer": "ipython3",
   "version": "3.7.5"
  }
 },
 "nbformat": 4,
 "nbformat_minor": 4
}
