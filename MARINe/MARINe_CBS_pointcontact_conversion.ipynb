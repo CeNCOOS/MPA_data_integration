{
 "cells": [
  {
   "cell_type": "markdown",
   "id": "44a7919c-da1c-466b-9050-4d874f2e3465",
   "metadata": {},
   "source": [
    "### Notebook for MBON Data Mobilization Workshop: Apr 18-19 2023\n",
    "\n",
    "##### Workshop agenda and resources found here: https://ioos.github.io/bio_mobilization_workshop/ \n",
    "\n",
    "##### DarwinCore Quick Reference Guide https://dwc.tdwg.org/terms/#dwc:measurementMethod\n",
    "\n",
    "\n",
    "Information about this dataset: \n",
    "- Multi-Agency Rocky Intertidal Network (MARINe) Coastal Biodiversity Surveys (point contact): https://data.piscoweb.org/metacatui/view/doi%3A10.6085%2FAA%2Fmarine_cbs.5.5 \n",
    "\n",
    "- Point Contact sampling consists of recording the diversity and abundance of invertebrates and algae along 11 transects of variable length extending from the upper intertidal to the low intertidal.\n",
    "\n",
    "- For this dataset, I am using an Event Core with an Occurence Extension and EMoF."
   ]
  },
  {
   "cell_type": "code",
   "execution_count": 47,
   "id": "30265290-7fb5-43ae-8d27-a50a0db9fc4b",
   "metadata": {},
   "outputs": [],
   "source": [
    "## Imports\n",
    "\n",
    "from datetime import date, datetime\n",
    "import os\n",
    "\n",
    "import numpy as np\n",
    "import pandas as pd\n",
    "\n",
    "import matplotlib.pyplot as plt\n",
    "import cartopy.crs as ccrs\n",
    "import cartopy.feature as cfeature\n",
    "\n",
    "import pyworms\n",
    "#import pprint"
   ]
  },
  {
   "cell_type": "markdown",
   "id": "4e3fafb5-f0fb-415f-a224-1ca03536021e",
   "metadata": {},
   "source": [
    "## Load Data"
   ]
  },
  {
   "cell_type": "code",
   "execution_count": 48,
   "id": "d6c8ebd8-58ed-4b54-89e7-c1d74b8eec8c",
   "metadata": {},
   "outputs": [],
   "source": [
    "## ----- ENTER VERSION NUMBER HERE -----\n",
    "\n",
    "version = '5_5'"
   ]
  },
  {
   "cell_type": "code",
   "execution_count": 120,
   "id": "83ae821d-1f87-400d-8217-05eab620ec83",
   "metadata": {},
   "outputs": [
    {
     "data": {
      "text/plain": [
       "['doi_10.6085_AA_marine_cbs.6.2-DATA.txt',\n",
       " 'doi_10.6085_AA_marine_cbs.7.2-DATA.txt',\n",
       " 'doi_10.6085_AA_marine_ltm.11.3-DATA.txt']"
      ]
     },
     "execution_count": 120,
     "metadata": {},
     "output_type": "execute_result"
    }
   ],
   "source": [
    "## Get directory info\n",
    "\n",
    "folder = os.path.join('raw', 'resourceMap_marine_cbs_' + version, 'data')\n",
    "filenames = [file for file in os.listdir(folder) if file.endswith('.txt') ]\n",
    "filenames.sort()\n",
    "filenames"
   ]
  },
  {
   "cell_type": "code",
   "execution_count": 50,
   "id": "e1a2e0e5-604c-46a0-b78d-3589aae57e31",
   "metadata": {},
   "outputs": [
    {
     "name": "stdout",
     "output_type": "stream",
     "text": [
      "(151776, 21)\n",
      "(274, 17)\n",
      "(739, 14)\n"
     ]
    }
   ],
   "source": [
    "# Load data\n",
    "\n",
    "data = pd.read_csv(os.path.join(folder, filenames[0]))\n",
    "print(data.shape)\n",
    "\n",
    "site = pd.read_csv(os.path.join(folder, filenames[2]))\n",
    "print(site.shape)\n",
    "\n",
    "species = pd.read_csv(os.path.join(folder, filenames[1]))\n",
    "print(species.shape)"
   ]
  },
  {
   "cell_type": "code",
   "execution_count": 51,
   "id": "29dbf836-f005-4a85-aae8-cbb953cecb0c",
   "metadata": {},
   "outputs": [
    {
     "data": {
      "text/html": [
       "<div>\n",
       "<style scoped>\n",
       "    .dataframe tbody tr th:only-of-type {\n",
       "        vertical-align: middle;\n",
       "    }\n",
       "\n",
       "    .dataframe tbody tr th {\n",
       "        vertical-align: top;\n",
       "    }\n",
       "\n",
       "    .dataframe thead th {\n",
       "        text-align: right;\n",
       "    }\n",
       "</style>\n",
       "<table border=\"1\" class=\"dataframe\">\n",
       "  <thead>\n",
       "    <tr style=\"text-align: right;\">\n",
       "      <th></th>\n",
       "      <th>marine_site_name</th>\n",
       "      <th>site_code</th>\n",
       "      <th>latitude</th>\n",
       "      <th>longitude</th>\n",
       "      <th>survey_rep</th>\n",
       "      <th>year</th>\n",
       "      <th>Min(sample_date)</th>\n",
       "      <th>Max(sample_date)</th>\n",
       "      <th>species_lump</th>\n",
       "      <th>number_of_hits</th>\n",
       "      <th>...</th>\n",
       "      <th>percent_cover</th>\n",
       "      <th>state_province</th>\n",
       "      <th>georegion</th>\n",
       "      <th>bioregion</th>\n",
       "      <th>mpa_designation</th>\n",
       "      <th>mpa_region</th>\n",
       "      <th>mpa_lt_region</th>\n",
       "      <th>mpa_name</th>\n",
       "      <th>island</th>\n",
       "      <th>last_updated</th>\n",
       "    </tr>\n",
       "  </thead>\n",
       "  <tbody>\n",
       "    <tr>\n",
       "      <th>0</th>\n",
       "      <td>Abalobadiah Creek</td>\n",
       "      <td>6009</td>\n",
       "      <td>39.569065</td>\n",
       "      <td>-123.77182</td>\n",
       "      <td>1</td>\n",
       "      <td>2015</td>\n",
       "      <td>2015-06-02</td>\n",
       "      <td>2015-06-02</td>\n",
       "      <td>Abietinaria/Amphisbetia spp</td>\n",
       "      <td>0</td>\n",
       "      <td>...</td>\n",
       "      <td>0.0</td>\n",
       "      <td>California</td>\n",
       "      <td>CA North</td>\n",
       "      <td>WA Olympic Coast to San Francisco</td>\n",
       "      <td>SMR</td>\n",
       "      <td>North Coast</td>\n",
       "      <td>North Coast</td>\n",
       "      <td>Ten Mile SMR</td>\n",
       "      <td>Mainland</td>\n",
       "      <td>2021-12-14</td>\n",
       "    </tr>\n",
       "    <tr>\n",
       "      <th>1</th>\n",
       "      <td>Abalobadiah Creek</td>\n",
       "      <td>6009</td>\n",
       "      <td>39.569065</td>\n",
       "      <td>-123.77182</td>\n",
       "      <td>1</td>\n",
       "      <td>2015</td>\n",
       "      <td>2015-06-02</td>\n",
       "      <td>2015-06-02</td>\n",
       "      <td>Acanthinucella spp</td>\n",
       "      <td>0</td>\n",
       "      <td>...</td>\n",
       "      <td>0.0</td>\n",
       "      <td>California</td>\n",
       "      <td>CA North</td>\n",
       "      <td>WA Olympic Coast to San Francisco</td>\n",
       "      <td>SMR</td>\n",
       "      <td>North Coast</td>\n",
       "      <td>North Coast</td>\n",
       "      <td>Ten Mile SMR</td>\n",
       "      <td>Mainland</td>\n",
       "      <td>2021-12-14</td>\n",
       "    </tr>\n",
       "  </tbody>\n",
       "</table>\n",
       "<p>2 rows × 21 columns</p>\n",
       "</div>"
      ],
      "text/plain": [
       "    marine_site_name  site_code   latitude  longitude  survey_rep  year  \\\n",
       "0  Abalobadiah Creek       6009  39.569065 -123.77182           1  2015   \n",
       "1  Abalobadiah Creek       6009  39.569065 -123.77182           1  2015   \n",
       "\n",
       "  Min(sample_date) Max(sample_date)                 species_lump  \\\n",
       "0       2015-06-02       2015-06-02  Abietinaria/Amphisbetia spp   \n",
       "1       2015-06-02       2015-06-02           Acanthinucella spp   \n",
       "\n",
       "   number_of_hits  ...  percent_cover  state_province georegion  \\\n",
       "0               0  ...            0.0      California  CA North   \n",
       "1               0  ...            0.0      California  CA North   \n",
       "\n",
       "                           bioregion mpa_designation   mpa_region  \\\n",
       "0  WA Olympic Coast to San Francisco             SMR  North Coast   \n",
       "1  WA Olympic Coast to San Francisco             SMR  North Coast   \n",
       "\n",
       "  mpa_lt_region      mpa_name    island last_updated  \n",
       "0   North Coast  Ten Mile SMR  Mainland   2021-12-14  \n",
       "1   North Coast  Ten Mile SMR  Mainland   2021-12-14  \n",
       "\n",
       "[2 rows x 21 columns]"
      ]
     },
     "execution_count": 51,
     "metadata": {},
     "output_type": "execute_result"
    }
   ],
   "source": [
    "data.head(2)"
   ]
  },
  {
   "cell_type": "markdown",
   "id": "11ae59a4-e185-4501-975d-c5b26687fb76",
   "metadata": {},
   "source": [
    "## Conversions\n",
    "\n",
    "- Event: we will define an event as a single survey, captured by site ID, min date, max date. \n",
    "- Occurence: a single observation of an organism during a survey"
   ]
  },
  {
   "cell_type": "code",
   "execution_count": 52,
   "id": "3459ca2d-106b-49ee-9da9-fb77663be375",
   "metadata": {},
   "outputs": [],
   "source": [
    "# Start by creating an empty occurence dataframe\n",
    "\n",
    "occ = pd.DataFrame()"
   ]
  },
  {
   "cell_type": "code",
   "execution_count": 53,
   "id": "448e1fcb-c641-4028-9007-70488c625135",
   "metadata": {},
   "outputs": [
    {
     "data": {
      "text/plain": [
       "'6009_2015-06-02_2015-06-02'"
      ]
     },
     "execution_count": 53,
     "metadata": {},
     "output_type": "execute_result"
    }
   ],
   "source": [
    "## eventID\n",
    "\n",
    "eventID = data['site_code'].astype(str) + '_' + data['Min(sample_date)'].astype(str) + '_' + data['Max(sample_date)'].astype(str)\n",
    "\n",
    "eventID[0]"
   ]
  },
  {
   "cell_type": "code",
   "execution_count": 54,
   "id": "50231ac1-f52a-4485-8a6b-84688731ed51",
   "metadata": {},
   "outputs": [
    {
     "data": {
      "text/plain": [
       "'2015-06-02/2015-06-02'"
      ]
     },
     "execution_count": 54,
     "metadata": {},
     "output_type": "execute_result"
    }
   ],
   "source": [
    "# eventDate (given as an interval between two dates)\n",
    "\n",
    "eventDate = data['Min(sample_date)'] + '/' + data['Max(sample_date)']\n",
    "eventDate[0]"
   ]
  },
  {
   "cell_type": "code",
   "execution_count": 55,
   "id": "7a601356-c481-43c0-a233-14fe69d3a75f",
   "metadata": {},
   "outputs": [],
   "source": [
    "# add to occ dataframe, in addition to a few other important Darwin Core terms\n",
    "\n",
    "occ['eventID'] = eventID\n",
    "occ['eventDate'] = eventDate\n",
    "\n",
    "# datasetName\n",
    "occ['datasetName'] = 'MARINe CBS - percent cover from point contact surveys'\n",
    "\n",
    "# basisOfRecord \n",
    "occ['basisOfRecord'] = 'HumanObservation'\n",
    "\n",
    "# geodeticDatum\n",
    "occ['geodeticDatum'] = 'WGS84'\n",
    "\n",
    "# Depth\n",
    "occ['minimumDepthInMeters'] = 0\n",
    "occ['maximumDepthInMeters'] = 0\n",
    "\n",
    "# samplingProtocol\n",
    "occ['samplingProtocol'] = 'cbs point contact'\n",
    "\n",
    "# coordinateUncertaintyInMeters\n",
    "occ['coordinateUncertaintyInMeters'] = 350"
   ]
  },
  {
   "cell_type": "code",
   "execution_count": 56,
   "id": "22019834-4757-48f8-9c1a-297d9c3c4d51",
   "metadata": {},
   "outputs": [
    {
     "data": {
      "text/plain": [
       "Index(['eventID', 'eventDate', 'datasetName', 'basisOfRecord', 'geodeticDatum',\n",
       "       'minimumDepthInMeters', 'maximumDepthInMeters', 'samplingProtocol',\n",
       "       'coordinateUncertaintyInMeters'],\n",
       "      dtype='object')"
      ]
     },
     "execution_count": 56,
     "metadata": {},
     "output_type": "execute_result"
    }
   ],
   "source": [
    "occ.columns"
   ]
  },
  {
   "cell_type": "code",
   "execution_count": 57,
   "id": "2a1fa6a2-d5a4-41c5-9b8c-c278dbb5ae73",
   "metadata": {},
   "outputs": [
    {
     "data": {
      "text/html": [
       "<div>\n",
       "<style scoped>\n",
       "    .dataframe tbody tr th:only-of-type {\n",
       "        vertical-align: middle;\n",
       "    }\n",
       "\n",
       "    .dataframe tbody tr th {\n",
       "        vertical-align: top;\n",
       "    }\n",
       "\n",
       "    .dataframe thead th {\n",
       "        text-align: right;\n",
       "    }\n",
       "</style>\n",
       "<table border=\"1\" class=\"dataframe\">\n",
       "  <thead>\n",
       "    <tr style=\"text-align: right;\">\n",
       "      <th></th>\n",
       "      <th>eventID</th>\n",
       "      <th>eventDate</th>\n",
       "      <th>datasetName</th>\n",
       "      <th>basisOfRecord</th>\n",
       "      <th>geodeticDatum</th>\n",
       "      <th>minimumDepthInMeters</th>\n",
       "      <th>maximumDepthInMeters</th>\n",
       "      <th>samplingProtocol</th>\n",
       "      <th>coordinateUncertaintyInMeters</th>\n",
       "    </tr>\n",
       "  </thead>\n",
       "  <tbody>\n",
       "    <tr>\n",
       "      <th>0</th>\n",
       "      <td>6009_2015-06-02_2015-06-02</td>\n",
       "      <td>2015-06-02/2015-06-02</td>\n",
       "      <td>MARINe CBS - percent cover from point contact ...</td>\n",
       "      <td>HumanObservation</td>\n",
       "      <td>WGS84</td>\n",
       "      <td>0</td>\n",
       "      <td>0</td>\n",
       "      <td>cbs point contact</td>\n",
       "      <td>350</td>\n",
       "    </tr>\n",
       "    <tr>\n",
       "      <th>1</th>\n",
       "      <td>6009_2015-06-02_2015-06-02</td>\n",
       "      <td>2015-06-02/2015-06-02</td>\n",
       "      <td>MARINe CBS - percent cover from point contact ...</td>\n",
       "      <td>HumanObservation</td>\n",
       "      <td>WGS84</td>\n",
       "      <td>0</td>\n",
       "      <td>0</td>\n",
       "      <td>cbs point contact</td>\n",
       "      <td>350</td>\n",
       "    </tr>\n",
       "  </tbody>\n",
       "</table>\n",
       "</div>"
      ],
      "text/plain": [
       "                      eventID              eventDate  \\\n",
       "0  6009_2015-06-02_2015-06-02  2015-06-02/2015-06-02   \n",
       "1  6009_2015-06-02_2015-06-02  2015-06-02/2015-06-02   \n",
       "\n",
       "                                         datasetName     basisOfRecord  \\\n",
       "0  MARINe CBS - percent cover from point contact ...  HumanObservation   \n",
       "1  MARINe CBS - percent cover from point contact ...  HumanObservation   \n",
       "\n",
       "  geodeticDatum  minimumDepthInMeters  maximumDepthInMeters  \\\n",
       "0         WGS84                     0                     0   \n",
       "1         WGS84                     0                     0   \n",
       "\n",
       "    samplingProtocol  coordinateUncertaintyInMeters  \n",
       "0  cbs point contact                            350  \n",
       "1  cbs point contact                            350  "
      ]
     },
     "execution_count": 57,
     "metadata": {},
     "output_type": "execute_result"
    }
   ],
   "source": [
    "occ.head(2)"
   ]
  },
  {
   "cell_type": "code",
   "execution_count": 58,
   "id": "4f353636-47f1-48b0-9f92-ddbfff004bca",
   "metadata": {},
   "outputs": [],
   "source": [
    "# Merge occurence table with site table to get coordinate locations, county, stateProvince, countryCode, decimalLat, decimalLon\n",
    "# Note that I merged on marine_site_name here instead of site_code because the site codes are numeric in the data and strings in the site table. Rani confirmed this is the right thing to do.\n",
    "\n",
    "occ['marine_site_name'] = data['marine_site_name']\n",
    "\n",
    "# Define columns to merge from site table\n",
    "site_cols = [\n",
    "    'marine_site_name',\n",
    "    'county',\n",
    "    'state_province',\n",
    "    'country',\n",
    "    'latitude',\n",
    "    'longitude',\n",
    "]\n",
    "\n",
    "\n",
    "# Define DwC terms for these columns after merge\n",
    "dwc_cols = [\n",
    "    'eventID',\n",
    "    'eventDate',\n",
    "    'datasetName',\n",
    "    'basisOfRecord',\n",
    "    'geodeticDatum',\n",
    "    'minimumDepthInMeters',\n",
    "    'maximumDepthInMeters',\n",
    "    'samplingProtocol',\n",
    "    'coordinateUncertaintyInMeters',\n",
    "    'locality',\n",
    "    'county',\n",
    "    'stateProvince',\n",
    "    'countryCode',\n",
    "    'decimalLatitude',\n",
    "    'decimalLongitude',\n",
    "]\n",
    "\n",
    "# Merge\n",
    "occ = occ.merge(site[site_cols], how='left', on='marine_site_name')\n"
   ]
  },
  {
   "cell_type": "code",
   "execution_count": 59,
   "id": "2d337d14-7927-463d-aafd-c5034e6c2c7b",
   "metadata": {},
   "outputs": [
    {
     "data": {
      "text/plain": [
       "(15, 15)"
      ]
     },
     "execution_count": 59,
     "metadata": {},
     "output_type": "execute_result"
    }
   ],
   "source": [
    "len(occ.columns), len(dwc_cols)"
   ]
  },
  {
   "cell_type": "code",
   "execution_count": 60,
   "id": "3ae773e4-8cd2-46d8-ad1f-a9e19ffc438c",
   "metadata": {},
   "outputs": [],
   "source": [
    "# Change column names to DwC\n",
    "occ.columns = dwc_cols "
   ]
  },
  {
   "cell_type": "code",
   "execution_count": 61,
   "id": "945e69c9-9e50-4f17-bd6e-4d30b8841ea1",
   "metadata": {},
   "outputs": [],
   "source": [
    "## Note there are a number of sites outside of the U.S. so using counties does not make sense here. Instead will change to np.nan\n",
    "occ.loc[occ['county'] == 'Not Applicable', 'county'] = np.nan"
   ]
  },
  {
   "cell_type": "code",
   "execution_count": 62,
   "id": "42fd3634-db88-49e3-9669-83d83564035e",
   "metadata": {},
   "outputs": [],
   "source": [
    "# Add ISO 3166-1-alpha-2 country code: https://www.iso.org/obp/ui/#search \n",
    "\n",
    "occ['countryCode'] = occ['countryCode'].replace({'United States': 'US',\n",
    "                                                 'Mexico': 'MX',\n",
    "                                                 'Canada': 'CA'})"
   ]
  },
  {
   "cell_type": "code",
   "execution_count": 63,
   "id": "eba772ba-c94c-4b9d-a412-edc783717f8a",
   "metadata": {},
   "outputs": [],
   "source": [
    "## occurrenceID (eventID + count number of occurence along a transect) \n",
    "\n",
    "occ['occurrenceID'] = data.groupby(['site_code', \n",
    "                                    'Min(sample_date)', \n",
    "                                    'Max(sample_date)'])['species_lump'].cumcount()+1\n",
    "\n",
    "\n",
    "occ['occurrenceID'] = occ['eventID'] + '_' + occ['occurrenceID'].astype(str)"
   ]
  },
  {
   "cell_type": "code",
   "execution_count": 64,
   "id": "4f289900-e738-4d12-be95-21afb3268d69",
   "metadata": {},
   "outputs": [],
   "source": [
    "# occurrenceStatus\n",
    "\n",
    "occ['percent_cover'] = data['percent_cover']\n",
    "\n",
    "occ['occurrenceStatus'] = ''\n",
    "\n",
    "# specify presence or absense for each row\n",
    "occ.loc[occ.percent_cover == 0.0, ['occurrenceStatus']] = 'absent'\n",
    "occ.loc[occ.percent_cover > 0.0, ['occurrenceStatus']] = 'present'"
   ]
  },
  {
   "cell_type": "code",
   "execution_count": 65,
   "id": "97040c85-a494-4072-946e-f384caf3bf58",
   "metadata": {},
   "outputs": [],
   "source": [
    "# organismQuantity information\n",
    "\n",
    "occ['organismQuantity'] = data['percent_cover']\n",
    "occ['organismQuantityType'] = 'Percent cover'\n"
   ]
  },
  {
   "cell_type": "code",
   "execution_count": 66,
   "id": "5cc0f091-eff5-4490-be55-9c98933aad67",
   "metadata": {},
   "outputs": [],
   "source": [
    "# occurrenceStatus\n",
    "\n",
    "occ['occurrenceStatus'] = ''\n",
    "\n",
    "# specify presence or absense for each row\n",
    "occ.loc[occ.organismQuantity == 0.0, ['occurrenceStatus']] = 'absent'\n",
    "occ.loc[occ.organismQuantity > 0.0, ['occurrenceStatus']] = 'present'"
   ]
  },
  {
   "cell_type": "code",
   "execution_count": 67,
   "id": "7e576105-4a06-4467-9bba-6c4c8d0ddeb2",
   "metadata": {},
   "outputs": [
    {
     "data": {
      "text/html": [
       "<div>\n",
       "<style scoped>\n",
       "    .dataframe tbody tr th:only-of-type {\n",
       "        vertical-align: middle;\n",
       "    }\n",
       "\n",
       "    .dataframe tbody tr th {\n",
       "        vertical-align: top;\n",
       "    }\n",
       "\n",
       "    .dataframe thead th {\n",
       "        text-align: right;\n",
       "    }\n",
       "</style>\n",
       "<table border=\"1\" class=\"dataframe\">\n",
       "  <thead>\n",
       "    <tr style=\"text-align: right;\">\n",
       "      <th></th>\n",
       "      <th>eventID</th>\n",
       "      <th>eventDate</th>\n",
       "      <th>datasetName</th>\n",
       "      <th>basisOfRecord</th>\n",
       "      <th>geodeticDatum</th>\n",
       "      <th>minimumDepthInMeters</th>\n",
       "      <th>maximumDepthInMeters</th>\n",
       "      <th>samplingProtocol</th>\n",
       "      <th>coordinateUncertaintyInMeters</th>\n",
       "      <th>locality</th>\n",
       "      <th>county</th>\n",
       "      <th>stateProvince</th>\n",
       "      <th>countryCode</th>\n",
       "      <th>decimalLatitude</th>\n",
       "      <th>decimalLongitude</th>\n",
       "      <th>occurrenceID</th>\n",
       "      <th>percent_cover</th>\n",
       "      <th>occurrenceStatus</th>\n",
       "      <th>organismQuantity</th>\n",
       "      <th>organismQuantityType</th>\n",
       "    </tr>\n",
       "  </thead>\n",
       "  <tbody>\n",
       "    <tr>\n",
       "      <th>0</th>\n",
       "      <td>6009_2015-06-02_2015-06-02</td>\n",
       "      <td>2015-06-02/2015-06-02</td>\n",
       "      <td>MARINe CBS - percent cover from point contact ...</td>\n",
       "      <td>HumanObservation</td>\n",
       "      <td>WGS84</td>\n",
       "      <td>0</td>\n",
       "      <td>0</td>\n",
       "      <td>cbs point contact</td>\n",
       "      <td>350</td>\n",
       "      <td>Abalobadiah Creek</td>\n",
       "      <td>Mendocino</td>\n",
       "      <td>California</td>\n",
       "      <td>US</td>\n",
       "      <td>39.569065</td>\n",
       "      <td>-123.77182</td>\n",
       "      <td>6009_2015-06-02_2015-06-02_1</td>\n",
       "      <td>0.0</td>\n",
       "      <td>absent</td>\n",
       "      <td>0.0</td>\n",
       "      <td>Percent cover</td>\n",
       "    </tr>\n",
       "    <tr>\n",
       "      <th>1</th>\n",
       "      <td>6009_2015-06-02_2015-06-02</td>\n",
       "      <td>2015-06-02/2015-06-02</td>\n",
       "      <td>MARINe CBS - percent cover from point contact ...</td>\n",
       "      <td>HumanObservation</td>\n",
       "      <td>WGS84</td>\n",
       "      <td>0</td>\n",
       "      <td>0</td>\n",
       "      <td>cbs point contact</td>\n",
       "      <td>350</td>\n",
       "      <td>Abalobadiah Creek</td>\n",
       "      <td>Mendocino</td>\n",
       "      <td>California</td>\n",
       "      <td>US</td>\n",
       "      <td>39.569065</td>\n",
       "      <td>-123.77182</td>\n",
       "      <td>6009_2015-06-02_2015-06-02_2</td>\n",
       "      <td>0.0</td>\n",
       "      <td>absent</td>\n",
       "      <td>0.0</td>\n",
       "      <td>Percent cover</td>\n",
       "    </tr>\n",
       "  </tbody>\n",
       "</table>\n",
       "</div>"
      ],
      "text/plain": [
       "                      eventID              eventDate  \\\n",
       "0  6009_2015-06-02_2015-06-02  2015-06-02/2015-06-02   \n",
       "1  6009_2015-06-02_2015-06-02  2015-06-02/2015-06-02   \n",
       "\n",
       "                                         datasetName     basisOfRecord  \\\n",
       "0  MARINe CBS - percent cover from point contact ...  HumanObservation   \n",
       "1  MARINe CBS - percent cover from point contact ...  HumanObservation   \n",
       "\n",
       "  geodeticDatum  minimumDepthInMeters  maximumDepthInMeters  \\\n",
       "0         WGS84                     0                     0   \n",
       "1         WGS84                     0                     0   \n",
       "\n",
       "    samplingProtocol  coordinateUncertaintyInMeters           locality  \\\n",
       "0  cbs point contact                            350  Abalobadiah Creek   \n",
       "1  cbs point contact                            350  Abalobadiah Creek   \n",
       "\n",
       "      county stateProvince countryCode  decimalLatitude  decimalLongitude  \\\n",
       "0  Mendocino    California          US        39.569065        -123.77182   \n",
       "1  Mendocino    California          US        39.569065        -123.77182   \n",
       "\n",
       "                   occurrenceID  percent_cover occurrenceStatus  \\\n",
       "0  6009_2015-06-02_2015-06-02_1            0.0           absent   \n",
       "1  6009_2015-06-02_2015-06-02_2            0.0           absent   \n",
       "\n",
       "   organismQuantity organismQuantityType  \n",
       "0               0.0        Percent cover  \n",
       "1               0.0        Percent cover  "
      ]
     },
     "execution_count": 67,
     "metadata": {},
     "output_type": "execute_result"
    }
   ],
   "source": [
    "occ.head(2)"
   ]
  },
  {
   "cell_type": "markdown",
   "id": "50012202-43d7-4c8c-8395-a336f0e02e98",
   "metadata": {},
   "source": [
    "#### ScientificName / WoRMS Lookup\n",
    "\n",
    "Note that species_lump is defined as: The unique name that references the taxonomic, functional, morphologic, or geologic concept being observed. This is a lumped species name, and may include one or more final_classification values."
   ]
  },
  {
   "cell_type": "code",
   "execution_count": 68,
   "id": "6b59e02c-f489-40ba-88e1-6852f25c9a92",
   "metadata": {},
   "outputs": [],
   "source": [
    "# Get species codes\n",
    "occ['scientificName'] = data['species_lump']"
   ]
  },
  {
   "cell_type": "code",
   "execution_count": 69,
   "id": "21597f84-de46-4091-953d-a8932a4fbc8a",
   "metadata": {},
   "outputs": [
    {
     "data": {
      "text/html": [
       "<div>\n",
       "<style scoped>\n",
       "    .dataframe tbody tr th:only-of-type {\n",
       "        vertical-align: middle;\n",
       "    }\n",
       "\n",
       "    .dataframe tbody tr th {\n",
       "        vertical-align: top;\n",
       "    }\n",
       "\n",
       "    .dataframe thead th {\n",
       "        text-align: right;\n",
       "    }\n",
       "</style>\n",
       "<table border=\"1\" class=\"dataframe\">\n",
       "  <thead>\n",
       "    <tr style=\"text-align: right;\">\n",
       "      <th></th>\n",
       "      <th>species_lump</th>\n",
       "      <th>kingdom</th>\n",
       "      <th>phylum</th>\n",
       "      <th>class</th>\n",
       "      <th>order</th>\n",
       "      <th>family</th>\n",
       "      <th>genus</th>\n",
       "      <th>species</th>\n",
       "    </tr>\n",
       "  </thead>\n",
       "  <tbody>\n",
       "    <tr>\n",
       "      <th>0</th>\n",
       "      <td>Abietinaria/Amphisbetia spp</td>\n",
       "      <td>Animalia</td>\n",
       "      <td>Cnidaria</td>\n",
       "      <td>Hydrozoa</td>\n",
       "      <td>Leptothecata</td>\n",
       "      <td>Sertulariidae</td>\n",
       "      <td>NaN</td>\n",
       "      <td>NaN</td>\n",
       "    </tr>\n",
       "    <tr>\n",
       "      <th>1</th>\n",
       "      <td>Acanthina paucilirata</td>\n",
       "      <td>Animalia</td>\n",
       "      <td>Mollusca</td>\n",
       "      <td>Gastropoda</td>\n",
       "      <td>Neogastropoda</td>\n",
       "      <td>Muricidae</td>\n",
       "      <td>Acanthina</td>\n",
       "      <td>Acanthina paucilirata</td>\n",
       "    </tr>\n",
       "  </tbody>\n",
       "</table>\n",
       "</div>"
      ],
      "text/plain": [
       "                  species_lump   kingdom    phylum       class          order  \\\n",
       "0  Abietinaria/Amphisbetia spp  Animalia  Cnidaria    Hydrozoa   Leptothecata   \n",
       "1        Acanthina paucilirata  Animalia  Mollusca  Gastropoda  Neogastropoda   \n",
       "\n",
       "          family      genus                species  \n",
       "0  Sertulariidae        NaN                    NaN  \n",
       "1      Muricidae  Acanthina  Acanthina paucilirata  "
      ]
     },
     "execution_count": 69,
     "metadata": {},
     "output_type": "execute_result"
    }
   ],
   "source": [
    "# Create scientificName column in species table\n",
    "sp = species[['species_lump', 'kingdom', 'phylum', 'class', 'order', 'family', 'genus', 'species']].copy()\n",
    "\n",
    "sp.head(2)"
   ]
  },
  {
   "cell_type": "code",
   "execution_count": 70,
   "id": "85b2bcdb-e334-4c6a-9e72-63c8e10ef763",
   "metadata": {},
   "outputs": [
    {
     "name": "stdout",
     "output_type": "stream",
     "text": [
      "number of unique names = 640\n"
     ]
    }
   ],
   "source": [
    "# if the species name is unavailable, fill using family. If family is unavailable, fill using order... etc. \n",
    "\n",
    "sp['scientificName'] = sp['species']\n",
    "sp['scientificName'] = sp['scientificName'].combine_first(sp['family'])\n",
    "sp['scientificName'] = sp['scientificName'].combine_first(sp['order'])\n",
    "sp['scientificName'] = sp['scientificName'].combine_first(sp['class'])\n",
    "sp['scientificName'] = sp['scientificName'].combine_first(sp['phylum'])\n",
    "sp['scientificName'] = sp['scientificName'].combine_first(sp['kingdom'])\n",
    "\n",
    "print('number of unique names =' ,len(sp.scientificName.unique()))\n"
   ]
  },
  {
   "cell_type": "code",
   "execution_count": 71,
   "id": "1ec76351-7287-4fb9-9ba6-b86cb1d3e9ad",
   "metadata": {},
   "outputs": [
    {
     "data": {
      "text/html": [
       "<div>\n",
       "<style scoped>\n",
       "    .dataframe tbody tr th:only-of-type {\n",
       "        vertical-align: middle;\n",
       "    }\n",
       "\n",
       "    .dataframe tbody tr th {\n",
       "        vertical-align: top;\n",
       "    }\n",
       "\n",
       "    .dataframe thead th {\n",
       "        text-align: right;\n",
       "    }\n",
       "</style>\n",
       "<table border=\"1\" class=\"dataframe\">\n",
       "  <thead>\n",
       "    <tr style=\"text-align: right;\">\n",
       "      <th></th>\n",
       "      <th>species_lump</th>\n",
       "      <th>kingdom</th>\n",
       "      <th>phylum</th>\n",
       "      <th>class</th>\n",
       "      <th>order</th>\n",
       "      <th>family</th>\n",
       "      <th>genus</th>\n",
       "      <th>species</th>\n",
       "      <th>scientificName</th>\n",
       "    </tr>\n",
       "  </thead>\n",
       "  <tbody>\n",
       "    <tr>\n",
       "      <th>0</th>\n",
       "      <td>Abietinaria/Amphisbetia spp</td>\n",
       "      <td>Animalia</td>\n",
       "      <td>Cnidaria</td>\n",
       "      <td>Hydrozoa</td>\n",
       "      <td>Leptothecata</td>\n",
       "      <td>Sertulariidae</td>\n",
       "      <td>NaN</td>\n",
       "      <td>NaN</td>\n",
       "      <td>Sertulariidae</td>\n",
       "    </tr>\n",
       "    <tr>\n",
       "      <th>1</th>\n",
       "      <td>Acanthina paucilirata</td>\n",
       "      <td>Animalia</td>\n",
       "      <td>Mollusca</td>\n",
       "      <td>Gastropoda</td>\n",
       "      <td>Neogastropoda</td>\n",
       "      <td>Muricidae</td>\n",
       "      <td>Acanthina</td>\n",
       "      <td>Acanthina paucilirata</td>\n",
       "      <td>Acanthina paucilirata</td>\n",
       "    </tr>\n",
       "  </tbody>\n",
       "</table>\n",
       "</div>"
      ],
      "text/plain": [
       "                  species_lump   kingdom    phylum       class          order  \\\n",
       "0  Abietinaria/Amphisbetia spp  Animalia  Cnidaria    Hydrozoa   Leptothecata   \n",
       "1        Acanthina paucilirata  Animalia  Mollusca  Gastropoda  Neogastropoda   \n",
       "\n",
       "          family      genus                species         scientificName  \n",
       "0  Sertulariidae        NaN                    NaN          Sertulariidae  \n",
       "1      Muricidae  Acanthina  Acanthina paucilirata  Acanthina paucilirata  "
      ]
     },
     "execution_count": 71,
     "metadata": {},
     "output_type": "execute_result"
    }
   ],
   "source": [
    "sp.head(2)"
   ]
  },
  {
   "cell_type": "code",
   "execution_count": 72,
   "id": "1df8ffc3-fcb3-4ccc-958f-1bea812c672b",
   "metadata": {},
   "outputs": [],
   "source": [
    "# Remove rows where species_lump = 'DROP'\n",
    "sp = sp[sp['species_lump'] != 'DROP']\n",
    "\n",
    "# Build dictionary mapping codes to names\n",
    "sp_dict = dict(zip(sp['species_lump'], sp['scientificName']))"
   ]
  },
  {
   "cell_type": "code",
   "execution_count": 73,
   "id": "f4e01db8-f612-460c-9c8d-5accfc92fc78",
   "metadata": {},
   "outputs": [],
   "source": [
    "# Match abiotic names with themselves instead of np.nan\n",
    "sp_dict.update({\n",
    "    'Rock':'Rock',\n",
    "    'Sand':'Sand',\n",
    "    'Tar':'Tar',\n",
    "}\n",
    ")"
   ]
  },
  {
   "cell_type": "code",
   "execution_count": 74,
   "id": "14a0087c-89f7-474b-af5c-112a704e220e",
   "metadata": {},
   "outputs": [],
   "source": [
    "# Get rid of \"(Division)\" designation in one dict value\n",
    "sp_dict.update({\n",
    "    'Red Crust':'Rhodophyta',\n",
    "})"
   ]
  },
  {
   "cell_type": "code",
   "execution_count": 75,
   "id": "9b0ee92b-c098-49e4-9e98-c15c119206bf",
   "metadata": {},
   "outputs": [
    {
     "data": {
      "text/html": [
       "<div>\n",
       "<style scoped>\n",
       "    .dataframe tbody tr th:only-of-type {\n",
       "        vertical-align: middle;\n",
       "    }\n",
       "\n",
       "    .dataframe tbody tr th {\n",
       "        vertical-align: top;\n",
       "    }\n",
       "\n",
       "    .dataframe thead th {\n",
       "        text-align: right;\n",
       "    }\n",
       "</style>\n",
       "<table border=\"1\" class=\"dataframe\">\n",
       "  <thead>\n",
       "    <tr style=\"text-align: right;\">\n",
       "      <th></th>\n",
       "      <th>eventID</th>\n",
       "      <th>eventDate</th>\n",
       "      <th>datasetName</th>\n",
       "      <th>basisOfRecord</th>\n",
       "      <th>geodeticDatum</th>\n",
       "      <th>minimumDepthInMeters</th>\n",
       "      <th>maximumDepthInMeters</th>\n",
       "      <th>samplingProtocol</th>\n",
       "      <th>coordinateUncertaintyInMeters</th>\n",
       "      <th>locality</th>\n",
       "      <th>...</th>\n",
       "      <th>stateProvince</th>\n",
       "      <th>countryCode</th>\n",
       "      <th>decimalLatitude</th>\n",
       "      <th>decimalLongitude</th>\n",
       "      <th>occurrenceID</th>\n",
       "      <th>percent_cover</th>\n",
       "      <th>occurrenceStatus</th>\n",
       "      <th>organismQuantity</th>\n",
       "      <th>organismQuantityType</th>\n",
       "      <th>scientificName</th>\n",
       "    </tr>\n",
       "  </thead>\n",
       "  <tbody>\n",
       "    <tr>\n",
       "      <th>0</th>\n",
       "      <td>6009_2015-06-02_2015-06-02</td>\n",
       "      <td>2015-06-02/2015-06-02</td>\n",
       "      <td>MARINe CBS - percent cover from point contact ...</td>\n",
       "      <td>HumanObservation</td>\n",
       "      <td>WGS84</td>\n",
       "      <td>0</td>\n",
       "      <td>0</td>\n",
       "      <td>cbs point contact</td>\n",
       "      <td>350</td>\n",
       "      <td>Abalobadiah Creek</td>\n",
       "      <td>...</td>\n",
       "      <td>California</td>\n",
       "      <td>US</td>\n",
       "      <td>39.569065</td>\n",
       "      <td>-123.77182</td>\n",
       "      <td>6009_2015-06-02_2015-06-02_1</td>\n",
       "      <td>0.0</td>\n",
       "      <td>absent</td>\n",
       "      <td>0.0</td>\n",
       "      <td>Percent cover</td>\n",
       "      <td>Amphisbetia greenei</td>\n",
       "    </tr>\n",
       "    <tr>\n",
       "      <th>1</th>\n",
       "      <td>6009_2015-06-02_2015-06-02</td>\n",
       "      <td>2015-06-02/2015-06-02</td>\n",
       "      <td>MARINe CBS - percent cover from point contact ...</td>\n",
       "      <td>HumanObservation</td>\n",
       "      <td>WGS84</td>\n",
       "      <td>0</td>\n",
       "      <td>0</td>\n",
       "      <td>cbs point contact</td>\n",
       "      <td>350</td>\n",
       "      <td>Abalobadiah Creek</td>\n",
       "      <td>...</td>\n",
       "      <td>California</td>\n",
       "      <td>US</td>\n",
       "      <td>39.569065</td>\n",
       "      <td>-123.77182</td>\n",
       "      <td>6009_2015-06-02_2015-06-02_2</td>\n",
       "      <td>0.0</td>\n",
       "      <td>absent</td>\n",
       "      <td>0.0</td>\n",
       "      <td>Percent cover</td>\n",
       "      <td>Muricidae</td>\n",
       "    </tr>\n",
       "  </tbody>\n",
       "</table>\n",
       "<p>2 rows × 21 columns</p>\n",
       "</div>"
      ],
      "text/plain": [
       "                      eventID              eventDate  \\\n",
       "0  6009_2015-06-02_2015-06-02  2015-06-02/2015-06-02   \n",
       "1  6009_2015-06-02_2015-06-02  2015-06-02/2015-06-02   \n",
       "\n",
       "                                         datasetName     basisOfRecord  \\\n",
       "0  MARINe CBS - percent cover from point contact ...  HumanObservation   \n",
       "1  MARINe CBS - percent cover from point contact ...  HumanObservation   \n",
       "\n",
       "  geodeticDatum  minimumDepthInMeters  maximumDepthInMeters  \\\n",
       "0         WGS84                     0                     0   \n",
       "1         WGS84                     0                     0   \n",
       "\n",
       "    samplingProtocol  coordinateUncertaintyInMeters           locality  ...  \\\n",
       "0  cbs point contact                            350  Abalobadiah Creek  ...   \n",
       "1  cbs point contact                            350  Abalobadiah Creek  ...   \n",
       "\n",
       "  stateProvince countryCode decimalLatitude  decimalLongitude  \\\n",
       "0    California          US       39.569065        -123.77182   \n",
       "1    California          US       39.569065        -123.77182   \n",
       "\n",
       "                   occurrenceID percent_cover  occurrenceStatus  \\\n",
       "0  6009_2015-06-02_2015-06-02_1           0.0            absent   \n",
       "1  6009_2015-06-02_2015-06-02_2           0.0            absent   \n",
       "\n",
       "  organismQuantity  organismQuantityType       scientificName  \n",
       "0              0.0         Percent cover  Amphisbetia greenei  \n",
       "1              0.0         Percent cover            Muricidae  \n",
       "\n",
       "[2 rows x 21 columns]"
      ]
     },
     "execution_count": 75,
     "metadata": {},
     "output_type": "execute_result"
    }
   ],
   "source": [
    "# Replace codes with names in sp_dict\n",
    "occ['scientificName'] = occ['scientificName'].replace(sp_dict)\n",
    "occ.head(2)"
   ]
  },
  {
   "cell_type": "code",
   "execution_count": 76,
   "id": "cda95321-ef2c-488d-88cf-ee0f9ca5a8dc",
   "metadata": {},
   "outputs": [
    {
     "name": "stdout",
     "output_type": "stream",
     "text": [
      "number of unique scientificName entries = 383\n"
     ]
    }
   ],
   "source": [
    "print('number of unique scientificName entries =',len(occ['scientificName'].unique()))"
   ]
  },
  {
   "cell_type": "code",
   "execution_count": 78,
   "id": "c437280d-2866-4a11-8989-9a97beaa64cc",
   "metadata": {},
   "outputs": [],
   "source": [
    "# Use pyworms to match WoRMS scientificNameID, taxonRank, kingdom, match_type. \n",
    "# The print statements were commented out bc it was printing in a loop, but can be removed to see output. \n",
    "# Note this can take ~10 min to run. \n",
    "\n",
    "# Iterate row by row through the data frame and query worms for each ScientificName term.\n",
    "for index, row in occ.iterrows():\n",
    "    resp = pyworms.aphiaRecordsByMatchNames(row['scientificName'], marine_only=True)\n",
    "      \n",
    "   # When no matches are found, print the non-matching name and move on\n",
    "    if len(resp[0]) == 0:\n",
    "        #print('\\nNo match for name \"{}\"'.format(row['scientificName']))\n",
    "        continue\n",
    "   \n",
    "   # When more than 1 match is found, the user needs to take a look. But tell the user which one has multiple matches\n",
    "    elif len(resp[0]) > 1:\n",
    "        #print('\\nMultiple matches for name \"{}\":'.format(row['scientificName']))\n",
    "        #pprint.pprint(resp[0], indent=4)\n",
    "        continue\n",
    "   \n",
    "   # When only 1 match is found, put the appropriate information into the appropriate row and column\n",
    "    else:\n",
    "        worms = resp[0][0]\n",
    "        occ.loc[index, 'scientificNameID'] = worms['lsid']\n",
    "        occ.loc[index, 'taxonRank'] = worms['rank']\n",
    "        occ.loc[index, 'kingdom'] = worms['kingdom']\n",
    "        occ.loc[index, 'match_type'] = worms['match_type']\n",
    "        "
   ]
  },
  {
   "cell_type": "code",
   "execution_count": 79,
   "id": "b32f625e-bc61-4d9a-ad19-d0639d599f68",
   "metadata": {},
   "outputs": [],
   "source": [
    "# Based on pyworms query, make necessary manual changes based on multiple matches being found in several cases\n",
    "occ.loc[occ.scientificName == 'Calliostoma canaliculatum', ['scientificNameID', 'taxonRank', 'kingdom' ]] = 'urn:lsid:marinespecies.org:taxname:467171', 'Species', 'Animalia'\n",
    "occ.loc[occ.scientificName == 'Terebellidae', ['scientificNameID', 'taxonRank', 'kingdom' ]] = 'urn:lsid:marinespecies.org:taxname:982', 'Family', 'Animalia'\n",
    "occ.loc[occ.scientificName == 'Serpula vermicularis', ['scientificNameID', 'taxonRank', 'kingdom' ]] = 'urn:lsid:marinespecies.org:taxname:131051', 'Species', 'Animalia'\n",
    "\n",
    "#Tar is being changed to Lar Gosse (urn:lsid:marinespecies.org:taxname:158167). This needs to manually be changed as well.\n",
    "occ.loc[occ.scientificName == 'Tar', ['scientificNameID', 'taxonRank', 'kingdom' ]] = '', '', ''\n"
   ]
  },
  {
   "cell_type": "code",
   "execution_count": 80,
   "id": "e4c08ff9-61aa-4342-a0b4-43c9903dc191",
   "metadata": {},
   "outputs": [],
   "source": [
    "# I am using occurenceRemarks entry to define abiotic data. This was based on a similar approach taken in an OBIS dataset that Abby pointed me to: https://ipt-obis.gbif.us/resource?r=prcrmp_database#anchor-description \n",
    "\n",
    "occ['occurrenceRemarks'] = ''\n",
    "\n",
    "# specify the type of abiotic observation for tar, sand, rock \n",
    "occ.loc[occ.scientificName == 'Tar', ['occurrenceRemarks']] = 'Abiotic - Tar'\n",
    "occ.loc[occ.scientificName == 'Sand', ['occurrenceRemarks']] = 'Abiotic - Sand'\n",
    "occ.loc[occ.scientificName == 'Rock', ['occurrenceRemarks']] = 'Abiotic - Rock'\n",
    "\n",
    "# now, remove the abiotic terms from species columns\n",
    "occ.loc[occ.scientificName == 'Tar', ['scientificName', 'scientificNameID', 'taxonRank', 'kingdom']] = '', '', '', ''\n",
    "occ.loc[occ.scientificName == 'Sand', ['scientificName', 'scientificNameID', 'taxonRank', 'kingdom']] = '', '', '', ''\n",
    "occ.loc[occ.scientificName == 'Rock', ['scientificName', 'scientificNameID', 'taxonRank', 'kingdom']] = '', '', '', ''\n"
   ]
  },
  {
   "cell_type": "code",
   "execution_count": 81,
   "id": "dabbb8f8-ef49-44db-a226-d8cbcb32db16",
   "metadata": {},
   "outputs": [],
   "source": [
    "# We can remove the match_type column\n",
    "occ.drop(columns=['match_type'], inplace=True)"
   ]
  },
  {
   "cell_type": "code",
   "execution_count": 85,
   "id": "4dbd1fc7-bc0d-425b-95cf-74b4bae7b6f9",
   "metadata": {},
   "outputs": [
    {
     "data": {
      "text/html": [
       "<div>\n",
       "<style scoped>\n",
       "    .dataframe tbody tr th:only-of-type {\n",
       "        vertical-align: middle;\n",
       "    }\n",
       "\n",
       "    .dataframe tbody tr th {\n",
       "        vertical-align: top;\n",
       "    }\n",
       "\n",
       "    .dataframe thead th {\n",
       "        text-align: right;\n",
       "    }\n",
       "</style>\n",
       "<table border=\"1\" class=\"dataframe\">\n",
       "  <thead>\n",
       "    <tr style=\"text-align: right;\">\n",
       "      <th></th>\n",
       "      <th>eventID</th>\n",
       "      <th>eventDate</th>\n",
       "      <th>datasetName</th>\n",
       "      <th>basisOfRecord</th>\n",
       "      <th>geodeticDatum</th>\n",
       "      <th>minimumDepthInMeters</th>\n",
       "      <th>maximumDepthInMeters</th>\n",
       "      <th>samplingProtocol</th>\n",
       "      <th>coordinateUncertaintyInMeters</th>\n",
       "      <th>locality</th>\n",
       "      <th>...</th>\n",
       "      <th>occurrenceID</th>\n",
       "      <th>percent_cover</th>\n",
       "      <th>occurrenceStatus</th>\n",
       "      <th>organismQuantity</th>\n",
       "      <th>organismQuantityType</th>\n",
       "      <th>scientificName</th>\n",
       "      <th>scientificNameID</th>\n",
       "      <th>taxonRank</th>\n",
       "      <th>kingdom</th>\n",
       "      <th>occurrenceRemarks</th>\n",
       "    </tr>\n",
       "  </thead>\n",
       "  <tbody>\n",
       "    <tr>\n",
       "      <th>349</th>\n",
       "      <td>6009_2015-06-02_2015-06-02</td>\n",
       "      <td>2015-06-02/2015-06-02</td>\n",
       "      <td>MARINe CBS - percent cover from point contact ...</td>\n",
       "      <td>HumanObservation</td>\n",
       "      <td>WGS84</td>\n",
       "      <td>0</td>\n",
       "      <td>0</td>\n",
       "      <td>cbs point contact</td>\n",
       "      <td>350</td>\n",
       "      <td>Abalobadiah Creek</td>\n",
       "      <td>...</td>\n",
       "      <td>6009_2015-06-02_2015-06-02_350</td>\n",
       "      <td>23.222322</td>\n",
       "      <td>present</td>\n",
       "      <td>23.222322</td>\n",
       "      <td>Percent cover</td>\n",
       "      <td></td>\n",
       "      <td></td>\n",
       "      <td></td>\n",
       "      <td></td>\n",
       "      <td>Abiotic - Rock</td>\n",
       "    </tr>\n",
       "    <tr>\n",
       "      <th>757</th>\n",
       "      <td>89_2012-02-03_2012-02-03</td>\n",
       "      <td>2012-02-03/2012-02-03</td>\n",
       "      <td>MARINe CBS - percent cover from point contact ...</td>\n",
       "      <td>HumanObservation</td>\n",
       "      <td>WGS84</td>\n",
       "      <td>0</td>\n",
       "      <td>0</td>\n",
       "      <td>cbs point contact</td>\n",
       "      <td>350</td>\n",
       "      <td>Abalone Cove</td>\n",
       "      <td>...</td>\n",
       "      <td>89_2012-02-03_2012-02-03_350</td>\n",
       "      <td>48.272458</td>\n",
       "      <td>present</td>\n",
       "      <td>48.272458</td>\n",
       "      <td>Percent cover</td>\n",
       "      <td></td>\n",
       "      <td></td>\n",
       "      <td></td>\n",
       "      <td></td>\n",
       "      <td>Abiotic - Rock</td>\n",
       "    </tr>\n",
       "  </tbody>\n",
       "</table>\n",
       "<p>2 rows × 25 columns</p>\n",
       "</div>"
      ],
      "text/plain": [
       "                        eventID              eventDate  \\\n",
       "349  6009_2015-06-02_2015-06-02  2015-06-02/2015-06-02   \n",
       "757    89_2012-02-03_2012-02-03  2012-02-03/2012-02-03   \n",
       "\n",
       "                                           datasetName     basisOfRecord  \\\n",
       "349  MARINe CBS - percent cover from point contact ...  HumanObservation   \n",
       "757  MARINe CBS - percent cover from point contact ...  HumanObservation   \n",
       "\n",
       "    geodeticDatum  minimumDepthInMeters  maximumDepthInMeters  \\\n",
       "349         WGS84                     0                     0   \n",
       "757         WGS84                     0                     0   \n",
       "\n",
       "      samplingProtocol  coordinateUncertaintyInMeters           locality  ...  \\\n",
       "349  cbs point contact                            350  Abalobadiah Creek  ...   \n",
       "757  cbs point contact                            350       Abalone Cove  ...   \n",
       "\n",
       "                       occurrenceID percent_cover occurrenceStatus  \\\n",
       "349  6009_2015-06-02_2015-06-02_350     23.222322          present   \n",
       "757    89_2012-02-03_2012-02-03_350     48.272458          present   \n",
       "\n",
       "     organismQuantity  organismQuantityType scientificName  scientificNameID  \\\n",
       "349         23.222322         Percent cover                                    \n",
       "757         48.272458         Percent cover                                    \n",
       "\n",
       "    taxonRank  kingdom occurrenceRemarks  \n",
       "349                       Abiotic - Rock  \n",
       "757                       Abiotic - Rock  \n",
       "\n",
       "[2 rows x 25 columns]"
      ]
     },
     "execution_count": 85,
     "metadata": {},
     "output_type": "execute_result"
    }
   ],
   "source": [
    "occ[occ['occurrenceRemarks'] == 'Abiotic - Rock'].head(2)"
   ]
  },
  {
   "cell_type": "markdown",
   "id": "abb45b2d-fd0b-49ec-b1ca-62c300d70949",
   "metadata": {},
   "source": [
    "### Make Event Core"
   ]
  },
  {
   "cell_type": "code",
   "execution_count": 87,
   "id": "d83cf73e-98b2-4013-aad4-a886e9661b39",
   "metadata": {},
   "outputs": [
    {
     "data": {
      "text/html": [
       "<div>\n",
       "<style scoped>\n",
       "    .dataframe tbody tr th:only-of-type {\n",
       "        vertical-align: middle;\n",
       "    }\n",
       "\n",
       "    .dataframe tbody tr th {\n",
       "        vertical-align: top;\n",
       "    }\n",
       "\n",
       "    .dataframe thead th {\n",
       "        text-align: right;\n",
       "    }\n",
       "</style>\n",
       "<table border=\"1\" class=\"dataframe\">\n",
       "  <thead>\n",
       "    <tr style=\"text-align: right;\">\n",
       "      <th></th>\n",
       "      <th>eventID</th>\n",
       "      <th>eventDate</th>\n",
       "      <th>decimalLatitude</th>\n",
       "      <th>decimalLongitude</th>\n",
       "      <th>samplingProtocol</th>\n",
       "      <th>locality</th>\n",
       "      <th>county</th>\n",
       "      <th>stateProvince</th>\n",
       "      <th>countryCode</th>\n",
       "      <th>geodeticDatum</th>\n",
       "      <th>minimumDepthInMeters</th>\n",
       "      <th>maximumDepthInMeters</th>\n",
       "      <th>coordinateUncertaintyInMeters</th>\n",
       "    </tr>\n",
       "  </thead>\n",
       "  <tbody>\n",
       "    <tr>\n",
       "      <th>0</th>\n",
       "      <td>6009_2015-06-02_2015-06-02</td>\n",
       "      <td>2015-06-02/2015-06-02</td>\n",
       "      <td>39.569065</td>\n",
       "      <td>-123.77182</td>\n",
       "      <td>cbs point contact</td>\n",
       "      <td>Abalobadiah Creek</td>\n",
       "      <td>Mendocino</td>\n",
       "      <td>California</td>\n",
       "      <td>US</td>\n",
       "      <td>WGS84</td>\n",
       "      <td>0</td>\n",
       "      <td>0</td>\n",
       "      <td>350</td>\n",
       "    </tr>\n",
       "    <tr>\n",
       "      <th>1</th>\n",
       "      <td>89_2012-02-03_2012-02-03</td>\n",
       "      <td>2012-02-03/2012-02-03</td>\n",
       "      <td>33.737782</td>\n",
       "      <td>-118.37612</td>\n",
       "      <td>cbs point contact</td>\n",
       "      <td>Abalone Cove</td>\n",
       "      <td>Los Angeles</td>\n",
       "      <td>California</td>\n",
       "      <td>US</td>\n",
       "      <td>WGS84</td>\n",
       "      <td>0</td>\n",
       "      <td>0</td>\n",
       "      <td>350</td>\n",
       "    </tr>\n",
       "  </tbody>\n",
       "</table>\n",
       "</div>"
      ],
      "text/plain": [
       "                      eventID              eventDate  decimalLatitude  \\\n",
       "0  6009_2015-06-02_2015-06-02  2015-06-02/2015-06-02        39.569065   \n",
       "1    89_2012-02-03_2012-02-03  2012-02-03/2012-02-03        33.737782   \n",
       "\n",
       "   decimalLongitude   samplingProtocol           locality       county  \\\n",
       "0        -123.77182  cbs point contact  Abalobadiah Creek    Mendocino   \n",
       "1        -118.37612  cbs point contact       Abalone Cove  Los Angeles   \n",
       "\n",
       "  stateProvince countryCode geodeticDatum  minimumDepthInMeters  \\\n",
       "0    California          US         WGS84                     0   \n",
       "1    California          US         WGS84                     0   \n",
       "\n",
       "   maximumDepthInMeters  coordinateUncertaintyInMeters  \n",
       "0                     0                            350  \n",
       "1                     0                            350  "
      ]
     },
     "execution_count": 87,
     "metadata": {},
     "output_type": "execute_result"
    }
   ],
   "source": [
    "event = occ[['eventID', \n",
    "             'eventDate', \n",
    "             'decimalLatitude', \n",
    "             'decimalLongitude', \n",
    "             'samplingProtocol', \n",
    "             'locality', \n",
    "             'county', \n",
    "             'stateProvince', \n",
    "             'countryCode', \n",
    "             'geodeticDatum', \n",
    "             'minimumDepthInMeters', \n",
    "             'maximumDepthInMeters',\n",
    "             'coordinateUncertaintyInMeters']].copy()\n",
    "event.drop_duplicates(inplace=True)\n",
    "event.reset_index(inplace=True,drop=True)\n",
    "event.head(2)"
   ]
  },
  {
   "cell_type": "code",
   "execution_count": 88,
   "id": "ac6c6855-ee3c-4b12-8104-2da01cd073be",
   "metadata": {},
   "outputs": [
    {
     "name": "stdout",
     "output_type": "stream",
     "text": [
      "number of unique events = 372\n"
     ]
    }
   ],
   "source": [
    "print('number of unique events =', len(event.eventID.unique()))"
   ]
  },
  {
   "cell_type": "code",
   "execution_count": 118,
   "id": "23cb290d-035d-426e-a0d2-7389664073c1",
   "metadata": {},
   "outputs": [],
   "source": [
    "## Save\n",
    "\n",
    "today = date.today().strftime('%Y%m%d')\n",
    "output_filename = 'event_core_' + today + '.csv'\n",
    "\n",
    "event.to_csv(os.path.join(os.getcwd()+'/processed/', output_filename), index=False)"
   ]
  },
  {
   "cell_type": "markdown",
   "id": "9db2b6a3-419b-4843-b7d8-3c81e468160a",
   "metadata": {},
   "source": [
    "### Make Occurrence Extension"
   ]
  },
  {
   "cell_type": "code",
   "execution_count": 106,
   "id": "830ec36e-f186-4089-aa04-0636b35028ec",
   "metadata": {},
   "outputs": [],
   "source": [
    "occ_ext = occ[['eventID', \n",
    "               'occurrenceID', \n",
    "               'datasetName', \n",
    "               'basisOfRecord', \n",
    "               'scientificName', \n",
    "               'scientificNameID', \n",
    "               'taxonRank', \n",
    "               'kingdom', \n",
    "               'occurrenceStatus',\n",
    "               'occurrenceRemarks',\n",
    "               'organismQuantity',\n",
    "               'organismQuantityType'\n",
    "                ]].copy()"
   ]
  },
  {
   "cell_type": "code",
   "execution_count": 108,
   "id": "e73d183c-b7f0-4b57-bd3b-cb75121c5ad9",
   "metadata": {},
   "outputs": [
    {
     "data": {
      "text/html": [
       "<div>\n",
       "<style scoped>\n",
       "    .dataframe tbody tr th:only-of-type {\n",
       "        vertical-align: middle;\n",
       "    }\n",
       "\n",
       "    .dataframe tbody tr th {\n",
       "        vertical-align: top;\n",
       "    }\n",
       "\n",
       "    .dataframe thead th {\n",
       "        text-align: right;\n",
       "    }\n",
       "</style>\n",
       "<table border=\"1\" class=\"dataframe\">\n",
       "  <thead>\n",
       "    <tr style=\"text-align: right;\">\n",
       "      <th></th>\n",
       "      <th>eventID</th>\n",
       "      <th>occurrenceID</th>\n",
       "      <th>datasetName</th>\n",
       "      <th>basisOfRecord</th>\n",
       "      <th>scientificName</th>\n",
       "      <th>scientificNameID</th>\n",
       "      <th>taxonRank</th>\n",
       "      <th>kingdom</th>\n",
       "      <th>occurrenceStatus</th>\n",
       "      <th>occurrenceRemarks</th>\n",
       "      <th>organismQuantity</th>\n",
       "      <th>organismQuantityType</th>\n",
       "    </tr>\n",
       "  </thead>\n",
       "  <tbody>\n",
       "    <tr>\n",
       "      <th>0</th>\n",
       "      <td>6009_2015-06-02_2015-06-02</td>\n",
       "      <td>6009_2015-06-02_2015-06-02_1</td>\n",
       "      <td>MARINe CBS - percent cover from point contact ...</td>\n",
       "      <td>HumanObservation</td>\n",
       "      <td>Amphisbetia greenei</td>\n",
       "      <td>urn:lsid:marinespecies.org:taxname:1358362</td>\n",
       "      <td>Species</td>\n",
       "      <td>Animalia</td>\n",
       "      <td>absent</td>\n",
       "      <td></td>\n",
       "      <td>0.0</td>\n",
       "      <td>Percent cover</td>\n",
       "    </tr>\n",
       "    <tr>\n",
       "      <th>1</th>\n",
       "      <td>6009_2015-06-02_2015-06-02</td>\n",
       "      <td>6009_2015-06-02_2015-06-02_2</td>\n",
       "      <td>MARINe CBS - percent cover from point contact ...</td>\n",
       "      <td>HumanObservation</td>\n",
       "      <td>Muricidae</td>\n",
       "      <td>urn:lsid:marinespecies.org:taxname:148</td>\n",
       "      <td>Family</td>\n",
       "      <td>Animalia</td>\n",
       "      <td>absent</td>\n",
       "      <td></td>\n",
       "      <td>0.0</td>\n",
       "      <td>Percent cover</td>\n",
       "    </tr>\n",
       "  </tbody>\n",
       "</table>\n",
       "</div>"
      ],
      "text/plain": [
       "                      eventID                  occurrenceID  \\\n",
       "0  6009_2015-06-02_2015-06-02  6009_2015-06-02_2015-06-02_1   \n",
       "1  6009_2015-06-02_2015-06-02  6009_2015-06-02_2015-06-02_2   \n",
       "\n",
       "                                         datasetName     basisOfRecord  \\\n",
       "0  MARINe CBS - percent cover from point contact ...  HumanObservation   \n",
       "1  MARINe CBS - percent cover from point contact ...  HumanObservation   \n",
       "\n",
       "        scientificName                            scientificNameID taxonRank  \\\n",
       "0  Amphisbetia greenei  urn:lsid:marinespecies.org:taxname:1358362   Species   \n",
       "1            Muricidae      urn:lsid:marinespecies.org:taxname:148    Family   \n",
       "\n",
       "    kingdom occurrenceStatus occurrenceRemarks  organismQuantity  \\\n",
       "0  Animalia           absent                                 0.0   \n",
       "1  Animalia           absent                                 0.0   \n",
       "\n",
       "  organismQuantityType  \n",
       "0        Percent cover  \n",
       "1        Percent cover  "
      ]
     },
     "execution_count": 108,
     "metadata": {},
     "output_type": "execute_result"
    }
   ],
   "source": [
    "occ_ext.head(2)"
   ]
  },
  {
   "cell_type": "code",
   "execution_count": 117,
   "id": "929a7e30-04ee-4c04-92b7-179fe42892e6",
   "metadata": {},
   "outputs": [],
   "source": [
    "## Save\n",
    "\n",
    "today = date.today().strftime('%Y%m%d')\n",
    "output_filename = 'occurence_extension_' + today + '.csv'\n",
    "\n",
    "occ_ext.to_csv(os.path.join(os.getcwd()+'/processed/', output_filename), index=False)"
   ]
  },
  {
   "cell_type": "markdown",
   "id": "1f6f82aa-ba59-453e-864f-4ff0c3a84147",
   "metadata": {},
   "source": [
    "### Make Extended Measurement or Fact Extension"
   ]
  },
  {
   "cell_type": "code",
   "execution_count": 110,
   "id": "15047d4c-5104-4eb2-9de2-47d0a8f0bcd4",
   "metadata": {},
   "outputs": [],
   "source": [
    "#more info about MoF https://dwc.tdwg.org/terms/#measurementorfact \n",
    "\n",
    "emof = occ[['eventID', \n",
    "            'occurrenceID', \n",
    "            'organismQuantity',\n",
    "            'organismQuantityType'\n",
    "           ]].copy()\n",
    "\n",
    "emof.rename(columns={\n",
    "    'organismQuantityType':'measurementType',\n",
    "    'organismQuantity':'measurementValue'\n",
    "}, inplace=True)\n",
    "\n",
    "# The measurementType was suggested to me during the MBON data mobilization workshop. Link to the P01 vocabulary on NVS: http://vocab.nerc.ac.uk/collection/P01/current/SDBIOL10/ \n",
    "# link to P01 search tool: https://vocab.seadatanet.org/p01-facet-search?&step_more=2\n",
    "\n",
    "emof['measurementType'] = 'Coverage (in assayed sample) of biological entity specified elsewhere of the bed'\n",
    "emof['measurementTypeID'] = 'http://vocab.nerc.ac.uk/collection/P01/current/SDBIOL10/'\n",
    "emof['measurementUnit'] = 'percent'\n",
    "emof['measurementUnitID'] = 'http://vocab.nerc.ac.uk/collection/P06/current/UPCT/' # note that units are also using controlled vocab (P06) "
   ]
  },
  {
   "cell_type": "code",
   "execution_count": 111,
   "id": "af9cb9e3-93d8-4a89-a77e-44f3227e1185",
   "metadata": {},
   "outputs": [
    {
     "data": {
      "text/html": [
       "<div>\n",
       "<style scoped>\n",
       "    .dataframe tbody tr th:only-of-type {\n",
       "        vertical-align: middle;\n",
       "    }\n",
       "\n",
       "    .dataframe tbody tr th {\n",
       "        vertical-align: top;\n",
       "    }\n",
       "\n",
       "    .dataframe thead th {\n",
       "        text-align: right;\n",
       "    }\n",
       "</style>\n",
       "<table border=\"1\" class=\"dataframe\">\n",
       "  <thead>\n",
       "    <tr style=\"text-align: right;\">\n",
       "      <th></th>\n",
       "      <th>eventID</th>\n",
       "      <th>occurrenceID</th>\n",
       "      <th>measurementValue</th>\n",
       "      <th>measurementType</th>\n",
       "      <th>measurementTypeID</th>\n",
       "      <th>measurementUnit</th>\n",
       "      <th>measurementUnitID</th>\n",
       "    </tr>\n",
       "  </thead>\n",
       "  <tbody>\n",
       "    <tr>\n",
       "      <th>0</th>\n",
       "      <td>6009_2015-06-02_2015-06-02</td>\n",
       "      <td>6009_2015-06-02_2015-06-02_1</td>\n",
       "      <td>0.0</td>\n",
       "      <td>Coverage (in assayed sample) of biological ent...</td>\n",
       "      <td>http://vocab.nerc.ac.uk/collection/P01/current...</td>\n",
       "      <td>percent</td>\n",
       "      <td>http://vocab.nerc.ac.uk/collection/P06/current...</td>\n",
       "    </tr>\n",
       "    <tr>\n",
       "      <th>1</th>\n",
       "      <td>6009_2015-06-02_2015-06-02</td>\n",
       "      <td>6009_2015-06-02_2015-06-02_2</td>\n",
       "      <td>0.0</td>\n",
       "      <td>Coverage (in assayed sample) of biological ent...</td>\n",
       "      <td>http://vocab.nerc.ac.uk/collection/P01/current...</td>\n",
       "      <td>percent</td>\n",
       "      <td>http://vocab.nerc.ac.uk/collection/P06/current...</td>\n",
       "    </tr>\n",
       "  </tbody>\n",
       "</table>\n",
       "</div>"
      ],
      "text/plain": [
       "                      eventID                  occurrenceID  measurementValue  \\\n",
       "0  6009_2015-06-02_2015-06-02  6009_2015-06-02_2015-06-02_1               0.0   \n",
       "1  6009_2015-06-02_2015-06-02  6009_2015-06-02_2015-06-02_2               0.0   \n",
       "\n",
       "                                     measurementType  \\\n",
       "0  Coverage (in assayed sample) of biological ent...   \n",
       "1  Coverage (in assayed sample) of biological ent...   \n",
       "\n",
       "                                   measurementTypeID measurementUnit  \\\n",
       "0  http://vocab.nerc.ac.uk/collection/P01/current...         percent   \n",
       "1  http://vocab.nerc.ac.uk/collection/P01/current...         percent   \n",
       "\n",
       "                                   measurementUnitID  \n",
       "0  http://vocab.nerc.ac.uk/collection/P06/current...  \n",
       "1  http://vocab.nerc.ac.uk/collection/P06/current...  "
      ]
     },
     "execution_count": 111,
     "metadata": {},
     "output_type": "execute_result"
    }
   ],
   "source": [
    "emof.head(2)"
   ]
  },
  {
   "cell_type": "code",
   "execution_count": 116,
   "id": "752b2ac9-dec1-443a-97bf-482da74ee09e",
   "metadata": {},
   "outputs": [],
   "source": [
    "## Save\n",
    "\n",
    "today = date.today().strftime('%Y%m%d')\n",
    "output_filename = 'emof_' + today + '.csv'\n",
    "\n",
    "#emof.to_csv(os.path.join(os.getcwd(), output_filename), index=False)\n",
    "emof.to_csv(os.path.join(os.getcwd()+'/processed/', output_filename), index=False)"
   ]
  },
  {
   "cell_type": "code",
   "execution_count": 115,
   "id": "8ec4e4f0-8af9-4413-99d0-d159cade470a",
   "metadata": {},
   "outputs": [
    {
     "data": {
      "text/plain": [
       "'/Users/mlebrec/Desktop/data/MARINe/MBON_workshop_Apr2023/processed'"
      ]
     },
     "execution_count": 115,
     "metadata": {},
     "output_type": "execute_result"
    }
   ],
   "source": [
    "os.path.join(os.getcwd())+'/processed/'"
   ]
  },
  {
   "cell_type": "markdown",
   "id": "69ec692a-94c2-411f-964d-d74356703aea",
   "metadata": {},
   "source": [
    "### QA/QC Steps"
   ]
  },
  {
   "cell_type": "code",
   "execution_count": 93,
   "id": "950cf979-e51c-470c-ad76-eb51dfbec20e",
   "metadata": {},
   "outputs": [
    {
     "data": {
      "text/plain": [
       "<matplotlib.collections.PathCollection at 0x28558c250>"
      ]
     },
     "execution_count": 93,
     "metadata": {},
     "output_type": "execute_result"
    },
    {
     "name": "stderr",
     "output_type": "stream",
     "text": [
      "/Users/mlebrec/miniconda3/lib/python3.10/site-packages/shapely/predicates.py:798: RuntimeWarning: invalid value encountered in intersects\n",
      "  return lib.intersects(a, b, **kwargs)\n"
     ]
    },
    {
     "data": {
      "image/png": "[encoded data removed]",
      "text/plain": [
       "<Figure size 1000x700 with 1 Axes>"
      ]
     },
     "metadata": {},
     "output_type": "display_data"
    }
   ],
   "source": [
    "# Create map of data to check for any errors in coordinates\n",
    "\n",
    "plt.figure(figsize=[10,7])\n",
    "ax = plt.axes(projection=ccrs.PlateCarree())\n",
    "ax.coastlines()\n",
    "ax.add_feature(cfeature.LAND)\n",
    "ax.add_feature(cfeature.STATES)\n",
    "ax.add_feature(cfeature.OCEAN)\n",
    "plt.scatter(occ.decimalLongitude, occ.decimalLatitude, c='coral')"
   ]
  },
  {
   "cell_type": "code",
   "execution_count": 94,
   "id": "39717529-9418-4191-bd4d-ac965108621b",
   "metadata": {},
   "outputs": [
    {
     "name": "stdout",
     "output_type": "stream",
     "text": [
      "The list ['occurrenceID', 'basisOfRecord', 'scientificName', 'scientificNameID', 'eventDate', 'decimalLatitude', 'decimalLongitude', 'occurrenceStatus', 'countryCode', 'kingdom', 'geodeticDatum'] contains all elements of the list Index(['eventID', 'occurrenceID', 'datasetName', 'basisOfRecord',\n",
      "       'scientificName', 'scientificNameID', 'taxonRank', 'kingdom',\n",
      "       'occurrenceStatus', 'organismQuantity', 'organismQuantityType',\n",
      "       'eventID', 'eventDate', 'decimalLatitude', 'decimalLongitude',\n",
      "       'samplingProtocol', 'locality', 'county', 'stateProvince',\n",
      "       'countryCode', 'geodeticDatum', 'minimumDepthInMeters',\n",
      "       'maximumDepthInMeters', 'coordinateUncertaintyInMeters'],\n",
      "      dtype='object')\n"
     ]
    }
   ],
   "source": [
    "## check that all required Darwin Core terms are present\n",
    "\n",
    "required_dwc_terms = (['occurrenceID',\n",
    "            'basisOfRecord',\n",
    "            'scientificName',\n",
    "            'scientificNameID',\n",
    "            'eventDate',\n",
    "            'decimalLatitude',\n",
    "            'decimalLongitude',\n",
    "            'occurrenceStatus',\n",
    "            'countryCode',\n",
    "            'kingdom',\n",
    "            'geodeticDatum'\n",
    "])\n",
    "\n",
    "my_dwc_terms = occ_ext.columns.append(event.columns)\n",
    "\n",
    "check =  all(item in my_dwc_terms for item in required_dwc_terms)\n",
    "if check is True:\n",
    "    print(\"The list {} contains all elements of the list {}\".format(required_dwc_terms, my_dwc_terms))    \n",
    "else :\n",
    "    print(\"No, my_dwc_terms doesn't have all elements of the required_dwc_terms.\")"
   ]
  },
  {
   "cell_type": "code",
   "execution_count": 95,
   "id": "42a726e2-8982-41c6-88f0-78fe7c632a8a",
   "metadata": {},
   "outputs": [
    {
     "data": {
      "text/html": [
       "<div>\n",
       "<style scoped>\n",
       "    .dataframe tbody tr th:only-of-type {\n",
       "        vertical-align: middle;\n",
       "    }\n",
       "\n",
       "    .dataframe tbody tr th {\n",
       "        vertical-align: top;\n",
       "    }\n",
       "\n",
       "    .dataframe thead th {\n",
       "        text-align: right;\n",
       "    }\n",
       "</style>\n",
       "<table border=\"1\" class=\"dataframe\">\n",
       "  <thead>\n",
       "    <tr style=\"text-align: right;\">\n",
       "      <th></th>\n",
       "      <th>organismQuantity</th>\n",
       "    </tr>\n",
       "  </thead>\n",
       "  <tbody>\n",
       "    <tr>\n",
       "      <th>count</th>\n",
       "      <td>151776.000000</td>\n",
       "    </tr>\n",
       "    <tr>\n",
       "      <th>mean</th>\n",
       "      <td>0.312687</td>\n",
       "    </tr>\n",
       "    <tr>\n",
       "      <th>std</th>\n",
       "      <td>2.051405</td>\n",
       "    </tr>\n",
       "    <tr>\n",
       "      <th>min</th>\n",
       "      <td>0.000000</td>\n",
       "    </tr>\n",
       "    <tr>\n",
       "      <th>25%</th>\n",
       "      <td>0.000000</td>\n",
       "    </tr>\n",
       "    <tr>\n",
       "      <th>50%</th>\n",
       "      <td>0.000000</td>\n",
       "    </tr>\n",
       "    <tr>\n",
       "      <th>75%</th>\n",
       "      <td>0.000000</td>\n",
       "    </tr>\n",
       "    <tr>\n",
       "      <th>max</th>\n",
       "      <td>74.324324</td>\n",
       "    </tr>\n",
       "  </tbody>\n",
       "</table>\n",
       "</div>"
      ],
      "text/plain": [
       "       organismQuantity\n",
       "count     151776.000000\n",
       "mean           0.312687\n",
       "std            2.051405\n",
       "min            0.000000\n",
       "25%            0.000000\n",
       "50%            0.000000\n",
       "75%            0.000000\n",
       "max           74.324324"
      ]
     },
     "execution_count": 95,
     "metadata": {},
     "output_type": "execute_result"
    }
   ],
   "source": [
    "# Run basic statistics on organismQuantity \n",
    "occ_ext.describe()"
   ]
  },
  {
   "cell_type": "code",
   "execution_count": 96,
   "id": "40bcbf54-7c08-4557-88bb-7c9c1871f3ff",
   "metadata": {},
   "outputs": [
    {
     "data": {
      "text/plain": [
       "<Axes: >"
      ]
     },
     "execution_count": 96,
     "metadata": {},
     "output_type": "execute_result"
    },
    {
     "data": {
      "image/png": "[encoded data removed]",
      "text/plain": [
       "<Figure size 640x480 with 1 Axes>"
      ]
     },
     "metadata": {},
     "output_type": "display_data"
    }
   ],
   "source": [
    "# the vast majority of the dataset are absent occurrences.\n",
    "occ_ext['organismQuantity'].hist()"
   ]
  },
  {
   "cell_type": "code",
   "execution_count": 97,
   "id": "d3c16615-b138-48f4-bcf4-655edc7cfb93",
   "metadata": {},
   "outputs": [
    {
     "name": "stdout",
     "output_type": "stream",
     "text": [
      "% of observations with presence of species = 15.466427278121813\n"
     ]
    }
   ],
   "source": [
    "print('% of observations with presence of species =', (len(occ_ext[occ_ext.occurrenceStatus == 'present']) / len(occ_ext[occ_ext.occurrenceStatus == 'absent'])) *100)"
   ]
  },
  {
   "cell_type": "code",
   "execution_count": 98,
   "id": "9edd9075-f3a0-4eb6-9c08-4d3665da5f02",
   "metadata": {},
   "outputs": [
    {
     "data": {
      "text/plain": [
       "(151776, 151776)"
      ]
     },
     "execution_count": 98,
     "metadata": {},
     "output_type": "execute_result"
    }
   ],
   "source": [
    "# Check for uniqueness of occurrenceID field\n",
    "\n",
    "len(occ_ext.occurrenceID.unique()), len(occ_ext)"
   ]
  },
  {
   "cell_type": "code",
   "execution_count": 99,
   "id": "4f0ffe9c-1ec1-4718-955d-062d9c1bee80",
   "metadata": {},
   "outputs": [
    {
     "data": {
      "text/plain": [
       "(372, 372)"
      ]
     },
     "execution_count": 99,
     "metadata": {},
     "output_type": "execute_result"
    }
   ],
   "source": [
    "# Check for uniqueness of eventID field\n",
    "\n",
    "len(event.eventID.unique()), len(event)"
   ]
  },
  {
   "cell_type": "markdown",
   "id": "87858fb7-6bef-48d9-8a22-43d543a36b94",
   "metadata": {
    "tags": []
   },
   "source": [
    "#### Questions for Rani\n",
    "- Just to make sure I am interpreting the data correctly, the percent cover that is recorded is for an entire transect, correct? Since there is no way of identifying a specific quadrat within a transect (if that is how transects were taken), I assume I am interpreting correctly but maybe I'm missing something.\n",
    "**RG: The percent cover is for the entire site, based on the number of transect locations (typically 11 for each site). Since we do include layering the total percent cover may be more than 100%**\n",
    "\n",
    "- Diana had started a Python notebook to convert the MARINe point contact data to DarwinCore. For the term \"coordinateUncertaintyInMeters\" (linked here), Diana had used 350 m. I want to confirm with you that that value should still be used? \n",
    "Is the 350 m the maximum length of a transect and therefor the uncertainty in the exact point a measurement is made?\n",
    "**RG: Actually this is because we use a single point for our sites (either the most upcoast coordinate or the center point), and 350m is the maximum distance away any of our plots are from one of the single point coordinates.**\n",
    "\n",
    "- In the site information table (doi_10.6085_AA_marine_ltm.11.3-DATA.txt), the site_code column includes strings with letters for each site. In the data table (doi_10.6085_AA_marine_cbs.6.2-DATA.txt), the site_code column includes numbers. Since the site_code can't be linked between tables, I used the marine_site_name from each table as common identifiers. I just want to make sure that is the right approach, and that the marine_site_name are indeed consistent between tables. \n",
    "**RG: Yes! The next time I update the biodiversity data I will be including the marine_site_code as well - we had two different codes for the different surveys but we have a letter code for all of the numeric biodiversity codes, and the marine_site_name is the correct way to link them!**\n",
    "\n",
    "- Do you know what the correct geodetic datum is used for these data? The standard is World Geodetic System 1984 (WGS84) but if it is something else, I can specify it for OBIS\n",
    "**RG: We use WGS84**\n"
   ]
  },
  {
   "cell_type": "markdown",
   "id": "48aae657-1aa7-4eb9-b6e6-145e48299b4f",
   "metadata": {},
   "source": [
    "#### Questions for workshop\n",
    "- How to handle abiotic data? **Abby suggests leaving it in and OBIS will pick it out. Similar example here: https://ipt-obis.gbif.us/resource?r=prcrmp_database** \n",
    "- I have one species which is not marine. Is it okay to include? (Cancer antennaria). **You can include it but it will be flagged by OBIS as a non-marine species.**\n",
    "- How to handle NaN values? **OBIS prefers you use \"\" when you have a blank rather than NaN or NA.**"
   ]
  },
  {
   "cell_type": "code",
   "execution_count": null,
   "id": "d51e2ca7-9b76-4c3c-b5d6-2d7dd5e2d157",
   "metadata": {},
   "outputs": [],
   "source": []
  }
 ],
 "metadata": {
  "kernelspec": {
   "display_name": "Python 3 (ipykernel)",
   "language": "python",
   "name": "python3"
  },
  "language_info": {
   "codemirror_mode": {
    "name": "ipython",
    "version": 3
   },
   "file_extension": ".py",
   "mimetype": "text/x-python",
   "name": "python",
   "nbconvert_exporter": "python",
   "pygments_lexer": "ipython3",
   "version": "3.10.10"
  }
 },
 "nbformat": 4,
 "nbformat_minor": 5
}
