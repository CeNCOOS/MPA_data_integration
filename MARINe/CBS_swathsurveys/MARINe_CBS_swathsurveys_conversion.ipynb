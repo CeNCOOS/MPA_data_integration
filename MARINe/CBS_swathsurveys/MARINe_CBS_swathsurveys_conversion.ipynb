{
 "cells": [
  {
   "cell_type": "markdown",
   "metadata": {},
   "source": [
    "# MARINe/PISCO: Intertidal: MARINe Coastal Biodiversity Surveys: Swath Surveys Summarized - DarwinCore conversion"
   ]
  },
  {
   "cell_type": "markdown",
   "metadata": {},
   "source": [
    "**Marine Lebrec, April 2024** <br>\n",
    "This dataset was mobilized as part of the 2024 Marine Biological Data Mobilization Workshop <br>\n",
    "\n",
    "**Useful Links**:\n",
    "- [Published dataset on DataONE](https://data.piscoweb.org/metacatui/view/doi:10.6085/AA/marine_cbs.11.6)\n",
    "- [Github issue for this dataset](https://github.com/ioos/bio_data_guide/issues/244)\n",
    "- [2024 Marine Bio Data Workshop materials](https://ioos.github.io/bio_mobilization_workshop/)\n",
    "- [NERC vocabulary server](https://vocab.nerc.ac.uk/collection/)\n",
    "\n",
    "**Dataset Description**:\n",
    "This metadata record documents the Swath surveys for the MARINe Biodiversity Surveys. Biodiversity surveys are comprised of four components, all sampled along the same transects: (1) point contact estimates of intertidal cover and substrate characteristics, (2) swath transects to estimate the density of seastars and abalone, (3) quadrat sampling to estimate the density of mobile invertebrates, and (4) topography (elevation relative to mean low low water (mllw)). Selected sites are resampled on a 3-5 year cycle. A site is defined as a contiguous rocky bench of at least 30m. Swath sampling consists of recording the number of seastars and abalone on eleven 2m wide transects of variable length extending from the upper intertidal to the low intertidal.\n",
    "\n",
    "**Sampling Description**: Swath sampling consists of recording the number of seastars and other large invertebrates in a two meter wide band centered over each transect. The location (to the nearest half meter along the transect), number, and species names are recorded. Intertidal surveys are comprised of four components, all sampled along the same transects: (1) point contact estimates of intertidal cover and substrate characteristics, (2) swath transects to estimate the density of seastars and abalone, (3) quadrat sampling to estimate the density of mobile invertebrates, and (4) topography (elevation relative to mean low low water (mllw)). <br>\n",
    "\n",
    "This notebook was generated in the [Research Workspace](https://www.researchworkspace.com/intro/)."
   ]
  },
  {
   "cell_type": "code",
   "execution_count": 1,
   "metadata": {},
   "outputs": [],
   "source": [
    "## Imports \n",
    "\n",
    "from datetime import date, datetime\n",
    "import os\n",
    "import numpy as np\n",
    "import pandas as pd\n",
    "import pyworms\n",
    "import matplotlib.pyplot as plt\n",
    "import cartopy.crs as ccrs\n",
    "import cartopy.feature as cfeature"
   ]
  },
  {
   "cell_type": "code",
   "execution_count": 2,
   "metadata": {},
   "outputs": [
    {
     "data": {
      "text/plain": [
       "['doi_10.6085_AA_marine_cbs.12.2-DATA.txt',\n",
       " 'doi_10.6085_AA_marine_cbs.7.2-DATA.txt',\n",
       " 'marine_site_table.csv',\n",
       " 'swath_data_CORRECTED.csv']"
      ]
     },
     "execution_count": 2,
     "metadata": {},
     "output_type": "execute_result"
    }
   ],
   "source": [
    "## ----- ENTER VERSION NUMBER HERE -----\n",
    "\n",
    "version = '11_7'\n",
    "\n",
    "## Get directory info\n",
    "\n",
    "folder = os.path.join('resourceMap_marine_cbs_' + version, 'data')\n",
    "filenames = [file for file in os.listdir(folder) if file.endswith('.txt') or file.endswith('.csv')]\n",
    "filenames.sort()\n",
    "filenames"
   ]
  },
  {
   "cell_type": "code",
   "execution_count": 3,
   "metadata": {},
   "outputs": [
    {
     "name": "stdout",
     "output_type": "stream",
     "text": [
      "(11358, 22)\n",
      "(739, 14)\n",
      "(274, 17)\n"
     ]
    }
   ],
   "source": [
    "## Load data\n",
    "\n",
    "data = pd.read_csv(os.path.join(folder, filenames[3]))\n",
    "print(data.shape)\n",
    "\n",
    "species = pd.read_csv(os.path.join(folder, filenames[1]))\n",
    "print(species.shape)\n",
    "\n",
    "site = pd.read_csv(os.path.join(folder, filenames[2]))\n",
    "print(site.shape)"
   ]
  },
  {
   "cell_type": "code",
   "execution_count": 4,
   "metadata": {},
   "outputs": [
    {
     "data": {
      "text/plain": [
       "Index(['marine_site_name', 'site_code', 'latitude', 'longitude', 'survey_rep',\n",
       "       'year', 'Min(sample_date)', 'Max(sample_date)', 'species_lump',\n",
       "       'total_count', 'number_of_transects_sampled',\n",
       "       'est_swath_area_searched_m2', 'density_per_m2', 'state_province',\n",
       "       'georegion', 'bioregion', 'mpa_designation', 'mpa_region',\n",
       "       'mpa_lt_region', 'mpa_name', 'island', 'last_updated'],\n",
       "      dtype='object')"
      ]
     },
     "execution_count": 4,
     "metadata": {},
     "output_type": "execute_result"
    }
   ],
   "source": [
    "# Let's take a look at all of the column in this data table \n",
    "data.columns"
   ]
  },
  {
   "cell_type": "markdown",
   "metadata": {},
   "source": [
    "#### Overview of DwC schema: \n",
    "I'll be using an event core with occurrence and EMOF extensions. More information on when to use an Event Core schema count be [found here](https://manual.obis.org/formatting.html#when-to-use-event-core).<br>\n",
    "\n",
    "Descriptions of terms used in each table are listed here:\n",
    "\n",
    "**Event-level information:**\n",
    "- eventDate: This information is included in the data table and will be defined as the time span between the minimum and maximum time that a site was surveyed during a single visit. \n",
    "- eventID: A unique ID will be built containing the site code + start/end dates, all provided from data table.\n",
    "- decimalLatitude / decimalLongitude: site coordinates are included in the site table \n",
    "- samplingProtocol: I will include a link to the MARINe protocols website \n",
    "- locality: The name of each site (marine_site_name) provided in the site table.  \n",
    "- county: This information is also provided in the site table.\n",
    "- stateProvince: This information is also provided in the site table.\n",
    "- countryCode: This information is also provided in the site table.\n",
    "- geodeticDatum: WSG84 \n",
    "\n",
    "**Occurrence-level information:**\n",
    "- occurrenceID: A unique identifier will be generated, derived from eventID with cumcount to make each occurrence from an event unique. \n",
    "- scientificName and other WoRMS fields: Species information and aphidIDs are included in the species table. I will re-run the species table through pyworms to identify any missing pieces. \n",
    "- organismQuantity: The total_count for each scientificName, provided from data table\n",
    "- organismQuantityType: The type of counts, in this case we will use \"individuals\". \n",
    "\n",
    "**EMOF information:**\n",
    "- MeasurementValue: In addition to individual counts, the organism densities were estimated using the estimated swath area searched (density_per_m2 from the data table). I will also include the swath area as a measurement in this table, from the est_swath_area_searched_m2 from the data table.\n",
    "- MeasurementUnit, measurementUnitID: controlled vocabularies describing the units for organism density and survey area. \n",
    "- MeasurementType, measurementTypeID: controlled vocabularies describing the types of measurements for organism density and survey area. "
   ]
  },
  {
   "cell_type": "markdown",
   "metadata": {},
   "source": [
    "#### I'll start by making an occurrence table which contains all of the event-level and occurrence level information, since the main data table contains rows of occurrences. Further down, I'll use this main occ table to create the event core and extension tables."
   ]
  },
  {
   "cell_type": "code",
   "execution_count": 4,
   "metadata": {},
   "outputs": [
    {
     "data": {
      "text/html": [
       "<div>\n",
       "<style scoped>\n",
       "    .dataframe tbody tr th:only-of-type {\n",
       "        vertical-align: middle;\n",
       "    }\n",
       "\n",
       "    .dataframe tbody tr th {\n",
       "        vertical-align: top;\n",
       "    }\n",
       "\n",
       "    .dataframe thead th {\n",
       "        text-align: right;\n",
       "    }\n",
       "</style>\n",
       "<table border=\"1\" class=\"dataframe\">\n",
       "  <thead>\n",
       "    <tr style=\"text-align: right;\">\n",
       "      <th></th>\n",
       "      <th>eventID</th>\n",
       "      <th>eventDate</th>\n",
       "      <th>datasetName</th>\n",
       "      <th>basisOfRecord</th>\n",
       "      <th>geodeticDatum</th>\n",
       "      <th>minimumDepthInMeters</th>\n",
       "      <th>maximumDepthInMeters</th>\n",
       "      <th>samplingProtocol</th>\n",
       "      <th>coordinateUncertaintyInMeters</th>\n",
       "      <th>occurrenceRemarks</th>\n",
       "    </tr>\n",
       "  </thead>\n",
       "  <tbody>\n",
       "    <tr>\n",
       "      <th>0</th>\n",
       "      <td>400_2001-10-18_2001-10-18</td>\n",
       "      <td>2001-10-18/2001-10-18</td>\n",
       "      <td>MARINe CBS - Swath Surveys Summarized</td>\n",
       "      <td>HumanObservation</td>\n",
       "      <td>WGS84</td>\n",
       "      <td>0</td>\n",
       "      <td>0</td>\n",
       "      <td>cbs swath transects https://marine.ucsc.edu/me...</td>\n",
       "      <td>350</td>\n",
       "      <td></td>\n",
       "    </tr>\n",
       "    <tr>\n",
       "      <th>1</th>\n",
       "      <td>400_2001-10-18_2001-10-18</td>\n",
       "      <td>2001-10-18/2001-10-18</td>\n",
       "      <td>MARINe CBS - Swath Surveys Summarized</td>\n",
       "      <td>HumanObservation</td>\n",
       "      <td>WGS84</td>\n",
       "      <td>0</td>\n",
       "      <td>0</td>\n",
       "      <td>cbs swath transects https://marine.ucsc.edu/me...</td>\n",
       "      <td>350</td>\n",
       "      <td></td>\n",
       "    </tr>\n",
       "  </tbody>\n",
       "</table>\n",
       "</div>"
      ],
      "text/plain": [
       "                     eventID              eventDate  \\\n",
       "0  400_2001-10-18_2001-10-18  2001-10-18/2001-10-18   \n",
       "1  400_2001-10-18_2001-10-18  2001-10-18/2001-10-18   \n",
       "\n",
       "                             datasetName     basisOfRecord geodeticDatum  \\\n",
       "0  MARINe CBS - Swath Surveys Summarized  HumanObservation         WGS84   \n",
       "1  MARINe CBS - Swath Surveys Summarized  HumanObservation         WGS84   \n",
       "\n",
       "   minimumDepthInMeters  maximumDepthInMeters  \\\n",
       "0                     0                     0   \n",
       "1                     0                     0   \n",
       "\n",
       "                                    samplingProtocol  \\\n",
       "0  cbs swath transects https://marine.ucsc.edu/me...   \n",
       "1  cbs swath transects https://marine.ucsc.edu/me...   \n",
       "\n",
       "   coordinateUncertaintyInMeters occurrenceRemarks  \n",
       "0                            350                    \n",
       "1                            350                    "
      ]
     },
     "execution_count": 4,
     "metadata": {},
     "output_type": "execute_result"
    }
   ],
   "source": [
    "# create a dataframe w/ eventIDs\n",
    "occ = pd.DataFrame({'eventID':data['site_code'].astype(str) + '_' + \n",
    "                    data['Min(sample_date)'] + '_' + \n",
    "                    data['Max(sample_date)']})\n",
    "\n",
    "## eventDate\n",
    "occ['eventDate'] = data['Min(sample_date)'] + '/' + data['Max(sample_date)']\n",
    "\n",
    "# datasetName\n",
    "occ['datasetName'] = 'MARINe CBS - Swath Surveys Summarized'\n",
    "\n",
    "# basisOfRecord \n",
    "occ['basisOfRecord'] = 'HumanObservation'\n",
    "\n",
    "# geodeticDatum\n",
    "occ['geodeticDatum'] = 'WGS84'\n",
    "\n",
    "# Depth\n",
    "occ['minimumDepthInMeters'] = 0\n",
    "occ['maximumDepthInMeters'] = 0\n",
    "\n",
    "# samplingProtocol\n",
    "occ['samplingProtocol'] = 'cbs swath transects https://marine.ucsc.edu/methods/biodiversity-methods.html#bio-method-swath'\n",
    "\n",
    "# coordinateUncertaintyInMeters\n",
    "occ['coordinateUncertaintyInMeters'] = 350\n",
    "\n",
    "# occurrenceRemarks - leave empty for now until occ extension is made\n",
    "occ['occurrenceRemarks'] = ''\n",
    "\n",
    "occ.head(2)"
   ]
  },
  {
   "cell_type": "code",
   "execution_count": 5,
   "metadata": {},
   "outputs": [
    {
     "name": "stdout",
     "output_type": "stream",
     "text": [
      "All unique values of data['marine_site_name'] are in sites['marine_site_name']\n"
     ]
    }
   ],
   "source": [
    "## QC test to make sure all marine_site_name unique values in the data table are also in the site table\n",
    "\n",
    "if set(data['marine_site_name'].unique()).issubset(set(site['marine_site_name'].unique())):\n",
    "    print(\"All unique values of data['marine_site_name'] are in sites['marine_site_name']\")\n",
    "else:\n",
    "    print(\"Not all unique values of data['marine_site_name'] are in sites['marine_site_name']\")\n"
   ]
  },
  {
   "cell_type": "code",
   "execution_count": 6,
   "metadata": {},
   "outputs": [],
   "source": [
    "## merge occurence table with site table to get coordinate locations, county, stateProvince, countryCode, decimalLat, decimalLon\n",
    "\n",
    "occ['marine_site_name'] = data['marine_site_name']\n",
    "\n",
    "## define columns to merge from site table\n",
    "site_cols = [\n",
    "    'marine_site_name',\n",
    "    'county',\n",
    "    'state_province',\n",
    "    'country',\n",
    "    'latitude',\n",
    "    'longitude',\n",
    "    'mpa_name'\n",
    "]\n",
    "\n",
    "## merge\n",
    "occ = occ.merge(site[site_cols], how='left', on='marine_site_name')"
   ]
  },
  {
   "cell_type": "code",
   "execution_count": 7,
   "metadata": {},
   "outputs": [],
   "source": [
    "## define DwC terms for these columns after merge\n",
    "dwc_cols = [\n",
    "    'eventID',\n",
    "    'eventDate',\n",
    "    'datasetName',\n",
    "    'basisOfRecord',\n",
    "    'geodeticDatum',\n",
    "    'minimumDepthInMeters',\n",
    "    'maximumDepthInMeters',\n",
    "    'samplingProtocol',\n",
    "    'coordinateUncertaintyInMeters',\n",
    "    'occurrenceRemarks',\n",
    "    'locality',\n",
    "    'county',\n",
    "    'stateProvince',\n",
    "    'countryCode',\n",
    "    'decimalLatitude',\n",
    "    'decimalLongitude',\n",
    "    'locationRemarks'\n",
    "]\n",
    "\n",
    "## change column names to DwC\n",
    "occ.columns = dwc_cols "
   ]
  },
  {
   "cell_type": "code",
   "execution_count": 8,
   "metadata": {},
   "outputs": [
    {
     "data": {
      "text/html": [
       "<div>\n",
       "<style scoped>\n",
       "    .dataframe tbody tr th:only-of-type {\n",
       "        vertical-align: middle;\n",
       "    }\n",
       "\n",
       "    .dataframe tbody tr th {\n",
       "        vertical-align: top;\n",
       "    }\n",
       "\n",
       "    .dataframe thead th {\n",
       "        text-align: right;\n",
       "    }\n",
       "</style>\n",
       "<table border=\"1\" class=\"dataframe\">\n",
       "  <thead>\n",
       "    <tr style=\"text-align: right;\">\n",
       "      <th></th>\n",
       "      <th>eventID</th>\n",
       "      <th>eventDate</th>\n",
       "      <th>datasetName</th>\n",
       "      <th>basisOfRecord</th>\n",
       "      <th>geodeticDatum</th>\n",
       "      <th>minimumDepthInMeters</th>\n",
       "      <th>maximumDepthInMeters</th>\n",
       "      <th>samplingProtocol</th>\n",
       "      <th>coordinateUncertaintyInMeters</th>\n",
       "      <th>occurrenceRemarks</th>\n",
       "      <th>locality</th>\n",
       "      <th>county</th>\n",
       "      <th>stateProvince</th>\n",
       "      <th>countryCode</th>\n",
       "      <th>decimalLatitude</th>\n",
       "      <th>decimalLongitude</th>\n",
       "      <th>locationRemarks</th>\n",
       "    </tr>\n",
       "  </thead>\n",
       "  <tbody>\n",
       "    <tr>\n",
       "      <th>0</th>\n",
       "      <td>400_2001-10-18_2001-10-18</td>\n",
       "      <td>2001-10-18/2001-10-18</td>\n",
       "      <td>MARINe CBS - Swath Surveys Summarized</td>\n",
       "      <td>HumanObservation</td>\n",
       "      <td>WGS84</td>\n",
       "      <td>0</td>\n",
       "      <td>0</td>\n",
       "      <td>cbs swath transects https://marine.ucsc.edu/me...</td>\n",
       "      <td>350</td>\n",
       "      <td></td>\n",
       "      <td>Cat Rock</td>\n",
       "      <td>Ventura</td>\n",
       "      <td>California</td>\n",
       "      <td>United States</td>\n",
       "      <td>34.005569</td>\n",
       "      <td>-119.41925</td>\n",
       "      <td>Anacapa Island Special Closure</td>\n",
       "    </tr>\n",
       "    <tr>\n",
       "      <th>1</th>\n",
       "      <td>400_2001-10-18_2001-10-18</td>\n",
       "      <td>2001-10-18/2001-10-18</td>\n",
       "      <td>MARINe CBS - Swath Surveys Summarized</td>\n",
       "      <td>HumanObservation</td>\n",
       "      <td>WGS84</td>\n",
       "      <td>0</td>\n",
       "      <td>0</td>\n",
       "      <td>cbs swath transects https://marine.ucsc.edu/me...</td>\n",
       "      <td>350</td>\n",
       "      <td></td>\n",
       "      <td>Cat Rock</td>\n",
       "      <td>Ventura</td>\n",
       "      <td>California</td>\n",
       "      <td>United States</td>\n",
       "      <td>34.005569</td>\n",
       "      <td>-119.41925</td>\n",
       "      <td>Anacapa Island Special Closure</td>\n",
       "    </tr>\n",
       "    <tr>\n",
       "      <th>2</th>\n",
       "      <td>400_2001-10-18_2001-10-18</td>\n",
       "      <td>2001-10-18/2001-10-18</td>\n",
       "      <td>MARINe CBS - Swath Surveys Summarized</td>\n",
       "      <td>HumanObservation</td>\n",
       "      <td>WGS84</td>\n",
       "      <td>0</td>\n",
       "      <td>0</td>\n",
       "      <td>cbs swath transects https://marine.ucsc.edu/me...</td>\n",
       "      <td>350</td>\n",
       "      <td></td>\n",
       "      <td>Cat Rock</td>\n",
       "      <td>Ventura</td>\n",
       "      <td>California</td>\n",
       "      <td>United States</td>\n",
       "      <td>34.005569</td>\n",
       "      <td>-119.41925</td>\n",
       "      <td>Anacapa Island Special Closure</td>\n",
       "    </tr>\n",
       "  </tbody>\n",
       "</table>\n",
       "</div>"
      ],
      "text/plain": [
       "                     eventID              eventDate  \\\n",
       "0  400_2001-10-18_2001-10-18  2001-10-18/2001-10-18   \n",
       "1  400_2001-10-18_2001-10-18  2001-10-18/2001-10-18   \n",
       "2  400_2001-10-18_2001-10-18  2001-10-18/2001-10-18   \n",
       "\n",
       "                             datasetName     basisOfRecord geodeticDatum  \\\n",
       "0  MARINe CBS - Swath Surveys Summarized  HumanObservation         WGS84   \n",
       "1  MARINe CBS - Swath Surveys Summarized  HumanObservation         WGS84   \n",
       "2  MARINe CBS - Swath Surveys Summarized  HumanObservation         WGS84   \n",
       "\n",
       "   minimumDepthInMeters  maximumDepthInMeters  \\\n",
       "0                     0                     0   \n",
       "1                     0                     0   \n",
       "2                     0                     0   \n",
       "\n",
       "                                    samplingProtocol  \\\n",
       "0  cbs swath transects https://marine.ucsc.edu/me...   \n",
       "1  cbs swath transects https://marine.ucsc.edu/me...   \n",
       "2  cbs swath transects https://marine.ucsc.edu/me...   \n",
       "\n",
       "   coordinateUncertaintyInMeters occurrenceRemarks  locality   county  \\\n",
       "0                            350                    Cat Rock  Ventura   \n",
       "1                            350                    Cat Rock  Ventura   \n",
       "2                            350                    Cat Rock  Ventura   \n",
       "\n",
       "  stateProvince    countryCode  decimalLatitude  decimalLongitude  \\\n",
       "0    California  United States        34.005569        -119.41925   \n",
       "1    California  United States        34.005569        -119.41925   \n",
       "2    California  United States        34.005569        -119.41925   \n",
       "\n",
       "                  locationRemarks  \n",
       "0  Anacapa Island Special Closure  \n",
       "1  Anacapa Island Special Closure  \n",
       "2  Anacapa Island Special Closure  "
      ]
     },
     "execution_count": 8,
     "metadata": {},
     "output_type": "execute_result"
    }
   ],
   "source": [
    "## take a look at the updated occ table\n",
    "occ.head(3)"
   ]
  },
  {
   "cell_type": "code",
   "execution_count": 9,
   "metadata": {},
   "outputs": [],
   "source": [
    "## update locationRemarks w/ more descriptive text related to if the site is within or outside of an MPA.\n",
    "\n",
    "for index, row in occ.iterrows():\n",
    "    if row['locationRemarks'] != \"NONE\":\n",
    "        occ.at[index, 'locationRemarks'] = \"This site is inside of a Marine Protected Area: \" + row['locationRemarks']\n",
    "        \n",
    "occ.loc[occ.locationRemarks == 'NONE', ['locationRemarks']] = 'This site is outside of a Marine Protected Area.'"
   ]
  },
  {
   "cell_type": "code",
   "execution_count": 10,
   "metadata": {},
   "outputs": [],
   "source": [
    "## dwc:county is not available for non-US sites. Change \"Not Applicable\" to empty strings. \n",
    "\n",
    "occ.loc[occ['county'] == 'Not Applicable', 'county'] = ''"
   ]
  },
  {
   "cell_type": "code",
   "execution_count": 11,
   "metadata": {},
   "outputs": [],
   "source": [
    "## add ISO 3166-1-alpha-2 country code to dwc:countryCode - https://www.iso.org/obp/ui/#search \n",
    "\n",
    "occ['countryCode'] = occ['countryCode'].replace({'United States': 'US',\n",
    "                                                 'Mexico': 'MX',\n",
    "                                                 'Canada': 'CA'})"
   ]
  },
  {
   "cell_type": "code",
   "execution_count": 12,
   "metadata": {},
   "outputs": [
    {
     "data": {
      "text/plain": [
       "(11358, 11358)"
      ]
     },
     "execution_count": 12,
     "metadata": {},
     "output_type": "execute_result"
    }
   ],
   "source": [
    "## occurrenceID (eventID + count number of occurence along a transect) \n",
    "\n",
    "occ['occurrenceID'] = data.groupby(['site_code', \n",
    "                                    'Min(sample_date)', \n",
    "                                    'Max(sample_date)'])['species_lump'].cumcount()+1\n",
    "\n",
    "\n",
    "occ['occurrenceID'] = occ['eventID'] + '_' + occ['occurrenceID'].astype(str)\n",
    "\n",
    "# make sure all occurrenceIDs are unique\n",
    "len(occ['occurrenceID'].unique()), len(occ)"
   ]
  },
  {
   "cell_type": "code",
   "execution_count": 13,
   "metadata": {},
   "outputs": [],
   "source": [
    "## organismQuantity\n",
    "occ['organismQuantity'] = data['total_count']\n",
    "\n",
    "## organismQuantityType\n",
    "occ['organismQuantityType'] = 'individuals'\n",
    "\n",
    "## occurrenceStatus\n",
    "occ['occurrenceStatus'] = ''\n",
    "occ.loc[occ.organismQuantity == 0.0, ['occurrenceStatus']] = 'absent'\n",
    "occ.loc[occ.organismQuantity > 0.0, ['occurrenceStatus']] = 'present'"
   ]
  },
  {
   "cell_type": "code",
   "execution_count": 14,
   "metadata": {},
   "outputs": [],
   "source": [
    "## add columns to occ table that will be used for the EMOF extension.\n",
    "## note that the column names will be changed in the eMOF table (they are not using DwC terms yet)\n",
    "\n",
    "occ['measurementValue_density'] = data['density_per_m2']\n",
    "occ['measurementValue_area'] = data['est_swath_area_searched_m2']"
   ]
  },
  {
   "cell_type": "code",
   "execution_count": 15,
   "metadata": {},
   "outputs": [
    {
     "data": {
      "text/html": [
       "<div>\n",
       "<style scoped>\n",
       "    .dataframe tbody tr th:only-of-type {\n",
       "        vertical-align: middle;\n",
       "    }\n",
       "\n",
       "    .dataframe tbody tr th {\n",
       "        vertical-align: top;\n",
       "    }\n",
       "\n",
       "    .dataframe thead th {\n",
       "        text-align: right;\n",
       "    }\n",
       "</style>\n",
       "<table border=\"1\" class=\"dataframe\">\n",
       "  <thead>\n",
       "    <tr style=\"text-align: right;\">\n",
       "      <th></th>\n",
       "      <th>eventID</th>\n",
       "      <th>eventDate</th>\n",
       "      <th>datasetName</th>\n",
       "      <th>basisOfRecord</th>\n",
       "      <th>geodeticDatum</th>\n",
       "      <th>minimumDepthInMeters</th>\n",
       "      <th>maximumDepthInMeters</th>\n",
       "      <th>samplingProtocol</th>\n",
       "      <th>coordinateUncertaintyInMeters</th>\n",
       "      <th>occurrenceRemarks</th>\n",
       "      <th>...</th>\n",
       "      <th>countryCode</th>\n",
       "      <th>decimalLatitude</th>\n",
       "      <th>decimalLongitude</th>\n",
       "      <th>locationRemarks</th>\n",
       "      <th>occurrenceID</th>\n",
       "      <th>organismQuantity</th>\n",
       "      <th>organismQuantityType</th>\n",
       "      <th>occurrenceStatus</th>\n",
       "      <th>measurementValue_density</th>\n",
       "      <th>measurementValue_area</th>\n",
       "    </tr>\n",
       "  </thead>\n",
       "  <tbody>\n",
       "    <tr>\n",
       "      <th>0</th>\n",
       "      <td>400_2001-10-18_2001-10-18</td>\n",
       "      <td>2001-10-18/2001-10-18</td>\n",
       "      <td>MARINe CBS - Swath Surveys Summarized</td>\n",
       "      <td>HumanObservation</td>\n",
       "      <td>WGS84</td>\n",
       "      <td>0</td>\n",
       "      <td>0</td>\n",
       "      <td>cbs swath transects https://marine.ucsc.edu/me...</td>\n",
       "      <td>350</td>\n",
       "      <td></td>\n",
       "      <td>...</td>\n",
       "      <td>US</td>\n",
       "      <td>34.005569</td>\n",
       "      <td>-119.41925</td>\n",
       "      <td>This site is inside of a Marine Protected Area...</td>\n",
       "      <td>400_2001-10-18_2001-10-18_1</td>\n",
       "      <td>0</td>\n",
       "      <td>individuals</td>\n",
       "      <td>absent</td>\n",
       "      <td>0.0</td>\n",
       "      <td>379.8</td>\n",
       "    </tr>\n",
       "    <tr>\n",
       "      <th>1</th>\n",
       "      <td>400_2001-10-18_2001-10-18</td>\n",
       "      <td>2001-10-18/2001-10-18</td>\n",
       "      <td>MARINe CBS - Swath Surveys Summarized</td>\n",
       "      <td>HumanObservation</td>\n",
       "      <td>WGS84</td>\n",
       "      <td>0</td>\n",
       "      <td>0</td>\n",
       "      <td>cbs swath transects https://marine.ucsc.edu/me...</td>\n",
       "      <td>350</td>\n",
       "      <td></td>\n",
       "      <td>...</td>\n",
       "      <td>US</td>\n",
       "      <td>34.005569</td>\n",
       "      <td>-119.41925</td>\n",
       "      <td>This site is inside of a Marine Protected Area...</td>\n",
       "      <td>400_2001-10-18_2001-10-18_2</td>\n",
       "      <td>0</td>\n",
       "      <td>individuals</td>\n",
       "      <td>absent</td>\n",
       "      <td>0.0</td>\n",
       "      <td>379.8</td>\n",
       "    </tr>\n",
       "  </tbody>\n",
       "</table>\n",
       "<p>2 rows × 23 columns</p>\n",
       "</div>"
      ],
      "text/plain": [
       "                     eventID              eventDate  \\\n",
       "0  400_2001-10-18_2001-10-18  2001-10-18/2001-10-18   \n",
       "1  400_2001-10-18_2001-10-18  2001-10-18/2001-10-18   \n",
       "\n",
       "                             datasetName     basisOfRecord geodeticDatum  \\\n",
       "0  MARINe CBS - Swath Surveys Summarized  HumanObservation         WGS84   \n",
       "1  MARINe CBS - Swath Surveys Summarized  HumanObservation         WGS84   \n",
       "\n",
       "   minimumDepthInMeters  maximumDepthInMeters  \\\n",
       "0                     0                     0   \n",
       "1                     0                     0   \n",
       "\n",
       "                                    samplingProtocol  \\\n",
       "0  cbs swath transects https://marine.ucsc.edu/me...   \n",
       "1  cbs swath transects https://marine.ucsc.edu/me...   \n",
       "\n",
       "   coordinateUncertaintyInMeters occurrenceRemarks  ... countryCode  \\\n",
       "0                            350                    ...          US   \n",
       "1                            350                    ...          US   \n",
       "\n",
       "  decimalLatitude decimalLongitude  \\\n",
       "0       34.005569       -119.41925   \n",
       "1       34.005569       -119.41925   \n",
       "\n",
       "                                     locationRemarks  \\\n",
       "0  This site is inside of a Marine Protected Area...   \n",
       "1  This site is inside of a Marine Protected Area...   \n",
       "\n",
       "                  occurrenceID  organismQuantity organismQuantityType  \\\n",
       "0  400_2001-10-18_2001-10-18_1                 0          individuals   \n",
       "1  400_2001-10-18_2001-10-18_2                 0          individuals   \n",
       "\n",
       "  occurrenceStatus  measurementValue_density measurementValue_area  \n",
       "0           absent                       0.0                 379.8  \n",
       "1           absent                       0.0                 379.8  \n",
       "\n",
       "[2 rows x 23 columns]"
      ]
     },
     "execution_count": 15,
     "metadata": {},
     "output_type": "execute_result"
    }
   ],
   "source": [
    "occ.head(2)"
   ]
  },
  {
   "cell_type": "markdown",
   "metadata": {},
   "source": [
    "## Using pyworms to access the WoRMS database for scientificName information"
   ]
  },
  {
   "cell_type": "code",
   "execution_count": 16,
   "metadata": {},
   "outputs": [],
   "source": [
    "## scientificName\n",
    "occ['scientificName'] = data['species_lump']"
   ]
  },
  {
   "cell_type": "markdown",
   "metadata": {},
   "source": [
    "There are 2 species in the dataset that are in the species table, but not listed as being a \"swath\" primary_survey_type. <br>\n",
    "Rani Gaddam confirmed that \"since these species are smaller the swath surveys are not appropriate for determining abundance, so we use the quadrat surveys for those species.\" To handle the fact that there are 2 samplingProtocols used in this dataset, I decided to do the following:\n",
    "- For sites where either Leptasterias spp or Ophiuroid were observed, change the samplingProtocol to include links to both the swath transect and the quadrat protocols. \n",
    "- For additional granularity, I specified ifan occurrence used quadrats vs swath surveys in the occurrenceRemarks depending on the scientificName. \n"
   ]
  },
  {
   "cell_type": "code",
   "execution_count": 17,
   "metadata": {},
   "outputs": [
    {
     "name": "stdout",
     "output_type": "stream",
     "text": [
      "Species which do not use swath transects as its primary sampling type:\n",
      "\n",
      "Leptasterias spp\n",
      "Ophiuroid\n"
     ]
    }
   ],
   "source": [
    "species_swath = species[species['primary_survey_type'] == 'swath']\n",
    "\n",
    "print('Species which do not use swath transects as its primary sampling type:\\n')\n",
    "for i in data['species_lump'].unique():\n",
    "    if len(species_swath[species_swath['species_lump'] == i]) == 0:\n",
    "        print(i)"
   ]
  },
  {
   "cell_type": "code",
   "execution_count": 18,
   "metadata": {},
   "outputs": [],
   "source": [
    "## based on pyworms query (below), make manual changes where outputs showed no match:\n",
    "\n",
    "## Ophiuroidea\n",
    "occ.loc[occ.scientificName == 'Ophiuroid', ['scientificName']] = 'Ophiuroidea'"
   ]
  },
  {
   "cell_type": "code",
   "execution_count": 19,
   "metadata": {},
   "outputs": [],
   "source": [
    "## samplingProtocol\n",
    "occ.loc[occ['scientificName'].str.contains('Leptasterias spp|Ophiuroidea'), 'samplingProtocol'] = 'cbs swath transects https://marine.ucsc.edu/methods/biodiversity-methods.html#bio-method-swath | cbs quadrat surveys https://marine.ucsc.edu/methods/biodiversity-methods.html#bio-method-quad'"
   ]
  },
  {
   "cell_type": "code",
   "execution_count": 20,
   "metadata": {},
   "outputs": [],
   "source": [
    "## run pyworms query\n",
    "## this code is adapted from an IOOS notebook (https://ioos.github.io/ioos_code_lab/content/code_gallery/data_management_notebooks/2020-12-08-DataToDwC.html)\n",
    "## print statements can be uncommented as needed\n",
    "\n",
    "for index, row in occ.iterrows():\n",
    "    resp = pyworms.aphiaRecordsByMatchNames(row['scientificName'], marine_only=True)\n",
    "    \n",
    "    # When no matches are found, print the non-matching name and move on\n",
    "    if len(resp[0]) == 0:\n",
    "        #print('\\nNo match for name \"{}\"'.format(row['scientificName']))\n",
    "        continue\n",
    "        \n",
    "    # When more than 1 match is found, the user needs to take a look. But tell the user which one has multiple matches\n",
    "    elif len(resp[0]) > 1:\n",
    "       # print('\\nMultiple matches for name \"{}\":'.format(row['scientificName']))\n",
    "        #pprint.pprint(resp[0], indent=4)\n",
    "        continue\n",
    "    \n",
    "    else:\n",
    "        # When only 1 match is found, put the appropriate information into the appropriate row and column\n",
    "        worms = resp[0][0]\n",
    "        occ.loc[index, 'scientificNameID'] = worms['lsid']\n",
    "        occ.loc[index, 'taxonRank'] = worms['rank']\n",
    "        occ.loc[index, 'match_type'] = worms['match_type']"
   ]
  },
  {
   "cell_type": "code",
   "execution_count": 21,
   "metadata": {},
   "outputs": [
    {
     "name": "stdout",
     "output_type": "stream",
     "text": [
      "inconsistent IDs for: ['Echinaster spp' 'Ophiuroidea']\n"
     ]
    }
   ],
   "source": [
    "# run a quick test to make sure that the scientificNameIDs generated from the pyworms query are consistent\n",
    "# with the IDs provided in the species table. \n",
    "\n",
    "occ.rename(columns = {'scientificName':'species_lump'}, inplace=True) #change column name for merging \n",
    "\n",
    "sp_cols = ['species_lump', \n",
    "          'taxonomic_id',\n",
    "          'kingdom',\n",
    "          'phylum',\n",
    "          'class',\n",
    "          'order',\n",
    "          'family',\n",
    "          'genus',\n",
    "          'species']\n",
    "\n",
    "occ = occ.merge(species[sp_cols], how='left', on='species_lump')\n",
    "\n",
    "occ['scientificNameID_split'] =  occ['scientificNameID'].str.split(':').str[4]\n",
    "occ['taxonomic_id'] = occ['taxonomic_id'].astype(str).str.split('.').str[0]\n",
    "\n",
    "ids_unmatched = []\n",
    "for index, row in occ.iterrows():\n",
    "    if row['taxonomic_id'] != row['scientificNameID_split']:\n",
    "        ids_unmatched.append(row['species_lump'])\n",
    "print('inconsistent IDs for:', np.unique(ids_unmatched))"
   ]
  },
  {
   "cell_type": "code",
   "execution_count": 22,
   "metadata": {},
   "outputs": [
    {
     "name": "stdout",
     "output_type": "stream",
     "text": [
      "WoRMS query scientificNameID for Ophiuroidea (from pyworms query): ['123084']\n",
      "WoRMS query scientificNameID for Ophiuroid (from species table): [123084.]\n"
     ]
    }
   ],
   "source": [
    "# make sure Ophiuroid from species table matches Ophiuroidea from WoRMS output\n",
    "\n",
    "print('WoRMS query scientificNameID for Ophiuroidea (from pyworms query):', occ[occ['species_lump'] == 'Ophiuroidea'].scientificNameID_split.unique())\n",
    "print('WoRMS query scientificNameID for Ophiuroid (from species table):', species[species['species_lump'] == 'Ophiuroid'].taxonomic_id.unique())"
   ]
  },
  {
   "cell_type": "code",
   "execution_count": 23,
   "metadata": {},
   "outputs": [
    {
     "name": "stdout",
     "output_type": "stream",
     "text": [
      "WoRMS query scientificNameID for Echinaster spp: [nan]\n",
      "WoRMS query scientificNameID for Echinaster spp (from species table): [123275.]\n"
     ]
    }
   ],
   "source": [
    "# make sure that the WoRMS ID for Echinaster spp is correct\n",
    "# manual check confirms the ID is correct: https://www.marinespecies.org/aphia.php?p=taxdetails&id=123275 \n",
    "\n",
    "print('WoRMS query scientificNameID for Echinaster spp:', occ[occ['species_lump'] == 'Echinaster spp'].scientificNameID_split.unique())\n",
    "print('WoRMS query scientificNameID for Echinaster spp (from species table):', species[species['species_lump'] == 'Echinaster spp'].taxonomic_id.unique())"
   ]
  },
  {
   "cell_type": "code",
   "execution_count": 24,
   "metadata": {},
   "outputs": [],
   "source": [
    "# now that we validated that the taxonomic_id column of the species table is consistent with the WoRMS query,\n",
    "# we can be confident that the information in the species table can be used to populate the occurrence table.\n",
    "# we no longer need the match_type, and scientificNameID_split, scientificNameID columns\n",
    "\n",
    "occ.drop(columns = [\n",
    "          'match_type',\n",
    "          'scientificNameID_split',\n",
    "          'scientificNameID'\n",
    "                   ], inplace=True)"
   ]
  },
  {
   "cell_type": "code",
   "execution_count": 25,
   "metadata": {},
   "outputs": [],
   "source": [
    "# rename several columns to DwC terms\n",
    "\n",
    "occ.rename(columns = {\n",
    "    'species_lump':'scientificName',\n",
    "    'taxonomic_id':'scientificNameID'\n",
    "}, inplace=True)"
   ]
  },
  {
   "cell_type": "code",
   "execution_count": 26,
   "metadata": {},
   "outputs": [
    {
     "data": {
      "text/plain": [
       "'urn:lsid:marinespecies.org:taxname:255044'"
      ]
     },
     "execution_count": 26,
     "metadata": {},
     "output_type": "execute_result"
    }
   ],
   "source": [
    "# make the scientificNameID include the entire 'urn:lsid:marinespecies.org:taxname:' string\n",
    "\n",
    "occ['scientificNameID'] = 'urn:lsid:marinespecies.org:taxname:' + occ['scientificNameID'].astype(str)\n",
    "occ['scientificNameID'][0]"
   ]
  },
  {
   "cell_type": "code",
   "execution_count": 27,
   "metadata": {},
   "outputs": [],
   "source": [
    "# manually add in taxonomic information for Ophiuroidea since it did not have an exact pyworms match\n",
    "\n",
    "occ.loc[occ.scientificName == 'Ophiuroidea', ['taxonRank',\n",
    "                                              'scientificNameID',\n",
    "                                              'kingdom',\n",
    "                                              'phylum',\n",
    "                                              'class',\n",
    "                                              'order',\n",
    "                                              'family', \n",
    "                                              'genus',\n",
    "                                              'species']] = 'Class','urn:lsid:marinespecies.org:taxname:123084', 'Animalia', 'Echinodermata', 'Ophiuroidea', '', '', '', ''"
   ]
  },
  {
   "cell_type": "code",
   "execution_count": 28,
   "metadata": {},
   "outputs": [],
   "source": [
    "# manually add in taxonRank information for Echinaster spp since it did not have an exact pyworms match\n",
    "\n",
    "occ.loc[occ.scientificName == 'Echinaster spp', ['taxonRank']] = 'Genus'"
   ]
  },
  {
   "cell_type": "code",
   "execution_count": 29,
   "metadata": {},
   "outputs": [],
   "source": [
    "# convert nan values to empty strings, which is preferred for a Darwin Core Archive.\n",
    "\n",
    "occ.loc[pd.isna(occ['species']), 'species'] = ''"
   ]
  },
  {
   "cell_type": "code",
   "execution_count": 36,
   "metadata": {},
   "outputs": [],
   "source": [
    "# based on comment from Steve Formel, it is best to remove \"spp\" after the genus in the scientificName column\n",
    "occ['scientificName'] = occ['scientificName'].str.replace(\" spp\", \"\")"
   ]
  },
  {
   "cell_type": "code",
   "execution_count": 38,
   "metadata": {},
   "outputs": [
    {
     "data": {
      "text/plain": [
       "eventID                          0\n",
       "eventDate                        0\n",
       "datasetName                      0\n",
       "basisOfRecord                    0\n",
       "geodeticDatum                    0\n",
       "minimumDepthInMeters             0\n",
       "maximumDepthInMeters             0\n",
       "samplingProtocol                 0\n",
       "coordinateUncertaintyInMeters    0\n",
       "occurrenceRemarks                0\n",
       "locality                         0\n",
       "county                           0\n",
       "stateProvince                    0\n",
       "countryCode                      0\n",
       "decimalLatitude                  0\n",
       "decimalLongitude                 0\n",
       "locationRemarks                  0\n",
       "occurrenceID                     0\n",
       "organismQuantity                 0\n",
       "organismQuantityType             0\n",
       "occurrenceStatus                 0\n",
       "measurementValue_density         0\n",
       "measurementValue_area            0\n",
       "scientificName                   0\n",
       "taxonRank                        0\n",
       "scientificNameID                 0\n",
       "kingdom                          0\n",
       "phylum                           0\n",
       "class                            0\n",
       "order                            0\n",
       "family                           0\n",
       "genus                            0\n",
       "species                          0\n",
       "dtype: int64"
      ]
     },
     "execution_count": 38,
     "metadata": {},
     "output_type": "execute_result"
    }
   ],
   "source": [
    "# Check for any additional nan values in other columns \n",
    "occ.isna().sum()"
   ]
  },
  {
   "cell_type": "markdown",
   "metadata": {},
   "source": [
    "## Make Event Core"
   ]
  },
  {
   "cell_type": "code",
   "execution_count": 39,
   "metadata": {},
   "outputs": [
    {
     "data": {
      "text/html": [
       "<div>\n",
       "<style scoped>\n",
       "    .dataframe tbody tr th:only-of-type {\n",
       "        vertical-align: middle;\n",
       "    }\n",
       "\n",
       "    .dataframe tbody tr th {\n",
       "        vertical-align: top;\n",
       "    }\n",
       "\n",
       "    .dataframe thead th {\n",
       "        text-align: right;\n",
       "    }\n",
       "</style>\n",
       "<table border=\"1\" class=\"dataframe\">\n",
       "  <thead>\n",
       "    <tr style=\"text-align: right;\">\n",
       "      <th></th>\n",
       "      <th>eventID</th>\n",
       "      <th>eventDate</th>\n",
       "      <th>decimalLatitude</th>\n",
       "      <th>decimalLongitude</th>\n",
       "      <th>locality</th>\n",
       "      <th>county</th>\n",
       "      <th>stateProvince</th>\n",
       "      <th>countryCode</th>\n",
       "      <th>geodeticDatum</th>\n",
       "      <th>minimumDepthInMeters</th>\n",
       "      <th>maximumDepthInMeters</th>\n",
       "      <th>coordinateUncertaintyInMeters</th>\n",
       "      <th>samplingProtocol</th>\n",
       "      <th>datasetName</th>\n",
       "      <th>locationRemarks</th>\n",
       "    </tr>\n",
       "  </thead>\n",
       "  <tbody>\n",
       "    <tr>\n",
       "      <th>0</th>\n",
       "      <td>400_2001-10-18_2001-10-18</td>\n",
       "      <td>2001-10-18/2001-10-18</td>\n",
       "      <td>34.005569</td>\n",
       "      <td>-119.41925</td>\n",
       "      <td>Cat Rock</td>\n",
       "      <td>Ventura</td>\n",
       "      <td>California</td>\n",
       "      <td>US</td>\n",
       "      <td>WGS84</td>\n",
       "      <td>0</td>\n",
       "      <td>0</td>\n",
       "      <td>350</td>\n",
       "      <td>cbs swath transects https://marine.ucsc.edu/me...</td>\n",
       "      <td>MARINe CBS - Swath Surveys Summarized</td>\n",
       "      <td>This site is inside of a Marine Protected Area...</td>\n",
       "    </tr>\n",
       "    <tr>\n",
       "      <th>1</th>\n",
       "      <td>6009_2015-06-02_2015-06-02</td>\n",
       "      <td>2015-06-02/2015-06-02</td>\n",
       "      <td>39.569065</td>\n",
       "      <td>-123.77182</td>\n",
       "      <td>Abalobadiah Creek</td>\n",
       "      <td>Mendocino</td>\n",
       "      <td>California</td>\n",
       "      <td>US</td>\n",
       "      <td>WGS84</td>\n",
       "      <td>0</td>\n",
       "      <td>0</td>\n",
       "      <td>350</td>\n",
       "      <td>cbs swath transects https://marine.ucsc.edu/me...</td>\n",
       "      <td>MARINe CBS - Swath Surveys Summarized</td>\n",
       "      <td>This site is inside of a Marine Protected Area...</td>\n",
       "    </tr>\n",
       "    <tr>\n",
       "      <th>2</th>\n",
       "      <td>6009_2018-07-13_2018-07-13</td>\n",
       "      <td>2018-07-13/2018-07-13</td>\n",
       "      <td>39.569065</td>\n",
       "      <td>-123.77182</td>\n",
       "      <td>Abalobadiah Creek</td>\n",
       "      <td>Mendocino</td>\n",
       "      <td>California</td>\n",
       "      <td>US</td>\n",
       "      <td>WGS84</td>\n",
       "      <td>0</td>\n",
       "      <td>0</td>\n",
       "      <td>350</td>\n",
       "      <td>cbs swath transects https://marine.ucsc.edu/me...</td>\n",
       "      <td>MARINe CBS - Swath Surveys Summarized</td>\n",
       "      <td>This site is inside of a Marine Protected Area...</td>\n",
       "    </tr>\n",
       "  </tbody>\n",
       "</table>\n",
       "</div>"
      ],
      "text/plain": [
       "                      eventID              eventDate  decimalLatitude  \\\n",
       "0   400_2001-10-18_2001-10-18  2001-10-18/2001-10-18        34.005569   \n",
       "1  6009_2015-06-02_2015-06-02  2015-06-02/2015-06-02        39.569065   \n",
       "2  6009_2018-07-13_2018-07-13  2018-07-13/2018-07-13        39.569065   \n",
       "\n",
       "   decimalLongitude           locality     county stateProvince countryCode  \\\n",
       "0        -119.41925           Cat Rock    Ventura    California          US   \n",
       "1        -123.77182  Abalobadiah Creek  Mendocino    California          US   \n",
       "2        -123.77182  Abalobadiah Creek  Mendocino    California          US   \n",
       "\n",
       "  geodeticDatum  minimumDepthInMeters  maximumDepthInMeters  \\\n",
       "0         WGS84                     0                     0   \n",
       "1         WGS84                     0                     0   \n",
       "2         WGS84                     0                     0   \n",
       "\n",
       "   coordinateUncertaintyInMeters  \\\n",
       "0                            350   \n",
       "1                            350   \n",
       "2                            350   \n",
       "\n",
       "                                    samplingProtocol  \\\n",
       "0  cbs swath transects https://marine.ucsc.edu/me...   \n",
       "1  cbs swath transects https://marine.ucsc.edu/me...   \n",
       "2  cbs swath transects https://marine.ucsc.edu/me...   \n",
       "\n",
       "                             datasetName  \\\n",
       "0  MARINe CBS - Swath Surveys Summarized   \n",
       "1  MARINe CBS - Swath Surveys Summarized   \n",
       "2  MARINe CBS - Swath Surveys Summarized   \n",
       "\n",
       "                                     locationRemarks  \n",
       "0  This site is inside of a Marine Protected Area...  \n",
       "1  This site is inside of a Marine Protected Area...  \n",
       "2  This site is inside of a Marine Protected Area...  "
      ]
     },
     "execution_count": 39,
     "metadata": {},
     "output_type": "execute_result"
    }
   ],
   "source": [
    "# pull necessary columns from occurrence table\n",
    "\n",
    "event = occ[['eventID', \n",
    "             'eventDate', \n",
    "             'decimalLatitude', \n",
    "             'decimalLongitude', \n",
    "             'locality', \n",
    "             'county', \n",
    "             'stateProvince', \n",
    "             'countryCode', \n",
    "             'geodeticDatum', \n",
    "             'minimumDepthInMeters', \n",
    "             'maximumDepthInMeters',\n",
    "             'coordinateUncertaintyInMeters',\n",
    "             'samplingProtocol',\n",
    "             'datasetName',\n",
    "             'locationRemarks']].copy()\n",
    "\n",
    "event.drop_duplicates(inplace=True)\n",
    "event = event[event['samplingProtocol'] == 'cbs swath transects https://marine.ucsc.edu/methods/biodiversity-methods.html#bio-method-swath | cbs quadrat surveys https://marine.ucsc.edu/methods/biodiversity-methods.html#bio-method-quad']\n",
    "event.reset_index(inplace=True,drop=True)\n",
    "event.head(3)\n"
   ]
  },
  {
   "cell_type": "code",
   "execution_count": 40,
   "metadata": {},
   "outputs": [
    {
     "data": {
      "text/plain": [
       "array([2])"
      ]
     },
     "execution_count": 40,
     "metadata": {},
     "output_type": "execute_result"
    }
   ],
   "source": [
    "# either Leptasterias spp or Ophiuroidea were observed at each event, which is why we should only include events with both sampling protocols (quadrats and swaths). \n",
    "occ.groupby('eventID')['samplingProtocol'].nunique().unique()"
   ]
  },
  {
   "cell_type": "code",
   "execution_count": 41,
   "metadata": {},
   "outputs": [
    {
     "data": {
      "text/plain": [
       "(631, 631, 631)"
      ]
     },
     "execution_count": 41,
     "metadata": {},
     "output_type": "execute_result"
    }
   ],
   "source": [
    "# Make sure that all eventIDs in event core are unique \n",
    "len(event.eventID.unique()), len(event), len(occ.eventID.unique())"
   ]
  },
  {
   "cell_type": "code",
   "execution_count": 42,
   "metadata": {},
   "outputs": [],
   "source": [
    "## Save\n",
    "\n",
    "today = date.today().strftime('%Y%m%d')\n",
    "output_filename = 'event_core_' + today + '.csv'\n",
    "\n",
    "event.to_csv(os.path.join(os.getcwd()+'/processed/', output_filename), index=False)"
   ]
  },
  {
   "cell_type": "markdown",
   "metadata": {},
   "source": [
    "## Make Occurrence Extension"
   ]
  },
  {
   "cell_type": "code",
   "execution_count": 43,
   "metadata": {},
   "outputs": [],
   "source": [
    "# pull necessary columns from occurrence table\n",
    "\n",
    "occ_ext = occ[['eventID', \n",
    "               'occurrenceID', \n",
    "               'basisOfRecord', \n",
    "               'scientificName', \n",
    "               'scientificNameID', \n",
    "               'occurrenceStatus',\n",
    "               'organismQuantity',\n",
    "               'organismQuantityType',\n",
    "               'taxonRank', \n",
    "               'kingdom',\n",
    "               'phylum',\n",
    "               'class',\n",
    "               'order',\n",
    "               'family',\n",
    "               'genus',\n",
    "               'species',\n",
    "               'occurrenceRemarks']].copy()"
   ]
  },
  {
   "cell_type": "code",
   "execution_count": 44,
   "metadata": {},
   "outputs": [],
   "source": [
    "# Add in occurrenceRemarks specifying that unless the species is Ophiuroidea or Leptasterias spp, swath surveys are used. \n",
    "\n",
    "occ_ext['occurrenceRemarks'] = 'Swath surveys are used to estimate abundance for this organism.'\n",
    "occ_ext.loc[occ_ext.scientificName == 'Leptasterias spp', ['occurrenceRemarks']] = 'Quadrat surveys are used to estimate abundance for this organism.'\n",
    "occ_ext.loc[occ_ext.scientificName == 'Ophiuroidea', ['occurrenceRemarks']] = 'Quadrat surveys are used to estimate abundance for this organism.'"
   ]
  },
  {
   "cell_type": "code",
   "execution_count": 45,
   "metadata": {},
   "outputs": [
    {
     "data": {
      "text/html": [
       "<div>\n",
       "<style scoped>\n",
       "    .dataframe tbody tr th:only-of-type {\n",
       "        vertical-align: middle;\n",
       "    }\n",
       "\n",
       "    .dataframe tbody tr th {\n",
       "        vertical-align: top;\n",
       "    }\n",
       "\n",
       "    .dataframe thead th {\n",
       "        text-align: right;\n",
       "    }\n",
       "</style>\n",
       "<table border=\"1\" class=\"dataframe\">\n",
       "  <thead>\n",
       "    <tr style=\"text-align: right;\">\n",
       "      <th></th>\n",
       "      <th>eventID</th>\n",
       "      <th>occurrenceID</th>\n",
       "      <th>basisOfRecord</th>\n",
       "      <th>scientificName</th>\n",
       "      <th>scientificNameID</th>\n",
       "      <th>occurrenceStatus</th>\n",
       "      <th>organismQuantity</th>\n",
       "      <th>organismQuantityType</th>\n",
       "      <th>taxonRank</th>\n",
       "      <th>kingdom</th>\n",
       "      <th>phylum</th>\n",
       "      <th>class</th>\n",
       "      <th>order</th>\n",
       "      <th>family</th>\n",
       "      <th>genus</th>\n",
       "      <th>species</th>\n",
       "      <th>occurrenceRemarks</th>\n",
       "    </tr>\n",
       "  </thead>\n",
       "  <tbody>\n",
       "    <tr>\n",
       "      <th>0</th>\n",
       "      <td>400_2001-10-18_2001-10-18</td>\n",
       "      <td>400_2001-10-18_2001-10-18_1</td>\n",
       "      <td>HumanObservation</td>\n",
       "      <td>Astrometis sertulifera</td>\n",
       "      <td>urn:lsid:marinespecies.org:taxname:255044</td>\n",
       "      <td>absent</td>\n",
       "      <td>0</td>\n",
       "      <td>individuals</td>\n",
       "      <td>Species</td>\n",
       "      <td>Animalia</td>\n",
       "      <td>Echinodermata</td>\n",
       "      <td>Asteroidea</td>\n",
       "      <td>Forcipulatida</td>\n",
       "      <td>Asteriidae</td>\n",
       "      <td>Astrometis</td>\n",
       "      <td>Astrometis sertulifera</td>\n",
       "      <td>Swath surveys are used to estimate abundance f...</td>\n",
       "    </tr>\n",
       "    <tr>\n",
       "      <th>1</th>\n",
       "      <td>400_2001-10-18_2001-10-18</td>\n",
       "      <td>400_2001-10-18_2001-10-18_2</td>\n",
       "      <td>HumanObservation</td>\n",
       "      <td>Cryptochiton stelleri</td>\n",
       "      <td>urn:lsid:marinespecies.org:taxname:240776</td>\n",
       "      <td>absent</td>\n",
       "      <td>0</td>\n",
       "      <td>individuals</td>\n",
       "      <td>Species</td>\n",
       "      <td>Animalia</td>\n",
       "      <td>Mollusca</td>\n",
       "      <td>Polyplacophora</td>\n",
       "      <td>Chitonida</td>\n",
       "      <td>Acanthochitonidae</td>\n",
       "      <td>Cryptochiton</td>\n",
       "      <td>Cryptochiton stelleri</td>\n",
       "      <td>Swath surveys are used to estimate abundance f...</td>\n",
       "    </tr>\n",
       "    <tr>\n",
       "      <th>2</th>\n",
       "      <td>400_2001-10-18_2001-10-18</td>\n",
       "      <td>400_2001-10-18_2001-10-18_3</td>\n",
       "      <td>HumanObservation</td>\n",
       "      <td>Dermasterias imbricata</td>\n",
       "      <td>urn:lsid:marinespecies.org:taxname:240771</td>\n",
       "      <td>absent</td>\n",
       "      <td>0</td>\n",
       "      <td>individuals</td>\n",
       "      <td>Species</td>\n",
       "      <td>Animalia</td>\n",
       "      <td>Echinodermata</td>\n",
       "      <td>Asteroidea</td>\n",
       "      <td>Valvatida</td>\n",
       "      <td>Asteropseidae</td>\n",
       "      <td>Dermasterias</td>\n",
       "      <td>Dermasterias imbricata</td>\n",
       "      <td>Swath surveys are used to estimate abundance f...</td>\n",
       "    </tr>\n",
       "  </tbody>\n",
       "</table>\n",
       "</div>"
      ],
      "text/plain": [
       "                     eventID                 occurrenceID     basisOfRecord  \\\n",
       "0  400_2001-10-18_2001-10-18  400_2001-10-18_2001-10-18_1  HumanObservation   \n",
       "1  400_2001-10-18_2001-10-18  400_2001-10-18_2001-10-18_2  HumanObservation   \n",
       "2  400_2001-10-18_2001-10-18  400_2001-10-18_2001-10-18_3  HumanObservation   \n",
       "\n",
       "           scientificName                           scientificNameID  \\\n",
       "0  Astrometis sertulifera  urn:lsid:marinespecies.org:taxname:255044   \n",
       "1   Cryptochiton stelleri  urn:lsid:marinespecies.org:taxname:240776   \n",
       "2  Dermasterias imbricata  urn:lsid:marinespecies.org:taxname:240771   \n",
       "\n",
       "  occurrenceStatus  organismQuantity organismQuantityType taxonRank   kingdom  \\\n",
       "0           absent                 0          individuals   Species  Animalia   \n",
       "1           absent                 0          individuals   Species  Animalia   \n",
       "2           absent                 0          individuals   Species  Animalia   \n",
       "\n",
       "          phylum           class          order             family  \\\n",
       "0  Echinodermata      Asteroidea  Forcipulatida         Asteriidae   \n",
       "1       Mollusca  Polyplacophora      Chitonida  Acanthochitonidae   \n",
       "2  Echinodermata      Asteroidea      Valvatida      Asteropseidae   \n",
       "\n",
       "          genus                 species  \\\n",
       "0    Astrometis  Astrometis sertulifera   \n",
       "1  Cryptochiton   Cryptochiton stelleri   \n",
       "2  Dermasterias  Dermasterias imbricata   \n",
       "\n",
       "                                   occurrenceRemarks  \n",
       "0  Swath surveys are used to estimate abundance f...  \n",
       "1  Swath surveys are used to estimate abundance f...  \n",
       "2  Swath surveys are used to estimate abundance f...  "
      ]
     },
     "execution_count": 45,
     "metadata": {},
     "output_type": "execute_result"
    }
   ],
   "source": [
    "occ_ext.head(3)"
   ]
  },
  {
   "cell_type": "code",
   "execution_count": 46,
   "metadata": {},
   "outputs": [],
   "source": [
    "## Save\n",
    "\n",
    "today = date.today().strftime('%Y%m%d')\n",
    "output_filename = 'occurence_extension_' + today + '.csv'\n",
    "\n",
    "occ_ext.to_csv(os.path.join(os.getcwd()+'/processed/', output_filename), index=False)"
   ]
  },
  {
   "cell_type": "markdown",
   "metadata": {},
   "source": [
    "## Make Extended Measurement or Fact Extension"
   ]
  },
  {
   "cell_type": "code",
   "execution_count": 47,
   "metadata": {},
   "outputs": [
    {
     "data": {
      "text/html": [
       "<div>\n",
       "<style scoped>\n",
       "    .dataframe tbody tr th:only-of-type {\n",
       "        vertical-align: middle;\n",
       "    }\n",
       "\n",
       "    .dataframe tbody tr th {\n",
       "        vertical-align: top;\n",
       "    }\n",
       "\n",
       "    .dataframe thead th {\n",
       "        text-align: right;\n",
       "    }\n",
       "</style>\n",
       "<table border=\"1\" class=\"dataframe\">\n",
       "  <thead>\n",
       "    <tr style=\"text-align: right;\">\n",
       "      <th></th>\n",
       "      <th>occurrenceID</th>\n",
       "      <th>eventID</th>\n",
       "      <th>measurementValue</th>\n",
       "      <th>measurementUnit</th>\n",
       "      <th>measurementUnitID</th>\n",
       "      <th>measurementType</th>\n",
       "      <th>measurementTypeID</th>\n",
       "    </tr>\n",
       "  </thead>\n",
       "  <tbody>\n",
       "    <tr>\n",
       "      <th>0</th>\n",
       "      <td>400_2001-10-18_2001-10-18_1</td>\n",
       "      <td>400_2001-10-18_2001-10-18</td>\n",
       "      <td>0.0</td>\n",
       "      <td>#/m^2</td>\n",
       "      <td>http://vocab.nerc.ac.uk/collection/P06/current...</td>\n",
       "      <td>Abundance of biological entity specified elsew...</td>\n",
       "      <td>http://vocab.nerc.ac.uk/collection/P01/current...</td>\n",
       "    </tr>\n",
       "    <tr>\n",
       "      <th>1</th>\n",
       "      <td>400_2001-10-18_2001-10-18_2</td>\n",
       "      <td>400_2001-10-18_2001-10-18</td>\n",
       "      <td>0.0</td>\n",
       "      <td>#/m^2</td>\n",
       "      <td>http://vocab.nerc.ac.uk/collection/P06/current...</td>\n",
       "      <td>Abundance of biological entity specified elsew...</td>\n",
       "      <td>http://vocab.nerc.ac.uk/collection/P01/current...</td>\n",
       "    </tr>\n",
       "  </tbody>\n",
       "</table>\n",
       "</div>"
      ],
      "text/plain": [
       "                  occurrenceID                    eventID  measurementValue  \\\n",
       "0  400_2001-10-18_2001-10-18_1  400_2001-10-18_2001-10-18               0.0   \n",
       "1  400_2001-10-18_2001-10-18_2  400_2001-10-18_2001-10-18               0.0   \n",
       "\n",
       "  measurementUnit                                  measurementUnitID  \\\n",
       "0           #/m^2  http://vocab.nerc.ac.uk/collection/P06/current...   \n",
       "1           #/m^2  http://vocab.nerc.ac.uk/collection/P06/current...   \n",
       "\n",
       "                                     measurementType  \\\n",
       "0  Abundance of biological entity specified elsew...   \n",
       "1  Abundance of biological entity specified elsew...   \n",
       "\n",
       "                                   measurementTypeID  \n",
       "0  http://vocab.nerc.ac.uk/collection/P01/current...  \n",
       "1  http://vocab.nerc.ac.uk/collection/P01/current...  "
      ]
     },
     "execution_count": 47,
     "metadata": {},
     "output_type": "execute_result"
    }
   ],
   "source": [
    "# pull necessary columns from occurrence table\n",
    "# this dataframe contains density of organisms (counts per m2), which has occurrence level information\n",
    "\n",
    "emof_density = occ[['occurrenceID', \n",
    "                    'eventID',\n",
    "                    'measurementValue_density']].copy()\n",
    "emof_density.rename(columns = {'measurementValue_density': 'measurementValue'}, inplace=True)\n",
    "\n",
    "emof_density['measurementUnit'] = '#/m^2'\n",
    "emof_density['measurementUnitID'] = 'http://vocab.nerc.ac.uk/collection/P06/current/UPMS/'\n",
    "emof_density['measurementType'] = 'Abundance of biological entity specified elsewhere per unit area of the bed'\n",
    "emof_density['measurementTypeID'] = 'http://vocab.nerc.ac.uk/collection/P01/current/SDBIOL02/'\n",
    "\n",
    "emof_density.head(2)"
   ]
  },
  {
   "cell_type": "code",
   "execution_count": 48,
   "metadata": {},
   "outputs": [
    {
     "data": {
      "text/html": [
       "<div>\n",
       "<style scoped>\n",
       "    .dataframe tbody tr th:only-of-type {\n",
       "        vertical-align: middle;\n",
       "    }\n",
       "\n",
       "    .dataframe tbody tr th {\n",
       "        vertical-align: top;\n",
       "    }\n",
       "\n",
       "    .dataframe thead th {\n",
       "        text-align: right;\n",
       "    }\n",
       "</style>\n",
       "<table border=\"1\" class=\"dataframe\">\n",
       "  <thead>\n",
       "    <tr style=\"text-align: right;\">\n",
       "      <th></th>\n",
       "      <th>eventID</th>\n",
       "      <th>measurementValue</th>\n",
       "      <th>occurrenceID</th>\n",
       "      <th>measurementUnit</th>\n",
       "      <th>measurementUnitID</th>\n",
       "      <th>measurementType</th>\n",
       "      <th>measurementTypeID</th>\n",
       "    </tr>\n",
       "  </thead>\n",
       "  <tbody>\n",
       "    <tr>\n",
       "      <th>0</th>\n",
       "      <td>400_2001-10-18_2001-10-18</td>\n",
       "      <td>379.8</td>\n",
       "      <td></td>\n",
       "      <td>m^2</td>\n",
       "      <td>https://vocab.nerc.ac.uk/collection/P06/curren...</td>\n",
       "      <td>Area of sample {sampled area} from the bed</td>\n",
       "      <td>http://vocab.nerc.ac.uk/collection/P01/current...</td>\n",
       "    </tr>\n",
       "    <tr>\n",
       "      <th>1</th>\n",
       "      <td>400_2001-10-18_2001-10-18</td>\n",
       "      <td>379.8</td>\n",
       "      <td></td>\n",
       "      <td>m^2</td>\n",
       "      <td>https://vocab.nerc.ac.uk/collection/P06/curren...</td>\n",
       "      <td>Area of sample {sampled area} from the bed</td>\n",
       "      <td>http://vocab.nerc.ac.uk/collection/P01/current...</td>\n",
       "    </tr>\n",
       "    <tr>\n",
       "      <th>2</th>\n",
       "      <td>400_2001-10-18_2001-10-18</td>\n",
       "      <td>379.8</td>\n",
       "      <td></td>\n",
       "      <td>m^2</td>\n",
       "      <td>https://vocab.nerc.ac.uk/collection/P06/curren...</td>\n",
       "      <td>Area of sample {sampled area} from the bed</td>\n",
       "      <td>http://vocab.nerc.ac.uk/collection/P01/current...</td>\n",
       "    </tr>\n",
       "    <tr>\n",
       "      <th>3</th>\n",
       "      <td>400_2001-10-18_2001-10-18</td>\n",
       "      <td>379.8</td>\n",
       "      <td></td>\n",
       "      <td>m^2</td>\n",
       "      <td>https://vocab.nerc.ac.uk/collection/P06/curren...</td>\n",
       "      <td>Area of sample {sampled area} from the bed</td>\n",
       "      <td>http://vocab.nerc.ac.uk/collection/P01/current...</td>\n",
       "    </tr>\n",
       "    <tr>\n",
       "      <th>4</th>\n",
       "      <td>400_2001-10-18_2001-10-18</td>\n",
       "      <td>379.8</td>\n",
       "      <td></td>\n",
       "      <td>m^2</td>\n",
       "      <td>https://vocab.nerc.ac.uk/collection/P06/curren...</td>\n",
       "      <td>Area of sample {sampled area} from the bed</td>\n",
       "      <td>http://vocab.nerc.ac.uk/collection/P01/current...</td>\n",
       "    </tr>\n",
       "  </tbody>\n",
       "</table>\n",
       "</div>"
      ],
      "text/plain": [
       "                     eventID  measurementValue occurrenceID measurementUnit  \\\n",
       "0  400_2001-10-18_2001-10-18             379.8                          m^2   \n",
       "1  400_2001-10-18_2001-10-18             379.8                          m^2   \n",
       "2  400_2001-10-18_2001-10-18             379.8                          m^2   \n",
       "3  400_2001-10-18_2001-10-18             379.8                          m^2   \n",
       "4  400_2001-10-18_2001-10-18             379.8                          m^2   \n",
       "\n",
       "                                   measurementUnitID  \\\n",
       "0  https://vocab.nerc.ac.uk/collection/P06/curren...   \n",
       "1  https://vocab.nerc.ac.uk/collection/P06/curren...   \n",
       "2  https://vocab.nerc.ac.uk/collection/P06/curren...   \n",
       "3  https://vocab.nerc.ac.uk/collection/P06/curren...   \n",
       "4  https://vocab.nerc.ac.uk/collection/P06/curren...   \n",
       "\n",
       "                              measurementType  \\\n",
       "0  Area of sample {sampled area} from the bed   \n",
       "1  Area of sample {sampled area} from the bed   \n",
       "2  Area of sample {sampled area} from the bed   \n",
       "3  Area of sample {sampled area} from the bed   \n",
       "4  Area of sample {sampled area} from the bed   \n",
       "\n",
       "                                   measurementTypeID  \n",
       "0  http://vocab.nerc.ac.uk/collection/P01/current...  \n",
       "1  http://vocab.nerc.ac.uk/collection/P01/current...  \n",
       "2  http://vocab.nerc.ac.uk/collection/P01/current...  \n",
       "3  http://vocab.nerc.ac.uk/collection/P01/current...  \n",
       "4  http://vocab.nerc.ac.uk/collection/P01/current...  "
      ]
     },
     "execution_count": 48,
     "metadata": {},
     "output_type": "execute_result"
    }
   ],
   "source": [
    "# pull necessary columns from occurrence table\n",
    "# this dataframe contains estimated swath area searched, which has event level information\n",
    "\n",
    "emof_area = occ[['eventID', \n",
    "                'measurementValue_area']].copy()\n",
    "# add empty occurrenceID column for concatenation with emof_density\n",
    "emof_area['occurrenceID'] = ''\n",
    "emof_area.rename(columns = {'measurementValue_area': 'measurementValue'}, inplace=True)\n",
    "\n",
    "emof_area['measurementUnit'] = 'm^2'\n",
    "emof_area['measurementUnitID'] = 'https://vocab.nerc.ac.uk/collection/P06/current/UMSQ/'\n",
    "emof_area['measurementType'] = 'Area of sample {sampled area} from the bed'\n",
    "emof_area['measurementTypeID'] = 'http://vocab.nerc.ac.uk/collection/P01/current/AREABEDS/'\n",
    "\n",
    "emof_area.head()"
   ]
  },
  {
   "cell_type": "code",
   "execution_count": 49,
   "metadata": {},
   "outputs": [],
   "source": [
    "emof = pd.concat([emof_density, emof_area])"
   ]
  },
  {
   "cell_type": "code",
   "execution_count": 50,
   "metadata": {},
   "outputs": [
    {
     "data": {
      "text/plain": [
       "(22716, 7)"
      ]
     },
     "execution_count": 50,
     "metadata": {},
     "output_type": "execute_result"
    }
   ],
   "source": [
    "np.shape(emof)"
   ]
  },
  {
   "cell_type": "code",
   "execution_count": 51,
   "metadata": {},
   "outputs": [],
   "source": [
    "## Save\n",
    "\n",
    "today = date.today().strftime('%Y%m%d')\n",
    "output_filename = 'emof_extension_' + today + '.csv'\n",
    "\n",
    "emof.to_csv(os.path.join(os.getcwd()+'/processed/', output_filename), index=False)"
   ]
  },
  {
   "cell_type": "markdown",
   "metadata": {},
   "source": [
    "## Data QA/QC"
   ]
  },
  {
   "cell_type": "code",
   "execution_count": 52,
   "metadata": {},
   "outputs": [
    {
     "name": "stderr",
     "output_type": "stream",
     "text": [
      "/opt/conda/envs/py39/lib/python3.9/site-packages/cartopy/io/__init__.py:241: DownloadWarning: Downloading: https://naturalearth.s3.amazonaws.com/50m_physical/ne_50m_land.zip\n",
      "  warnings.warn(f'Downloading: {url}', DownloadWarning)\n",
      "/opt/conda/envs/py39/lib/python3.9/site-packages/cartopy/io/__init__.py:241: DownloadWarning: Downloading: https://naturalearth.s3.amazonaws.com/50m_physical/ne_50m_ocean.zip\n",
      "  warnings.warn(f'Downloading: {url}', DownloadWarning)\n",
      "/opt/conda/envs/py39/lib/python3.9/site-packages/cartopy/io/__init__.py:241: DownloadWarning: Downloading: https://naturalearth.s3.amazonaws.com/50m_physical/ne_50m_coastline.zip\n",
      "  warnings.warn(f'Downloading: {url}', DownloadWarning)\n",
      "/opt/conda/envs/py39/lib/python3.9/site-packages/cartopy/io/__init__.py:241: DownloadWarning: Downloading: https://naturalearth.s3.amazonaws.com/50m_cultural/ne_50m_admin_1_states_provinces_lakes.zip\n",
      "  warnings.warn(f'Downloading: {url}', DownloadWarning)\n"
     ]
    },
    {
     "data": {
      "image/png": "[encoded data removed]",
      "text/plain": [
       "<Figure size 720x504 with 1 Axes>"
      ]
     },
     "metadata": {
      "needs_background": "light"
     },
     "output_type": "display_data"
    }
   ],
   "source": [
    "# Create map of data to check for any errors in coordinates - everything looks good!\n",
    "\n",
    "plt.figure(figsize=[10,7])\n",
    "ax = plt.axes(projection=ccrs.PlateCarree())\n",
    "ax.coastlines()\n",
    "ax.add_feature(cfeature.LAND)\n",
    "ax.add_feature(cfeature.STATES)\n",
    "ax.add_feature(cfeature.OCEAN)\n",
    "plt.scatter(occ.decimalLongitude, occ.decimalLatitude, c='coral');"
   ]
  },
  {
   "cell_type": "code",
   "execution_count": 53,
   "metadata": {},
   "outputs": [
    {
     "data": {
      "image/png": "[encoded data removed]",
      "text/plain": [
       "<Figure size 720x576 with 4 Axes>"
      ]
     },
     "metadata": {
      "needs_background": "light"
     },
     "output_type": "display_data"
    }
   ],
   "source": [
    "# basic histograms of the different measurements taken in this dataset\n",
    "\n",
    "plt.figure(figsize=[10,8])\n",
    "plt.subplot(2,2,1)\n",
    "plt.title('# of transects sampled per event')\n",
    "plt.hist(data.number_of_transects_sampled)\n",
    "plt.subplot(2,2,2)\n",
    "plt.title('estimated sampling area')\n",
    "plt.hist(emof_area.measurementValue)\n",
    "plt.subplot(2,2,3)\n",
    "plt.title('organism density')\n",
    "plt.hist(emof_density.measurementValue);\n",
    "plt.subplot(2,2,4)\n",
    "plt.title('occurrence counts (per event)')\n",
    "plt.hist(occ_ext.organismQuantity);"
   ]
  },
  {
   "cell_type": "code",
   "execution_count": 54,
   "metadata": {},
   "outputs": [
    {
     "data": {
      "text/plain": [
       "10276    5.052833\n",
       "Name: density_per_m2, dtype: float64"
      ]
     },
     "execution_count": 54,
     "metadata": {},
     "output_type": "execute_result"
    }
   ],
   "source": [
    "# There was an event where 3969 pisasters were observed. \n",
    "occ_ext[occ_ext['organismQuantity'] == np.max(occ_ext.organismQuantity)]\n",
    "\n",
    "# This translates to a reasonably organism density (5 individuals/m2)\n",
    "data[data['total_count'] == 3969].density_per_m2 "
   ]
  },
  {
   "cell_type": "markdown",
   "metadata": {},
   "source": [
    "**Questions answered by Rani Gaddam (MARINe data manager):**\n",
    "- The site_code field in the data and site tables are different (one is numeric, one is letters). I am using the marine_site_code which works fine but should the site_code fields be fixed? **For the other CBS dataset that was mobilized, Rani had confirmed that this is normal and my approach is good.** \n",
    "\n",
    "\n",
    "- I'm assuming it is still appropriate to use 350m as the coordinate uncertainty in meters? This was used in other datasets due to the fact that 350m is the maximum distance between any plots from the point locations. Just wanted to make sure that is still appropriate to use that value. **RG: Yes - that distance is still appropriate to use!**\n",
    "\n",
    "\n",
    "- I noticed there were 2 species in the species table that were not listed as having the primary_survey_type equal to \"swath\" (Leptasterias spp and Ophiuroid). I assume that's not an issue, just wanted to flag it. **RG: Yes - that is correct - since they are smaller the swath surveys are not appropriate for determining abundance, so we use the quadrat surveys for those species**. Based on feedback that I got at the OBIS workshop: I will include both samplingProtocols in the event core, and specify further in the occurrenceRemarks. \n",
    "\n",
    "\n",
    "- The species_lump name \"Ophiuroid\" is not an accepted name in WoRMS so I changed it to \"Ophiuroidea\" which is the accepted name for the taxonomic_id that was provided in the species table. Just letting you know of this minor edit. **RG: That is fine!**\n",
    "\n",
    "\n",
    "- I'm using the species_lump column from the data and species tables to get the taxonomic information. I just want to make sure that's the correct column to use as opposed to the final_classification column in the species table. It looks like the final_classification is basically the same as the species_lump, but all lowercase and slightly different syntax. I'll continue using the species_lump as that was your preference in the past and species_lump uses the proper capitalization based on what WoRMS prefers, but just wanted to make sure that's good with you. **RG: Yes - the species_lump is what should be used**\n",
    "\n",
    "**Questions answered during workshop**\n",
    "- How to hanlde multiple types of sampling - recommendation was to mention this information in samplingProtocol (event table) and occurrenceRemarks (occurrence extension table)."
   ]
  }
 ],
 "metadata": {
  "kernelspec": {
   "display_name": "Python 3 (ipykernel)",
   "language": "python",
   "name": "python3"
  },
  "language_info": {
   "codemirror_mode": {
    "name": "ipython",
    "version": 3
   },
   "file_extension": ".py",
   "mimetype": "text/x-python",
   "name": "python",
   "nbconvert_exporter": "python",
   "pygments_lexer": "ipython3",
   "version": "3.9.13"
  }
 },
 "nbformat": 4,
 "nbformat_minor": 4
}