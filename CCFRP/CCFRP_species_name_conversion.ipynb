{
 "cells": [
  {
   "cell_type": "markdown",
   "metadata": {},
   "source": [
    "## CCFRP data: finding scientific names for species"
   ]
  },
  {
   "cell_type": "code",
   "execution_count": 2,
   "metadata": {},
   "outputs": [],
   "source": [
    "## Imports\n",
    "\n",
    "import pandas as pd\n",
    "import numpy as np\n",
    "import random\n",
    "\n",
    "from datetime import datetime # for handline dates\n",
    "import pytz # for handling time zones\n",
    "\n",
    "import urllib.request, urllib.parse, json # for dealing with WoRMS API and output - consider using requests library instead of urllib?\n",
    "\n",
    "import warnings # for including warning messages in function"
   ]
  },
  {
   "cell_type": "code",
   "execution_count": 3,
   "metadata": {},
   "outputs": [
    {
     "data": {
      "text/html": [
       "<div>\n",
       "<style scoped>\n",
       "    .dataframe tbody tr th:only-of-type {\n",
       "        vertical-align: middle;\n",
       "    }\n",
       "\n",
       "    .dataframe tbody tr th {\n",
       "        vertical-align: top;\n",
       "    }\n",
       "\n",
       "    .dataframe thead th {\n",
       "        text-align: right;\n",
       "    }\n",
       "</style>\n",
       "<table border=\"1\" class=\"dataframe\">\n",
       "  <thead>\n",
       "    <tr style=\"text-align: right;\">\n",
       "      <th></th>\n",
       "      <th>Area</th>\n",
       "      <th>Site</th>\n",
       "      <th>Lat Center Point</th>\n",
       "      <th>Lon Center Point</th>\n",
       "      <th>Year</th>\n",
       "      <th>Barred Sand Bass</th>\n",
       "      <th>Bat Ray</th>\n",
       "      <th>Bigmouth Sole</th>\n",
       "      <th>Black-and-Yellow Rockfish</th>\n",
       "      <th>Black Rockfish</th>\n",
       "      <th>...</th>\n",
       "      <th>Vermilion Rockfish</th>\n",
       "      <th>White Croaker</th>\n",
       "      <th>White Seabass</th>\n",
       "      <th>Widow Rockfish</th>\n",
       "      <th>Wolf Eel</th>\n",
       "      <th>Yelloweye Rockfish</th>\n",
       "      <th>Yellowfin Croaker</th>\n",
       "      <th>Yellowtail Jack</th>\n",
       "      <th>Yellowtail Rockfish</th>\n",
       "      <th>Total</th>\n",
       "    </tr>\n",
       "  </thead>\n",
       "  <tbody>\n",
       "    <tr>\n",
       "      <th>0</th>\n",
       "      <td>Trinidad</td>\n",
       "      <td>REF</td>\n",
       "      <td>41.115</td>\n",
       "      <td>-124.173</td>\n",
       "      <td>2018</td>\n",
       "      <td>0</td>\n",
       "      <td>0</td>\n",
       "      <td>0</td>\n",
       "      <td>0</td>\n",
       "      <td>708</td>\n",
       "      <td>...</td>\n",
       "      <td>2</td>\n",
       "      <td>0</td>\n",
       "      <td>0</td>\n",
       "      <td>0</td>\n",
       "      <td>0</td>\n",
       "      <td>0</td>\n",
       "      <td>0</td>\n",
       "      <td>0</td>\n",
       "      <td>22</td>\n",
       "      <td>898</td>\n",
       "    </tr>\n",
       "    <tr>\n",
       "      <th>1</th>\n",
       "      <td>Trinidad</td>\n",
       "      <td>REF</td>\n",
       "      <td>41.115</td>\n",
       "      <td>-124.173</td>\n",
       "      <td>2019</td>\n",
       "      <td>0</td>\n",
       "      <td>0</td>\n",
       "      <td>0</td>\n",
       "      <td>0</td>\n",
       "      <td>384</td>\n",
       "      <td>...</td>\n",
       "      <td>1</td>\n",
       "      <td>0</td>\n",
       "      <td>0</td>\n",
       "      <td>0</td>\n",
       "      <td>0</td>\n",
       "      <td>1</td>\n",
       "      <td>0</td>\n",
       "      <td>0</td>\n",
       "      <td>16</td>\n",
       "      <td>504</td>\n",
       "    </tr>\n",
       "    <tr>\n",
       "      <th>2</th>\n",
       "      <td>Cape Mendocino</td>\n",
       "      <td>MPA</td>\n",
       "      <td>40.426</td>\n",
       "      <td>-124.478</td>\n",
       "      <td>2017</td>\n",
       "      <td>0</td>\n",
       "      <td>0</td>\n",
       "      <td>0</td>\n",
       "      <td>0</td>\n",
       "      <td>113</td>\n",
       "      <td>...</td>\n",
       "      <td>9</td>\n",
       "      <td>0</td>\n",
       "      <td>0</td>\n",
       "      <td>0</td>\n",
       "      <td>0</td>\n",
       "      <td>3</td>\n",
       "      <td>0</td>\n",
       "      <td>0</td>\n",
       "      <td>4</td>\n",
       "      <td>229</td>\n",
       "    </tr>\n",
       "    <tr>\n",
       "      <th>3</th>\n",
       "      <td>Cape Mendocino</td>\n",
       "      <td>MPA</td>\n",
       "      <td>40.426</td>\n",
       "      <td>-124.478</td>\n",
       "      <td>2018</td>\n",
       "      <td>0</td>\n",
       "      <td>0</td>\n",
       "      <td>0</td>\n",
       "      <td>0</td>\n",
       "      <td>58</td>\n",
       "      <td>...</td>\n",
       "      <td>20</td>\n",
       "      <td>0</td>\n",
       "      <td>0</td>\n",
       "      <td>0</td>\n",
       "      <td>0</td>\n",
       "      <td>10</td>\n",
       "      <td>0</td>\n",
       "      <td>0</td>\n",
       "      <td>7</td>\n",
       "      <td>300</td>\n",
       "    </tr>\n",
       "    <tr>\n",
       "      <th>4</th>\n",
       "      <td>Cape Mendocino</td>\n",
       "      <td>MPA</td>\n",
       "      <td>40.426</td>\n",
       "      <td>-124.478</td>\n",
       "      <td>2019</td>\n",
       "      <td>0</td>\n",
       "      <td>0</td>\n",
       "      <td>0</td>\n",
       "      <td>0</td>\n",
       "      <td>52</td>\n",
       "      <td>...</td>\n",
       "      <td>15</td>\n",
       "      <td>0</td>\n",
       "      <td>0</td>\n",
       "      <td>0</td>\n",
       "      <td>0</td>\n",
       "      <td>6</td>\n",
       "      <td>0</td>\n",
       "      <td>0</td>\n",
       "      <td>10</td>\n",
       "      <td>234</td>\n",
       "    </tr>\n",
       "  </tbody>\n",
       "</table>\n",
       "<p>5 rows × 96 columns</p>\n",
       "</div>"
      ],
      "text/plain": [
       "             Area Site  Lat Center Point  Lon Center Point  Year  \\\n",
       "0        Trinidad  REF            41.115          -124.173  2018   \n",
       "1        Trinidad  REF            41.115          -124.173  2019   \n",
       "2  Cape Mendocino  MPA            40.426          -124.478  2017   \n",
       "3  Cape Mendocino  MPA            40.426          -124.478  2018   \n",
       "4  Cape Mendocino  MPA            40.426          -124.478  2019   \n",
       "\n",
       "   Barred Sand Bass  Bat Ray  Bigmouth Sole  Black-and-Yellow Rockfish  \\\n",
       "0                 0        0              0                          0   \n",
       "1                 0        0              0                          0   \n",
       "2                 0        0              0                          0   \n",
       "3                 0        0              0                          0   \n",
       "4                 0        0              0                          0   \n",
       "\n",
       "   Black Rockfish  ...  Vermilion Rockfish  White Croaker  White Seabass  \\\n",
       "0             708  ...                   2              0              0   \n",
       "1             384  ...                   1              0              0   \n",
       "2             113  ...                   9              0              0   \n",
       "3              58  ...                  20              0              0   \n",
       "4              52  ...                  15              0              0   \n",
       "\n",
       "   Widow Rockfish  Wolf Eel  Yelloweye Rockfish  Yellowfin Croaker  \\\n",
       "0               0         0                   0                  0   \n",
       "1               0         0                   1                  0   \n",
       "2               0         0                   3                  0   \n",
       "3               0         0                  10                  0   \n",
       "4               0         0                   6                  0   \n",
       "\n",
       "   Yellowtail Jack  Yellowtail Rockfish  Total  \n",
       "0                0                   22    898  \n",
       "1                0                   16    504  \n",
       "2                0                    4    229  \n",
       "3                0                    7    300  \n",
       "4                0                   10    234  \n",
       "\n",
       "[5 rows x 96 columns]"
      ]
     },
     "execution_count": 3,
     "metadata": {},
     "output_type": "execute_result"
    }
   ],
   "source": [
    "## Load csv\n",
    "\n",
    "path = 'C:\\\\Users\\\\dianalg\\\\Documents\\\\Work\\\\MBARI\\\\MPA Data Integration\\\\CCFRP\\\\'\n",
    "filename = 'Counts.csv'\n",
    "data = pd.read_csv(path+filename)\n",
    "\n",
    "data.head()"
   ]
  },
  {
   "cell_type": "markdown",
   "metadata": {},
   "source": [
    "Patrick suggested that I start by mapping all species names to a WoRMS ID."
   ]
  },
  {
   "cell_type": "code",
   "execution_count": 4,
   "metadata": {},
   "outputs": [
    {
     "data": {
      "text/plain": [
       "0              Barred Sand Bass\n",
       "1                       Bat Ray\n",
       "2                 Bigmouth Sole\n",
       "3     Black-and-Yellow Rockfish\n",
       "4                Black Rockfish\n",
       "                ...            \n",
       "85                     Wolf Eel\n",
       "86           Yelloweye Rockfish\n",
       "87            Yellowfin Croaker\n",
       "88              Yellowtail Jack\n",
       "89          Yellowtail Rockfish\n",
       "Length: 90, dtype: object"
      ]
     },
     "execution_count": 4,
     "metadata": {},
     "output_type": "execute_result"
    }
   ],
   "source": [
    "## Get species names\n",
    "\n",
    "common_names = data.columns[5:-1].to_series()\n",
    "common_names.reset_index(drop=True, inplace=True)\n",
    "\n",
    "# pd.set_option('display.max_rows', None) # See all rows\n",
    "pd.set_option('display.max_rows', 60) # Default\n",
    "common_names"
   ]
  },
  {
   "cell_type": "markdown",
   "metadata": {},
   "source": [
    "These are all common names, and based on the WoRMS REST API documentation, it's unclear how to request a species' data using its common name. Instead, Patrick and I downloaded a species table from the CCFRP submission on the MLML digital commons.\n",
    "\n",
    "### Get scientific names and lookup in WoRMS"
   ]
  },
  {
   "cell_type": "code",
   "execution_count": 5,
   "metadata": {},
   "outputs": [
    {
     "data": {
      "text/html": [
       "<div>\n",
       "<style scoped>\n",
       "    .dataframe tbody tr th:only-of-type {\n",
       "        vertical-align: middle;\n",
       "    }\n",
       "\n",
       "    .dataframe tbody tr th {\n",
       "        vertical-align: top;\n",
       "    }\n",
       "\n",
       "    .dataframe thead th {\n",
       "        text-align: right;\n",
       "    }\n",
       "</style>\n",
       "<table border=\"1\" class=\"dataframe\">\n",
       "  <thead>\n",
       "    <tr style=\"text-align: right;\">\n",
       "      <th></th>\n",
       "      <th>Species Code</th>\n",
       "      <th>Common Name</th>\n",
       "      <th>Genus</th>\n",
       "      <th>Species</th>\n",
       "      <th>Rockfish</th>\n",
       "    </tr>\n",
       "  </thead>\n",
       "  <tbody>\n",
       "    <tr>\n",
       "      <th>0</th>\n",
       "      <td>ANC</td>\n",
       "      <td>Northern Anchovy</td>\n",
       "      <td>Engraulis</td>\n",
       "      <td>mordax</td>\n",
       "      <td>False</td>\n",
       "    </tr>\n",
       "    <tr>\n",
       "      <th>1</th>\n",
       "      <td>BAR</td>\n",
       "      <td>Pacific Barracuda</td>\n",
       "      <td>Sphyraena</td>\n",
       "      <td>argentea</td>\n",
       "      <td>False</td>\n",
       "    </tr>\n",
       "    <tr>\n",
       "      <th>2</th>\n",
       "      <td>BAY</td>\n",
       "      <td>Black-and-Yellow Rockfish</td>\n",
       "      <td>Sebastes</td>\n",
       "      <td>chrysomelas</td>\n",
       "      <td>True</td>\n",
       "    </tr>\n",
       "    <tr>\n",
       "      <th>3</th>\n",
       "      <td>BCO</td>\n",
       "      <td>Bocaccio</td>\n",
       "      <td>Sebastes</td>\n",
       "      <td>paucispinis</td>\n",
       "      <td>True</td>\n",
       "    </tr>\n",
       "    <tr>\n",
       "      <th>4</th>\n",
       "      <td>BID</td>\n",
       "      <td>UnID Blue Rockfish</td>\n",
       "      <td>Sebastes</td>\n",
       "      <td>mystinus</td>\n",
       "      <td>True</td>\n",
       "    </tr>\n",
       "  </tbody>\n",
       "</table>\n",
       "</div>"
      ],
      "text/plain": [
       "  Species Code                Common Name      Genus      Species  Rockfish\n",
       "0          ANC           Northern Anchovy  Engraulis       mordax     False\n",
       "1          BAR          Pacific Barracuda  Sphyraena     argentea     False\n",
       "2          BAY  Black-and-Yellow Rockfish   Sebastes  chrysomelas      True\n",
       "3          BCO                   Bocaccio   Sebastes  paucispinis      True\n",
       "4          BID         UnID Blue Rockfish   Sebastes     mystinus      True"
      ]
     },
     "execution_count": 5,
     "metadata": {},
     "output_type": "execute_result"
    }
   ],
   "source": [
    "## Load species table\n",
    "\n",
    "path = 'C:\\\\Users\\\\dianalg\\\\Documents\\\\Work\\\\MBARI\\\\MPA Data Integration\\\\CCFRP\\\\'\n",
    "filename = 'Fish_species_table.csv'\n",
    "species = pd.read_csv(path+filename)\n",
    "\n",
    "species.head()"
   ]
  },
  {
   "cell_type": "markdown",
   "metadata": {},
   "source": [
    "Note that there are some rows where both species and genus are missing. In this case, the family name is included in the common name field."
   ]
  },
  {
   "cell_type": "code",
   "execution_count": 6,
   "metadata": {},
   "outputs": [
    {
     "data": {
      "text/plain": [
       "['Engraulis mordax',\n",
       " 'Sphyraena argentea',\n",
       " 'Sebastes chrysomelas',\n",
       " 'Sebastes paucispinis',\n",
       " 'Sebastes mystinus',\n",
       " 'Sebastes melanops',\n",
       " 'Chromis punctipinnus',\n",
       " 'Sebastes mystinus',\n",
       " 'Paralabrax nebulifer',\n",
       " 'Embiotoca jacksoni']"
      ]
     },
     "execution_count": 6,
     "metadata": {},
     "output_type": "execute_result"
    }
   ],
   "source": [
    "## Join genus and species into a single column\n",
    "\n",
    "scientificName = []\n",
    "\n",
    "for i in range(0, species.shape[0]):\n",
    "    \n",
    "    # get genus and species names from file\n",
    "    genus = species['Genus'].iloc[i]\n",
    "    sp = species['Species'].iloc[i]\n",
    "    \n",
    "    # catch instances where species is spp.\n",
    "    if sp == 'spp.': sp = ''\n",
    "    \n",
    "    # catch instances where only species is nan\n",
    "    if type(genus) == str and type(sp) != str: sp = ''\n",
    "        \n",
    "    # catch instances where both genus and species are nan\n",
    "    if type(genus) != str and type(sp) != str:\n",
    "        genus = ''\n",
    "        sp = ''\n",
    "    \n",
    "    # create scientific name and save to list\n",
    "    name = ' '.join([genus.strip(), sp.strip()])\n",
    "    scientificName.append(name.strip())\n",
    "    \n",
    "scientificName[0:10]"
   ]
  },
  {
   "cell_type": "code",
   "execution_count": 7,
   "metadata": {},
   "outputs": [
    {
     "data": {
      "text/plain": [
       "37           Mackerel (Family Scombridae)\n",
       "63    Silversides (Family Atherinopsidae)\n",
       "79                                Unknown\n",
       "Name: Common Name, dtype: object"
      ]
     },
     "execution_count": 7,
     "metadata": {},
     "output_type": "execute_result"
    }
   ],
   "source": [
    "## Which entries have no genus or species names?\n",
    "\n",
    "blank_idx = [i for i, x in enumerate(scientificName) if x == '']\n",
    "species['Common Name'].iloc[blank_idx]"
   ]
  },
  {
   "cell_type": "code",
   "execution_count": 8,
   "metadata": {},
   "outputs": [],
   "source": [
    "## Enter family name for Mackerel and Silversides, enter nan for Unknown\n",
    "\n",
    "missing = species['Common Name'].iloc[blank_idx]\n",
    "missing_names = []\n",
    "\n",
    "for name in missing:\n",
    "    \n",
    "    try: missing_names.append(name[name.find(\"(\")+1:name.find(\")\")].split()[1])\n",
    "    except: missing_names.append(np.nan)\n",
    "        "
   ]
  },
  {
   "cell_type": "code",
   "execution_count": 9,
   "metadata": {},
   "outputs": [
    {
     "data": {
      "text/plain": [
       "['Trachurus symmetricus',\n",
       " 'Atherinopsis californiensis',\n",
       " 'Hexagrammos decagrammus',\n",
       " 'Sebastes atrovirens',\n",
       " 'Paralabrax clathratus',\n",
       " 'Ophiodon elongatus',\n",
       " 'Synodus lucioceps',\n",
       " 'Scombridae',\n",
       " 'Sebastes',\n",
       " 'Sebastes serranoides']"
      ]
     },
     "execution_count": 9,
     "metadata": {},
     "output_type": "execute_result"
    }
   ],
   "source": [
    "## Replace missing values in scientificName\n",
    "\n",
    "i = 0\n",
    "\n",
    "for idx, val in enumerate(scientificName):\n",
    "    if val == '':\n",
    "        scientificName[idx] = missing_names[i]\n",
    "        i += 1\n",
    "    \n",
    "scientificName[30:40]"
   ]
  },
  {
   "cell_type": "code",
   "execution_count": 10,
   "metadata": {},
   "outputs": [],
   "source": [
    "## Create a dictionary with common names as keys and scientific names as values\n",
    "\n",
    "sp_dict = dict(zip(species['Common Name'], scientificName)) "
   ]
  },
  {
   "cell_type": "code",
   "execution_count": 11,
   "metadata": {},
   "outputs": [
    {
     "data": {
      "text/html": [
       "<div>\n",
       "<style scoped>\n",
       "    .dataframe tbody tr th:only-of-type {\n",
       "        vertical-align: middle;\n",
       "    }\n",
       "\n",
       "    .dataframe tbody tr th {\n",
       "        vertical-align: top;\n",
       "    }\n",
       "\n",
       "    .dataframe thead th {\n",
       "        text-align: right;\n",
       "    }\n",
       "</style>\n",
       "<table border=\"1\" class=\"dataframe\">\n",
       "  <thead>\n",
       "    <tr style=\"text-align: right;\">\n",
       "      <th></th>\n",
       "      <th>Species Code</th>\n",
       "      <th>Common Name</th>\n",
       "      <th>Genus</th>\n",
       "      <th>Species</th>\n",
       "      <th>Rockfish</th>\n",
       "      <th>scientificName</th>\n",
       "    </tr>\n",
       "  </thead>\n",
       "  <tbody>\n",
       "    <tr>\n",
       "      <th>0</th>\n",
       "      <td>ANC</td>\n",
       "      <td>Northern Anchovy</td>\n",
       "      <td>Engraulis</td>\n",
       "      <td>mordax</td>\n",
       "      <td>False</td>\n",
       "      <td>Engraulis mordax</td>\n",
       "    </tr>\n",
       "    <tr>\n",
       "      <th>1</th>\n",
       "      <td>BAR</td>\n",
       "      <td>Pacific Barracuda</td>\n",
       "      <td>Sphyraena</td>\n",
       "      <td>argentea</td>\n",
       "      <td>False</td>\n",
       "      <td>Sphyraena argentea</td>\n",
       "    </tr>\n",
       "    <tr>\n",
       "      <th>2</th>\n",
       "      <td>BAY</td>\n",
       "      <td>Black-and-Yellow Rockfish</td>\n",
       "      <td>Sebastes</td>\n",
       "      <td>chrysomelas</td>\n",
       "      <td>True</td>\n",
       "      <td>Sebastes chrysomelas</td>\n",
       "    </tr>\n",
       "    <tr>\n",
       "      <th>3</th>\n",
       "      <td>BCO</td>\n",
       "      <td>Bocaccio</td>\n",
       "      <td>Sebastes</td>\n",
       "      <td>paucispinis</td>\n",
       "      <td>True</td>\n",
       "      <td>Sebastes paucispinis</td>\n",
       "    </tr>\n",
       "    <tr>\n",
       "      <th>4</th>\n",
       "      <td>BID</td>\n",
       "      <td>UnID Blue Rockfish</td>\n",
       "      <td>Sebastes</td>\n",
       "      <td>mystinus</td>\n",
       "      <td>True</td>\n",
       "      <td>Sebastes mystinus</td>\n",
       "    </tr>\n",
       "  </tbody>\n",
       "</table>\n",
       "</div>"
      ],
      "text/plain": [
       "  Species Code                Common Name      Genus      Species  Rockfish  \\\n",
       "0          ANC           Northern Anchovy  Engraulis       mordax     False   \n",
       "1          BAR          Pacific Barracuda  Sphyraena     argentea     False   \n",
       "2          BAY  Black-and-Yellow Rockfish   Sebastes  chrysomelas      True   \n",
       "3          BCO                   Bocaccio   Sebastes  paucispinis      True   \n",
       "4          BID         UnID Blue Rockfish   Sebastes     mystinus      True   \n",
       "\n",
       "         scientificName  \n",
       "0      Engraulis mordax  \n",
       "1    Sphyraena argentea  \n",
       "2  Sebastes chrysomelas  \n",
       "3  Sebastes paucispinis  \n",
       "4     Sebastes mystinus  "
      ]
     },
     "execution_count": 11,
     "metadata": {},
     "output_type": "execute_result"
    }
   ],
   "source": [
    "## Create a new row with common name values, and then use dictionary to replace with scientific names\n",
    "\n",
    "species['scientificName'] = species['Common Name']\n",
    "species.replace({'scientificName':sp_dict}, inplace=True)\n",
    "species.head()"
   ]
  },
  {
   "cell_type": "code",
   "execution_count": 12,
   "metadata": {},
   "outputs": [
    {
     "data": {
      "text/plain": [
       "2        Bigmouth Sole\n",
       "37     Longfin Sanddab\n",
       "47     Pacific Halibut\n",
       "51    Pelagic Stingray\n",
       "dtype: object"
      ]
     },
     "execution_count": 12,
     "metadata": {},
     "output_type": "execute_result"
    }
   ],
   "source": [
    "## Are all of the species in the data also in the species table?\n",
    "\n",
    "common_names[common_names.isin(species['Common Name']) == False]\n"
   ]
  },
  {
   "cell_type": "markdown",
   "metadata": {},
   "source": [
    "#### Looked the following species up by hand:\n",
    "- Bigmouth Sole - Hippoglossina stomata\n",
    "- Longfin Sanddab - Citharichthys xanthostigma\n",
    "- Pacific Halibut - Hippoglossus stenolepis\n",
    "- Pelagic Stingray - Pteroplatytrygon violacea\n",
    "\n",
    "Ok, so that was easy enough. However, the WoRMS help folks just got back to me with instructions on how to query common names on the WoRMS API. So let me try to find the same scientific names by querying WoRMS.\n",
    "\n",
    "#### Obtain scientific names from common names using the WoRMS REST API"
   ]
  },
  {
   "cell_type": "code",
   "execution_count": 13,
   "metadata": {},
   "outputs": [
    {
     "data": {
      "text/plain": [
       "2        Bigmouth Sole\n",
       "37     Longfin Sanddab\n",
       "47     Pacific Halibut\n",
       "51    Pelagic Stingray\n",
       "dtype: object"
      ]
     },
     "execution_count": 13,
     "metadata": {},
     "output_type": "execute_result"
    }
   ],
   "source": [
    "test_names = common_names[common_names.isin(species['Common Name']) == False]\n",
    "test_names"
   ]
  },
  {
   "cell_type": "code",
   "execution_count": 14,
   "metadata": {},
   "outputs": [],
   "source": [
    "## Create function to query WoRMS REST api by common name\n",
    "\n",
    "def get_worms_from_common_name(common_name):\n",
    "    \"\"\"\n",
    "    Using the WoRMS REST API, retrieve WoRMS ID, scientific name and taxon ID given a common name.\n",
    "    \n",
    "    Dependencies:\n",
    "        import urllib.request, urllib.parse, json, warnings\n",
    "    \n",
    "    Usage:\n",
    "        worms_from_common_name(common_name)\n",
    "        \n",
    "    Inputs:\n",
    "        The common name of interest as a string, e.g. 'Bigmouth sole'\n",
    "        \n",
    "    Outputs:\n",
    "        1. scientificName: WoRMS specified scientific name\n",
    "        2. scientificNameID: WoRMS specified ID\n",
    "        3. taxonID: WoRMS specified taxon ID\n",
    "        \n",
    "    Diana LaScala-Gruenewald\n",
    "    Based on worms_from_scientific_name by Patrick Daniels\n",
    "    2020-04-20\n",
    "    Python 3.7\n",
    "    \"\"\"\n",
    "    \n",
    "    # Ensure name is lower case, has no trailing whitespace\n",
    "    common_name = common_name.lower().strip()\n",
    "    \n",
    "    # Create url to query\n",
    "    name_url = urllib.parse.quote(common_name)\n",
    "    _url = 'http://www.marinespecies.org/rest/AphiaRecordsByVernacular/'+ name_url + '?like=false&offset=1'\n",
    "    \n",
    "    # Try query\n",
    "    try:\n",
    "        with urllib.request.urlopen(_url) as url:\n",
    "            data = json.loads(url.read().decode())\n",
    "            \n",
    "            # If more than one match is found, warn and return first match with status 'accepted'\n",
    "            if len(data) > 1:\n",
    "                warnings.warn('More than one match found for ' + common_name + '. Returning data from first match with status \\'accepted\\'.')\n",
    "                \n",
    "                for record in data:\n",
    "                    if record['status'] == 'accepted':\n",
    "                        return(record['scientificname'], record['lsid'], record['AphiaID'])\n",
    "            else:\n",
    "                return(data[0]['scientificname'], data[0]['lsid'], data[0]['AphiaID'])\n",
    "            \n",
    "    except Exception as e:\n",
    "        print('Query wasn\\'t successful, check name: ', common_name)\n",
    "       "
   ]
  },
  {
   "cell_type": "code",
   "execution_count": 15,
   "metadata": {},
   "outputs": [
    {
     "name": "stderr",
     "output_type": "stream",
     "text": [
      "C:\\Users\\dianalg\\PycharmProjects\\PythonScripts\\venv\\lib\\site-packages\\ipykernel_launcher.py:41: UserWarning: More than one match found for pelagic stingray. Returning data from first match with status 'accepted'.\n"
     ]
    }
   ],
   "source": [
    "## Run function on test names\n",
    "\n",
    "com_sci_dict = {}\n",
    "\n",
    "for name in test_names:\n",
    "    try:\n",
    "        sci_name, sci_name_id, tax_id = get_worms_from_common_name(name)\n",
    "        com_sci_dict[name] = sci_name\n",
    "    except Exception as e:\n",
    "        print('Could not match ' + name + '. Function output: ' + str(e))\n",
    "     "
   ]
  },
  {
   "cell_type": "code",
   "execution_count": 16,
   "metadata": {},
   "outputs": [],
   "source": [
    "## Add content of com_sci_dict to sp_dict\n",
    "\n",
    "sp_dict = {**com_sci_dict, **sp_dict}"
   ]
  },
  {
   "cell_type": "code",
   "execution_count": 19,
   "metadata": {},
   "outputs": [],
   "source": [
    "## Save species conversion information in csv\n",
    "\n",
    "sp_df = pd.DataFrame(sp_dict.keys())\n",
    "sp_df.rename(columns={0:'common_names'}, inplace=True)\n",
    "sp_df['scientific_names'] = sp_dict.keys()\n",
    "sp_df['scientific_names'] = sp_df['scientific_names'].replace(sp_dict)\n",
    "\n",
    "# Fix misspelling of Alopias in sp_df\n",
    "sp_df.loc[sp_df['scientific_names'] == 'Alopius vulpinus', 'scientific_names'] = 'Alopias vulpinus'\n",
    "\n",
    "sp_df.to_csv('CCFRP_common_to_scientific.csv', index=False, na_rep='NaN')"
   ]
  },
  {
   "cell_type": "code",
   "execution_count": 58,
   "metadata": {},
   "outputs": [
    {
     "name": "stdout",
     "output_type": "stream",
     "text": [
      "(93,)\n",
      "(93,)\n"
     ]
    }
   ],
   "source": [
    "## Get scientific_names for lookup in WoRMS\n",
    "\n",
    "scientific_names = sp_df['scientific_names']\n",
    "print(scientific_names.shape)\n",
    "\n",
    "# Drop any missing values (signify that somewhere in the data, there were unidentified fish)\n",
    "scientific_names.dropna(inplace=True)\n",
    "print(scientific_names.shape)\n",
    "\n",
    "# Fix spelling error: 'Alopius' should be 'Alopias'\n",
    "scientific_names[scientific_names == 'Alopius vulpinus'] = 'Alopias vulpinus'\n"
   ]
  },
  {
   "cell_type": "code",
   "execution_count": 32,
   "metadata": {},
   "outputs": [],
   "source": [
    "## Function to query WoRMS REST api by scientific name\n",
    "\n",
    "def get_worms_from_scientific_name(sci_name):\n",
    "    \"\"\"\n",
    "    Using the WoRMS REST API, retrieve WoRMS ID and taxon ID given a scientific name.\n",
    "    \n",
    "    Dependencies:\n",
    "        import urllib.request, urllib.parse, json\n",
    "    \n",
    "    Usage:\n",
    "        get_worms_from_scientific_name(sci_name)\n",
    "        \n",
    "    Inputs:\n",
    "        The scientific name of interest as a string, e.g. 'Dosidicus gigas'\n",
    "        \n",
    "    Outputs:\n",
    "        1. scientificName: WoRMS specified scientific name that matched to sci_name\n",
    "        2. scientificNameID: WoRMS specified ID\n",
    "        3. taxonID: WoRMS specified taxon ID\n",
    "        \n",
    "    Patrick Daniels\n",
    "    Small changes from Diana LaScala-Gruenewald\n",
    "    2020-04-20\n",
    "    Python 3.7\n",
    "    \"\"\"\n",
    "    \n",
    "    # Create url to query\n",
    "    sci_name_url = urllib.parse.quote(sci_name)\n",
    "    _url = 'http://www.marinespecies.org/rest/AphiaRecordsByNames?scientificnames%5B%5D='+ sci_name_url + '&like=false&marine_only=false'\n",
    "    \n",
    "    # Try query\n",
    "    try:\n",
    "        with urllib.request.urlopen(_url) as url:\n",
    "            data = json.loads(url.read().decode())\n",
    "            return (data[0][0]['scientificname'], data[0][0]['lsid'], data[0][0]['AphiaID'])\n",
    "    \n",
    "    # If it fails, try searching for just the genus\n",
    "    except Exception as e:\n",
    "        if len(sci_name_url.split('%20')) > 1: \n",
    "            # If species is unknown and listed as spp. or sp.\n",
    "            return get_worms_from_scientific_name(sci_name_url.split('%20')[0])\n",
    "        else:\n",
    "            print(\"Url didn't work, check name, \", sci_name)"
   ]
  },
  {
   "cell_type": "code",
   "execution_count": 63,
   "metadata": {},
   "outputs": [
    {
     "name": "stdout",
     "output_type": "stream",
     "text": [
      "Wall time: 1min 7s\n"
     ]
    }
   ],
   "source": [
    "%%time\n",
    "\n",
    "## Get WoRMS id and taxon id from scientific names\n",
    "\n",
    "name_id_dict = {} # maps scientific names to WoRMS ids\n",
    "name_name_dict = {} # maps scientific names to the matched scientific names from WoRMS\n",
    "name_taxid_dict = {} # maps scientific names to taxon ids\n",
    "\n",
    "for sci_name in scientific_names:\n",
    "    \n",
    "    # strip any extra whitespace\n",
    "    sci_name = sci_name.strip()\n",
    "    \n",
    "    try:\n",
    "        sname, sname_id, id = get_worms_from_scientific_name(sci_name)\n",
    "        name_id_dict[sci_name] = sname_id\n",
    "        name_name_dict[sci_name] = sname\n",
    "        name_taxid_dict[sci_name] = id\n",
    "        \n",
    "    except:\n",
    "        pass # very hacky "
   ]
  },
  {
   "cell_type": "markdown",
   "metadata": {},
   "source": [
    "**One remaining issue:** Both the data and the species conversion table include \"Sebastes serranoides or flavidus.\" This refers to Olive and Yellowtail Rockfish respectively. I have a vague memory that these species are hard or impossible to distinguish from each other... possibly only as juveniles? Is there some way to include information about both species using DwC, or should we just simplify these records to 'Sebastes'?\n",
    "\n",
    "**Yes, Scott and Rachel have confirmed that these two species are simply hard to distinguish. Have to ask Patrick the best way to handle this in DwC.**"
   ]
  },
  {
   "cell_type": "code",
   "execution_count": null,
   "metadata": {},
   "outputs": [],
   "source": []
  }
 ],
 "metadata": {
  "kernelspec": {
   "display_name": "venv",
   "language": "python",
   "name": "venv"
  },
  "language_info": {
   "codemirror_mode": {
    "name": "ipython",
    "version": 3
   },
   "file_extension": ".py",
   "mimetype": "text/x-python",
   "name": "python",
   "nbconvert_exporter": "python",
   "pygments_lexer": "ipython3",
   "version": "3.7.5"
  }
 },
 "nbformat": 4,
 "nbformat_minor": 4
}
