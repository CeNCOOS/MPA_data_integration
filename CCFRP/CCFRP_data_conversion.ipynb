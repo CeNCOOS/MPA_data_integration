{
 "cells": [
  {
   "cell_type": "markdown",
   "metadata": {},
   "source": [
    "## CCFRP data conversion"
   ]
  },
  {
   "cell_type": "code",
   "execution_count": 53,
   "metadata": {},
   "outputs": [],
   "source": [
    "## Imports\n",
    "\n",
    "import pandas as pd\n",
    "import numpy as np\n",
    "import random\n",
    "\n",
    "import re # for extracting family names when needed\n",
    "\n",
    "from datetime import datetime # for handline dates\n",
    "import pytz # for handling time zones\n",
    "\n",
    "import urllib.request, urllib.parse, json # for dealing with WoRMS API and output - consider using requests library instead of urllib?"
   ]
  },
  {
   "cell_type": "code",
   "execution_count": 2,
   "metadata": {},
   "outputs": [
    {
     "data": {
      "text/html": [
       "<div>\n",
       "<style scoped>\n",
       "    .dataframe tbody tr th:only-of-type {\n",
       "        vertical-align: middle;\n",
       "    }\n",
       "\n",
       "    .dataframe tbody tr th {\n",
       "        vertical-align: top;\n",
       "    }\n",
       "\n",
       "    .dataframe thead th {\n",
       "        text-align: right;\n",
       "    }\n",
       "</style>\n",
       "<table border=\"1\" class=\"dataframe\">\n",
       "  <thead>\n",
       "    <tr style=\"text-align: right;\">\n",
       "      <th></th>\n",
       "      <th>Area</th>\n",
       "      <th>Site</th>\n",
       "      <th>Lat Center Point</th>\n",
       "      <th>Lon Center Point</th>\n",
       "      <th>Year</th>\n",
       "      <th>Barred Sand Bass</th>\n",
       "      <th>Bat Ray</th>\n",
       "      <th>Bigmouth Sole</th>\n",
       "      <th>Black-and-Yellow Rockfish</th>\n",
       "      <th>Black Rockfish</th>\n",
       "      <th>...</th>\n",
       "      <th>Vermilion Rockfish</th>\n",
       "      <th>White Croaker</th>\n",
       "      <th>White Seabass</th>\n",
       "      <th>Widow Rockfish</th>\n",
       "      <th>Wolf Eel</th>\n",
       "      <th>Yelloweye Rockfish</th>\n",
       "      <th>Yellowfin Croaker</th>\n",
       "      <th>Yellowtail Jack</th>\n",
       "      <th>Yellowtail Rockfish</th>\n",
       "      <th>Total</th>\n",
       "    </tr>\n",
       "  </thead>\n",
       "  <tbody>\n",
       "    <tr>\n",
       "      <th>0</th>\n",
       "      <td>Trinidad</td>\n",
       "      <td>REF</td>\n",
       "      <td>41.115</td>\n",
       "      <td>-124.173</td>\n",
       "      <td>2018</td>\n",
       "      <td>0</td>\n",
       "      <td>0</td>\n",
       "      <td>0</td>\n",
       "      <td>0</td>\n",
       "      <td>708</td>\n",
       "      <td>...</td>\n",
       "      <td>2</td>\n",
       "      <td>0</td>\n",
       "      <td>0</td>\n",
       "      <td>0</td>\n",
       "      <td>0</td>\n",
       "      <td>0</td>\n",
       "      <td>0</td>\n",
       "      <td>0</td>\n",
       "      <td>22</td>\n",
       "      <td>898</td>\n",
       "    </tr>\n",
       "    <tr>\n",
       "      <th>1</th>\n",
       "      <td>Trinidad</td>\n",
       "      <td>REF</td>\n",
       "      <td>41.115</td>\n",
       "      <td>-124.173</td>\n",
       "      <td>2019</td>\n",
       "      <td>0</td>\n",
       "      <td>0</td>\n",
       "      <td>0</td>\n",
       "      <td>0</td>\n",
       "      <td>384</td>\n",
       "      <td>...</td>\n",
       "      <td>1</td>\n",
       "      <td>0</td>\n",
       "      <td>0</td>\n",
       "      <td>0</td>\n",
       "      <td>0</td>\n",
       "      <td>1</td>\n",
       "      <td>0</td>\n",
       "      <td>0</td>\n",
       "      <td>16</td>\n",
       "      <td>504</td>\n",
       "    </tr>\n",
       "    <tr>\n",
       "      <th>2</th>\n",
       "      <td>Cape Mendocino</td>\n",
       "      <td>MPA</td>\n",
       "      <td>40.426</td>\n",
       "      <td>-124.478</td>\n",
       "      <td>2017</td>\n",
       "      <td>0</td>\n",
       "      <td>0</td>\n",
       "      <td>0</td>\n",
       "      <td>0</td>\n",
       "      <td>113</td>\n",
       "      <td>...</td>\n",
       "      <td>9</td>\n",
       "      <td>0</td>\n",
       "      <td>0</td>\n",
       "      <td>0</td>\n",
       "      <td>0</td>\n",
       "      <td>3</td>\n",
       "      <td>0</td>\n",
       "      <td>0</td>\n",
       "      <td>4</td>\n",
       "      <td>229</td>\n",
       "    </tr>\n",
       "    <tr>\n",
       "      <th>3</th>\n",
       "      <td>Cape Mendocino</td>\n",
       "      <td>MPA</td>\n",
       "      <td>40.426</td>\n",
       "      <td>-124.478</td>\n",
       "      <td>2018</td>\n",
       "      <td>0</td>\n",
       "      <td>0</td>\n",
       "      <td>0</td>\n",
       "      <td>0</td>\n",
       "      <td>58</td>\n",
       "      <td>...</td>\n",
       "      <td>20</td>\n",
       "      <td>0</td>\n",
       "      <td>0</td>\n",
       "      <td>0</td>\n",
       "      <td>0</td>\n",
       "      <td>10</td>\n",
       "      <td>0</td>\n",
       "      <td>0</td>\n",
       "      <td>7</td>\n",
       "      <td>300</td>\n",
       "    </tr>\n",
       "    <tr>\n",
       "      <th>4</th>\n",
       "      <td>Cape Mendocino</td>\n",
       "      <td>MPA</td>\n",
       "      <td>40.426</td>\n",
       "      <td>-124.478</td>\n",
       "      <td>2019</td>\n",
       "      <td>0</td>\n",
       "      <td>0</td>\n",
       "      <td>0</td>\n",
       "      <td>0</td>\n",
       "      <td>52</td>\n",
       "      <td>...</td>\n",
       "      <td>15</td>\n",
       "      <td>0</td>\n",
       "      <td>0</td>\n",
       "      <td>0</td>\n",
       "      <td>0</td>\n",
       "      <td>6</td>\n",
       "      <td>0</td>\n",
       "      <td>0</td>\n",
       "      <td>10</td>\n",
       "      <td>234</td>\n",
       "    </tr>\n",
       "  </tbody>\n",
       "</table>\n",
       "<p>5 rows × 96 columns</p>\n",
       "</div>"
      ],
      "text/plain": [
       "             Area Site  Lat Center Point  Lon Center Point  Year  \\\n",
       "0        Trinidad  REF            41.115          -124.173  2018   \n",
       "1        Trinidad  REF            41.115          -124.173  2019   \n",
       "2  Cape Mendocino  MPA            40.426          -124.478  2017   \n",
       "3  Cape Mendocino  MPA            40.426          -124.478  2018   \n",
       "4  Cape Mendocino  MPA            40.426          -124.478  2019   \n",
       "\n",
       "   Barred Sand Bass  Bat Ray  Bigmouth Sole  Black-and-Yellow Rockfish  \\\n",
       "0                 0        0              0                          0   \n",
       "1                 0        0              0                          0   \n",
       "2                 0        0              0                          0   \n",
       "3                 0        0              0                          0   \n",
       "4                 0        0              0                          0   \n",
       "\n",
       "   Black Rockfish  ...  Vermilion Rockfish  White Croaker  White Seabass  \\\n",
       "0             708  ...                   2              0              0   \n",
       "1             384  ...                   1              0              0   \n",
       "2             113  ...                   9              0              0   \n",
       "3              58  ...                  20              0              0   \n",
       "4              52  ...                  15              0              0   \n",
       "\n",
       "   Widow Rockfish  Wolf Eel  Yelloweye Rockfish  Yellowfin Croaker  \\\n",
       "0               0         0                   0                  0   \n",
       "1               0         0                   1                  0   \n",
       "2               0         0                   3                  0   \n",
       "3               0         0                  10                  0   \n",
       "4               0         0                   6                  0   \n",
       "\n",
       "   Yellowtail Jack  Yellowtail Rockfish  Total  \n",
       "0                0                   22    898  \n",
       "1                0                   16    504  \n",
       "2                0                    4    229  \n",
       "3                0                    7    300  \n",
       "4                0                   10    234  \n",
       "\n",
       "[5 rows x 96 columns]"
      ]
     },
     "execution_count": 2,
     "metadata": {},
     "output_type": "execute_result"
    }
   ],
   "source": [
    "## Load csv\n",
    "\n",
    "path = 'C:\\\\Users\\\\dianalg\\\\Documents\\\\Work\\\\MBARI\\\\MPA Data Integration\\\\CCFRP\\\\'\n",
    "filename = 'Counts.csv'\n",
    "data = pd.read_csv(path+filename)\n",
    "\n",
    "data.head()"
   ]
  },
  {
   "cell_type": "markdown",
   "metadata": {},
   "source": [
    "Patrick suggested that I start by mapping all species names to a WoRMS ID."
   ]
  },
  {
   "cell_type": "code",
   "execution_count": 101,
   "metadata": {},
   "outputs": [
    {
     "data": {
      "text/plain": [
       "0              Barred Sand Bass\n",
       "1                       Bat Ray\n",
       "2                 Bigmouth Sole\n",
       "3     Black-and-Yellow Rockfish\n",
       "4                Black Rockfish\n",
       "                ...            \n",
       "85                     Wolf Eel\n",
       "86           Yelloweye Rockfish\n",
       "87            Yellowfin Croaker\n",
       "88              Yellowtail Jack\n",
       "89          Yellowtail Rockfish\n",
       "Length: 90, dtype: object"
      ]
     },
     "execution_count": 101,
     "metadata": {},
     "output_type": "execute_result"
    }
   ],
   "source": [
    "## Get species names\n",
    "\n",
    "common_names = data.columns[5:-1].to_series()\n",
    "common_names.reset_index(drop=True, inplace=True)\n",
    "\n",
    "# pd.set_option('display.max_rows', None) # See all rows\n",
    "pd.set_option('display.max_rows', 60) # Default\n",
    "common_names"
   ]
  },
  {
   "cell_type": "markdown",
   "metadata": {},
   "source": [
    "These are all common names, and based on the WoRMS REST API documentation, it's unclear how to request a species' data using its common name. Instead, Patrick and I downloaded a species table from the CCFRP submission on the MLML digital commons.\n",
    "\n",
    "### Get scientific names and lookup in WoRMS"
   ]
  },
  {
   "cell_type": "code",
   "execution_count": 5,
   "metadata": {},
   "outputs": [
    {
     "data": {
      "text/html": [
       "<div>\n",
       "<style scoped>\n",
       "    .dataframe tbody tr th:only-of-type {\n",
       "        vertical-align: middle;\n",
       "    }\n",
       "\n",
       "    .dataframe tbody tr th {\n",
       "        vertical-align: top;\n",
       "    }\n",
       "\n",
       "    .dataframe thead th {\n",
       "        text-align: right;\n",
       "    }\n",
       "</style>\n",
       "<table border=\"1\" class=\"dataframe\">\n",
       "  <thead>\n",
       "    <tr style=\"text-align: right;\">\n",
       "      <th></th>\n",
       "      <th>Species Code</th>\n",
       "      <th>Common Name</th>\n",
       "      <th>Genus</th>\n",
       "      <th>Species</th>\n",
       "      <th>Rockfish</th>\n",
       "    </tr>\n",
       "  </thead>\n",
       "  <tbody>\n",
       "    <tr>\n",
       "      <th>0</th>\n",
       "      <td>ANC</td>\n",
       "      <td>Northern Anchovy</td>\n",
       "      <td>Engraulis</td>\n",
       "      <td>mordax</td>\n",
       "      <td>False</td>\n",
       "    </tr>\n",
       "    <tr>\n",
       "      <th>1</th>\n",
       "      <td>BAR</td>\n",
       "      <td>Pacific Barracuda</td>\n",
       "      <td>Sphyraena</td>\n",
       "      <td>argentea</td>\n",
       "      <td>False</td>\n",
       "    </tr>\n",
       "    <tr>\n",
       "      <th>2</th>\n",
       "      <td>BAY</td>\n",
       "      <td>Black-and-Yellow Rockfish</td>\n",
       "      <td>Sebastes</td>\n",
       "      <td>chrysomelas</td>\n",
       "      <td>True</td>\n",
       "    </tr>\n",
       "    <tr>\n",
       "      <th>3</th>\n",
       "      <td>BCO</td>\n",
       "      <td>Bocaccio</td>\n",
       "      <td>Sebastes</td>\n",
       "      <td>paucispinis</td>\n",
       "      <td>True</td>\n",
       "    </tr>\n",
       "    <tr>\n",
       "      <th>4</th>\n",
       "      <td>BID</td>\n",
       "      <td>UnID Blue Rockfish</td>\n",
       "      <td>Sebastes</td>\n",
       "      <td>mystinus</td>\n",
       "      <td>True</td>\n",
       "    </tr>\n",
       "  </tbody>\n",
       "</table>\n",
       "</div>"
      ],
      "text/plain": [
       "  Species Code                Common Name      Genus      Species  Rockfish\n",
       "0          ANC           Northern Anchovy  Engraulis       mordax     False\n",
       "1          BAR          Pacific Barracuda  Sphyraena     argentea     False\n",
       "2          BAY  Black-and-Yellow Rockfish   Sebastes  chrysomelas      True\n",
       "3          BCO                   Bocaccio   Sebastes  paucispinis      True\n",
       "4          BID         UnID Blue Rockfish   Sebastes     mystinus      True"
      ]
     },
     "execution_count": 5,
     "metadata": {},
     "output_type": "execute_result"
    }
   ],
   "source": [
    "## Load species table\n",
    "\n",
    "path = 'C:\\\\Users\\\\dianalg\\\\Documents\\\\Work\\\\MBARI\\\\MPA Data Integration\\\\CCFRP\\\\'\n",
    "filename = 'Fish_species_table.csv'\n",
    "species = pd.read_csv(path+filename)\n",
    "\n",
    "species.head()"
   ]
  },
  {
   "cell_type": "markdown",
   "metadata": {},
   "source": [
    "Note that there are some rows where both species and genus are missing. In this case, the family name is included in the common name field."
   ]
  },
  {
   "cell_type": "code",
   "execution_count": 66,
   "metadata": {},
   "outputs": [
    {
     "data": {
      "text/plain": [
       "['Engraulis mordax',\n",
       " 'Sphyraena argentea',\n",
       " 'Sebastes chrysomelas',\n",
       " 'Sebastes paucispinis',\n",
       " 'Sebastes mystinus',\n",
       " 'Sebastes melanops',\n",
       " 'Chromis punctipinnus',\n",
       " 'Sebastes mystinus',\n",
       " 'Paralabrax nebulifer',\n",
       " 'Embiotoca jacksoni']"
      ]
     },
     "execution_count": 66,
     "metadata": {},
     "output_type": "execute_result"
    }
   ],
   "source": [
    "## Join genus and species into a single column\n",
    "\n",
    "scientificName = []\n",
    "\n",
    "for i in range(0, species.shape[0]):\n",
    "    \n",
    "    # get genus and species names from file\n",
    "    genus = species['Genus'].iloc[i]\n",
    "    sp = species['Species'].iloc[i]\n",
    "    \n",
    "    # catch instances where species is spp.\n",
    "    if sp == 'spp.': sp = ''\n",
    "    \n",
    "    # catch instances where only species is nan\n",
    "    if type(genus) == str and type(sp) != str: sp = ''\n",
    "        \n",
    "    # catch instances where both genus and species are nan\n",
    "    if type(genus) != str and type(sp) != str:\n",
    "        genus = ''\n",
    "        sp = ''\n",
    "    \n",
    "    # create scientific name and save to list\n",
    "    name = ' '.join([genus.strip(), sp.strip()])\n",
    "    scientificName.append(name.strip())\n",
    "    \n",
    "scientificName[0:10]"
   ]
  },
  {
   "cell_type": "code",
   "execution_count": 68,
   "metadata": {},
   "outputs": [
    {
     "data": {
      "text/plain": [
       "37           Mackerel (Family Scombridae)\n",
       "63    Silversides (Family Atherinopsidae)\n",
       "79                                Unknown\n",
       "Name: Common Name, dtype: object"
      ]
     },
     "execution_count": 68,
     "metadata": {},
     "output_type": "execute_result"
    }
   ],
   "source": [
    "## Which entries have no genus or species names?\n",
    "\n",
    "blank_idx = [i for i, x in enumerate(scientificName) if x == '']\n",
    "species['Common Name'].iloc[blank_idx]"
   ]
  },
  {
   "cell_type": "code",
   "execution_count": 72,
   "metadata": {},
   "outputs": [],
   "source": [
    "## Enter family name for Mackerel and Silversides, enter nan for Unknown\n",
    "\n",
    "missing = species['Common Name'].iloc[blank_idx]\n",
    "missing_names = []\n",
    "\n",
    "for name in missing:\n",
    "    \n",
    "    try: missing_names.append(name[name.find(\"(\")+1:name.find(\")\")].split()[1])\n",
    "    except: missing_names.append(np.nan)\n",
    "        "
   ]
  },
  {
   "cell_type": "code",
   "execution_count": 74,
   "metadata": {},
   "outputs": [
    {
     "data": {
      "text/plain": [
       "['Trachurus symmetricus',\n",
       " 'Atherinopsis californiensis',\n",
       " 'Hexagrammos decagrammus',\n",
       " 'Sebastes atrovirens',\n",
       " 'Paralabrax clathratus',\n",
       " 'Ophiodon elongatus',\n",
       " 'Synodus lucioceps',\n",
       " 'Scombridae',\n",
       " 'Sebastes',\n",
       " 'Sebastes serranoides']"
      ]
     },
     "execution_count": 74,
     "metadata": {},
     "output_type": "execute_result"
    }
   ],
   "source": [
    "## Replace missing values in scientificName\n",
    "\n",
    "i = 0\n",
    "\n",
    "for idx, val in enumerate(scientificName):\n",
    "    if val == '':\n",
    "        scientificName[idx] = missing_names[i]\n",
    "        i += 1\n",
    "    \n",
    "scientificName[30:40]"
   ]
  },
  {
   "cell_type": "code",
   "execution_count": 78,
   "metadata": {},
   "outputs": [],
   "source": [
    "## Create a dictionary with common names as keys and scientific names as values\n",
    "\n",
    "sp_dict = dict(zip(species['Common Name'], scientificName)) "
   ]
  },
  {
   "cell_type": "code",
   "execution_count": 83,
   "metadata": {},
   "outputs": [
    {
     "data": {
      "text/html": [
       "<div>\n",
       "<style scoped>\n",
       "    .dataframe tbody tr th:only-of-type {\n",
       "        vertical-align: middle;\n",
       "    }\n",
       "\n",
       "    .dataframe tbody tr th {\n",
       "        vertical-align: top;\n",
       "    }\n",
       "\n",
       "    .dataframe thead th {\n",
       "        text-align: right;\n",
       "    }\n",
       "</style>\n",
       "<table border=\"1\" class=\"dataframe\">\n",
       "  <thead>\n",
       "    <tr style=\"text-align: right;\">\n",
       "      <th></th>\n",
       "      <th>Species Code</th>\n",
       "      <th>Common Name</th>\n",
       "      <th>Genus</th>\n",
       "      <th>Species</th>\n",
       "      <th>Rockfish</th>\n",
       "      <th>scientificName</th>\n",
       "    </tr>\n",
       "  </thead>\n",
       "  <tbody>\n",
       "    <tr>\n",
       "      <th>0</th>\n",
       "      <td>ANC</td>\n",
       "      <td>Northern Anchovy</td>\n",
       "      <td>Engraulis</td>\n",
       "      <td>mordax</td>\n",
       "      <td>False</td>\n",
       "      <td>Engraulis mordax</td>\n",
       "    </tr>\n",
       "    <tr>\n",
       "      <th>1</th>\n",
       "      <td>BAR</td>\n",
       "      <td>Pacific Barracuda</td>\n",
       "      <td>Sphyraena</td>\n",
       "      <td>argentea</td>\n",
       "      <td>False</td>\n",
       "      <td>Sphyraena argentea</td>\n",
       "    </tr>\n",
       "    <tr>\n",
       "      <th>2</th>\n",
       "      <td>BAY</td>\n",
       "      <td>Black-and-Yellow Rockfish</td>\n",
       "      <td>Sebastes</td>\n",
       "      <td>chrysomelas</td>\n",
       "      <td>True</td>\n",
       "      <td>Sebastes chrysomelas</td>\n",
       "    </tr>\n",
       "    <tr>\n",
       "      <th>3</th>\n",
       "      <td>BCO</td>\n",
       "      <td>Bocaccio</td>\n",
       "      <td>Sebastes</td>\n",
       "      <td>paucispinis</td>\n",
       "      <td>True</td>\n",
       "      <td>Sebastes paucispinis</td>\n",
       "    </tr>\n",
       "    <tr>\n",
       "      <th>4</th>\n",
       "      <td>BID</td>\n",
       "      <td>UnID Blue Rockfish</td>\n",
       "      <td>Sebastes</td>\n",
       "      <td>mystinus</td>\n",
       "      <td>True</td>\n",
       "      <td>Sebastes mystinus</td>\n",
       "    </tr>\n",
       "  </tbody>\n",
       "</table>\n",
       "</div>"
      ],
      "text/plain": [
       "  Species Code                Common Name      Genus      Species  Rockfish  \\\n",
       "0          ANC           Northern Anchovy  Engraulis       mordax     False   \n",
       "1          BAR          Pacific Barracuda  Sphyraena     argentea     False   \n",
       "2          BAY  Black-and-Yellow Rockfish   Sebastes  chrysomelas      True   \n",
       "3          BCO                   Bocaccio   Sebastes  paucispinis      True   \n",
       "4          BID         UnID Blue Rockfish   Sebastes     mystinus      True   \n",
       "\n",
       "         scientificName  \n",
       "0      Engraulis mordax  \n",
       "1    Sphyraena argentea  \n",
       "2  Sebastes chrysomelas  \n",
       "3  Sebastes paucispinis  \n",
       "4     Sebastes mystinus  "
      ]
     },
     "execution_count": 83,
     "metadata": {},
     "output_type": "execute_result"
    }
   ],
   "source": [
    "## Create a new row with common name values, and then use dictionary to replace with scientific names\n",
    "\n",
    "species['scientificName'] = species['Common Name']\n",
    "species.replace({'scientificName':sp_dict}, inplace=True)\n",
    "species.head()"
   ]
  },
  {
   "cell_type": "code",
   "execution_count": 105,
   "metadata": {},
   "outputs": [
    {
     "data": {
      "text/plain": [
       "2        Bigmouth Sole\n",
       "37     Longfin Sanddab\n",
       "47     Pacific Halibut\n",
       "51    Pelagic Stingray\n",
       "dtype: object"
      ]
     },
     "execution_count": 105,
     "metadata": {},
     "output_type": "execute_result"
    }
   ],
   "source": [
    "## Are all of the species in the data also in the species table?\n",
    "\n",
    "common_names[common_names.isin(species['Common Name']) == False]\n"
   ]
  },
  {
   "cell_type": "markdown",
   "metadata": {},
   "source": [
    "#### Need to look the following species up by hand:\n",
    "- Bigmouth Sole\n",
    "- Longfin Sanddab\n",
    "- Pacific Halibut\n",
    "- Pelagic Stingray\n",
    "\n",
    "-------------------------------------"
   ]
  },
  {
   "cell_type": "code",
   "execution_count": 90,
   "metadata": {},
   "outputs": [
    {
     "data": {
      "text/plain": [
       "0        Paralabrax nebulifer\n",
       "1      Myliobatis californica\n",
       "2               Bigmouth Sole\n",
       "3        Sebastes chrysomelas\n",
       "4           Sebastes melanops\n",
       "               ...           \n",
       "85    Anarrhichthys ocellatus\n",
       "86        Sebastes ruberrimus\n",
       "87           Umbrina roncador\n",
       "88            Seriola lalandi\n",
       "89          Sebastes flavidus\n",
       "Length: 90, dtype: object"
      ]
     },
     "execution_count": 90,
     "metadata": {},
     "output_type": "execute_result"
    }
   ],
   "source": [
    "## Once I've done that, I can use replace to create a series of scientific names to look up in WoRMS\n",
    "\n",
    "# pd.set_option('display.max_rows', None) # See all rows\n",
    "pd.set_option('display.max_rows', 60)\n",
    "scientific_names = common_names.replace(sp_dict)\n",
    "scientific_names"
   ]
  },
  {
   "cell_type": "markdown",
   "metadata": {},
   "source": [
    "Ok, so generally that worked, but there are definitely a few species in this list that were not in the species table. How to identify them?"
   ]
  },
  {
   "cell_type": "code",
   "execution_count": 96,
   "metadata": {},
   "outputs": [
    {
     "data": {
      "text/plain": [
       "False"
      ]
     },
     "execution_count": 96,
     "metadata": {},
     "output_type": "execute_result"
    }
   ],
   "source": [
    "for name in common_names:\n",
    "    \n",
    "    if species['Common Name'].isin([name])\n",
    "\n",
    "any(species['Common Name'].isin(['Bigmouth Sole']))"
   ]
  },
  {
   "cell_type": "code",
   "execution_count": 100,
   "metadata": {},
   "outputs": [
    {
     "data": {
      "text/plain": [
       "0     False\n",
       "1     False\n",
       "2     False\n",
       "3     False\n",
       "4     False\n",
       "      ...  \n",
       "85    False\n",
       "86    False\n",
       "87    False\n",
       "88    False\n",
       "89    False\n",
       "Length: 90, dtype: bool"
      ]
     },
     "execution_count": 100,
     "metadata": {},
     "output_type": "execute_result"
    }
   ],
   "source": [
    "species['Common Name'].isin(common_names)"
   ]
  },
  {
   "cell_type": "code",
   "execution_count": null,
   "metadata": {},
   "outputs": [],
   "source": []
  },
  {
   "cell_type": "code",
   "execution_count": null,
   "metadata": {},
   "outputs": [],
   "source": [
    "def worms_from_common_name(common_name):\n",
    "    \"\"\"\n",
    "    Using the WoRMS REST API, retrieve WoRMS ID, scientific name and taxon ID given a common name.\n",
    "    \n",
    "    Dependencies:\n",
    "        import urllib.request, urllib.parse, json\n",
    "    \n",
    "    Usage:\n",
    "        worms_from_common_name(common_name)\n",
    "        \n",
    "    Inputs:\n",
    "        The common name of interest as a string.\n",
    "        \n",
    "    Outputs:\n",
    "        1. scientificName: WoRMS specified scientific name\n",
    "        2. scientificNameID: WoRMS specified ID\n",
    "        3. taxonID: WoRMS specified taxon ID\n",
    "    \"\"\"\n",
    "    \n",
    "    name_url = urllib.parse.quote(common_name)\n",
    "    _url = 'http://www.marinespecies.org/rest/AphiaRecordsByNames?scientificnames%5B%5D='+ name_url + '&like=false&marine_only=false'\n",
    "    \n",
    "    try:\n",
    "        with urllib.request.urlopen(_url) as url:\n",
    "            data = json.loads(url.read().decode())\n",
    "            return (data[0][0]['scientificname'], data[0][0]['lsid'], data[0][0]['AphiaID'])\n",
    "    except Exception as e:\n",
    "        # Try passing just the genus if there the species name is unrecognized\n",
    "        if len(sci_name_url.split('%20')) > 1: #If species is unknown and listed as spp. or sp.\n",
    "            return get_worms_from_scientific_name(sci_name_url.split('%20')[0])\n",
    "        else:\n",
    "            print(\"Url didn't work, check name, \", sci_name)"
   ]
  },
  {
   "cell_type": "code",
   "execution_count": 42,
   "metadata": {},
   "outputs": [
    {
     "data": {
      "text/plain": [
       "'Kelp Rockfish'"
      ]
     },
     "execution_count": 42,
     "metadata": {},
     "output_type": "execute_result"
    }
   ],
   "source": [
    "test = subset.iloc[3]\n",
    "test"
   ]
  },
  {
   "cell_type": "code",
   "execution_count": 43,
   "metadata": {},
   "outputs": [],
   "source": [
    "test_url = urllib.parse.quote(test)"
   ]
  },
  {
   "cell_type": "code",
   "execution_count": 45,
   "metadata": {},
   "outputs": [
    {
     "data": {
      "text/plain": [
       "'http://www.marinespecies.org/rest/AphiaRecordsByNames?commonnames%5B%5D=Kelp%20Rockfish&like=false&marine_only=false'"
      ]
     },
     "execution_count": 45,
     "metadata": {},
     "output_type": "execute_result"
    }
   ],
   "source": [
    " _url = 'http://www.marinespecies.org/rest/AphiaRecordsByNames?commonnames%5B%5D='+ test_url + '&like=false&marine_only=false'\n",
    "_url"
   ]
  },
  {
   "cell_type": "code",
   "execution_count": 34,
   "metadata": {},
   "outputs": [
    {
     "ename": "JSONDecodeError",
     "evalue": "Expecting value: line 1 column 1 (char 0)",
     "output_type": "error",
     "traceback": [
      "\u001b[1;31m---------------------------------------------------------------------------\u001b[0m",
      "\u001b[1;31mJSONDecodeError\u001b[0m                           Traceback (most recent call last)",
      "\u001b[1;32m<ipython-input-34-0bb97e338723>\u001b[0m in \u001b[0;36m<module>\u001b[1;34m\u001b[0m\n\u001b[0;32m      1\u001b[0m \u001b[1;32mwith\u001b[0m \u001b[0murllib\u001b[0m\u001b[1;33m.\u001b[0m\u001b[0mrequest\u001b[0m\u001b[1;33m.\u001b[0m\u001b[0murlopen\u001b[0m\u001b[1;33m(\u001b[0m\u001b[0m_url\u001b[0m\u001b[1;33m)\u001b[0m \u001b[1;32mas\u001b[0m \u001b[0murl\u001b[0m\u001b[1;33m:\u001b[0m\u001b[1;33m\u001b[0m\u001b[1;33m\u001b[0m\u001b[0m\n\u001b[1;32m----> 2\u001b[1;33m             \u001b[0mdata\u001b[0m \u001b[1;33m=\u001b[0m \u001b[0mjson\u001b[0m\u001b[1;33m.\u001b[0m\u001b[0mloads\u001b[0m\u001b[1;33m(\u001b[0m\u001b[0murl\u001b[0m\u001b[1;33m.\u001b[0m\u001b[0mread\u001b[0m\u001b[1;33m(\u001b[0m\u001b[1;33m)\u001b[0m\u001b[1;33m.\u001b[0m\u001b[0mdecode\u001b[0m\u001b[1;33m(\u001b[0m\u001b[1;33m)\u001b[0m\u001b[1;33m)\u001b[0m\u001b[1;33m\u001b[0m\u001b[1;33m\u001b[0m\u001b[0m\n\u001b[0m\u001b[0;32m      3\u001b[0m             \u001b[0mprint\u001b[0m\u001b[1;33m(\u001b[0m\u001b[0mdata\u001b[0m\u001b[1;33m[\u001b[0m\u001b[1;36m0\u001b[0m\u001b[1;33m]\u001b[0m\u001b[1;33m[\u001b[0m\u001b[1;36m0\u001b[0m\u001b[1;33m]\u001b[0m\u001b[1;33m[\u001b[0m\u001b[1;34m'scientificname'\u001b[0m\u001b[1;33m]\u001b[0m\u001b[1;33m,\u001b[0m \u001b[0mdata\u001b[0m\u001b[1;33m[\u001b[0m\u001b[1;36m0\u001b[0m\u001b[1;33m]\u001b[0m\u001b[1;33m[\u001b[0m\u001b[1;36m0\u001b[0m\u001b[1;33m]\u001b[0m\u001b[1;33m[\u001b[0m\u001b[1;34m'lsid'\u001b[0m\u001b[1;33m]\u001b[0m\u001b[1;33m,\u001b[0m \u001b[0mdata\u001b[0m\u001b[1;33m[\u001b[0m\u001b[1;36m0\u001b[0m\u001b[1;33m]\u001b[0m\u001b[1;33m[\u001b[0m\u001b[1;36m0\u001b[0m\u001b[1;33m]\u001b[0m\u001b[1;33m[\u001b[0m\u001b[1;34m'AphiaID'\u001b[0m\u001b[1;33m]\u001b[0m\u001b[1;33m)\u001b[0m\u001b[1;33m\u001b[0m\u001b[1;33m\u001b[0m\u001b[0m\n",
      "\u001b[1;32m~\\AppData\\Local\\Programs\\Python\\Python37\\lib\\json\\__init__.py\u001b[0m in \u001b[0;36mloads\u001b[1;34m(s, encoding, cls, object_hook, parse_float, parse_int, parse_constant, object_pairs_hook, **kw)\u001b[0m\n\u001b[0;32m    346\u001b[0m             \u001b[0mparse_int\u001b[0m \u001b[1;32mis\u001b[0m \u001b[1;32mNone\u001b[0m \u001b[1;32mand\u001b[0m \u001b[0mparse_float\u001b[0m \u001b[1;32mis\u001b[0m \u001b[1;32mNone\u001b[0m \u001b[1;32mand\u001b[0m\u001b[1;33m\u001b[0m\u001b[1;33m\u001b[0m\u001b[0m\n\u001b[0;32m    347\u001b[0m             parse_constant is None and object_pairs_hook is None and not kw):\n\u001b[1;32m--> 348\u001b[1;33m         \u001b[1;32mreturn\u001b[0m \u001b[0m_default_decoder\u001b[0m\u001b[1;33m.\u001b[0m\u001b[0mdecode\u001b[0m\u001b[1;33m(\u001b[0m\u001b[0ms\u001b[0m\u001b[1;33m)\u001b[0m\u001b[1;33m\u001b[0m\u001b[1;33m\u001b[0m\u001b[0m\n\u001b[0m\u001b[0;32m    349\u001b[0m     \u001b[1;32mif\u001b[0m \u001b[0mcls\u001b[0m \u001b[1;32mis\u001b[0m \u001b[1;32mNone\u001b[0m\u001b[1;33m:\u001b[0m\u001b[1;33m\u001b[0m\u001b[1;33m\u001b[0m\u001b[0m\n\u001b[0;32m    350\u001b[0m         \u001b[0mcls\u001b[0m \u001b[1;33m=\u001b[0m \u001b[0mJSONDecoder\u001b[0m\u001b[1;33m\u001b[0m\u001b[1;33m\u001b[0m\u001b[0m\n",
      "\u001b[1;32m~\\AppData\\Local\\Programs\\Python\\Python37\\lib\\json\\decoder.py\u001b[0m in \u001b[0;36mdecode\u001b[1;34m(self, s, _w)\u001b[0m\n\u001b[0;32m    335\u001b[0m \u001b[1;33m\u001b[0m\u001b[0m\n\u001b[0;32m    336\u001b[0m         \"\"\"\n\u001b[1;32m--> 337\u001b[1;33m         \u001b[0mobj\u001b[0m\u001b[1;33m,\u001b[0m \u001b[0mend\u001b[0m \u001b[1;33m=\u001b[0m \u001b[0mself\u001b[0m\u001b[1;33m.\u001b[0m\u001b[0mraw_decode\u001b[0m\u001b[1;33m(\u001b[0m\u001b[0ms\u001b[0m\u001b[1;33m,\u001b[0m \u001b[0midx\u001b[0m\u001b[1;33m=\u001b[0m\u001b[0m_w\u001b[0m\u001b[1;33m(\u001b[0m\u001b[0ms\u001b[0m\u001b[1;33m,\u001b[0m \u001b[1;36m0\u001b[0m\u001b[1;33m)\u001b[0m\u001b[1;33m.\u001b[0m\u001b[0mend\u001b[0m\u001b[1;33m(\u001b[0m\u001b[1;33m)\u001b[0m\u001b[1;33m)\u001b[0m\u001b[1;33m\u001b[0m\u001b[1;33m\u001b[0m\u001b[0m\n\u001b[0m\u001b[0;32m    338\u001b[0m         \u001b[0mend\u001b[0m \u001b[1;33m=\u001b[0m \u001b[0m_w\u001b[0m\u001b[1;33m(\u001b[0m\u001b[0ms\u001b[0m\u001b[1;33m,\u001b[0m \u001b[0mend\u001b[0m\u001b[1;33m)\u001b[0m\u001b[1;33m.\u001b[0m\u001b[0mend\u001b[0m\u001b[1;33m(\u001b[0m\u001b[1;33m)\u001b[0m\u001b[1;33m\u001b[0m\u001b[1;33m\u001b[0m\u001b[0m\n\u001b[0;32m    339\u001b[0m         \u001b[1;32mif\u001b[0m \u001b[0mend\u001b[0m \u001b[1;33m!=\u001b[0m \u001b[0mlen\u001b[0m\u001b[1;33m(\u001b[0m\u001b[0ms\u001b[0m\u001b[1;33m)\u001b[0m\u001b[1;33m:\u001b[0m\u001b[1;33m\u001b[0m\u001b[1;33m\u001b[0m\u001b[0m\n",
      "\u001b[1;32m~\\AppData\\Local\\Programs\\Python\\Python37\\lib\\json\\decoder.py\u001b[0m in \u001b[0;36mraw_decode\u001b[1;34m(self, s, idx)\u001b[0m\n\u001b[0;32m    353\u001b[0m             \u001b[0mobj\u001b[0m\u001b[1;33m,\u001b[0m \u001b[0mend\u001b[0m \u001b[1;33m=\u001b[0m \u001b[0mself\u001b[0m\u001b[1;33m.\u001b[0m\u001b[0mscan_once\u001b[0m\u001b[1;33m(\u001b[0m\u001b[0ms\u001b[0m\u001b[1;33m,\u001b[0m \u001b[0midx\u001b[0m\u001b[1;33m)\u001b[0m\u001b[1;33m\u001b[0m\u001b[1;33m\u001b[0m\u001b[0m\n\u001b[0;32m    354\u001b[0m         \u001b[1;32mexcept\u001b[0m \u001b[0mStopIteration\u001b[0m \u001b[1;32mas\u001b[0m \u001b[0merr\u001b[0m\u001b[1;33m:\u001b[0m\u001b[1;33m\u001b[0m\u001b[1;33m\u001b[0m\u001b[0m\n\u001b[1;32m--> 355\u001b[1;33m             \u001b[1;32mraise\u001b[0m \u001b[0mJSONDecodeError\u001b[0m\u001b[1;33m(\u001b[0m\u001b[1;34m\"Expecting value\"\u001b[0m\u001b[1;33m,\u001b[0m \u001b[0ms\u001b[0m\u001b[1;33m,\u001b[0m \u001b[0merr\u001b[0m\u001b[1;33m.\u001b[0m\u001b[0mvalue\u001b[0m\u001b[1;33m)\u001b[0m \u001b[1;32mfrom\u001b[0m \u001b[1;32mNone\u001b[0m\u001b[1;33m\u001b[0m\u001b[1;33m\u001b[0m\u001b[0m\n\u001b[0m\u001b[0;32m    356\u001b[0m         \u001b[1;32mreturn\u001b[0m \u001b[0mobj\u001b[0m\u001b[1;33m,\u001b[0m \u001b[0mend\u001b[0m\u001b[1;33m\u001b[0m\u001b[1;33m\u001b[0m\u001b[0m\n",
      "\u001b[1;31mJSONDecodeError\u001b[0m: Expecting value: line 1 column 1 (char 0)"
     ]
    }
   ],
   "source": [
    "with urllib.request.urlopen(_url) as url:\n",
    "            data = json.loads(url.read().decode())\n",
    "            print(data[0][0]['scientificname'], data[0][0]['lsid'], data[0][0]['AphiaID'])"
   ]
  },
  {
   "cell_type": "code",
   "execution_count": null,
   "metadata": {},
   "outputs": [],
   "source": []
  }
 ],
 "metadata": {
  "kernelspec": {
   "display_name": "venv",
   "language": "python",
   "name": "venv"
  },
  "language_info": {
   "codemirror_mode": {
    "name": "ipython",
    "version": 3
   },
   "file_extension": ".py",
   "mimetype": "text/x-python",
   "name": "python",
   "nbconvert_exporter": "python",
   "pygments_lexer": "ipython3",
   "version": "3.7.5"
  }
 },
 "nbformat": 4,
 "nbformat_minor": 4
}
